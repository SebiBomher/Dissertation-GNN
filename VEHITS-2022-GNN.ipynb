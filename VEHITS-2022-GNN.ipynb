{
 "cells": [
  {
   "cell_type": "markdown",
   "metadata": {},
   "source": [
    "# Computing distances for graph neural networks"
   ]
  },
  {
   "cell_type": "markdown",
   "metadata": {},
   "source": [
    "## Part 1 - data preparation"
   ]
  },
  {
   "cell_type": "markdown",
   "metadata": {},
   "source": [
    "Imports"
   ]
  },
  {
   "cell_type": "code",
   "execution_count": 75,
   "metadata": {},
   "outputs": [],
   "source": [
    "import math\n",
    "import os\n",
    "import numpy as np\n",
    "import pandas as pd\n",
    "from pathlib import Path\n",
    "from random import sample\n",
    "from typing import Tuple\n",
    "from geopy.distance import geodesic\n",
    "from glob import glob\n",
    "from sklearn.preprocessing import normalize\n",
    "from enum import Enum\n",
    "from sklearn.linear_model import LinearRegression\n",
    "import requests\n"
   ]
  },
  {
   "cell_type": "markdown",
   "metadata": {},
   "source": [
    "Constants needed for data reading"
   ]
  },
  {
   "cell_type": "code",
   "execution_count": 76,
   "metadata": {},
   "outputs": [],
   "source": [
    "DATA_FOLDER = \"Data\"\n",
    "GRAPH_INFO_TXT = \"d07_text_meta_2021_03_27.txt\"\n",
    "current_directory = os.getcwd()\n",
    "path_raw_data = os.path.join(current_directory, DATA_FOLDER)\n",
    "path_raw_data_graph_info_txt = os.path.join(path_raw_data, GRAPH_INFO_TXT)\n"
   ]
  },
  {
   "cell_type": "markdown",
   "metadata": {},
   "source": [
    "Set total number of nodes (nb_days) from Metadata (may contain empty nodes)."
   ]
  },
  {
   "cell_type": "code",
   "execution_count": 77,
   "metadata": {},
   "outputs": [],
   "source": [
    "def DataReader_get_number_of_nodes(path_raw_data_graph_info_txt):\n",
    "    nodes_location = []\n",
    "    skip = True\n",
    "    with open(path_raw_data_graph_info_txt) as f:\n",
    "        content = f.readlines()\n",
    "        for line in content:\n",
    "            if skip:\n",
    "                skip = False\n",
    "            else:\n",
    "                line = line.split('\\t')\n",
    "                line = line[:-1]         # ID     #LAT     #LONG\n",
    "                nodes_location.append([line[0], line[8], line[9]])\n",
    "\n",
    "    return len(nodes_location)\n"
   ]
  },
  {
   "cell_type": "code",
   "execution_count": 78,
   "metadata": {},
   "outputs": [
    {
     "name": "stdout",
     "output_type": "stream",
     "text": [
      "The total number of nodes are : 4904\n"
     ]
    }
   ],
   "source": [
    "total_num_nodes = DataReader_get_number_of_nodes(path_raw_data_graph_info_txt)\n",
    "print(f'The total number of nodes are : {total_num_nodes}')"
   ]
  },
  {
   "cell_type": "markdown",
   "metadata": {},
   "source": [
    "Get nodes that have data as good_nodes and nodes that have empty data as empty_nodes from the data."
   ]
  },
  {
   "cell_type": "code",
   "execution_count": 79,
   "metadata": {},
   "outputs": [],
   "source": [
    "def DataReader_get_good_empty_nodes(path_raw_data,total_num_nodes):\n",
    "    index = total_num_nodes\n",
    "    empty_nodes = []\n",
    "    good_nodes = []\n",
    "    txtFiles = os.path.join(path_raw_data, \"*\", \"*.txt\")\n",
    "    for file in glob(txtFiles):\n",
    "        with open(file) as f:\n",
    "            content = f.readlines()\n",
    "            for line in content:\n",
    "                line = line.split(',')\n",
    "                line = [line1.replace(\"\\n\", \"\") for line1 in line]\n",
    "                if not (line[9] == '' or line[10] == '' or line[11] == ''):\n",
    "                    good_nodes.append((int)(line[1]))\n",
    "                else:\n",
    "                    empty_nodes.append((int)(line[1]))\n",
    "                index -= 1\n",
    "                if index == 0:\n",
    "                    return (good_nodes,empty_nodes)"
   ]
  },
  {
   "cell_type": "code",
   "execution_count": 80,
   "metadata": {},
   "outputs": [
    {
     "name": "stdout",
     "output_type": "stream",
     "text": [
      "Five examples of nodes that contain data: [715898, 715918, 715920, 715929, 715930]\n",
      "Five examples of nodes that do not have data: [715900, 715901, 715903, 715904, 715905]\n"
     ]
    }
   ],
   "source": [
    "(good_nodes, empty_nodes) = DataReader_get_good_empty_nodes(\n",
    "    path_raw_data, total_num_nodes)\n",
    "print(f'Five examples of nodes that contain data: {good_nodes[:5]}')\n",
    "print(f'Five examples of nodes that do not have data: {empty_nodes[:5]}')\n"
   ]
  },
  {
   "cell_type": "markdown",
   "metadata": {},
   "source": [
    "Set data and labels as X and Y variables from Data. They will contain good nodes and empty nodes as well"
   ]
  },
  {
   "cell_type": "code",
   "execution_count": 81,
   "metadata": {},
   "outputs": [],
   "source": [
    "def DataReader_read_data(path_raw_data):\n",
    "    X = []\n",
    "    Y = []\n",
    "    txtFiles = os.path.join(path_raw_data, \"*\", \"*.txt\")\n",
    "    nb_days = 0\n",
    "    for file in glob(txtFiles):\n",
    "        with open(file) as f:\n",
    "            print(f'Reading day {nb_days + 1}')\n",
    "            content = f.readlines()\n",
    "            for line in content:\n",
    "                line = line.split(',')\n",
    "                line = [line1.replace(\"\\n\", \"\") for line1 in line]\n",
    "                if not (line[9] == '' or line[10] == '' or line[11] == ''):\n",
    "                    Y.append((float)(line[11]))\n",
    "                    X.append([(float)(line[9]), (float)(line[10])])\n",
    "        nb_days += 1\n",
    "        # TODO : code for debugging, delete when finished\n",
    "        # ------------------------------------------------\n",
    "        if nb_days == 2:\n",
    "            break\n",
    "        # ------------------------------------------------\n",
    "    X = normalize(np.array(X))\n",
    "    Y = Y\n",
    "    return X,Y,nb_days"
   ]
  },
  {
   "cell_type": "code",
   "execution_count": 82,
   "metadata": {},
   "outputs": [
    {
     "name": "stdout",
     "output_type": "stream",
     "text": [
      "Reading day 1\n",
      "Reading day 2\n"
     ]
    }
   ],
   "source": [
    "X_data,Y_data,nb_days = DataReader_read_data(path_raw_data)"
   ]
  },
  {
   "cell_type": "code",
   "execution_count": 83,
   "metadata": {},
   "outputs": [
    {
     "name": "stdout",
     "output_type": "stream",
     "text": [
      "Total number of days read: 2\n",
      "Five examples of normalized input data: [[9.99999984e-01 1.76732671e-04]\n",
      " [9.99999978e-01 2.08088231e-04]\n",
      " [9.99999974e-01 2.29906536e-04]\n",
      " [9.99999979e-01 2.03723400e-04]\n",
      " [9.99999976e-01 2.17045449e-04]]\n",
      "Five examples of input data label: [70.4, 69.2, 66.0, 72.5, 69.8]\n"
     ]
    }
   ],
   "source": [
    "print(f'Total number of days read: {nb_days}')\n",
    "print(f'Five examples of normalized input data: {X_data[:5]}')\n",
    "print(f'Five examples of input data label: {Y_data[:5]}')"
   ]
  },
  {
   "cell_type": "markdown",
   "metadata": {},
   "source": [
    "Get nodes geo location from Metadata. They will contain good nodes only"
   ]
  },
  {
   "cell_type": "code",
   "execution_count": 84,
   "metadata": {},
   "outputs": [],
   "source": [
    "def DataReader_read_nodes_data(path_raw_data_graph_info_txt, good_nodes):\n",
    "\n",
    "    nodes_location = []\n",
    "    skip = True\n",
    "    with open(path_raw_data_graph_info_txt) as f:\n",
    "        content = f.readlines()\n",
    "        for line in content:\n",
    "            if skip:\n",
    "                skip = False\n",
    "            else:\n",
    "                line = line.split('\\t')\n",
    "                line = line[:-1]\n",
    "                if (int)(line[0]) in good_nodes:  # ID  #LAT    #LONG\n",
    "                    nodes_location.append([line[0], line[8], line[9]])\n",
    "    return nodes_location\n"
   ]
  },
  {
   "cell_type": "code",
   "execution_count": 85,
   "metadata": {},
   "outputs": [
    {
     "name": "stdout",
     "output_type": "stream",
     "text": [
      "Five examples of nodes geolocation as well as their ID's [['715898', '33.880183', '-118.021787'], ['715918', '33.93311', '-118.091005'], ['715920', '33.938544', '-118.094941'], ['715929', '33.971707', '-118.123095'], ['715930', '33.971763', '-118.122905']]\n"
     ]
    }
   ],
   "source": [
    "nodes_location = DataReader_read_nodes_data(\n",
    "    path_raw_data_graph_info_txt, good_nodes)\n",
    "print(\n",
    "    f'Five examples of nodes geolocation as well as their ID\\'s {nodes_location[:5]}')"
   ]
  },
  {
   "cell_type": "markdown",
   "metadata": {},
   "source": [
    "Enumartion used for Dataset sizes"
   ]
  },
  {
   "cell_type": "code",
   "execution_count": 86,
   "metadata": {},
   "outputs": [],
   "source": [
    "class Dataset(Enum):\n",
    "    Experimental = 0\n",
    "    ExperimentalManual = 1\n",
    "    ExperimentalLR = 2\n",
    "    Tiny = 3\n",
    "    TinyManual = 4\n",
    "    TinyLR = 5\n"
   ]
  },
  {
   "cell_type": "code",
   "execution_count": 87,
   "metadata": {},
   "outputs": [],
   "source": [
    "class DatasetSize(Enum):\n",
    "    Experimental = 8\n",
    "    Tiny = 50"
   ]
  },
  {
   "cell_type": "markdown",
   "metadata": {},
   "source": [
    "Function to set the nodes for the datasets such that they are the same throughout the project"
   ]
  },
  {
   "cell_type": "markdown",
   "metadata": {},
   "source": [
    "More constants defined, as well as the nodes id's for the Experimental and Tiny dataset "
   ]
  },
  {
   "cell_type": "code",
   "execution_count": 88,
   "metadata": {},
   "outputs": [],
   "source": [
    "def Graph_get_nodes_for_dataset(dataset):\n",
    "    experimental_all = [Dataset.Experimental,\n",
    "                        Dataset.ExperimentalManual, Dataset.ExperimentalLR]\n",
    "    tiny_all = [Dataset.Tiny, Dataset.TinyManual, Dataset.TinyLR]\n",
    "    nodes_Experimental: list = [\n",
    "        718292, 769496, 718291, 718290, 764567, 774279, 774278, 764671\n",
    "    ]\n",
    "    nodes_Tiny: list = [\n",
    "        775637, 718165, 776986, 759289, 774672, 760643, 774671, 717046, 718419,\n",
    "        769105, 764026, 759280, 775636, 759385, 760635, 718166, 774685, 774658,\n",
    "        716938, 776177, 763453, 718421, 717045, 768598, 717043, 716063, 717041,\n",
    "        717040, 717039, 737184, 717042, 718335, 763458, 776981, 737158, 737313,\n",
    "        769118, 772501, 718173, 764037, 763447, 763246, 718041, 763251, 763424,\n",
    "        763429, 763434, 763439, 764032, 764418\n",
    "    ]\n",
    "    if dataset in experimental_all:\n",
    "        return nodes_Experimental\n",
    "    elif dataset in tiny_all:\n",
    "        return nodes_Tiny\n"
   ]
  },
  {
   "cell_type": "code",
   "execution_count": 89,
   "metadata": {},
   "outputs": [
    {
     "name": "stdout",
     "output_type": "stream",
     "text": [
      "[718292, 769496, 718291, 718290, 764567, 774279, 774278, 764671]\n"
     ]
    }
   ],
   "source": [
    "print(Graph_get_nodes_for_dataset(Dataset.Experimental))\n"
   ]
  },
  {
   "cell_type": "code",
   "execution_count": 90,
   "metadata": {},
   "outputs": [],
   "source": [
    "def Graph_extract_time(json):\n",
    "    try:\n",
    "        return float(json['routes']['distance'])\n",
    "    except KeyError:\n",
    "        return 0\n"
   ]
  },
  {
   "cell_type": "code",
   "execution_count": 91,
   "metadata": {},
   "outputs": [],
   "source": [
    "def Graph_OSRM_loop(p1: tuple, p2: tuple) -> float:\n",
    "    requestUrl = f'http://router.project-osrm.org/route/v1/driving/{p1[1]},{p1[0]};{p2[1]},{p2[0]}'\n",
    "\n",
    "    try:\n",
    "        response = requests.get(requestUrl)\n",
    "    except:\n",
    "        return -1\n",
    "    if (response.status_code != 204\n",
    "            and response.headers[\"content-type\"].strip().startswith(\n",
    "                \"application/json\")):\n",
    "        try:\n",
    "            responseJson = response.json()\n",
    "        except:\n",
    "            return 0\n",
    "    else:\n",
    "        return -1\n",
    "    if responseJson['code'] == \"Ok\":\n",
    "        routes = responseJson['routes']\n",
    "        routes.sort(key=Graph_extract_time, reverse=True)\n",
    "        shortest_distance = float(routes[0]['distance']) * (1 / 1000)\n",
    "        return shortest_distance\n",
    "    return\n"
   ]
  },
  {
   "cell_type": "code",
   "execution_count": 92,
   "metadata": {},
   "outputs": [],
   "source": [
    "def Graph_OSRM(p1: tuple, p2: tuple) -> float:\n",
    "    distance = Graph_OSRM_loop(p1, p2)\n",
    "    while (distance == -1):\n",
    "        distance = Graph_OSRM_loop(p1, p2)\n",
    "    return distance\n"
   ]
  },
  {
   "cell_type": "code",
   "execution_count": 93,
   "metadata": {},
   "outputs": [
    {
     "name": "stdout",
     "output_type": "stream",
     "text": [
      "Geodesic distance between node id 715898 and node id 715918 is 8.68599891018443 km\n",
      "Road distance between node id 715898 and node id 715918 is 8.8494 km\n"
     ]
    }
   ],
   "source": [
    "p1 = ('33.880183', '-118.021787')\n",
    "p2 = ('33.93311', '-118.091005')\n",
    "print(\n",
    "    f'Geodesic distance between node id 715898 and node id 715918 is {geodesic(p1,p2)}')\n",
    "print(\n",
    "    f'Road distance between node id 715898 and node id 715918 is {Graph_OSRM(p1,p2)} km')\n"
   ]
  },
  {
   "cell_type": "code",
   "execution_count": 94,
   "metadata": {},
   "outputs": [],
   "source": [
    "def Graph_compute_all_OSRM_and_Geodesic(nodes_location, path_distances):\n",
    "    for dataset in [Dataset.Experimental, Dataset.Tiny]:\n",
    "\n",
    "        name_OSRM = os.path.join(\n",
    "            path_distances, f'distances_OSRM_{dataset.name}.npy')\n",
    "        name_geodesic = os.path.join(\n",
    "            path_distances, f'distances_Geodesic_{dataset.name}.npy')\n",
    "\n",
    "        if (os.path.exists(name_OSRM) and os.path.exists(name_geodesic)):\n",
    "            print(f'Distances already computed for {dataset.name}')\n",
    "            continue\n",
    "\n",
    "        nodes_ids = Graph_get_nodes_for_dataset(dataset)\n",
    "        nodes_location_dataset = [node for node in nodes_location if (int)(node[0]) in nodes_ids]\n",
    "\n",
    "        matrix_size = len(nodes_location_dataset)\n",
    "\n",
    "        OSRM_array = np.zeros((matrix_size, matrix_size))\n",
    "        geodesic_array = np.zeros((matrix_size, matrix_size))\n",
    "\n",
    "        for i in range(matrix_size - 1):\n",
    "            for j in range(i + 1, matrix_size):\n",
    "                p1 = ((float)(nodes_location_dataset[i][1]),\n",
    "                      (float)(nodes_location_dataset[i][2]))\n",
    "                p2 = ((float)(nodes_location_dataset[j][1]),\n",
    "                      (float)(nodes_location_dataset[j][2]))\n",
    "\n",
    "                id_1 = (int)(nodes_location_dataset[i][0])\n",
    "                id_2 = (int)(nodes_location_dataset[j][0])\n",
    "\n",
    "                print(f'Computing distances for Id\\'s {id_1} and {id_2}')\n",
    "\n",
    "                OSRM_array[i][j] = Graph_OSRM(p1, p2)\n",
    "                geodesic_array[i][j] = geodesic(p1, p2).km\n",
    "                OSRM_array[j][i] = Graph_OSRM(p2, p1)\n",
    "                geodesic_array[j][i] = geodesic(p2, p1).km\n",
    "\n",
    "        np.save(name_OSRM, OSRM_array)\n",
    "        np.save(name_geodesic, geodesic_array)\n",
    "\n",
    "    return\n"
   ]
  },
  {
   "cell_type": "code",
   "execution_count": 95,
   "metadata": {},
   "outputs": [],
   "source": [
    "path_processed_data = os.path.join(current_directory, \"Processed\")\n",
    "if not os.path.exists(path_processed_data):\n",
    "    os.makedirs(path_processed_data)\n",
    "\n",
    "path_distances = os.path.join(path_processed_data, \"Distances\")\n",
    "if not os.path.exists(path_distances):\n",
    "    os.makedirs(path_distances)\n"
   ]
  },
  {
   "cell_type": "code",
   "execution_count": 96,
   "metadata": {},
   "outputs": [
    {
     "name": "stdout",
     "output_type": "stream",
     "text": [
      "Started computing distances...\n",
      "Distances already computed for Experimental\n",
      "Distances already computed for Tiny\n",
      "Finished computing distances...\n"
     ]
    }
   ],
   "source": [
    "print(\"Started computing distances...\")\n",
    "Graph_compute_all_OSRM_and_Geodesic(nodes_location, path_distances)\n",
    "print(\"Finished computing distances...\")\n"
   ]
  },
  {
   "cell_type": "code",
   "execution_count": 97,
   "metadata": {},
   "outputs": [
    {
     "name": "stdout",
     "output_type": "stream",
     "text": [
      "[[0.     2.3406 3.5436 7.6358 7.1201 3.2997 3.6629 5.1336]\n",
      " [1.8412 0.     1.203  5.2952 4.7795 0.9591 1.3223 3.7805]\n",
      " [4.7693 7.1099 0.     4.0921 3.5765 8.069  6.1248 5.4476]\n",
      " [0.6772 3.0178 4.2208 0.     7.7973 3.9769 4.3401 5.8108]\n",
      " [1.1929 3.5335 0.7643 0.5157 0.     4.4926 2.5484 3.1371]\n",
      " [5.0133 7.3539 0.2439 4.3361 3.8204 0.     6.3688 5.6916]\n",
      " [3.573  5.9136 3.4803 5.0002 4.4845 6.8727 0.     2.4172]\n",
      " [3.1712 5.5117 2.5385 6.6306 6.1149 6.4709 3.2839 0.    ]]\n",
      "[[0.         0.02477349 1.20259522 0.67630258 1.19130412 0.95912002\n",
      "  1.15459812 1.1201794 ]\n",
      " [0.02477349 0.         1.20137815 0.67577782 1.19058306 0.95783532\n",
      "  1.15965723 1.12529727]\n",
      " [1.20259522 1.20137815 0.         0.52659971 0.02639492 0.24354287\n",
      "  0.30303407 0.30835885]\n",
      " [0.67630258 0.67577782 0.52659971 0.         0.51500154 0.28354955\n",
      "  0.52112531 0.48918423]\n",
      " [1.19130412 1.19058306 0.02639492 0.51500154 0.         0.23375099\n",
      "  0.27704067 0.28200812]\n",
      " [0.95912002 0.95783532 0.24354287 0.28354955 0.23375099 0.\n",
      "  0.33559618 0.31512439]\n",
      " [1.15459812 1.15965723 0.30303407 0.52112531 0.27704067 0.33559618\n",
      "  0.         0.03450204]\n",
      " [1.1201794  1.12529727 0.30835885 0.48918423 0.28200812 0.31512439\n",
      "  0.03450204 0.        ]]\n"
     ]
    }
   ],
   "source": [
    "array_distances_OSRM_Experimental = np.load(os.path.join(\n",
    "    path_distances, f'distances_OSRM_Experimental.npy'))\n",
    "array_distances_Geodesic_Experimental = np.load(os.path.join(\n",
    "    path_distances, f'distances_Geodesic_Experimental.npy'))\n",
    "print(array_distances_OSRM_Experimental)\n",
    "print(array_distances_Geodesic_Experimental)\n"
   ]
  },
  {
   "cell_type": "code",
   "execution_count": 98,
   "metadata": {},
   "outputs": [],
   "source": [
    "class DistanceType(Enum):\n",
    "    Geodesic = 0\n",
    "    OSRM = 1\n"
   ]
  },
  {
   "cell_type": "code",
   "execution_count": 99,
   "metadata": {},
   "outputs": [],
   "source": [
    "def Graph_get_adjency_matrix_weight(ID1_index, ID2_index, epsilon, sigma, distanceType,distances_array) -> float:\n",
    "    distance = distances_array[ID1_index][ID2_index]\n",
    "    weight = math.exp(-((distance**2) / (sigma**2)))\n",
    "    if weight >= epsilon:\n",
    "        return weight\n",
    "    else:\n",
    "        return 0\n",
    "     "
   ]
  },
  {
   "cell_type": "code",
   "execution_count": 100,
   "metadata": {},
   "outputs": [],
   "source": [
    "edge_index_Experimental_manual = [[0, 1, 7, 4, 7, 5], [1, 2, 4, 3, 6, 4]]\n",
    "edge_index_Tiny_manual = [[\n",
    "    0, 0, 0, 1, 5, 5, 5, 9, 9, 9, 10, 10, 10, 6, 14, 15, 7, 13, 10, 11, 8,\n",
    "    9, 4, 16, 5, 2, 20, 3, 22, 23, 24, 25, 26, 28, 29, 30, 31, 21, 32, 33,\n",
    "    34, 36, 17, 38, 12, 39, 40, 41, 42, 44, 45, 46, 47, 48, 27, 35, 9\n",
    "],\n",
    "    [\n",
    "    1, 2, 3, 4, 6, 7, 2, 4, 3, 12, 12, 11,\n",
    "    4, 14, 15, 12, 13, 10, 11, 8, 2, 3, 16,\n",
    "    17, 6, 20, 21, 22, 23, 24, 25, 26, 27,\n",
    "    29, 30, 31, 7, 32, 33, 34, 35, 9, 37,\n",
    "    5, 39, 40, 41, 42, 43, 45, 46, 47, 48,\n",
    "    0, 19, 18, 36\n",
    "]]\n"
   ]
  },
  {
   "cell_type": "code",
   "execution_count": 101,
   "metadata": {},
   "outputs": [],
   "source": [
    "def Graph_get_info_for_Standard(nodes_location, epsilon, sigma, dataset, distanceType,array_distances):\n",
    "    nodes = Graph_get_nodes_for_dataset(dataset)\n",
    "    edge_index = []\n",
    "    edge_weight = []\n",
    "    nodes_location_manual = [node for node in nodes_location if (int)(node[0]) in nodes]\n",
    "    num_nodes = len(nodes_location_manual)\n",
    "    for i in range(num_nodes - 1):\n",
    "        for j in range(i, num_nodes - 1):\n",
    "            if i != j:\n",
    "                weight = Graph_get_adjency_matrix_weight(i,j,epsilon, sigma, distanceType,array_distances)\n",
    "                if weight > 0:\n",
    "                    edge_index.append([i, j])\n",
    "                    edge_weight.append(weight)\n",
    "    edge_index = np.transpose(edge_index)\n",
    "    return edge_index, edge_weight"
   ]
  },
  {
   "cell_type": "code",
   "execution_count": 102,
   "metadata": {},
   "outputs": [],
   "source": [
    "def Graph_get_info_for_Manual(nodes_location, epsilon, sigma, dataset, distanceType,\n",
    "            edge_index_Experimental_manual,edge_index_Tiny_manual,array_distances):\n",
    "    \n",
    "    edge_weight = []\n",
    "    if dataset == Dataset.ExperimentalManual:\n",
    "        edge_index = edge_index_Experimental_manual\n",
    "    elif dataset == Dataset.TinyManual:\n",
    "        edge_index = edge_index_Tiny_manual\n",
    "    nodes = Graph_get_nodes_for_dataset(dataset)\n",
    "    nodes_location_standard = [node for node in nodes_location if (int)(node[0]) in nodes]\n",
    "    num_nodes = len(nodes_location_standard)\n",
    "    nodes_info = np.zeros((num_nodes, 3))\n",
    "    for i in range(num_nodes):\n",
    "        np.where(nodes == (int)(nodes_location_standard[i][0]))[0]\n",
    "        nodes_info[np.where(nodes == (int)(nodes_location_standard[i][0]))[0]] = nodes_location_standard[i]\n",
    "    nodes_location_standard = np.array(nodes_info)\n",
    "    for i in range(len(edge_index[0])):\n",
    "        weight = Graph_get_adjency_matrix_weight(\n",
    "            edge_index[0][i],edge_index[1][i], epsilon, sigma, distanceType,array_distances\n",
    "        )\n",
    "        edge_weight.append(weight)\n",
    "    return edge_index, edge_weight\n"
   ]
  },
  {
   "cell_type": "code",
   "execution_count": 105,
   "metadata": {},
   "outputs": [],
   "source": [
    "def Graph_get_top_3_nodes_for_node_with_LR(node, dataset, nodes_location, speed_vector):\n",
    "    nodes_ids = Graph_get_nodes_for_dataset(dataset)\n",
    "    ids_index = 0\n",
    "    X_train = []\n",
    "    Y_train = []\n",
    "    nodes_used = []\n",
    "    node_ids_order = [(int)(node[0]) for node in nodes_location]\n",
    "    nodes_used_computed = False\n",
    "    X_train_snapshot = []\n",
    "    for speed in speed_vector:\n",
    "\n",
    "        if node != node_ids_order[ids_index] and node_ids_order[ids_index] in nodes_ids:\n",
    "            X_train_snapshot.append(speed)\n",
    "            if not nodes_used_computed:\n",
    "                nodes_used.append(node_ids_order[ids_index])\n",
    "\n",
    "        if node == node_ids_order[ids_index]:\n",
    "            Y_train.append(speed)\n",
    "\n",
    "        ids_index += 1\n",
    "        if ids_index == len(node_ids_order): \n",
    "            ids_index = 0\n",
    "            X_train.append(X_train_snapshot)\n",
    "            X_train_snapshot = []\n",
    "            nodes_used_computed = True\n",
    "\n",
    "    regression = LinearRegression(positive=True).fit(X_train, Y_train)\n",
    "    coeffiecients = regression.coef_.tolist()\n",
    "    results = zip(nodes_used, coeffiecients)\n",
    "    sorted_results = sorted(results, key=lambda tup: tup[1], reverse=True)\n",
    "    best = sorted_results[:3]\n",
    "    return [result[0] for result in best]"
   ]
  },
  {
   "cell_type": "code",
   "execution_count": 106,
   "metadata": {},
   "outputs": [
    {
     "name": "stdout",
     "output_type": "stream",
     "text": [
      "[759385, 716938, 763246]\n"
     ]
    }
   ],
   "source": [
    "print(Graph_get_top_3_nodes_for_node_with_LR(717042, Dataset.TinyLR, nodes_location, Y_data))"
   ]
  },
  {
   "cell_type": "code",
   "execution_count": 108,
   "metadata": {},
   "outputs": [],
   "source": [
    "def Graph_get_info_for_LR(nodes_location, epsilon, sigma, dataset, distanceType,array_distances, Y_data):\n",
    "    edge_index = []\n",
    "    edge_weight = []\n",
    "    nodes_ids = Graph_get_nodes_for_dataset(dataset)\n",
    "    for node in nodes_ids:\n",
    "        nodes_relevant = Graph_get_top_3_nodes_for_node_with_LR(node, dataset, nodes_location, Y_data)\n",
    "        for node_relevant in nodes_relevant:\n",
    "            edge_index.append([nodes_ids.index(node_relevant),nodes_ids.index(node)])\n",
    "            edge_weight.append(Graph_get_adjency_matrix_weight(\n",
    "                    nodes_ids.index(node_relevant), nodes_ids.index(node),\n",
    "                    epsilon, sigma, distanceType,array_distances))\n",
    "    edge_index = [list(x) for x in set(tuple(x) for x in edge_index)]\n",
    "    edge_index = np.transpose(edge_index)\n",
    "    return edge_index, edge_weight"
   ]
  },
  {
   "cell_type": "code",
   "execution_count": 110,
   "metadata": {},
   "outputs": [],
   "source": [
    "def Graph_save_graph(nodes_location, epsilon, sigma, dataset, distanceType, path_processed_data,\n",
    "                    edge_index_Experimental_manual,edge_index_Tiny_manual,path_distances,Y_data):\n",
    "\n",
    "        nodes = Graph_get_nodes_for_dataset(dataset)\n",
    "        name_folder_weight = os.path.join(path_processed_data,'EdgeWeight')\n",
    "        name_folder_index = os.path.join(path_processed_data,'EdgeIndex')\n",
    "        if dataset in [Dataset.Experimental,Dataset.ExperimentalLR,Dataset.ExperimentalManual]:\n",
    "            dataset_name = Dataset.Experimental.name\n",
    "        if dataset in [Dataset.Tiny,Dataset.TinyLR,Dataset.TinyManual]:\n",
    "            dataset_name = Dataset.Tiny.name\n",
    "        array_distances = np.load(os.path.join(path_distances,f'distances_{distanceType.name}_{dataset_name}.npy'))\n",
    "\n",
    "        if not os.path.exists(name_folder_weight):\n",
    "            os.makedirs(name_folder_weight)\n",
    "\n",
    "        if not os.path.exists(name_folder_index):\n",
    "            os.makedirs(name_folder_index)\n",
    "\n",
    "        postfix = f'{distanceType.name}_{epsilon}_{sigma}_{dataset.name}'\n",
    "\n",
    "        name_weight = os.path.join(name_folder_weight,f'weight_{postfix}.npy')\n",
    "        name_index = os.path.join(name_folder_index,f'index_{postfix}.npy')\n",
    "\n",
    "        if os.path.exists(name_weight) and os.path.exists(name_index): \n",
    "            print(f'Graph already saved with configuration : epsilon = {epsilon}, sigma = {sigma}, size = {dataset.name}, distance = {distanceType.name}')\n",
    "            return\n",
    "\n",
    "        print(f'Saving graph with configuration : epsilon = {epsilon}, sigma = {sigma}, size = {dataset.name}, distance = {distanceType.name}')\n",
    "        if (dataset == Dataset.ExperimentalManual or dataset == Dataset.TinyManual):\n",
    "            edge_index, edge_weight = Graph_get_info_for_Manual(nodes_location, epsilon, sigma, dataset, distanceType,\n",
    "                    edge_index_Experimental_manual,edge_index_Tiny_manual,array_distances)\n",
    "        elif (dataset == Dataset.ExperimentalLR or dataset == Dataset.TinyLR):\n",
    "            edge_index, edge_weight = Graph_get_info_for_LR(nodes_location, epsilon, sigma, dataset, distanceType,array_distances,Y_data)\n",
    "        else:\n",
    "            edge_index, edge_weight = Graph_get_info_for_Standard(nodes_location, epsilon, sigma, dataset, distanceType,array_distances)\n",
    "        \n",
    "        np.save(name_index, edge_index)\n",
    "        np.save(name_weight, edge_weight)"
   ]
  },
  {
   "cell_type": "code",
   "execution_count": 111,
   "metadata": {},
   "outputs": [],
   "source": [
    "EPSILON_ARRAY = [0.1, 0.3, 0.5, 0.7]\n",
    "SIGMA_ARRAY = [1, 3, 5, 10]\n"
   ]
  },
  {
   "cell_type": "code",
   "execution_count": 112,
   "metadata": {},
   "outputs": [
    {
     "name": "stdout",
     "output_type": "stream",
     "text": [
      "Saving graph with configuration : epsilon = 0.1, sigma = 1, size = Experimental, distance = Geodesic\n",
      "Saving graph with configuration : epsilon = 0.1, sigma = 1, size = ExperimentalManual, distance = Geodesic\n",
      "Saving graph with configuration : epsilon = 0.1, sigma = 1, size = ExperimentalLR, distance = Geodesic\n",
      "Saving graph with configuration : epsilon = 0.1, sigma = 1, size = Tiny, distance = Geodesic\n",
      "Saving graph with configuration : epsilon = 0.1, sigma = 1, size = TinyManual, distance = Geodesic\n",
      "Saving graph with configuration : epsilon = 0.1, sigma = 1, size = TinyLR, distance = Geodesic\n",
      "Saving graph with configuration : epsilon = 0.1, sigma = 1, size = Experimental, distance = OSRM\n",
      "Saving graph with configuration : epsilon = 0.1, sigma = 1, size = ExperimentalManual, distance = OSRM\n",
      "Saving graph with configuration : epsilon = 0.1, sigma = 1, size = ExperimentalLR, distance = OSRM\n",
      "Saving graph with configuration : epsilon = 0.1, sigma = 1, size = Tiny, distance = OSRM\n",
      "Saving graph with configuration : epsilon = 0.1, sigma = 1, size = TinyManual, distance = OSRM\n",
      "Saving graph with configuration : epsilon = 0.1, sigma = 1, size = TinyLR, distance = OSRM\n",
      "Saving graph with configuration : epsilon = 0.1, sigma = 3, size = Experimental, distance = Geodesic\n",
      "Saving graph with configuration : epsilon = 0.1, sigma = 3, size = ExperimentalManual, distance = Geodesic\n",
      "Saving graph with configuration : epsilon = 0.1, sigma = 3, size = ExperimentalLR, distance = Geodesic\n",
      "Saving graph with configuration : epsilon = 0.1, sigma = 3, size = Tiny, distance = Geodesic\n",
      "Saving graph with configuration : epsilon = 0.1, sigma = 3, size = TinyManual, distance = Geodesic\n",
      "Saving graph with configuration : epsilon = 0.1, sigma = 3, size = TinyLR, distance = Geodesic\n",
      "Saving graph with configuration : epsilon = 0.1, sigma = 3, size = Experimental, distance = OSRM\n",
      "Saving graph with configuration : epsilon = 0.1, sigma = 3, size = ExperimentalManual, distance = OSRM\n",
      "Saving graph with configuration : epsilon = 0.1, sigma = 3, size = ExperimentalLR, distance = OSRM\n",
      "Saving graph with configuration : epsilon = 0.1, sigma = 3, size = Tiny, distance = OSRM\n",
      "Saving graph with configuration : epsilon = 0.1, sigma = 3, size = TinyManual, distance = OSRM\n",
      "Saving graph with configuration : epsilon = 0.1, sigma = 3, size = TinyLR, distance = OSRM\n",
      "Saving graph with configuration : epsilon = 0.1, sigma = 5, size = Experimental, distance = Geodesic\n",
      "Saving graph with configuration : epsilon = 0.1, sigma = 5, size = ExperimentalManual, distance = Geodesic\n",
      "Saving graph with configuration : epsilon = 0.1, sigma = 5, size = ExperimentalLR, distance = Geodesic\n",
      "Saving graph with configuration : epsilon = 0.1, sigma = 5, size = Tiny, distance = Geodesic\n",
      "Saving graph with configuration : epsilon = 0.1, sigma = 5, size = TinyManual, distance = Geodesic\n",
      "Saving graph with configuration : epsilon = 0.1, sigma = 5, size = TinyLR, distance = Geodesic\n",
      "Saving graph with configuration : epsilon = 0.1, sigma = 5, size = Experimental, distance = OSRM\n",
      "Saving graph with configuration : epsilon = 0.1, sigma = 5, size = ExperimentalManual, distance = OSRM\n",
      "Saving graph with configuration : epsilon = 0.1, sigma = 5, size = ExperimentalLR, distance = OSRM\n",
      "Saving graph with configuration : epsilon = 0.1, sigma = 5, size = Tiny, distance = OSRM\n",
      "Saving graph with configuration : epsilon = 0.1, sigma = 5, size = TinyManual, distance = OSRM\n",
      "Saving graph with configuration : epsilon = 0.1, sigma = 5, size = TinyLR, distance = OSRM\n",
      "Saving graph with configuration : epsilon = 0.1, sigma = 10, size = Experimental, distance = Geodesic\n",
      "Saving graph with configuration : epsilon = 0.1, sigma = 10, size = ExperimentalManual, distance = Geodesic\n",
      "Saving graph with configuration : epsilon = 0.1, sigma = 10, size = ExperimentalLR, distance = Geodesic\n",
      "Saving graph with configuration : epsilon = 0.1, sigma = 10, size = Tiny, distance = Geodesic\n",
      "Saving graph with configuration : epsilon = 0.1, sigma = 10, size = TinyManual, distance = Geodesic\n",
      "Saving graph with configuration : epsilon = 0.1, sigma = 10, size = TinyLR, distance = Geodesic\n",
      "Saving graph with configuration : epsilon = 0.1, sigma = 10, size = Experimental, distance = OSRM\n",
      "Saving graph with configuration : epsilon = 0.1, sigma = 10, size = ExperimentalManual, distance = OSRM\n",
      "Saving graph with configuration : epsilon = 0.1, sigma = 10, size = ExperimentalLR, distance = OSRM\n",
      "Saving graph with configuration : epsilon = 0.1, sigma = 10, size = Tiny, distance = OSRM\n",
      "Saving graph with configuration : epsilon = 0.1, sigma = 10, size = TinyManual, distance = OSRM\n",
      "Saving graph with configuration : epsilon = 0.1, sigma = 10, size = TinyLR, distance = OSRM\n",
      "Saving graph with configuration : epsilon = 0.3, sigma = 1, size = Experimental, distance = Geodesic\n",
      "Saving graph with configuration : epsilon = 0.3, sigma = 1, size = ExperimentalManual, distance = Geodesic\n",
      "Saving graph with configuration : epsilon = 0.3, sigma = 1, size = ExperimentalLR, distance = Geodesic\n",
      "Saving graph with configuration : epsilon = 0.3, sigma = 1, size = Tiny, distance = Geodesic\n",
      "Saving graph with configuration : epsilon = 0.3, sigma = 1, size = TinyManual, distance = Geodesic\n",
      "Saving graph with configuration : epsilon = 0.3, sigma = 1, size = TinyLR, distance = Geodesic\n",
      "Saving graph with configuration : epsilon = 0.3, sigma = 1, size = Experimental, distance = OSRM\n",
      "Saving graph with configuration : epsilon = 0.3, sigma = 1, size = ExperimentalManual, distance = OSRM\n",
      "Saving graph with configuration : epsilon = 0.3, sigma = 1, size = ExperimentalLR, distance = OSRM\n",
      "Saving graph with configuration : epsilon = 0.3, sigma = 1, size = Tiny, distance = OSRM\n",
      "Saving graph with configuration : epsilon = 0.3, sigma = 1, size = TinyManual, distance = OSRM\n",
      "Saving graph with configuration : epsilon = 0.3, sigma = 1, size = TinyLR, distance = OSRM\n",
      "Saving graph with configuration : epsilon = 0.3, sigma = 3, size = Experimental, distance = Geodesic\n",
      "Saving graph with configuration : epsilon = 0.3, sigma = 3, size = ExperimentalManual, distance = Geodesic\n",
      "Saving graph with configuration : epsilon = 0.3, sigma = 3, size = ExperimentalLR, distance = Geodesic\n",
      "Saving graph with configuration : epsilon = 0.3, sigma = 3, size = Tiny, distance = Geodesic\n",
      "Saving graph with configuration : epsilon = 0.3, sigma = 3, size = TinyManual, distance = Geodesic\n",
      "Saving graph with configuration : epsilon = 0.3, sigma = 3, size = TinyLR, distance = Geodesic\n",
      "Saving graph with configuration : epsilon = 0.3, sigma = 3, size = Experimental, distance = OSRM\n",
      "Saving graph with configuration : epsilon = 0.3, sigma = 3, size = ExperimentalManual, distance = OSRM\n",
      "Saving graph with configuration : epsilon = 0.3, sigma = 3, size = ExperimentalLR, distance = OSRM\n",
      "Saving graph with configuration : epsilon = 0.3, sigma = 3, size = Tiny, distance = OSRM\n",
      "Saving graph with configuration : epsilon = 0.3, sigma = 3, size = TinyManual, distance = OSRM\n",
      "Saving graph with configuration : epsilon = 0.3, sigma = 3, size = TinyLR, distance = OSRM\n",
      "Saving graph with configuration : epsilon = 0.3, sigma = 5, size = Experimental, distance = Geodesic\n",
      "Saving graph with configuration : epsilon = 0.3, sigma = 5, size = ExperimentalManual, distance = Geodesic\n",
      "Saving graph with configuration : epsilon = 0.3, sigma = 5, size = ExperimentalLR, distance = Geodesic\n",
      "Saving graph with configuration : epsilon = 0.3, sigma = 5, size = Tiny, distance = Geodesic\n",
      "Saving graph with configuration : epsilon = 0.3, sigma = 5, size = TinyManual, distance = Geodesic\n",
      "Saving graph with configuration : epsilon = 0.3, sigma = 5, size = TinyLR, distance = Geodesic\n",
      "Saving graph with configuration : epsilon = 0.3, sigma = 5, size = Experimental, distance = OSRM\n",
      "Saving graph with configuration : epsilon = 0.3, sigma = 5, size = ExperimentalManual, distance = OSRM\n",
      "Saving graph with configuration : epsilon = 0.3, sigma = 5, size = ExperimentalLR, distance = OSRM\n",
      "Saving graph with configuration : epsilon = 0.3, sigma = 5, size = Tiny, distance = OSRM\n",
      "Saving graph with configuration : epsilon = 0.3, sigma = 5, size = TinyManual, distance = OSRM\n",
      "Saving graph with configuration : epsilon = 0.3, sigma = 5, size = TinyLR, distance = OSRM\n",
      "Saving graph with configuration : epsilon = 0.3, sigma = 10, size = Experimental, distance = Geodesic\n",
      "Saving graph with configuration : epsilon = 0.3, sigma = 10, size = ExperimentalManual, distance = Geodesic\n",
      "Saving graph with configuration : epsilon = 0.3, sigma = 10, size = ExperimentalLR, distance = Geodesic\n",
      "Saving graph with configuration : epsilon = 0.3, sigma = 10, size = Tiny, distance = Geodesic\n",
      "Saving graph with configuration : epsilon = 0.3, sigma = 10, size = TinyManual, distance = Geodesic\n",
      "Saving graph with configuration : epsilon = 0.3, sigma = 10, size = TinyLR, distance = Geodesic\n",
      "Saving graph with configuration : epsilon = 0.3, sigma = 10, size = Experimental, distance = OSRM\n",
      "Saving graph with configuration : epsilon = 0.3, sigma = 10, size = ExperimentalManual, distance = OSRM\n",
      "Saving graph with configuration : epsilon = 0.3, sigma = 10, size = ExperimentalLR, distance = OSRM\n",
      "Saving graph with configuration : epsilon = 0.3, sigma = 10, size = Tiny, distance = OSRM\n",
      "Saving graph with configuration : epsilon = 0.3, sigma = 10, size = TinyManual, distance = OSRM\n",
      "Saving graph with configuration : epsilon = 0.3, sigma = 10, size = TinyLR, distance = OSRM\n",
      "Saving graph with configuration : epsilon = 0.5, sigma = 1, size = Experimental, distance = Geodesic\n",
      "Saving graph with configuration : epsilon = 0.5, sigma = 1, size = ExperimentalManual, distance = Geodesic\n",
      "Saving graph with configuration : epsilon = 0.5, sigma = 1, size = ExperimentalLR, distance = Geodesic\n",
      "Saving graph with configuration : epsilon = 0.5, sigma = 1, size = Tiny, distance = Geodesic\n",
      "Saving graph with configuration : epsilon = 0.5, sigma = 1, size = TinyManual, distance = Geodesic\n",
      "Saving graph with configuration : epsilon = 0.5, sigma = 1, size = TinyLR, distance = Geodesic\n",
      "Saving graph with configuration : epsilon = 0.5, sigma = 1, size = Experimental, distance = OSRM\n",
      "Saving graph with configuration : epsilon = 0.5, sigma = 1, size = ExperimentalManual, distance = OSRM\n",
      "Saving graph with configuration : epsilon = 0.5, sigma = 1, size = ExperimentalLR, distance = OSRM\n",
      "Saving graph with configuration : epsilon = 0.5, sigma = 1, size = Tiny, distance = OSRM\n",
      "Saving graph with configuration : epsilon = 0.5, sigma = 1, size = TinyManual, distance = OSRM\n",
      "Saving graph with configuration : epsilon = 0.5, sigma = 1, size = TinyLR, distance = OSRM\n",
      "Saving graph with configuration : epsilon = 0.5, sigma = 3, size = Experimental, distance = Geodesic\n",
      "Saving graph with configuration : epsilon = 0.5, sigma = 3, size = ExperimentalManual, distance = Geodesic\n",
      "Saving graph with configuration : epsilon = 0.5, sigma = 3, size = ExperimentalLR, distance = Geodesic\n",
      "Saving graph with configuration : epsilon = 0.5, sigma = 3, size = Tiny, distance = Geodesic\n",
      "Saving graph with configuration : epsilon = 0.5, sigma = 3, size = TinyManual, distance = Geodesic\n",
      "Saving graph with configuration : epsilon = 0.5, sigma = 3, size = TinyLR, distance = Geodesic\n",
      "Saving graph with configuration : epsilon = 0.5, sigma = 3, size = Experimental, distance = OSRM\n",
      "Saving graph with configuration : epsilon = 0.5, sigma = 3, size = ExperimentalManual, distance = OSRM\n",
      "Saving graph with configuration : epsilon = 0.5, sigma = 3, size = ExperimentalLR, distance = OSRM\n",
      "Saving graph with configuration : epsilon = 0.5, sigma = 3, size = Tiny, distance = OSRM\n",
      "Saving graph with configuration : epsilon = 0.5, sigma = 3, size = TinyManual, distance = OSRM\n",
      "Saving graph with configuration : epsilon = 0.5, sigma = 3, size = TinyLR, distance = OSRM\n",
      "Saving graph with configuration : epsilon = 0.5, sigma = 5, size = Experimental, distance = Geodesic\n",
      "Saving graph with configuration : epsilon = 0.5, sigma = 5, size = ExperimentalManual, distance = Geodesic\n",
      "Saving graph with configuration : epsilon = 0.5, sigma = 5, size = ExperimentalLR, distance = Geodesic\n",
      "Saving graph with configuration : epsilon = 0.5, sigma = 5, size = Tiny, distance = Geodesic\n",
      "Saving graph with configuration : epsilon = 0.5, sigma = 5, size = TinyManual, distance = Geodesic\n",
      "Saving graph with configuration : epsilon = 0.5, sigma = 5, size = TinyLR, distance = Geodesic\n",
      "Saving graph with configuration : epsilon = 0.5, sigma = 5, size = Experimental, distance = OSRM\n",
      "Saving graph with configuration : epsilon = 0.5, sigma = 5, size = ExperimentalManual, distance = OSRM\n",
      "Saving graph with configuration : epsilon = 0.5, sigma = 5, size = ExperimentalLR, distance = OSRM\n",
      "Saving graph with configuration : epsilon = 0.5, sigma = 5, size = Tiny, distance = OSRM\n",
      "Saving graph with configuration : epsilon = 0.5, sigma = 5, size = TinyManual, distance = OSRM\n",
      "Saving graph with configuration : epsilon = 0.5, sigma = 5, size = TinyLR, distance = OSRM\n",
      "Saving graph with configuration : epsilon = 0.5, sigma = 10, size = Experimental, distance = Geodesic\n",
      "Saving graph with configuration : epsilon = 0.5, sigma = 10, size = ExperimentalManual, distance = Geodesic\n",
      "Saving graph with configuration : epsilon = 0.5, sigma = 10, size = ExperimentalLR, distance = Geodesic\n",
      "Saving graph with configuration : epsilon = 0.5, sigma = 10, size = Tiny, distance = Geodesic\n",
      "Saving graph with configuration : epsilon = 0.5, sigma = 10, size = TinyManual, distance = Geodesic\n",
      "Saving graph with configuration : epsilon = 0.5, sigma = 10, size = TinyLR, distance = Geodesic\n",
      "Saving graph with configuration : epsilon = 0.5, sigma = 10, size = Experimental, distance = OSRM\n",
      "Saving graph with configuration : epsilon = 0.5, sigma = 10, size = ExperimentalManual, distance = OSRM\n",
      "Saving graph with configuration : epsilon = 0.5, sigma = 10, size = ExperimentalLR, distance = OSRM\n",
      "Saving graph with configuration : epsilon = 0.5, sigma = 10, size = Tiny, distance = OSRM\n",
      "Saving graph with configuration : epsilon = 0.5, sigma = 10, size = TinyManual, distance = OSRM\n",
      "Saving graph with configuration : epsilon = 0.5, sigma = 10, size = TinyLR, distance = OSRM\n",
      "Saving graph with configuration : epsilon = 0.7, sigma = 1, size = Experimental, distance = Geodesic\n",
      "Saving graph with configuration : epsilon = 0.7, sigma = 1, size = ExperimentalManual, distance = Geodesic\n",
      "Saving graph with configuration : epsilon = 0.7, sigma = 1, size = ExperimentalLR, distance = Geodesic\n",
      "Saving graph with configuration : epsilon = 0.7, sigma = 1, size = Tiny, distance = Geodesic\n",
      "Saving graph with configuration : epsilon = 0.7, sigma = 1, size = TinyManual, distance = Geodesic\n",
      "Saving graph with configuration : epsilon = 0.7, sigma = 1, size = TinyLR, distance = Geodesic\n",
      "Saving graph with configuration : epsilon = 0.7, sigma = 1, size = Experimental, distance = OSRM\n",
      "Saving graph with configuration : epsilon = 0.7, sigma = 1, size = ExperimentalManual, distance = OSRM\n",
      "Saving graph with configuration : epsilon = 0.7, sigma = 1, size = ExperimentalLR, distance = OSRM\n",
      "Saving graph with configuration : epsilon = 0.7, sigma = 1, size = Tiny, distance = OSRM\n",
      "Saving graph with configuration : epsilon = 0.7, sigma = 1, size = TinyManual, distance = OSRM\n",
      "Saving graph with configuration : epsilon = 0.7, sigma = 1, size = TinyLR, distance = OSRM\n",
      "Saving graph with configuration : epsilon = 0.7, sigma = 3, size = Experimental, distance = Geodesic\n",
      "Saving graph with configuration : epsilon = 0.7, sigma = 3, size = ExperimentalManual, distance = Geodesic\n",
      "Saving graph with configuration : epsilon = 0.7, sigma = 3, size = ExperimentalLR, distance = Geodesic\n",
      "Saving graph with configuration : epsilon = 0.7, sigma = 3, size = Tiny, distance = Geodesic\n",
      "Saving graph with configuration : epsilon = 0.7, sigma = 3, size = TinyManual, distance = Geodesic\n",
      "Saving graph with configuration : epsilon = 0.7, sigma = 3, size = TinyLR, distance = Geodesic\n",
      "Saving graph with configuration : epsilon = 0.7, sigma = 3, size = Experimental, distance = OSRM\n",
      "Saving graph with configuration : epsilon = 0.7, sigma = 3, size = ExperimentalManual, distance = OSRM\n",
      "Saving graph with configuration : epsilon = 0.7, sigma = 3, size = ExperimentalLR, distance = OSRM\n",
      "Saving graph with configuration : epsilon = 0.7, sigma = 3, size = Tiny, distance = OSRM\n",
      "Saving graph with configuration : epsilon = 0.7, sigma = 3, size = TinyManual, distance = OSRM\n",
      "Saving graph with configuration : epsilon = 0.7, sigma = 3, size = TinyLR, distance = OSRM\n",
      "Saving graph with configuration : epsilon = 0.7, sigma = 5, size = Experimental, distance = Geodesic\n",
      "Saving graph with configuration : epsilon = 0.7, sigma = 5, size = ExperimentalManual, distance = Geodesic\n",
      "Saving graph with configuration : epsilon = 0.7, sigma = 5, size = ExperimentalLR, distance = Geodesic\n",
      "Saving graph with configuration : epsilon = 0.7, sigma = 5, size = Tiny, distance = Geodesic\n",
      "Saving graph with configuration : epsilon = 0.7, sigma = 5, size = TinyManual, distance = Geodesic\n",
      "Saving graph with configuration : epsilon = 0.7, sigma = 5, size = TinyLR, distance = Geodesic\n",
      "Saving graph with configuration : epsilon = 0.7, sigma = 5, size = Experimental, distance = OSRM\n",
      "Saving graph with configuration : epsilon = 0.7, sigma = 5, size = ExperimentalManual, distance = OSRM\n",
      "Saving graph with configuration : epsilon = 0.7, sigma = 5, size = ExperimentalLR, distance = OSRM\n",
      "Saving graph with configuration : epsilon = 0.7, sigma = 5, size = Tiny, distance = OSRM\n",
      "Saving graph with configuration : epsilon = 0.7, sigma = 5, size = TinyManual, distance = OSRM\n",
      "Saving graph with configuration : epsilon = 0.7, sigma = 5, size = TinyLR, distance = OSRM\n",
      "Saving graph with configuration : epsilon = 0.7, sigma = 10, size = Experimental, distance = Geodesic\n",
      "Saving graph with configuration : epsilon = 0.7, sigma = 10, size = ExperimentalManual, distance = Geodesic\n",
      "Saving graph with configuration : epsilon = 0.7, sigma = 10, size = ExperimentalLR, distance = Geodesic\n",
      "Saving graph with configuration : epsilon = 0.7, sigma = 10, size = Tiny, distance = Geodesic\n",
      "Saving graph with configuration : epsilon = 0.7, sigma = 10, size = TinyManual, distance = Geodesic\n",
      "Saving graph with configuration : epsilon = 0.7, sigma = 10, size = TinyLR, distance = Geodesic\n",
      "Saving graph with configuration : epsilon = 0.7, sigma = 10, size = Experimental, distance = OSRM\n",
      "Saving graph with configuration : epsilon = 0.7, sigma = 10, size = ExperimentalManual, distance = OSRM\n",
      "Saving graph with configuration : epsilon = 0.7, sigma = 10, size = ExperimentalLR, distance = OSRM\n",
      "Saving graph with configuration : epsilon = 0.7, sigma = 10, size = Tiny, distance = OSRM\n",
      "Saving graph with configuration : epsilon = 0.7, sigma = 10, size = TinyManual, distance = OSRM\n",
      "Saving graph with configuration : epsilon = 0.7, sigma = 10, size = TinyLR, distance = OSRM\n"
     ]
    }
   ],
   "source": [
    "for epsilon in EPSILON_ARRAY:\n",
    "    for sigma in SIGMA_ARRAY:\n",
    "        for distanceType in DistanceType:\n",
    "            for dataset in Dataset:\n",
    "                Graph_save_graph(nodes_location, epsilon, sigma, dataset, distanceType, path_processed_data,\n",
    "                    edge_index_Experimental_manual,edge_index_Tiny_manual,path_distances,Y_data)"
   ]
  },
  {
   "cell_type": "code",
   "execution_count": null,
   "metadata": {},
   "outputs": [],
   "source": [
    "def save_dataset():\n",
    "    return"
   ]
  },
  {
   "cell_type": "markdown",
   "metadata": {},
   "source": [
    "Enumeration used for the folders name in which the processed data will be saved"
   ]
  },
  {
   "cell_type": "code",
   "execution_count": 42,
   "metadata": {},
   "outputs": [],
   "source": [
    "class FoldersProcesedNames(Enum):\n",
    "    STCONV = 0\n",
    "    LSTM = 1\n",
    "    EdgeWeight = 2\n",
    "    EdgeIndex = 3\n",
    "    LinearRegression = 4"
   ]
  },
  {
   "cell_type": "markdown",
   "metadata": {},
   "source": [
    "Function which will return true if the folders created after data processing exists"
   ]
  },
  {
   "cell_type": "code",
   "execution_count": 44,
   "metadata": {},
   "outputs": [],
   "source": [
    "def Datareader_is_data_read(path_processed_data : str,folders_procesed_names : FoldersProcesedNames):\n",
    "    for folder_name in folders_procesed_names:\n",
    "        is_read_folder = os.path.isdir(os.path.join(path_processed_data, str(folder_name.name)))\n",
    "        if not is_read_folder:\n",
    "            return False\n",
    "    return True"
   ]
  },
  {
   "cell_type": "code",
   "execution_count": 46,
   "metadata": {},
   "outputs": [
    {
     "name": "stdout",
     "output_type": "stream",
     "text": [
      "Data is read and stored: False\n"
     ]
    }
   ],
   "source": [
    "print(f'Data is read and stored: {Datareader_is_data_read(path_processed_data,FoldersProcesedNames)}')"
   ]
  }
 ],
 "metadata": {
  "kernelspec": {
   "display_name": "Python 3.8.12 ('Dissertation')",
   "language": "python",
   "name": "python3"
  },
  "language_info": {
   "codemirror_mode": {
    "name": "ipython",
    "version": 3
   },
   "file_extension": ".py",
   "mimetype": "text/x-python",
   "name": "python",
   "nbconvert_exporter": "python",
   "pygments_lexer": "ipython3",
   "version": "3.8.12"
  },
  "orig_nbformat": 4,
  "vscode": {
   "interpreter": {
    "hash": "a09a4475c5cc35c3ce3cf73b536683fe1faa908839cea1597f8f0293b34712b3"
   }
  }
 },
 "nbformat": 4,
 "nbformat_minor": 2
}
