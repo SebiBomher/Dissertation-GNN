{
 "cells": [
  {
   "cell_type": "markdown",
   "metadata": {},
   "source": [
    "# Computing distances for graph neural networks"
   ]
  },
  {
   "cell_type": "markdown",
   "metadata": {},
   "source": [
    "## Part 1 - data preparation"
   ]
  },
  {
   "cell_type": "markdown",
   "metadata": {},
   "source": [
    "Imports"
   ]
  },
  {
   "cell_type": "code",
   "execution_count": 4,
   "metadata": {},
   "outputs": [],
   "source": [
    "import math\n",
    "import os\n",
    "import numpy as np\n",
    "import pandas as pd\n",
    "import requests\n",
    "import torch\n",
    "import copy\n",
    "from torch.optim.lr_scheduler import ReduceLROnPlateau\n",
    "from torch.optim import Adamax\n",
    "from tqdm import tqdm\n",
    "from ray import tune\n",
    "from ray.tune.schedulers.async_hyperband import ASHAScheduler\n",
    "from datetime import datetime\n",
    "from pathlib import Path\n",
    "from random import sample\n",
    "from typing import Tuple\n",
    "from geopy.distance import geodesic\n",
    "from glob import glob\n",
    "from sklearn.preprocessing import normalize\n",
    "from enum import Enum\n",
    "from sklearn.linear_model import LinearRegression\n",
    "from torch_geometric_temporal.nn.attention.stgcn import STConv\n",
    "from torch_geometric_temporal.nn.recurrent import GCLSTM, DCRNN\n",
    "from torch_geometric.nn import GCNConv\n",
    "from torch.nn import ReLU, Linear, Module, BatchNorm1d, Dropout\n",
    "from torch.utils.data.dataloader import DataLoader\n"
   ]
  },
  {
   "cell_type": "markdown",
   "metadata": {},
   "source": [
    "Constants needed for data reading"
   ]
  },
  {
   "cell_type": "code",
   "execution_count": 5,
   "metadata": {},
   "outputs": [],
   "source": [
    "DATA_FOLDER = \"Data\"\n",
    "GRAPH_INFO_TXT = \"d07_text_meta_2021_03_27.txt\"\n",
    "current_directory = os.getcwd()\n",
    "path_raw_data = os.path.join(current_directory, DATA_FOLDER)\n",
    "path_raw_data_graph_info_txt = os.path.join(path_raw_data, GRAPH_INFO_TXT)\n"
   ]
  },
  {
   "cell_type": "markdown",
   "metadata": {},
   "source": [
    "Set total number of nodes (nb_days) from Metadata (may contain empty nodes)."
   ]
  },
  {
   "cell_type": "code",
   "execution_count": 6,
   "metadata": {},
   "outputs": [],
   "source": [
    "def DataReader_get_number_of_nodes(path_raw_data_graph_info_txt):\n",
    "    nodes_location = []\n",
    "    skip = True\n",
    "    with open(path_raw_data_graph_info_txt) as f:\n",
    "        content = f.readlines()\n",
    "        for line in content:\n",
    "            if skip:\n",
    "                skip = False\n",
    "            else:\n",
    "                line = line.split('\\t')\n",
    "                line = line[:-1]         # ID     #LAT     #LONG\n",
    "                nodes_location.append([line[0], line[8], line[9]])\n",
    "\n",
    "    return len(nodes_location)\n"
   ]
  },
  {
   "cell_type": "code",
   "execution_count": 7,
   "metadata": {},
   "outputs": [
    {
     "name": "stdout",
     "output_type": "stream",
     "text": [
      "The total number of nodes are : 4904\n"
     ]
    }
   ],
   "source": [
    "total_num_nodes = DataReader_get_number_of_nodes(path_raw_data_graph_info_txt)\n",
    "print(f'The total number of nodes are : {total_num_nodes}')"
   ]
  },
  {
   "cell_type": "markdown",
   "metadata": {},
   "source": [
    "Get nodes that have data as good_nodes and nodes that have empty data as empty_nodes from the data."
   ]
  },
  {
   "cell_type": "code",
   "execution_count": 8,
   "metadata": {},
   "outputs": [],
   "source": [
    "def DataReader_get_good_empty_nodes(path_raw_data,total_num_nodes):\n",
    "    index = total_num_nodes\n",
    "    empty_nodes = []\n",
    "    good_nodes = []\n",
    "    txtFiles = os.path.join(path_raw_data, \"*\", \"*.txt\")\n",
    "    for file in glob(txtFiles):\n",
    "        with open(file) as f:\n",
    "            content = f.readlines()\n",
    "            for line in content:\n",
    "                line = line.split(',')\n",
    "                line = [line1.replace(\"\\n\", \"\") for line1 in line]\n",
    "                if not (line[9] == '' or line[10] == '' or line[11] == ''):\n",
    "                    good_nodes.append((int)(line[1]))\n",
    "                else:\n",
    "                    empty_nodes.append((int)(line[1]))\n",
    "                index -= 1\n",
    "                if index == 0:\n",
    "                    return (good_nodes,empty_nodes)"
   ]
  },
  {
   "cell_type": "code",
   "execution_count": 9,
   "metadata": {},
   "outputs": [
    {
     "name": "stdout",
     "output_type": "stream",
     "text": [
      "Five examples of nodes that contain data: [715898, 715918, 715920, 715929, 715930]\n",
      "Five examples of nodes that do not have data: [715900, 715901, 715903, 715904, 715905]\n"
     ]
    }
   ],
   "source": [
    "(good_nodes, empty_nodes) = DataReader_get_good_empty_nodes(\n",
    "    path_raw_data, total_num_nodes)\n",
    "print(f'Five examples of nodes that contain data: {good_nodes[:5]}')\n",
    "print(f'Five examples of nodes that do not have data: {empty_nodes[:5]}')\n"
   ]
  },
  {
   "cell_type": "markdown",
   "metadata": {},
   "source": [
    "Set data and labels as X and Y variables from Data. They will contain good nodes and empty nodes as well"
   ]
  },
  {
   "cell_type": "code",
   "execution_count": 10,
   "metadata": {},
   "outputs": [],
   "source": [
    "def DataReader_read_data(path_raw_data):\n",
    "    X = []\n",
    "    Y = []\n",
    "    txtFiles = os.path.join(path_raw_data, \"*\", \"*.txt\")\n",
    "    nb_days = 0\n",
    "    for file in glob(txtFiles):\n",
    "        with open(file) as f:\n",
    "            print(f'Reading day {nb_days + 1}')\n",
    "            content = f.readlines()\n",
    "            for line in content:\n",
    "                line = line.split(',')\n",
    "                line = [line1.replace(\"\\n\", \"\") for line1 in line]\n",
    "                if not (line[9] == '' or line[10] == '' or line[11] == ''):\n",
    "                    Y.append((float)(line[11]))\n",
    "                    X.append([(float)(line[9]), (float)(line[10])])\n",
    "        nb_days += 1\n",
    "        # TODO : code for debugging, delete when finished\n",
    "        # ------------------------------------------------\n",
    "        # if nb_days == 2:\n",
    "        #     break\n",
    "        # ------------------------------------------------\n",
    "    X = normalize(np.array(X))\n",
    "    Y = Y\n",
    "    return X,Y,nb_days"
   ]
  },
  {
   "cell_type": "code",
   "execution_count": 11,
   "metadata": {},
   "outputs": [
    {
     "name": "stdout",
     "output_type": "stream",
     "text": [
      "Reading day 1\n",
      "Reading day 2\n",
      "Reading day 3\n",
      "Reading day 4\n",
      "Reading day 5\n",
      "Reading day 6\n",
      "Reading day 7\n",
      "Reading day 8\n",
      "Reading day 9\n",
      "Reading day 10\n",
      "Reading day 11\n",
      "Reading day 12\n",
      "Reading day 13\n",
      "Reading day 14\n",
      "Reading day 15\n",
      "Reading day 16\n",
      "Reading day 17\n",
      "Reading day 18\n",
      "Reading day 19\n",
      "Reading day 20\n",
      "Reading day 21\n",
      "Reading day 22\n"
     ]
    }
   ],
   "source": [
    "X_data,Y_data,nb_days = DataReader_read_data(path_raw_data)"
   ]
  },
  {
   "cell_type": "code",
   "execution_count": 12,
   "metadata": {},
   "outputs": [
    {
     "name": "stdout",
     "output_type": "stream",
     "text": [
      "Total number of days read: 22\n",
      "Five examples of normalized input data: [[9.99999984e-01 1.76732671e-04]\n",
      " [9.99999978e-01 2.08088231e-04]\n",
      " [9.99999974e-01 2.29906536e-04]\n",
      " [9.99999979e-01 2.03723400e-04]\n",
      " [9.99999976e-01 2.17045449e-04]]\n",
      "Five examples of input data label: [70.4, 69.2, 66.0, 72.5, 69.8]\n"
     ]
    }
   ],
   "source": [
    "print(f'Total number of days read: {nb_days}')\n",
    "print(f'Five examples of normalized input data: {X_data[:5]}')\n",
    "print(f'Five examples of input data label: {Y_data[:5]}')"
   ]
  },
  {
   "cell_type": "markdown",
   "metadata": {},
   "source": [
    "Get nodes geo location from Metadata. They will contain good nodes only"
   ]
  },
  {
   "cell_type": "code",
   "execution_count": 13,
   "metadata": {},
   "outputs": [],
   "source": [
    "def DataReader_read_nodes_data(path_raw_data_graph_info_txt, good_nodes):\n",
    "\n",
    "    nodes_location = []\n",
    "    skip = True\n",
    "    with open(path_raw_data_graph_info_txt) as f:\n",
    "        content = f.readlines()\n",
    "        for line in content:\n",
    "            if skip:\n",
    "                skip = False\n",
    "            else:\n",
    "                line = line.split('\\t')\n",
    "                line = line[:-1]\n",
    "                if (int)(line[0]) in good_nodes:  # ID  #LAT    #LONG\n",
    "                    nodes_location.append([line[0], line[8], line[9]])\n",
    "    return nodes_location\n"
   ]
  },
  {
   "cell_type": "code",
   "execution_count": 14,
   "metadata": {},
   "outputs": [
    {
     "name": "stdout",
     "output_type": "stream",
     "text": [
      "Five examples of nodes geolocation as well as their ID's [['715898', '33.880183', '-118.021787'], ['715918', '33.93311', '-118.091005'], ['715920', '33.938544', '-118.094941'], ['715929', '33.971707', '-118.123095'], ['715930', '33.971763', '-118.122905']]\n"
     ]
    }
   ],
   "source": [
    "nodes_location = DataReader_read_nodes_data(\n",
    "    path_raw_data_graph_info_txt, good_nodes)\n",
    "print(\n",
    "    f'Five examples of nodes geolocation as well as their ID\\'s {nodes_location[:5]}')"
   ]
  },
  {
   "cell_type": "markdown",
   "metadata": {},
   "source": [
    "Enumartion used for Dataset sizes"
   ]
  },
  {
   "cell_type": "code",
   "execution_count": 15,
   "metadata": {},
   "outputs": [],
   "source": [
    "class Dataset(Enum):\n",
    "    Experimental = 0\n",
    "    ExperimentalManual = 1\n",
    "    ExperimentalLR = 2\n",
    "    Tiny = 3\n",
    "    TinyManual = 4\n",
    "    TinyLR = 5\n"
   ]
  },
  {
   "cell_type": "code",
   "execution_count": 16,
   "metadata": {},
   "outputs": [],
   "source": [
    "class DatasetNodes(Enum):\n",
    "    Experimental = [ 718292, 769496, 718291, 718290, 764567, 774279, 774278, 764671 ]\n",
    "    Tiny = [\n",
    "        775637, 718165, 776986, 759289, 774672, 760643, 774671, 717046, 718419,\n",
    "        769105, 764026, 759280, 775636, 759385, 760635, 718166, 774685, 774658,\n",
    "        716938, 776177, 763453, 718421, 717045, 768598, 717043, 716063, 717041,\n",
    "        717040, 717039, 737184, 717042, 718335, 763458, 776981, 737158, 737313,\n",
    "        769118, 772501, 718173, 764037, 763447, 763246, 718041, 763251, 763424,\n",
    "        763429, 763434, 763439, 764032, 764418\n",
    "    ]"
   ]
  },
  {
   "cell_type": "code",
   "execution_count": 17,
   "metadata": {},
   "outputs": [],
   "source": [
    "class DatasetSize(Enum):\n",
    "    Experimental = len(DatasetNodes.Experimental.value)\n",
    "    Tiny = len(DatasetNodes.Tiny.value)"
   ]
  },
  {
   "cell_type": "markdown",
   "metadata": {},
   "source": [
    "Function to set the nodes for the datasets such that they are the same throughout the project"
   ]
  },
  {
   "cell_type": "markdown",
   "metadata": {},
   "source": [
    "More constants defined, as well as the nodes id's for the Experimental and Tiny dataset "
   ]
  },
  {
   "cell_type": "code",
   "execution_count": 18,
   "metadata": {},
   "outputs": [],
   "source": [
    "def Graph_get_nodes_for_dataset(dataset):\n",
    "    experimental_all = [Dataset.Experimental,\n",
    "                        Dataset.ExperimentalManual, Dataset.ExperimentalLR]\n",
    "    tiny_all = [Dataset.Tiny, Dataset.TinyManual, Dataset.TinyLR]\n",
    "    if dataset in experimental_all:\n",
    "        return DatasetNodes.Experimental.value\n",
    "    elif dataset in tiny_all:\n",
    "        return DatasetNodes.Tiny.value\n"
   ]
  },
  {
   "cell_type": "code",
   "execution_count": 19,
   "metadata": {},
   "outputs": [
    {
     "name": "stdout",
     "output_type": "stream",
     "text": [
      "[718292, 769496, 718291, 718290, 764567, 774279, 774278, 764671]\n"
     ]
    }
   ],
   "source": [
    "print(Graph_get_nodes_for_dataset(Dataset.Experimental))\n"
   ]
  },
  {
   "cell_type": "code",
   "execution_count": 20,
   "metadata": {},
   "outputs": [],
   "source": [
    "def Graph_get_number_of_nodes_for_dataset(dataset):\n",
    "    experimental_all = [Dataset.Experimental,\n",
    "                        Dataset.ExperimentalManual, Dataset.ExperimentalLR]\n",
    "    tiny_all = [Dataset.Tiny, Dataset.TinyManual, Dataset.TinyLR]\n",
    "    if dataset in experimental_all:\n",
    "        return DatasetSize.Experimental.value\n",
    "    elif dataset in tiny_all:\n",
    "        return DatasetSize.Tiny.value\n"
   ]
  },
  {
   "cell_type": "code",
   "execution_count": 21,
   "metadata": {},
   "outputs": [
    {
     "name": "stdout",
     "output_type": "stream",
     "text": [
      "8\n",
      "50\n"
     ]
    }
   ],
   "source": [
    "print(Graph_get_number_of_nodes_for_dataset(Dataset.Experimental))\n",
    "print(Graph_get_number_of_nodes_for_dataset(Dataset.Tiny))"
   ]
  },
  {
   "cell_type": "code",
   "execution_count": 22,
   "metadata": {},
   "outputs": [],
   "source": [
    "def Graph_extract_time(json):\n",
    "    try:\n",
    "        return float(json['routes']['distance'])\n",
    "    except KeyError:\n",
    "        return 0\n"
   ]
  },
  {
   "cell_type": "code",
   "execution_count": 23,
   "metadata": {},
   "outputs": [],
   "source": [
    "def Graph_OSRM_loop(p1: tuple, p2: tuple) -> float:\n",
    "    requestUrl = f'http://router.project-osrm.org/route/v1/driving/{p1[1]},{p1[0]};{p2[1]},{p2[0]}'\n",
    "\n",
    "    try:\n",
    "        response = requests.get(requestUrl)\n",
    "    except:\n",
    "        return -1\n",
    "    if (response.status_code != 204\n",
    "            and response.headers[\"content-type\"].strip().startswith(\n",
    "                \"application/json\")):\n",
    "        try:\n",
    "            responseJson = response.json()\n",
    "        except:\n",
    "            return 0\n",
    "    else:\n",
    "        return -1\n",
    "    if responseJson['code'] == \"Ok\":\n",
    "        routes = responseJson['routes']\n",
    "        routes.sort(key=Graph_extract_time, reverse=True)\n",
    "        shortest_distance = float(routes[0]['distance']) * (1 / 1000)\n",
    "        return shortest_distance\n",
    "    return\n"
   ]
  },
  {
   "cell_type": "code",
   "execution_count": 24,
   "metadata": {},
   "outputs": [],
   "source": [
    "def Graph_OSRM(p1: tuple, p2: tuple) -> float:\n",
    "    distance = Graph_OSRM_loop(p1, p2)\n",
    "    while (distance == -1):\n",
    "        distance = Graph_OSRM_loop(p1, p2)\n",
    "    return distance\n"
   ]
  },
  {
   "cell_type": "code",
   "execution_count": 25,
   "metadata": {},
   "outputs": [
    {
     "name": "stdout",
     "output_type": "stream",
     "text": [
      "Geodesic distance between node id 715898 and node id 715918 is 8.68599891018443 km\n",
      "Road distance between node id 715898 and node id 715918 is 8.8494 km\n"
     ]
    }
   ],
   "source": [
    "p1 = ('33.880183', '-118.021787')\n",
    "p2 = ('33.93311', '-118.091005')\n",
    "print(\n",
    "    f'Geodesic distance between node id 715898 and node id 715918 is {geodesic(p1,p2)}')\n",
    "print(\n",
    "    f'Road distance between node id 715898 and node id 715918 is {Graph_OSRM(p1,p2)} km')\n"
   ]
  },
  {
   "cell_type": "code",
   "execution_count": 26,
   "metadata": {},
   "outputs": [],
   "source": [
    "def Graph_compute_all_OSRM_and_Geodesic(nodes_location, path_distances):\n",
    "    for dataset in [Dataset.Experimental, Dataset.Tiny]:\n",
    "\n",
    "        name_OSRM = os.path.join(\n",
    "            path_distances, f'distances_OSRM_{dataset.name}.npy')\n",
    "        name_geodesic = os.path.join(\n",
    "            path_distances, f'distances_Geodesic_{dataset.name}.npy')\n",
    "\n",
    "        if (os.path.exists(name_OSRM) and os.path.exists(name_geodesic)):\n",
    "            print(f'Distances already computed for {dataset.name}')\n",
    "            continue\n",
    "\n",
    "        nodes_ids = Graph_get_nodes_for_dataset(dataset)\n",
    "        nodes_location_dataset = [node for node in nodes_location if (int)(node[0]) in nodes_ids]\n",
    "\n",
    "        matrix_size = len(nodes_location_dataset)\n",
    "\n",
    "        OSRM_array = np.zeros((matrix_size, matrix_size))\n",
    "        geodesic_array = np.zeros((matrix_size, matrix_size))\n",
    "\n",
    "        for i in range(matrix_size - 1):\n",
    "            for j in range(i + 1, matrix_size):\n",
    "                p1 = ((float)(nodes_location_dataset[i][1]),\n",
    "                      (float)(nodes_location_dataset[i][2]))\n",
    "                p2 = ((float)(nodes_location_dataset[j][1]),\n",
    "                      (float)(nodes_location_dataset[j][2]))\n",
    "\n",
    "                id_1 = (int)(nodes_location_dataset[i][0])\n",
    "                id_2 = (int)(nodes_location_dataset[j][0])\n",
    "\n",
    "                print(f'Computing distances for Id\\'s {id_1} and {id_2}')\n",
    "\n",
    "                OSRM_array[i][j] = Graph_OSRM(p1, p2)\n",
    "                geodesic_array[i][j] = geodesic(p1, p2).km\n",
    "                OSRM_array[j][i] = Graph_OSRM(p2, p1)\n",
    "                geodesic_array[j][i] = geodesic(p2, p1).km\n",
    "\n",
    "        np.save(name_OSRM, OSRM_array)\n",
    "        np.save(name_geodesic, geodesic_array)\n",
    "\n",
    "    return\n"
   ]
  },
  {
   "cell_type": "code",
   "execution_count": 27,
   "metadata": {},
   "outputs": [],
   "source": [
    "path_processed_data = os.path.join(current_directory, \"Processed\")\n",
    "if not os.path.exists(path_processed_data):\n",
    "    os.makedirs(path_processed_data)\n",
    "\n",
    "path_distances = os.path.join(path_processed_data, \"Distances\")\n",
    "if not os.path.exists(path_distances):\n",
    "    os.makedirs(path_distances)\n"
   ]
  },
  {
   "cell_type": "code",
   "execution_count": 28,
   "metadata": {},
   "outputs": [
    {
     "name": "stdout",
     "output_type": "stream",
     "text": [
      "Started computing distances...\n",
      "Distances already computed for Experimental\n",
      "Distances already computed for Tiny\n",
      "Finished computing distances...\n"
     ]
    }
   ],
   "source": [
    "print(\"Started computing distances...\")\n",
    "Graph_compute_all_OSRM_and_Geodesic(nodes_location, path_distances)\n",
    "print(\"Finished computing distances...\")\n"
   ]
  },
  {
   "cell_type": "code",
   "execution_count": 29,
   "metadata": {},
   "outputs": [
    {
     "name": "stdout",
     "output_type": "stream",
     "text": [
      "[[0.     2.3406 3.5436 7.6358 7.1201 3.2997 3.6629 5.1336]\n",
      " [1.8412 0.     1.203  5.2952 4.7795 0.9591 1.3223 3.7805]\n",
      " [4.7693 7.1099 0.     4.0921 3.5765 8.069  6.1248 5.4476]\n",
      " [0.6772 3.0178 4.2208 0.     7.7973 3.9769 4.3401 5.8108]\n",
      " [1.1929 3.5335 0.7643 0.5157 0.     4.4926 2.5484 3.1371]\n",
      " [5.0133 7.3539 0.2439 4.3361 3.8204 0.     6.3688 5.6916]\n",
      " [3.573  5.9136 3.4803 5.0002 4.4845 6.8727 0.     2.4172]\n",
      " [3.1712 5.5117 2.5385 6.6306 6.1149 6.4709 3.2839 0.    ]]\n",
      "[[0.         0.02477349 1.20259522 0.67630258 1.19130412 0.95912002\n",
      "  1.15459812 1.1201794 ]\n",
      " [0.02477349 0.         1.20137815 0.67577782 1.19058306 0.95783532\n",
      "  1.15965723 1.12529727]\n",
      " [1.20259522 1.20137815 0.         0.52659971 0.02639492 0.24354287\n",
      "  0.30303407 0.30835885]\n",
      " [0.67630258 0.67577782 0.52659971 0.         0.51500154 0.28354955\n",
      "  0.52112531 0.48918423]\n",
      " [1.19130412 1.19058306 0.02639492 0.51500154 0.         0.23375099\n",
      "  0.27704067 0.28200812]\n",
      " [0.95912002 0.95783532 0.24354287 0.28354955 0.23375099 0.\n",
      "  0.33559618 0.31512439]\n",
      " [1.15459812 1.15965723 0.30303407 0.52112531 0.27704067 0.33559618\n",
      "  0.         0.03450204]\n",
      " [1.1201794  1.12529727 0.30835885 0.48918423 0.28200812 0.31512439\n",
      "  0.03450204 0.        ]]\n"
     ]
    }
   ],
   "source": [
    "array_distances_OSRM_Experimental = np.load(os.path.join(\n",
    "    path_distances, f'distances_OSRM_Experimental.npy'))\n",
    "array_distances_Geodesic_Experimental = np.load(os.path.join(\n",
    "    path_distances, f'distances_Geodesic_Experimental.npy'))\n",
    "print(array_distances_OSRM_Experimental)\n",
    "print(array_distances_Geodesic_Experimental)\n"
   ]
  },
  {
   "cell_type": "code",
   "execution_count": 30,
   "metadata": {},
   "outputs": [],
   "source": [
    "class DistanceType(Enum):\n",
    "    Geodesic = 0\n",
    "    OSRM = 1\n"
   ]
  },
  {
   "cell_type": "code",
   "execution_count": 31,
   "metadata": {},
   "outputs": [],
   "source": [
    "def Graph_get_adjency_matrix_weight(ID1_index, ID2_index, epsilon, sigma, distanceType,distances_array) -> float:\n",
    "    distance = distances_array[ID1_index][ID2_index]\n",
    "    weight = math.exp(-((distance**2) / (sigma**2)))\n",
    "    if weight >= epsilon:\n",
    "        return weight\n",
    "    else:\n",
    "        return 0\n",
    "     "
   ]
  },
  {
   "cell_type": "code",
   "execution_count": 32,
   "metadata": {},
   "outputs": [],
   "source": [
    "edge_index_Experimental_manual = [[0, 1, 7, 4, 7, 5], [1, 2, 4, 3, 6, 4]]\n",
    "edge_index_Tiny_manual = [[\n",
    "    0, 0, 0, 1, 5, 5, 5, 9, 9, 9, 10, 10, 10, 6, 14, 15, 7, 13, 10, 11, 8,\n",
    "    9, 4, 16, 5, 2, 20, 3, 22, 23, 24, 25, 26, 28, 29, 30, 31, 21, 32, 33,\n",
    "    34, 36, 17, 38, 12, 39, 40, 41, 42, 44, 45, 46, 47, 48, 27, 35, 9\n",
    "],\n",
    "    [\n",
    "    1, 2, 3, 4, 6, 7, 2, 4, 3, 12, 12, 11,\n",
    "    4, 14, 15, 12, 13, 10, 11, 8, 2, 3, 16,\n",
    "    17, 6, 20, 21, 22, 23, 24, 25, 26, 27,\n",
    "    29, 30, 31, 7, 32, 33, 34, 35, 9, 37,\n",
    "    5, 39, 40, 41, 42, 43, 45, 46, 47, 48,\n",
    "    0, 19, 18, 36\n",
    "]]\n"
   ]
  },
  {
   "cell_type": "code",
   "execution_count": 33,
   "metadata": {},
   "outputs": [],
   "source": [
    "def Graph_get_info_for_Standard(nodes_location, epsilon, sigma, dataset, distanceType,array_distances):\n",
    "    nodes = Graph_get_nodes_for_dataset(dataset)\n",
    "    edge_index = []\n",
    "    edge_weight = []\n",
    "    nodes_location_manual = [node for node in nodes_location if (int)(node[0]) in nodes]\n",
    "    num_nodes = len(nodes_location_manual)\n",
    "    for i in range(num_nodes - 1):\n",
    "        for j in range(i, num_nodes - 1):\n",
    "            if i != j:\n",
    "                weight = Graph_get_adjency_matrix_weight(i,j,epsilon, sigma, distanceType,array_distances)\n",
    "                if weight > 0:\n",
    "                    edge_index.append([i, j])\n",
    "                    edge_weight.append(weight)\n",
    "    edge_index = np.transpose(edge_index)\n",
    "    return edge_index, edge_weight"
   ]
  },
  {
   "cell_type": "code",
   "execution_count": 34,
   "metadata": {},
   "outputs": [],
   "source": [
    "def Graph_get_info_for_Manual(nodes_location, epsilon, sigma, dataset, distanceType,\n",
    "            edge_index_Experimental_manual,edge_index_Tiny_manual,array_distances):\n",
    "    \n",
    "    edge_weight = []\n",
    "    if dataset == Dataset.ExperimentalManual:\n",
    "        edge_index = edge_index_Experimental_manual\n",
    "    elif dataset == Dataset.TinyManual:\n",
    "        edge_index = edge_index_Tiny_manual\n",
    "    nodes = Graph_get_nodes_for_dataset(dataset)\n",
    "    nodes_location_standard = [node for node in nodes_location if (int)(node[0]) in nodes]\n",
    "    num_nodes = len(nodes_location_standard)\n",
    "    nodes_info = np.zeros((num_nodes, 3))\n",
    "    for i in range(num_nodes):\n",
    "        np.where(nodes == (int)(nodes_location_standard[i][0]))[0]\n",
    "        nodes_info[np.where(nodes == (int)(nodes_location_standard[i][0]))[0]] = nodes_location_standard[i]\n",
    "    nodes_location_standard = np.array(nodes_info)\n",
    "    for i in range(len(edge_index[0])):\n",
    "        weight = Graph_get_adjency_matrix_weight(\n",
    "            edge_index[0][i],edge_index[1][i], epsilon, sigma, distanceType,array_distances\n",
    "        )\n",
    "        edge_weight.append(weight)\n",
    "    return edge_index, edge_weight\n"
   ]
  },
  {
   "cell_type": "code",
   "execution_count": 35,
   "metadata": {},
   "outputs": [],
   "source": [
    "def Graph_get_top_3_nodes_for_node_with_LR(node, dataset, nodes_location, speed_vector):\n",
    "    nodes_ids = Graph_get_nodes_for_dataset(dataset)\n",
    "    ids_index = 0\n",
    "    X_train = []\n",
    "    Y_train = []\n",
    "    nodes_used = []\n",
    "    node_ids_order = [(int)(node[0]) for node in nodes_location]\n",
    "    nodes_used_computed = False\n",
    "    X_train_snapshot = []\n",
    "    for speed in speed_vector:\n",
    "\n",
    "        if node != node_ids_order[ids_index] and node_ids_order[ids_index] in nodes_ids:\n",
    "            X_train_snapshot.append(speed)\n",
    "            if not nodes_used_computed:\n",
    "                nodes_used.append(node_ids_order[ids_index])\n",
    "\n",
    "        if node == node_ids_order[ids_index]:\n",
    "            Y_train.append(speed)\n",
    "\n",
    "        ids_index += 1\n",
    "        if ids_index == len(node_ids_order): \n",
    "            ids_index = 0\n",
    "            X_train.append(X_train_snapshot)\n",
    "            X_train_snapshot = []\n",
    "            nodes_used_computed = True\n",
    "\n",
    "    regression = LinearRegression(positive=True).fit(X_train, Y_train)\n",
    "    coeffiecients = regression.coef_.tolist()\n",
    "    results = zip(nodes_used, coeffiecients)\n",
    "    sorted_results = sorted(results, key=lambda tup: tup[1], reverse=True)\n",
    "    best = sorted_results[:3]\n",
    "    return [result[0] for result in best]"
   ]
  },
  {
   "cell_type": "code",
   "execution_count": 36,
   "metadata": {},
   "outputs": [
    {
     "name": "stdout",
     "output_type": "stream",
     "text": [
      "[759385, 718335, 764032]\n"
     ]
    }
   ],
   "source": [
    "print(Graph_get_top_3_nodes_for_node_with_LR(717042, Dataset.TinyLR, nodes_location, Y_data))"
   ]
  },
  {
   "cell_type": "code",
   "execution_count": 37,
   "metadata": {},
   "outputs": [],
   "source": [
    "def Graph_get_info_for_LR(nodes_location, epsilon, sigma, dataset, distanceType,array_distances, Y_data):\n",
    "    edge_index = []\n",
    "    edge_weight = []\n",
    "    nodes_ids = Graph_get_nodes_for_dataset(dataset)\n",
    "    for node in nodes_ids:\n",
    "        nodes_relevant = Graph_get_top_3_nodes_for_node_with_LR(node, dataset, nodes_location, Y_data)\n",
    "        for node_relevant in nodes_relevant:\n",
    "            edge_index.append([nodes_ids.index(node_relevant),nodes_ids.index(node)])\n",
    "            edge_weight.append(Graph_get_adjency_matrix_weight(\n",
    "                    nodes_ids.index(node_relevant), nodes_ids.index(node),\n",
    "                    epsilon, sigma, distanceType,array_distances))\n",
    "    edge_index = [list(x) for x in set(tuple(x) for x in edge_index)]\n",
    "    edge_index = np.transpose(edge_index)\n",
    "    return edge_index, edge_weight"
   ]
  },
  {
   "cell_type": "code",
   "execution_count": 38,
   "metadata": {},
   "outputs": [],
   "source": [
    "def Graph_save_graph(nodes_location, epsilon, sigma, dataset, distanceType, path_processed_data,\n",
    "                    edge_index_Experimental_manual,edge_index_Tiny_manual,path_distances,Y_data):\n",
    "\n",
    "        nodes = Graph_get_nodes_for_dataset(dataset)\n",
    "        name_folder_weight = os.path.join(path_processed_data,'EdgeWeight')\n",
    "        name_folder_index = os.path.join(path_processed_data,'EdgeIndex')\n",
    "        if dataset in [Dataset.Experimental,Dataset.ExperimentalLR,Dataset.ExperimentalManual]:\n",
    "            dataset_name = Dataset.Experimental.name\n",
    "        if dataset in [Dataset.Tiny,Dataset.TinyLR,Dataset.TinyManual]:\n",
    "            dataset_name = Dataset.Tiny.name\n",
    "        array_distances = np.load(os.path.join(path_distances,f'distances_{distanceType.name}_{dataset_name}.npy'))\n",
    "\n",
    "        if not os.path.exists(name_folder_weight):\n",
    "            os.makedirs(name_folder_weight)\n",
    "\n",
    "        if not os.path.exists(name_folder_index):\n",
    "            os.makedirs(name_folder_index)\n",
    "\n",
    "        postfix = f'{distanceType.name}_{epsilon}_{sigma}_{dataset.name}'\n",
    "\n",
    "        name_weight = os.path.join(name_folder_weight,f'weight_{postfix}.npy')\n",
    "        name_index = os.path.join(name_folder_index,f'index_{postfix}.npy')\n",
    "\n",
    "        if os.path.exists(name_weight) and os.path.exists(name_index): \n",
    "            print(f'Graph already saved with configuration : epsilon = {epsilon}, sigma = {sigma}, size = {dataset.name}, distance = {distanceType.name}')\n",
    "            return\n",
    "\n",
    "        print(f'Saving graph with configuration : epsilon = {epsilon}, sigma = {sigma}, size = {dataset.name}, distance = {distanceType.name}')\n",
    "        if (dataset == Dataset.ExperimentalManual or dataset == Dataset.TinyManual):\n",
    "            edge_index, edge_weight = Graph_get_info_for_Manual(nodes_location, epsilon, sigma, dataset, distanceType,\n",
    "                    edge_index_Experimental_manual,edge_index_Tiny_manual,array_distances)\n",
    "        elif (dataset == Dataset.ExperimentalLR or dataset == Dataset.TinyLR):\n",
    "            edge_index, edge_weight = Graph_get_info_for_LR(nodes_location, epsilon, sigma, dataset, distanceType,array_distances,Y_data)\n",
    "        else:\n",
    "            edge_index, edge_weight = Graph_get_info_for_Standard(nodes_location, epsilon, sigma, dataset, distanceType,array_distances)\n",
    "        \n",
    "        np.save(name_index, edge_index)\n",
    "        np.save(name_weight, edge_weight)"
   ]
  },
  {
   "cell_type": "code",
   "execution_count": 39,
   "metadata": {},
   "outputs": [],
   "source": [
    "EPSILON_ARRAY = [0.1, 0.3, 0.5, 0.7]\n",
    "SIGMA_ARRAY = [1, 3, 5, 10]\n"
   ]
  },
  {
   "cell_type": "code",
   "execution_count": 40,
   "metadata": {},
   "outputs": [
    {
     "name": "stdout",
     "output_type": "stream",
     "text": [
      "Graph already saved with configuration : epsilon = 0.1, sigma = 1, size = Experimental, distance = Geodesic\n",
      "Graph already saved with configuration : epsilon = 0.1, sigma = 1, size = ExperimentalManual, distance = Geodesic\n",
      "Graph already saved with configuration : epsilon = 0.1, sigma = 1, size = ExperimentalLR, distance = Geodesic\n",
      "Graph already saved with configuration : epsilon = 0.1, sigma = 1, size = Tiny, distance = Geodesic\n",
      "Graph already saved with configuration : epsilon = 0.1, sigma = 1, size = TinyManual, distance = Geodesic\n",
      "Graph already saved with configuration : epsilon = 0.1, sigma = 1, size = TinyLR, distance = Geodesic\n",
      "Graph already saved with configuration : epsilon = 0.1, sigma = 1, size = Experimental, distance = OSRM\n",
      "Graph already saved with configuration : epsilon = 0.1, sigma = 1, size = ExperimentalManual, distance = OSRM\n",
      "Graph already saved with configuration : epsilon = 0.1, sigma = 1, size = ExperimentalLR, distance = OSRM\n",
      "Graph already saved with configuration : epsilon = 0.1, sigma = 1, size = Tiny, distance = OSRM\n",
      "Graph already saved with configuration : epsilon = 0.1, sigma = 1, size = TinyManual, distance = OSRM\n",
      "Graph already saved with configuration : epsilon = 0.1, sigma = 1, size = TinyLR, distance = OSRM\n",
      "Graph already saved with configuration : epsilon = 0.1, sigma = 3, size = Experimental, distance = Geodesic\n",
      "Graph already saved with configuration : epsilon = 0.1, sigma = 3, size = ExperimentalManual, distance = Geodesic\n",
      "Graph already saved with configuration : epsilon = 0.1, sigma = 3, size = ExperimentalLR, distance = Geodesic\n",
      "Graph already saved with configuration : epsilon = 0.1, sigma = 3, size = Tiny, distance = Geodesic\n",
      "Graph already saved with configuration : epsilon = 0.1, sigma = 3, size = TinyManual, distance = Geodesic\n",
      "Graph already saved with configuration : epsilon = 0.1, sigma = 3, size = TinyLR, distance = Geodesic\n",
      "Graph already saved with configuration : epsilon = 0.1, sigma = 3, size = Experimental, distance = OSRM\n",
      "Graph already saved with configuration : epsilon = 0.1, sigma = 3, size = ExperimentalManual, distance = OSRM\n",
      "Graph already saved with configuration : epsilon = 0.1, sigma = 3, size = ExperimentalLR, distance = OSRM\n",
      "Graph already saved with configuration : epsilon = 0.1, sigma = 3, size = Tiny, distance = OSRM\n",
      "Graph already saved with configuration : epsilon = 0.1, sigma = 3, size = TinyManual, distance = OSRM\n",
      "Graph already saved with configuration : epsilon = 0.1, sigma = 3, size = TinyLR, distance = OSRM\n",
      "Graph already saved with configuration : epsilon = 0.1, sigma = 5, size = Experimental, distance = Geodesic\n",
      "Graph already saved with configuration : epsilon = 0.1, sigma = 5, size = ExperimentalManual, distance = Geodesic\n",
      "Graph already saved with configuration : epsilon = 0.1, sigma = 5, size = ExperimentalLR, distance = Geodesic\n",
      "Graph already saved with configuration : epsilon = 0.1, sigma = 5, size = Tiny, distance = Geodesic\n",
      "Graph already saved with configuration : epsilon = 0.1, sigma = 5, size = TinyManual, distance = Geodesic\n",
      "Graph already saved with configuration : epsilon = 0.1, sigma = 5, size = TinyLR, distance = Geodesic\n",
      "Graph already saved with configuration : epsilon = 0.1, sigma = 5, size = Experimental, distance = OSRM\n",
      "Graph already saved with configuration : epsilon = 0.1, sigma = 5, size = ExperimentalManual, distance = OSRM\n",
      "Graph already saved with configuration : epsilon = 0.1, sigma = 5, size = ExperimentalLR, distance = OSRM\n",
      "Graph already saved with configuration : epsilon = 0.1, sigma = 5, size = Tiny, distance = OSRM\n",
      "Graph already saved with configuration : epsilon = 0.1, sigma = 5, size = TinyManual, distance = OSRM\n",
      "Graph already saved with configuration : epsilon = 0.1, sigma = 5, size = TinyLR, distance = OSRM\n",
      "Graph already saved with configuration : epsilon = 0.1, sigma = 10, size = Experimental, distance = Geodesic\n",
      "Graph already saved with configuration : epsilon = 0.1, sigma = 10, size = ExperimentalManual, distance = Geodesic\n",
      "Graph already saved with configuration : epsilon = 0.1, sigma = 10, size = ExperimentalLR, distance = Geodesic\n",
      "Graph already saved with configuration : epsilon = 0.1, sigma = 10, size = Tiny, distance = Geodesic\n",
      "Graph already saved with configuration : epsilon = 0.1, sigma = 10, size = TinyManual, distance = Geodesic\n",
      "Graph already saved with configuration : epsilon = 0.1, sigma = 10, size = TinyLR, distance = Geodesic\n",
      "Graph already saved with configuration : epsilon = 0.1, sigma = 10, size = Experimental, distance = OSRM\n",
      "Graph already saved with configuration : epsilon = 0.1, sigma = 10, size = ExperimentalManual, distance = OSRM\n",
      "Graph already saved with configuration : epsilon = 0.1, sigma = 10, size = ExperimentalLR, distance = OSRM\n",
      "Graph already saved with configuration : epsilon = 0.1, sigma = 10, size = Tiny, distance = OSRM\n",
      "Graph already saved with configuration : epsilon = 0.1, sigma = 10, size = TinyManual, distance = OSRM\n",
      "Graph already saved with configuration : epsilon = 0.1, sigma = 10, size = TinyLR, distance = OSRM\n",
      "Graph already saved with configuration : epsilon = 0.3, sigma = 1, size = Experimental, distance = Geodesic\n",
      "Graph already saved with configuration : epsilon = 0.3, sigma = 1, size = ExperimentalManual, distance = Geodesic\n",
      "Graph already saved with configuration : epsilon = 0.3, sigma = 1, size = ExperimentalLR, distance = Geodesic\n",
      "Graph already saved with configuration : epsilon = 0.3, sigma = 1, size = Tiny, distance = Geodesic\n",
      "Graph already saved with configuration : epsilon = 0.3, sigma = 1, size = TinyManual, distance = Geodesic\n",
      "Graph already saved with configuration : epsilon = 0.3, sigma = 1, size = TinyLR, distance = Geodesic\n",
      "Graph already saved with configuration : epsilon = 0.3, sigma = 1, size = Experimental, distance = OSRM\n",
      "Graph already saved with configuration : epsilon = 0.3, sigma = 1, size = ExperimentalManual, distance = OSRM\n",
      "Graph already saved with configuration : epsilon = 0.3, sigma = 1, size = ExperimentalLR, distance = OSRM\n",
      "Graph already saved with configuration : epsilon = 0.3, sigma = 1, size = Tiny, distance = OSRM\n",
      "Graph already saved with configuration : epsilon = 0.3, sigma = 1, size = TinyManual, distance = OSRM\n",
      "Graph already saved with configuration : epsilon = 0.3, sigma = 1, size = TinyLR, distance = OSRM\n",
      "Graph already saved with configuration : epsilon = 0.3, sigma = 3, size = Experimental, distance = Geodesic\n",
      "Graph already saved with configuration : epsilon = 0.3, sigma = 3, size = ExperimentalManual, distance = Geodesic\n",
      "Graph already saved with configuration : epsilon = 0.3, sigma = 3, size = ExperimentalLR, distance = Geodesic\n",
      "Graph already saved with configuration : epsilon = 0.3, sigma = 3, size = Tiny, distance = Geodesic\n",
      "Graph already saved with configuration : epsilon = 0.3, sigma = 3, size = TinyManual, distance = Geodesic\n",
      "Graph already saved with configuration : epsilon = 0.3, sigma = 3, size = TinyLR, distance = Geodesic\n",
      "Graph already saved with configuration : epsilon = 0.3, sigma = 3, size = Experimental, distance = OSRM\n",
      "Graph already saved with configuration : epsilon = 0.3, sigma = 3, size = ExperimentalManual, distance = OSRM\n",
      "Graph already saved with configuration : epsilon = 0.3, sigma = 3, size = ExperimentalLR, distance = OSRM\n",
      "Graph already saved with configuration : epsilon = 0.3, sigma = 3, size = Tiny, distance = OSRM\n",
      "Graph already saved with configuration : epsilon = 0.3, sigma = 3, size = TinyManual, distance = OSRM\n",
      "Graph already saved with configuration : epsilon = 0.3, sigma = 3, size = TinyLR, distance = OSRM\n",
      "Graph already saved with configuration : epsilon = 0.3, sigma = 5, size = Experimental, distance = Geodesic\n",
      "Graph already saved with configuration : epsilon = 0.3, sigma = 5, size = ExperimentalManual, distance = Geodesic\n",
      "Graph already saved with configuration : epsilon = 0.3, sigma = 5, size = ExperimentalLR, distance = Geodesic\n",
      "Graph already saved with configuration : epsilon = 0.3, sigma = 5, size = Tiny, distance = Geodesic\n",
      "Graph already saved with configuration : epsilon = 0.3, sigma = 5, size = TinyManual, distance = Geodesic\n",
      "Graph already saved with configuration : epsilon = 0.3, sigma = 5, size = TinyLR, distance = Geodesic\n",
      "Graph already saved with configuration : epsilon = 0.3, sigma = 5, size = Experimental, distance = OSRM\n",
      "Graph already saved with configuration : epsilon = 0.3, sigma = 5, size = ExperimentalManual, distance = OSRM\n",
      "Graph already saved with configuration : epsilon = 0.3, sigma = 5, size = ExperimentalLR, distance = OSRM\n",
      "Graph already saved with configuration : epsilon = 0.3, sigma = 5, size = Tiny, distance = OSRM\n",
      "Graph already saved with configuration : epsilon = 0.3, sigma = 5, size = TinyManual, distance = OSRM\n",
      "Graph already saved with configuration : epsilon = 0.3, sigma = 5, size = TinyLR, distance = OSRM\n",
      "Graph already saved with configuration : epsilon = 0.3, sigma = 10, size = Experimental, distance = Geodesic\n",
      "Graph already saved with configuration : epsilon = 0.3, sigma = 10, size = ExperimentalManual, distance = Geodesic\n",
      "Graph already saved with configuration : epsilon = 0.3, sigma = 10, size = ExperimentalLR, distance = Geodesic\n",
      "Graph already saved with configuration : epsilon = 0.3, sigma = 10, size = Tiny, distance = Geodesic\n",
      "Graph already saved with configuration : epsilon = 0.3, sigma = 10, size = TinyManual, distance = Geodesic\n",
      "Graph already saved with configuration : epsilon = 0.3, sigma = 10, size = TinyLR, distance = Geodesic\n",
      "Graph already saved with configuration : epsilon = 0.3, sigma = 10, size = Experimental, distance = OSRM\n",
      "Graph already saved with configuration : epsilon = 0.3, sigma = 10, size = ExperimentalManual, distance = OSRM\n",
      "Graph already saved with configuration : epsilon = 0.3, sigma = 10, size = ExperimentalLR, distance = OSRM\n",
      "Graph already saved with configuration : epsilon = 0.3, sigma = 10, size = Tiny, distance = OSRM\n",
      "Graph already saved with configuration : epsilon = 0.3, sigma = 10, size = TinyManual, distance = OSRM\n",
      "Graph already saved with configuration : epsilon = 0.3, sigma = 10, size = TinyLR, distance = OSRM\n",
      "Graph already saved with configuration : epsilon = 0.5, sigma = 1, size = Experimental, distance = Geodesic\n",
      "Graph already saved with configuration : epsilon = 0.5, sigma = 1, size = ExperimentalManual, distance = Geodesic\n",
      "Graph already saved with configuration : epsilon = 0.5, sigma = 1, size = ExperimentalLR, distance = Geodesic\n",
      "Graph already saved with configuration : epsilon = 0.5, sigma = 1, size = Tiny, distance = Geodesic\n",
      "Graph already saved with configuration : epsilon = 0.5, sigma = 1, size = TinyManual, distance = Geodesic\n",
      "Graph already saved with configuration : epsilon = 0.5, sigma = 1, size = TinyLR, distance = Geodesic\n",
      "Graph already saved with configuration : epsilon = 0.5, sigma = 1, size = Experimental, distance = OSRM\n",
      "Graph already saved with configuration : epsilon = 0.5, sigma = 1, size = ExperimentalManual, distance = OSRM\n",
      "Graph already saved with configuration : epsilon = 0.5, sigma = 1, size = ExperimentalLR, distance = OSRM\n",
      "Graph already saved with configuration : epsilon = 0.5, sigma = 1, size = Tiny, distance = OSRM\n",
      "Graph already saved with configuration : epsilon = 0.5, sigma = 1, size = TinyManual, distance = OSRM\n",
      "Graph already saved with configuration : epsilon = 0.5, sigma = 1, size = TinyLR, distance = OSRM\n",
      "Graph already saved with configuration : epsilon = 0.5, sigma = 3, size = Experimental, distance = Geodesic\n",
      "Graph already saved with configuration : epsilon = 0.5, sigma = 3, size = ExperimentalManual, distance = Geodesic\n",
      "Graph already saved with configuration : epsilon = 0.5, sigma = 3, size = ExperimentalLR, distance = Geodesic\n",
      "Graph already saved with configuration : epsilon = 0.5, sigma = 3, size = Tiny, distance = Geodesic\n",
      "Graph already saved with configuration : epsilon = 0.5, sigma = 3, size = TinyManual, distance = Geodesic\n",
      "Graph already saved with configuration : epsilon = 0.5, sigma = 3, size = TinyLR, distance = Geodesic\n",
      "Graph already saved with configuration : epsilon = 0.5, sigma = 3, size = Experimental, distance = OSRM\n",
      "Graph already saved with configuration : epsilon = 0.5, sigma = 3, size = ExperimentalManual, distance = OSRM\n",
      "Graph already saved with configuration : epsilon = 0.5, sigma = 3, size = ExperimentalLR, distance = OSRM\n",
      "Graph already saved with configuration : epsilon = 0.5, sigma = 3, size = Tiny, distance = OSRM\n",
      "Graph already saved with configuration : epsilon = 0.5, sigma = 3, size = TinyManual, distance = OSRM\n",
      "Graph already saved with configuration : epsilon = 0.5, sigma = 3, size = TinyLR, distance = OSRM\n",
      "Graph already saved with configuration : epsilon = 0.5, sigma = 5, size = Experimental, distance = Geodesic\n",
      "Graph already saved with configuration : epsilon = 0.5, sigma = 5, size = ExperimentalManual, distance = Geodesic\n",
      "Graph already saved with configuration : epsilon = 0.5, sigma = 5, size = ExperimentalLR, distance = Geodesic\n",
      "Graph already saved with configuration : epsilon = 0.5, sigma = 5, size = Tiny, distance = Geodesic\n",
      "Graph already saved with configuration : epsilon = 0.5, sigma = 5, size = TinyManual, distance = Geodesic\n",
      "Graph already saved with configuration : epsilon = 0.5, sigma = 5, size = TinyLR, distance = Geodesic\n",
      "Graph already saved with configuration : epsilon = 0.5, sigma = 5, size = Experimental, distance = OSRM\n",
      "Graph already saved with configuration : epsilon = 0.5, sigma = 5, size = ExperimentalManual, distance = OSRM\n",
      "Graph already saved with configuration : epsilon = 0.5, sigma = 5, size = ExperimentalLR, distance = OSRM\n",
      "Graph already saved with configuration : epsilon = 0.5, sigma = 5, size = Tiny, distance = OSRM\n",
      "Graph already saved with configuration : epsilon = 0.5, sigma = 5, size = TinyManual, distance = OSRM\n",
      "Graph already saved with configuration : epsilon = 0.5, sigma = 5, size = TinyLR, distance = OSRM\n",
      "Graph already saved with configuration : epsilon = 0.5, sigma = 10, size = Experimental, distance = Geodesic\n",
      "Graph already saved with configuration : epsilon = 0.5, sigma = 10, size = ExperimentalManual, distance = Geodesic\n",
      "Graph already saved with configuration : epsilon = 0.5, sigma = 10, size = ExperimentalLR, distance = Geodesic\n",
      "Graph already saved with configuration : epsilon = 0.5, sigma = 10, size = Tiny, distance = Geodesic\n",
      "Graph already saved with configuration : epsilon = 0.5, sigma = 10, size = TinyManual, distance = Geodesic\n",
      "Graph already saved with configuration : epsilon = 0.5, sigma = 10, size = TinyLR, distance = Geodesic\n",
      "Graph already saved with configuration : epsilon = 0.5, sigma = 10, size = Experimental, distance = OSRM\n",
      "Graph already saved with configuration : epsilon = 0.5, sigma = 10, size = ExperimentalManual, distance = OSRM\n",
      "Graph already saved with configuration : epsilon = 0.5, sigma = 10, size = ExperimentalLR, distance = OSRM\n",
      "Graph already saved with configuration : epsilon = 0.5, sigma = 10, size = Tiny, distance = OSRM\n",
      "Graph already saved with configuration : epsilon = 0.5, sigma = 10, size = TinyManual, distance = OSRM\n",
      "Graph already saved with configuration : epsilon = 0.5, sigma = 10, size = TinyLR, distance = OSRM\n",
      "Graph already saved with configuration : epsilon = 0.7, sigma = 1, size = Experimental, distance = Geodesic\n",
      "Graph already saved with configuration : epsilon = 0.7, sigma = 1, size = ExperimentalManual, distance = Geodesic\n",
      "Graph already saved with configuration : epsilon = 0.7, sigma = 1, size = ExperimentalLR, distance = Geodesic\n",
      "Graph already saved with configuration : epsilon = 0.7, sigma = 1, size = Tiny, distance = Geodesic\n",
      "Graph already saved with configuration : epsilon = 0.7, sigma = 1, size = TinyManual, distance = Geodesic\n",
      "Graph already saved with configuration : epsilon = 0.7, sigma = 1, size = TinyLR, distance = Geodesic\n",
      "Graph already saved with configuration : epsilon = 0.7, sigma = 1, size = Experimental, distance = OSRM\n",
      "Graph already saved with configuration : epsilon = 0.7, sigma = 1, size = ExperimentalManual, distance = OSRM\n",
      "Graph already saved with configuration : epsilon = 0.7, sigma = 1, size = ExperimentalLR, distance = OSRM\n",
      "Graph already saved with configuration : epsilon = 0.7, sigma = 1, size = Tiny, distance = OSRM\n",
      "Graph already saved with configuration : epsilon = 0.7, sigma = 1, size = TinyManual, distance = OSRM\n",
      "Graph already saved with configuration : epsilon = 0.7, sigma = 1, size = TinyLR, distance = OSRM\n",
      "Graph already saved with configuration : epsilon = 0.7, sigma = 3, size = Experimental, distance = Geodesic\n",
      "Graph already saved with configuration : epsilon = 0.7, sigma = 3, size = ExperimentalManual, distance = Geodesic\n",
      "Graph already saved with configuration : epsilon = 0.7, sigma = 3, size = ExperimentalLR, distance = Geodesic\n",
      "Graph already saved with configuration : epsilon = 0.7, sigma = 3, size = Tiny, distance = Geodesic\n",
      "Graph already saved with configuration : epsilon = 0.7, sigma = 3, size = TinyManual, distance = Geodesic\n",
      "Graph already saved with configuration : epsilon = 0.7, sigma = 3, size = TinyLR, distance = Geodesic\n",
      "Graph already saved with configuration : epsilon = 0.7, sigma = 3, size = Experimental, distance = OSRM\n",
      "Graph already saved with configuration : epsilon = 0.7, sigma = 3, size = ExperimentalManual, distance = OSRM\n",
      "Graph already saved with configuration : epsilon = 0.7, sigma = 3, size = ExperimentalLR, distance = OSRM\n",
      "Graph already saved with configuration : epsilon = 0.7, sigma = 3, size = Tiny, distance = OSRM\n",
      "Graph already saved with configuration : epsilon = 0.7, sigma = 3, size = TinyManual, distance = OSRM\n",
      "Graph already saved with configuration : epsilon = 0.7, sigma = 3, size = TinyLR, distance = OSRM\n",
      "Graph already saved with configuration : epsilon = 0.7, sigma = 5, size = Experimental, distance = Geodesic\n",
      "Graph already saved with configuration : epsilon = 0.7, sigma = 5, size = ExperimentalManual, distance = Geodesic\n",
      "Graph already saved with configuration : epsilon = 0.7, sigma = 5, size = ExperimentalLR, distance = Geodesic\n",
      "Graph already saved with configuration : epsilon = 0.7, sigma = 5, size = Tiny, distance = Geodesic\n",
      "Graph already saved with configuration : epsilon = 0.7, sigma = 5, size = TinyManual, distance = Geodesic\n",
      "Graph already saved with configuration : epsilon = 0.7, sigma = 5, size = TinyLR, distance = Geodesic\n",
      "Graph already saved with configuration : epsilon = 0.7, sigma = 5, size = Experimental, distance = OSRM\n",
      "Graph already saved with configuration : epsilon = 0.7, sigma = 5, size = ExperimentalManual, distance = OSRM\n",
      "Graph already saved with configuration : epsilon = 0.7, sigma = 5, size = ExperimentalLR, distance = OSRM\n",
      "Graph already saved with configuration : epsilon = 0.7, sigma = 5, size = Tiny, distance = OSRM\n",
      "Graph already saved with configuration : epsilon = 0.7, sigma = 5, size = TinyManual, distance = OSRM\n",
      "Graph already saved with configuration : epsilon = 0.7, sigma = 5, size = TinyLR, distance = OSRM\n",
      "Graph already saved with configuration : epsilon = 0.7, sigma = 10, size = Experimental, distance = Geodesic\n",
      "Graph already saved with configuration : epsilon = 0.7, sigma = 10, size = ExperimentalManual, distance = Geodesic\n",
      "Graph already saved with configuration : epsilon = 0.7, sigma = 10, size = ExperimentalLR, distance = Geodesic\n",
      "Graph already saved with configuration : epsilon = 0.7, sigma = 10, size = Tiny, distance = Geodesic\n",
      "Graph already saved with configuration : epsilon = 0.7, sigma = 10, size = TinyManual, distance = Geodesic\n",
      "Graph already saved with configuration : epsilon = 0.7, sigma = 10, size = TinyLR, distance = Geodesic\n",
      "Graph already saved with configuration : epsilon = 0.7, sigma = 10, size = Experimental, distance = OSRM\n",
      "Graph already saved with configuration : epsilon = 0.7, sigma = 10, size = ExperimentalManual, distance = OSRM\n",
      "Graph already saved with configuration : epsilon = 0.7, sigma = 10, size = ExperimentalLR, distance = OSRM\n",
      "Graph already saved with configuration : epsilon = 0.7, sigma = 10, size = Tiny, distance = OSRM\n",
      "Graph already saved with configuration : epsilon = 0.7, sigma = 10, size = TinyManual, distance = OSRM\n",
      "Graph already saved with configuration : epsilon = 0.7, sigma = 10, size = TinyLR, distance = OSRM\n"
     ]
    }
   ],
   "source": [
    "for epsilon in EPSILON_ARRAY:\n",
    "    for sigma in SIGMA_ARRAY:\n",
    "        for distanceType in DistanceType:\n",
    "            for dataset in Dataset:\n",
    "                Graph_save_graph(nodes_location, epsilon, sigma, dataset, distanceType, path_processed_data,\n",
    "                    edge_index_Experimental_manual,edge_index_Tiny_manual,path_distances,Y_data) "
   ]
  },
  {
   "cell_type": "code",
   "execution_count": 41,
   "metadata": {},
   "outputs": [],
   "source": [
    "def arrange_data(data, num_nodes):\n",
    "    r\"\"\"\n",
    "        Function to arrange data. At a point it represents the temporal \n",
    "        state of the graph\n",
    "    \"\"\"\n",
    "    New_Data = []\n",
    "    for i in range((int)(len(data) / num_nodes)):\n",
    "        Data = []\n",
    "        for k in range(num_nodes):\n",
    "            Data.append(data[(i * num_nodes) + k])\n",
    "        New_Data.append(Data)\n",
    "    return New_Data"
   ]
  },
  {
   "cell_type": "code",
   "execution_count": 42,
   "metadata": {},
   "outputs": [],
   "source": [
    "def get_clean_data_by_nodes(dataset,nodes_location,X,Y):\n",
    "    r\"\"\"\n",
    "        Returns data for a specific datasize.\n",
    "        Instance Function.\n",
    "        Args:\n",
    "            size : DatasetSize\n",
    "        Returns a tuple of 2 lists with the Data and Labels\n",
    "    \"\"\"\n",
    "\n",
    "    new_X = []\n",
    "    new_Y = []\n",
    "    nodes_index = 0\n",
    "    nodes_ids = Graph_get_nodes_for_dataset(dataset)\n",
    "    for _, tuple in enumerate(zip(X, Y)):\n",
    "        if int(nodes_location[nodes_index][0]) in nodes_ids:\n",
    "            new_X.append(tuple[0])\n",
    "            new_Y.append([tuple[1]])\n",
    "        nodes_index += 1\n",
    "        if nodes_index == len(nodes_location):\n",
    "            nodes_index = 0\n",
    "    return new_X, new_Y"
   ]
  },
  {
   "cell_type": "code",
   "execution_count": 43,
   "metadata": {},
   "outputs": [],
   "source": [
    "def save_data_for_train_LSTM(dataset,path_processed_data,nodes_location, X_data, Y_data):\n",
    "    print(f\"Saving data with configuration : size = {dataset.name}\")\n",
    "\n",
    "    X_all, Y_all = get_clean_data_by_nodes(dataset,nodes_location, X_data, Y_data)\n",
    "\n",
    "    num_nodes = Graph_get_number_of_nodes_for_dataset(dataset)\n",
    "\n",
    "    X_all = arrange_data(X_all, num_nodes)\n",
    "    Y_all = arrange_data(Y_all, num_nodes)\n",
    "\n",
    "    proccessed_data_path_model = os.path.join(path_processed_data,\"LSTM\")\n",
    "    if not os.path.exists(proccessed_data_path_model):\n",
    "        os.makedirs(proccessed_data_path_model)\n",
    "\n",
    "    name_folder = os.path.join(proccessed_data_path_model,f'Data_{dataset.name}')\n",
    "    if not os.path.exists(name_folder):\n",
    "        os.makedirs(name_folder)\n",
    "\n",
    "    for index, data in enumerate(X_all):\n",
    "        name_x = os.path.join(name_folder, f'X_{index}.npy')\n",
    "        if not os.path.exists(name_x):\n",
    "            np.save(name_x, data)\n",
    "\n",
    "    for index, data in enumerate(Y_all):\n",
    "        name_y = os.path.join(name_folder, f'Y_{index}.npy')\n",
    "        if not os.path.exists(name_y):\n",
    "            np.save(name_y, data)"
   ]
  },
  {
   "cell_type": "code",
   "execution_count": 44,
   "metadata": {},
   "outputs": [],
   "source": [
    "def save_proccess_data_STCONV(dataset,nb_days,path_processed_data,nodes_location, X_data, Y_data):\n",
    "    batch_size = 8\n",
    "    time_steps = 1\n",
    "    interval_per_day = (int)(24 * 60 / 5)\n",
    "\n",
    "    print(f\"Saving data with configuration : size = {dataset.name}\")\n",
    "\n",
    "    Skip = (int)(time_steps / 2) * 2\n",
    "    interval_per_day -= Skip\n",
    "\n",
    "    X_all, Y_all = get_clean_data_by_nodes(dataset,nodes_location, X_data, Y_data)\n",
    "    num_nodes = Graph_get_number_of_nodes_for_dataset(dataset)\n",
    "\n",
    "    data_size_old = len(X_all)\n",
    "\n",
    "    X_all = arrange_data(X_all, num_nodes)\n",
    "    Y_all = arrange_data(Y_all, num_nodes)\n",
    "\n",
    "    new_size = (int)(interval_per_day * nb_days / batch_size)\n",
    "    data_size = len(X_all)\n",
    "    if new_size * batch_size != data_size:\n",
    "        difference = data_size - ((new_size - 1) * batch_size)\n",
    "        X_all = X_all[:data_size - difference]\n",
    "        Y_all = Y_all[:data_size - difference]\n",
    "        new_size -= 1\n",
    "    X_all = np.array(X_all).reshape(new_size, batch_size, time_steps, num_nodes,\n",
    "                            2)\n",
    "    Y_all = np.array(Y_all).reshape(new_size, batch_size, time_steps, num_nodes,\n",
    "                            1)\n",
    "\n",
    "    proccessed_data_path_model = os.path.join(path_processed_data,\"STCONV\")\n",
    "    if not os.path.exists(proccessed_data_path_model):\n",
    "        os.makedirs(proccessed_data_path_model)\n",
    "\n",
    "    name_folder = os.path.join(proccessed_data_path_model,f'Data_{dataset.name}')\n",
    "    if not os.path.exists(name_folder):\n",
    "        os.makedirs(name_folder)\n",
    "\n",
    "    for index, data in enumerate(X_all):\n",
    "        name_x = os.path.join(name_folder, f'X_{index}.npy')\n",
    "        if not os.path.exists(name_x):\n",
    "            np.save(name_x, data)\n",
    "\n",
    "    for index, data in enumerate(Y_all):\n",
    "        name_y = os.path.join(name_folder, f'Y_{index}.npy')\n",
    "        if not os.path.exists(name_y):\n",
    "            np.save(name_y, data)"
   ]
  },
  {
   "cell_type": "code",
   "execution_count": 45,
   "metadata": {},
   "outputs": [
    {
     "name": "stdout",
     "output_type": "stream",
     "text": [
      "Saving data with configuration : size = Experimental\n",
      "Saving data with configuration : size = Experimental\n",
      "Saving data with configuration : size = Tiny\n",
      "Saving data with configuration : size = Tiny\n"
     ]
    }
   ],
   "source": [
    "for dataset in [Dataset.Experimental,Dataset.Tiny]:\n",
    "    save_proccess_data_STCONV(dataset,nb_days,path_processed_data,nodes_location,X_data,Y_data)\n",
    "    save_data_for_train_LSTM(dataset,path_processed_data,nodes_location,X_data,Y_data)"
   ]
  },
  {
   "cell_type": "markdown",
   "metadata": {},
   "source": [
    "Enumeration used for the folders name in which the processed data will be saved"
   ]
  },
  {
   "cell_type": "code",
   "execution_count": 46,
   "metadata": {},
   "outputs": [],
   "source": [
    "class FoldersProcesedNames(Enum):\n",
    "    STCONV = 0\n",
    "    LSTM = 1\n",
    "    EdgeWeight = 2\n",
    "    EdgeIndex = 3\n",
    "    Distances = 4"
   ]
  },
  {
   "cell_type": "markdown",
   "metadata": {},
   "source": [
    "Function which will return true if the folders created after data processing exists"
   ]
  },
  {
   "cell_type": "code",
   "execution_count": 47,
   "metadata": {},
   "outputs": [],
   "source": [
    "def Datareader_is_data_read(path_processed_data : str,folders_procesed_names : FoldersProcesedNames):\n",
    "    for folder_name in folders_procesed_names:\n",
    "        is_read_folder = os.path.isdir(os.path.join(path_processed_data, str(folder_name.name)))\n",
    "        if not is_read_folder:\n",
    "            return False\n",
    "    return True"
   ]
  },
  {
   "cell_type": "code",
   "execution_count": 48,
   "metadata": {},
   "outputs": [
    {
     "name": "stdout",
     "output_type": "stream",
     "text": [
      "Data is read and stored: True\n"
     ]
    }
   ],
   "source": [
    "print(f'Data is read and stored: {Datareader_is_data_read(path_processed_data,FoldersProcesedNames)}')"
   ]
  },
  {
   "cell_type": "code",
   "execution_count": 49,
   "metadata": {},
   "outputs": [],
   "source": [
    "class ModelType(Enum):\n",
    "    r\"\"\"\n",
    "        Enumeration for each model type.\n",
    "            LSTM = 0\n",
    "            STCONV = 1\n",
    "            LinearRegression = 2\n",
    "    \"\"\"\n",
    "    LSTM = 0\n",
    "    DCRNN = 1\n",
    "    STCONV = 2"
   ]
  },
  {
   "cell_type": "code",
   "execution_count": 50,
   "metadata": {},
   "outputs": [],
   "source": [
    "\n",
    "class LossFunction():\n",
    "\n",
    "    def Criterions():\n",
    "        return [\n",
    "            LossFunction.RMSE, LossFunction.MAPE, LossFunction.MAE,\n",
    "            LossFunction.MSE\n",
    "        ]\n",
    "\n",
    "    def RMSE(y_pred, y_true):\n",
    "        return torch.sqrt(torch.mean((y_pred - y_true)**2))\n",
    "\n",
    "    def MAPE(y_pred, y_true):\n",
    "        return torch.mean(torch.abs((y_true - y_pred) / y_true))\n",
    "\n",
    "    def MAE(y_pred, y_true):\n",
    "        return torch.mean(torch.abs((y_true - y_pred)))\n",
    "\n",
    "    def MSE(y_pred, y_true):\n",
    "        return torch.mean((y_true - y_pred)**2)\n",
    "\n",
    "    #endregion"
   ]
  },
  {
   "cell_type": "code",
   "execution_count": 51,
   "metadata": {},
   "outputs": [],
   "source": [
    "class STConvModel(Module):\n",
    "\n",
    "    def __init__(self, node_features, num_nodes, hidden_channels, kernel_size,\n",
    "                 ):\n",
    "        super(STConvModel, self).__init__()\n",
    "\n",
    "        self.STCONV = STConv(num_nodes=num_nodes,\n",
    "                             in_channels=node_features,\n",
    "                             hidden_channels=hidden_channels,\n",
    "                             out_channels=node_features,\n",
    "                             kernel_size=kernel_size,\n",
    "                             K=1)\n",
    "        self.linear = Linear(node_features, 1)\n",
    "        self.ReLU = ReLU()\n",
    "\n",
    "    def forward(self, x, edge_index, edge_weight):\n",
    "        x = self.STCONV(x, edge_index, edge_weight)\n",
    "        x = self.ReLU(x)\n",
    "        x = self.STCONV(x, edge_index, edge_weight)\n",
    "        x = self.ReLU(x)\n",
    "        x = self.STCONV(x, edge_index, edge_weight)\n",
    "        x = self.ReLU(x)\n",
    "        x = self.linear(x)\n",
    "        return x"
   ]
  },
  {
   "cell_type": "code",
   "execution_count": 52,
   "metadata": {},
   "outputs": [],
   "source": [
    "\n",
    "class DCRNNModel(Module):\n",
    "\n",
    "    def __init__(self, node_features, hidden_channels):\n",
    "        super(DCRNNModel, self).__init__()\n",
    "\n",
    "        self.DCRNN = DCRNN(in_channels=node_features,\n",
    "                           out_channels=hidden_channels,\n",
    "                           K=1)\n",
    "        self.Conv1 = GCNConv(in_channels=hidden_channels,\n",
    "                             out_channels=hidden_channels)\n",
    "        self.BatchNorm1 = BatchNorm1d(num_features=hidden_channels)\n",
    "        self.ReLU = ReLU()\n",
    "        self.Dropout = Dropout()\n",
    "        self.linear = Linear(hidden_channels, 1)\n",
    "\n",
    "    def forward(self, x, edge_index, edge_weight):\n",
    "        x = self.DCRNN(x, edge_index, edge_weight)\n",
    "        x = self.Conv1(x, edge_index)\n",
    "        x = self.ReLU(x)\n",
    "        x = self.BatchNorm1(x)\n",
    "        x = self.Dropout(x)\n",
    "        x = self.linear(x)\n",
    "        return x"
   ]
  },
  {
   "cell_type": "code",
   "execution_count": 53,
   "metadata": {},
   "outputs": [],
   "source": [
    "\n",
    "class LSTMModel(Module):\n",
    "\n",
    "    def __init__(self, node_features, hidden_channels):\n",
    "        super(LSTMModel, self).__init__()\n",
    "\n",
    "        self.GCLSTM1 = GCLSTM(in_channels=node_features,\n",
    "                              out_channels=hidden_channels,\n",
    "                              K=1)\n",
    "        self.Conv1 = GCNConv(in_channels=hidden_channels,\n",
    "                             out_channels=hidden_channels)\n",
    "        self.BatchNorm1 = BatchNorm1d(num_features=hidden_channels)\n",
    "        self.ReLU = ReLU()\n",
    "        self.Dropout = Dropout()\n",
    "        self.linear = Linear(hidden_channels, 1)\n",
    "\n",
    "    def forward(self, x, edge_index, edge_weight):\n",
    "        x = self.GCLSTM1(x, edge_index, edge_weight)\n",
    "        x = self.Conv1(x[0], edge_index)\n",
    "        x = self.ReLU(x)\n",
    "        x = self.BatchNorm1(x)\n",
    "        x = self.Dropout(x)\n",
    "        x = self.linear(x)\n",
    "        return x"
   ]
  },
  {
   "cell_type": "code",
   "execution_count": 54,
   "metadata": {},
   "outputs": [],
   "source": [
    "class DatasetHelper():\n",
    "    def __init__(self,\n",
    "                 sigma: int,\n",
    "                 epsilon: float,\n",
    "                 size: DatasetSize,\n",
    "                 distanceType: DistanceType,\n",
    "                 proccessed_data_path,\n",
    "                 folder_name,\n",
    "                 device: str = 'cpu',\n",
    "                 time_start: int = 0,\n",
    "                 time_stop: float = -1):\n",
    "                 \n",
    "        self.proccessed_data_path = proccessed_data_path\n",
    "        self.sigma = sigma\n",
    "        self.epsilon = epsilon\n",
    "        self.time_start = time_start\n",
    "        self.time_stop = time_stop\n",
    "        self.device = device\n",
    "        self.dataset = dataset\n",
    "        self.folder_name = folder_name\n",
    "        self.distanceType = distanceType\n",
    "        self.proccessed_data_path_model = os.path.join(self.proccessed_data_path, self.folder_name.name)\n",
    "        self.__set_graph()\n",
    "        self.__check_temporal_consistency()\n",
    "        self.__set_snapshot_count()\n",
    "\n",
    "    def __set_graph(self):\n",
    "        name_weight = os.path.join(\n",
    "            self.proccessed_data_path, 'EdgeWeight',\n",
    "            f'weight_{self.distanceType.name}_{self.epsilon}_{self.sigma}_{self.dataset.name}.npy')\n",
    "        self.edge_weight = np.load(name_weight, allow_pickle=True)\n",
    "\n",
    "        name_index = os.path.join(\n",
    "            self.proccessed_data_path, 'EdgeIndex',\n",
    "            f'index_{self.distanceType.name}_{self.epsilon}_{self.sigma}_{self.dataset.name}.npy')\n",
    "        self.edge_index = np.load(name_index, allow_pickle=True)\n",
    "\n",
    "    def get_edge_index(self):\n",
    "        if self.edge_index is None:\n",
    "            return self.edge_index\n",
    "        else:\n",
    "            return torch.LongTensor(self.edge_index).to(self.device)\n",
    "\n",
    "    def get_edge_weight(self):\n",
    "        if self.edge_weight is None:\n",
    "            return self.edge_weight\n",
    "        else:\n",
    "            return torch.FloatTensor(self.edge_weight).to(self.device)\n",
    "\n",
    "    def __get_features(self, time_index: int):\n",
    "        if (self.dataset in [Dataset.TinyManual, Dataset.TinyLR]):\n",
    "            dataset = DatasetSize.Tiny\n",
    "        elif (self.dataset in [Dataset.ExperimentalManual, Dataset.ExperimentalLR]):\n",
    "            dataset = DatasetSize.Tiny\n",
    "        else:\n",
    "            dataset = self.dataset\n",
    "        name_x = os.path.join(self.proccessed_data_path_model,\n",
    "                              f\"Data_{dataset.name}\", f'X_{time_index}.npy')\n",
    "        X = np.load(name_x)\n",
    "        if X is None:\n",
    "            return X\n",
    "        else:\n",
    "            return torch.FloatTensor(X).to(self.device)\n",
    "\n",
    "    def __get_target(self, time_index: int):\n",
    "        if (self.dataset in [Dataset.TinyManual, Dataset.TinyLR]):\n",
    "            dataset = DatasetSize.Tiny\n",
    "        elif (self.dataset in [Dataset.ExperimentalManual, Dataset.ExperimentalLR]):\n",
    "            dataset = DatasetSize.Tiny\n",
    "        else:\n",
    "            dataset = self.dataset\n",
    "        name_y = os.path.join(self.proccessed_data_path_model,\n",
    "                              f\"Data_{dataset.name}\", f'Y_{time_index}.npy')\n",
    "        Y = np.load(name_y)\n",
    "        if Y is None:\n",
    "            return Y\n",
    "        else:\n",
    "            if Y.dtype.kind == 'i':\n",
    "                return torch.LongTensor(Y).to(self.device)\n",
    "            elif Y.dtype.kind == 'f':\n",
    "                return torch.FloatTensor(Y).to(self.device)\n",
    "\n",
    "    def __getitem__(self, time_index: int):\n",
    "        x = self.__get_features(time_index)\n",
    "        y = self.__get_target(time_index)\n",
    "        return x, y\n",
    "\n",
    "    def __next__(self):\n",
    "        if self.t < self.time_stop:\n",
    "            snapshot = self.__getitem__(self.t)\n",
    "            self.t = self.t + 1\n",
    "            return snapshot\n",
    "        else:\n",
    "            self.t = self.time_start\n",
    "            raise StopIteration\n",
    "\n",
    "    def __iter__(self):\n",
    "        self.t = self.time_start\n",
    "        return self\n",
    "\n",
    "    def __len__(self):\n",
    "        return self.snapshot_count\n",
    "\n",
    "    def __set_snapshot_count(self):\n",
    "        if (self.dataset in [Dataset.TinyManual, Dataset.TinyLR]):\n",
    "            dataset = DatasetSize.Tiny\n",
    "        elif (self.dataset in [Dataset.ExperimentalManual, Dataset.ExperimentalLR]):\n",
    "            dataset = DatasetSize.Tiny\n",
    "        else:\n",
    "            dataset = self.dataset\n",
    "        self.snapshot_count = len(\n",
    "            glob( os.path.join(self.proccessed_data_path_model, f\"Data_{dataset.name}\", \"X_*.npy\")))\n",
    "    \n",
    "    def __check_temporal_consistency(self):\n",
    "        assert len(\n",
    "            glob( os.path.join(self.proccessed_data_path_model, f\"Data_{dataset.name}\", \"X_*.npy\"))) == len(\n",
    "            glob( os.path.join(self.proccessed_data_path_model, f\"Data_{dataset.name}\", \"Y_*.npy\"))), \"Temporal dimension inconsistency.\"\n",
    "    \n",
    "    def get_dataset(self):\n",
    "        train_ratio = 0.6\n",
    "        val_ratio= 0.2\n",
    "        test_ratio= 0.2\n",
    "\n",
    "        time_train = int(train_ratio * self.snapshot_count)\n",
    "        time_test = time_train + int(test_ratio * self.snapshot_count)\n",
    "\n",
    "        train_iterator = DatasetHelper(self.sigma, self.epsilon, self.dataset,\n",
    "                                       self.distanceType, self.proccessed_data_path, self.folder_name,\n",
    "                                       self.device, 0, time_train)\n",
    "\n",
    "        test_iterator = DatasetHelper(self.sigma, self.epsilon, self.dataset,\n",
    "                                      self.distanceType,  self.proccessed_data_path, self.folder_name,\n",
    "                                      self.device, time_train + 1, time_test)\n",
    "\n",
    "        val_iterator = DatasetHelper(self.sigma, self.epsilon, self.dataset,\n",
    "                                     self.distanceType,  self.proccessed_data_path, self.folder_name,\n",
    "                                     self.device, time_test + 1,\n",
    "                                     self.snapshot_count)\n",
    "\n",
    "        return train_iterator, test_iterator, val_iterator"
   ]
  },
  {
   "cell_type": "code",
   "execution_count": 55,
   "metadata": {},
   "outputs": [],
   "source": [
    "def test(best_model, dfResults, epoch, test_dataset,model_type) -> None:\n",
    "    best_model.eval()\n",
    "    loss = 0\n",
    "    dataloader = DataLoader(test_dataset,\n",
    "                            batch_size=1,\n",
    "                            shuffle=False,\n",
    "                            num_workers=0)\n",
    "    edge_index = test_dataset.get_edge_index()\n",
    "    edge_weight = test_dataset.get_edge_weight()\n",
    "    MAE_loss = 0\n",
    "    for criterion in LossFunction.Criterions():\n",
    "        loss = 0\n",
    "        for index, (x, y) in enumerate(dataloader):\n",
    "            X = x[0]\n",
    "            Y = y[0]\n",
    "            y_hat = best_model(X, edge_index, edge_weight)\n",
    "            loss += criterion(y_hat, Y)\n",
    "            if criterion == LossFunction.MAE:\n",
    "                MAE_loss += criterion(y_hat, Y)\n",
    "\n",
    "        loss = loss / (index + 1)\n",
    "        loss = loss.item()\n",
    "\n",
    "        results = {\n",
    "            \"Model\": str(model_type.name),\n",
    "            \"Epsilon\": str(epsilon),\n",
    "            \"Sigma\": str(sigma),\n",
    "            \"Dataset\": str(dataset.name),\n",
    "            \"Criterion\": str(criterion.__name__),\n",
    "            \"Loss\": str(loss),\n",
    "            \"Epoch\": str(epoch),\n",
    "            \"TestOrVal\": \"Test\",\n",
    "            \"Trial\": tune.get_trial_id()\n",
    "        }\n",
    "        dfResults = dfResults.append(results, ignore_index=True)\n",
    "\n",
    "        if criterion == LossFunction.MAE:\n",
    "            MAE_loss = MAE_loss / (index + 1)\n",
    "            MAE_loss = MAE_loss.item()\n",
    "\n",
    "    print(\"Best trial test set loss: {}\".format(MAE_loss))\n",
    "    return dfResults\n"
   ]
  },
  {
   "cell_type": "code",
   "execution_count": 56,
   "metadata": {},
   "outputs": [],
   "source": [
    "def validate(dfResults, epoch,validation_dataset,model,model_type,dataset):\n",
    "    model.eval()\n",
    "    loss = 0\n",
    "    dataloader = DataLoader(validation_dataset,\n",
    "                            batch_size=1,\n",
    "                            shuffle=False,\n",
    "                            num_workers=0)\n",
    "    edge_index = validation_dataset.get_edge_index()\n",
    "    edge_weight = validation_dataset.get_edge_weight()\n",
    "    MAE_loss = 0\n",
    "    for criterion in LossFunction.Criterions():\n",
    "        loss = 0\n",
    "        for index, (x, y) in enumerate(dataloader):\n",
    "            X = x[0]\n",
    "            Y = y[0]\n",
    "            y_hat = model(X, edge_index, edge_weight)\n",
    "            loss += criterion(y_hat, Y)\n",
    "            if criterion == LossFunction.MAE:\n",
    "                MAE_loss += criterion(y_hat, Y)\n",
    "\n",
    "        loss = loss / (index + 1)\n",
    "        loss = loss.item()\n",
    "\n",
    "        results = {\n",
    "            \"Model\": str(model_type.name),\n",
    "            \"Epsilon\": str(epsilon),\n",
    "            \"Sigma\": str(sigma),\n",
    "            \"Dataset\": str(dataset.name),\n",
    "            \"Criterion\": str(criterion.__name__),\n",
    "            \"Loss\": str(loss),\n",
    "            \"Epoch\": str(epoch),\n",
    "            \"TestOrVal\": \"Validation\",\n",
    "            \"Trial\": tune.get_trial_id()\n",
    "        }\n",
    "        dfResults = dfResults.append(results, ignore_index=True)\n",
    "\n",
    "        if criterion == LossFunction.MAE:\n",
    "            MAE_loss = MAE_loss / (index + 1)\n",
    "            MAE_loss = MAE_loss.item()\n",
    "\n",
    "    return MAE_loss, dfResults"
   ]
  },
  {
   "cell_type": "code",
   "execution_count": 57,
   "metadata": {},
   "outputs": [],
   "source": [
    "def train_validate_and_test(experiment_name,model,model_type,optimizer,scheduler,\n",
    "    EarlyStoppingPatience,train_dataset,validation_dataset,test_dataset,nb_epoch,results_path):\n",
    "    dfResults = pd.DataFrame(columns=[\n",
    "        \"Model\", \"Epsilon\", \"Sigma\", \"Dataset\", \"Criterion\", \"Loss\", \"Epoch\", \"Trial\", \"TestOrVal\"\n",
    "    ])\n",
    "    train_model = model\n",
    "    train_model.train()\n",
    "    best_val_loss = np.inf\n",
    "    val_model = model\n",
    "    epoch_no_improvement = EarlyStoppingPatience\n",
    "    dataloader = DataLoader(train_dataset,\n",
    "                            batch_size=1,\n",
    "                            shuffle=False,\n",
    "                            num_workers=0)\n",
    "    edge_index = train_dataset.get_edge_index()\n",
    "    edge_weight = train_dataset.get_edge_weight()\n",
    "    for epoch in tqdm(range(nb_epoch)):\n",
    "        train_loss = 0\n",
    "        for index, (x, y) in enumerate(dataloader):\n",
    "            X = x[0]\n",
    "            Y = y[0]\n",
    "            y_hat = train_model(X, edge_index, edge_weight)\n",
    "            loss = LossFunction.MAE(y_hat, Y)\n",
    "            train_loss += loss\n",
    "            loss.backward()\n",
    "            optimizer.step()\n",
    "            optimizer.zero_grad()\n",
    "\n",
    "        # Validation Step at epoch end\n",
    "        val_loss, dfResults = validate(dfResults, epoch,validation_dataset,model,model_type,dataset)\n",
    "        if val_loss < best_val_loss:\n",
    "            val_model = copy.deepcopy(model)\n",
    "            best_val_loss = val_loss\n",
    "            epoch_no_improvement = EarlyStoppingPatience\n",
    "        else:\n",
    "            epoch_no_improvement -= 1\n",
    "\n",
    "        if epoch_no_improvement == 0:\n",
    "            print(\"Early stopping at epoch: {0}\".format(epoch))\n",
    "            dfResults = test(val_model, dfResults, epoch, test_dataset,model_type)\n",
    "            if not os.path.exists(\n",
    "                    os.path.join(results_path, experiment_name)):\n",
    "                os.makedirs(\n",
    "                    os.path.join(results_path, experiment_name))\n",
    "            file_save = os.path.join( results_path, experiment_name,\n",
    "                f\"{model_type.name}_{dataset.name}_{distanceType.name}_{tune.get_trial_id()}.csv\")\n",
    "            dfResults.to_csv(path_or_buf=file_save, index=False)\n",
    "            break\n",
    "\n",
    "        train_loss = train_loss / (index + 1)\n",
    "        scheduler.step(train_loss)\n",
    "        print(\"Epoch {0} : Validation loss {1} ; Train loss {2};\".format(\n",
    "            epoch, val_loss, train_loss))\n",
    "\n",
    "        # test step if this is the last epoch\n",
    "        # Save dataframe results\n",
    "        if epoch == nb_epoch - 1:\n",
    "            dfResults = test(val_model, dfResults, epoch, test_dataset,model_type)\n",
    "            if not os.path.exists(\n",
    "                    os.path.join(results_path, experiment_name)):\n",
    "                os.makedirs(\n",
    "                    os.path.join(results_path, experiment_name))\n",
    "            file_save = os.path.join(\n",
    "                results_path, experiment_name,\n",
    "                f\"{model_type.name}_{dataset.name}_{distanceType.name}_{tune.get_trial_id()}.csv\")\n",
    "            dfResults.to_csv(path_or_buf=file_save, index=False)\n",
    "\n",
    "        # Log to tune\n",
    "        with tune.checkpoint_dir(step=epoch) as checkpoint_dir:\n",
    "            path = os.path.join(checkpoint_dir, \"checkpoint\")\n",
    "            torch.save(\n",
    "                (val_model.state_dict(), optimizer.state_dict()),\n",
    "                path)\n",
    "\n",
    "        tune.report(loss=val_loss)\n",
    "    return"
   ]
  },
  {
   "cell_type": "code",
   "execution_count": 58,
   "metadata": {},
   "outputs": [],
   "source": [
    "def start_train(config, param, checkpoint_dir=None) -> None:\n",
    "    folder_name = config[\"modelType\"]\n",
    "    if config[\"modelType\"] == ModelType.DCRNN:\n",
    "        folder_name = ModelType.LSTM.name\n",
    "\n",
    "    train_dataset, validation_dataset, test_dataset = DatasetHelper(\n",
    "                config[\"sigma\"],\n",
    "                config[\"epsilon\"],\n",
    "                config[\"dataset\"],\n",
    "                param[\"distanceType\"],\n",
    "                param[\"proccessed_data_path\"],\n",
    "                folder_name).get_dataset()\n",
    "    if config[\"modelType\"] == ModelType.STCONV:\n",
    "        model = STConvModel(node_features=2,\n",
    "                                     num_nodes=Graph_get_number_of_nodes_for_dataset(param[\"dataset\"]),\n",
    "                                     hidden_channels=32,\n",
    "                                     kernel_size=1)\n",
    "    elif config[\"modelType\"] == ModelType.LSTM:\n",
    "        model = LSTMModel(node_features=2, hidden_channels=32)\n",
    "    elif config[\"modelType\"] == ModelType.DCRNN:\n",
    "        model = DCRNNModel(node_features=2, hidden_channels=32)\n",
    "    optimizer = Adamax(model.parameters(), lr=param[\"learning_rate\"])\n",
    "    scheduler = ReduceLROnPlateau(optimizer,\n",
    "                                           mode='min',\n",
    "                                           factor=0.1,\n",
    "                                           patience=5,\n",
    "                                           threshold=0.00000001,\n",
    "                                           threshold_mode='abs')\n",
    "    train_validate_and_test(param[\"experiment_name\"],model,config[\"modelType\"],optimizer,scheduler,\n",
    "    param[\"EarlyStoppingPatience\"],train_dataset,validation_dataset,test_dataset,param[\"nb_epoch\"],param[\"results_path\"])"
   ]
  },
  {
   "cell_type": "code",
   "execution_count": 59,
   "metadata": {},
   "outputs": [],
   "source": [
    "def trail_dirname_creator(trial):\n",
    "        return f\"{trial.config['modelType'].name}_{trial.config['dataset'].name}_{datetime.now().strftime('%d_%m_%Y-%H_%M_%S')}\""
   ]
  },
  {
   "cell_type": "code",
   "execution_count": 60,
   "metadata": {},
   "outputs": [],
   "source": [
    "def hyperParameterTuning(dataset, model, distanceType, experiment_name,\n",
    "    results_ray_path,epsilon_array,sigma_array,proccessed_data_path,results_path):\n",
    "\n",
    "    nb_epoch = 30\n",
    "    grace_period = 30\n",
    "    reduction_factor = 3\n",
    "    scheduler = ASHAScheduler(max_t=nb_epoch,\n",
    "                                grace_period=grace_period,\n",
    "                                reduction_factor=reduction_factor)\n",
    "    learning_rate = 0.01\n",
    "    num_features = 2\n",
    "    EarlyStoppingPatience = 5\n",
    "    nb_epoch\n",
    "    param = {\n",
    "        \"learning_rate\": learning_rate,\n",
    "        \"num_features\": num_features,\n",
    "        \"EarlyStoppingPatience\": EarlyStoppingPatience,\n",
    "        \"nb_epoch\": nb_epoch,\n",
    "        \"experiment_name\": experiment_name,\n",
    "        \"distanceType\": distanceType,\n",
    "        \"proccessed_data_path\": proccessed_data_path,\n",
    "        \"results_path\": results_path\n",
    "    }\n",
    "    \n",
    "    config = {\n",
    "        \"epsilon\": tune.choice(epsilon_array),\n",
    "        \"sigma\": tune.choice(sigma_array),\n",
    "        \"modelType\": tune.choice([model]),\n",
    "        \"dataset\" : tune.choice([dataset])\n",
    "    }\n",
    "\n",
    "\n",
    "    directory_experiment_ray = os.path.join(results_ray_path, experiment_name)\n",
    "\n",
    "    num_samples = 16\n",
    "    start_train.__name__ = f\"{model.name}_{dataset.name}_{distanceType.name}\"\n",
    "\n",
    "    result = tune.run(tune.with_parameters(start_train, param=param),\n",
    "                        local_dir=directory_experiment_ray,\n",
    "                        trial_dirname_creator=trail_dirname_creator,\n",
    "                        resources_per_trial={\n",
    "                            \"cpu\": 8,\n",
    "                            \"gpu\": 1\n",
    "                        },\n",
    "                        config=config,\n",
    "                        metric=\"loss\",\n",
    "                        mode=\"min\",\n",
    "                        num_samples=num_samples,\n",
    "                        scheduler=scheduler,\n",
    "                        verbose=0)\n",
    "\n",
    "    best_trial = result.get_best_trial(\"loss\", \"min\", \"last\")\n",
    "\n",
    "    print(\"Best trial config: {}\".format(best_trial.config))\n",
    "    print(\"Best trial for {} model final validation loss: {}\".format(\n",
    "        model.name, best_trial.last_result[\"loss\"]))"
   ]
  },
  {
   "cell_type": "code",
   "execution_count": 61,
   "metadata": {},
   "outputs": [],
   "source": [
    "results_path = os.path.join(current_directory,\"Results\")\n",
    "if not os.path.exists(results_path):\n",
    "    os.makedirs(results_path)\n",
    "\n",
    "results_ray_path = os.path.join(current_directory,\"Results-RAY\")\n",
    "if not os.path.exists(results_ray_path):\n",
    "    os.makedirs(results_ray_path)"
   ]
  },
  {
   "cell_type": "code",
   "execution_count": 62,
   "metadata": {},
   "outputs": [],
   "source": [
    "def start_learn(results_ray_path,path_processed_data,results_path):\n",
    "    experiment_name = f'Experiment_{datetime.now().strftime(\"%d_%m_%Y-%H_%M_%S\")}'\n",
    "    directory_experiment_ray = os.path.join(results_ray_path, experiment_name)\n",
    "    if not os.path.exists(directory_experiment_ray):\n",
    "        os.makedirs(directory_experiment_ray)\n",
    "        \n",
    "    for distanceType in DistanceType:\n",
    "        for dataset in DatasetSize:\n",
    "            for model in ModelType:\n",
    "                hyperParameterTuning(dataset, model, distanceType, experiment_name,\n",
    "                    results_ray_path,EPSILON_ARRAY,SIGMA_ARRAY,path_processed_data,results_path)"
   ]
  },
  {
   "cell_type": "code",
   "execution_count": 63,
   "metadata": {},
   "outputs": [
    {
     "name": "stderr",
     "output_type": "stream",
     "text": [
      "2022-08-11 17:06:19,190\tERROR syncer.py:73 -- Log sync requires rsync to be installed.\n",
      "2022-08-11 17:06:19,191\tINFO trial.py:179 -- Creating a new dirname LSTM_Experimental_11_08_2022-17_06_18_2d90 because trial dirname 'LSTM_Experimental_11_08_2022-17_06_18' already exists.\n",
      "  0%|          | 0/30 [00:00<?, ?it/s]\n"
     ]
    },
    {
     "name": "stdout",
     "output_type": "stream",
     "text": [
      " pid=3664)\u001b[0m Epoch 0 : Validation loss 12.77350902557373 ; Train loss 14.820738792419434;\n"
     ]
    },
    {
     "name": "stderr",
     "output_type": "stream",
     "text": [
      "  3%|▎         | 1/30 [01:56<56:27, 116.80s/it]\n"
     ]
    },
    {
     "name": "stdout",
     "output_type": "stream",
     "text": [
      " pid=3664)\u001b[0m Epoch 1 : Validation loss 14.073664665222168 ; Train loss 9.355070114135742;\n"
     ]
    },
    {
     "name": "stderr",
     "output_type": "stream",
     "text": [
      "  7%|▋         | 2/30 [03:52<54:10, 116.10s/it]\n"
     ]
    },
    {
     "name": "stdout",
     "output_type": "stream",
     "text": [
      " pid=3664)\u001b[0m Epoch 2 : Validation loss 14.29086971282959 ; Train loss 8.663957595825195;\n"
     ]
    },
    {
     "name": "stderr",
     "output_type": "stream",
     "text": [
      " 10%|█         | 3/30 [05:45<51:35, 114.65s/it]\n"
     ]
    },
    {
     "name": "stdout",
     "output_type": "stream",
     "text": [
      " pid=3664)\u001b[0m Epoch 3 : Validation loss 14.4713716506958 ; Train loss 9.827520370483398;\n"
     ]
    },
    {
     "name": "stderr",
     "output_type": "stream",
     "text": [
      " 13%|█▎        | 4/30 [07:37<49:19, 113.83s/it]\n"
     ]
    },
    {
     "name": "stdout",
     "output_type": "stream",
     "text": [
      " pid=3664)\u001b[0m Epoch 4 : Validation loss 14.737237930297852 ; Train loss 9.57469367980957;\n"
     ]
    },
    {
     "name": "stderr",
     "output_type": "stream",
     "text": [
      " 17%|█▋        | 5/30 [09:29<47:08, 113.15s/it]\n"
     ]
    },
    {
     "name": "stdout",
     "output_type": "stream",
     "text": [
      " pid=3664)\u001b[0m Early stopping at epoch: 5\n"
     ]
    },
    {
     "name": "stderr",
     "output_type": "stream",
     "text": [
      " 17%|█▋        | 5/30 [12:44<1:03:40, 152.84s/it]\n",
      "2022-08-11 17:19:06,172\tWARNING ray_trial_executor.py:747 -- Over the last 60 seconds, the Tune event loop has been backlogged processing new results. Consider increasing your period of result reporting to improve performance.\n"
     ]
    },
    {
     "name": "stdout",
     "output_type": "stream",
     "text": [
      " pid=3664)\u001b[0m Best trial test set loss: 12.77350902557373\n"
     ]
    },
    {
     "name": "stderr",
     "output_type": "stream",
     "text": [
      "2022-08-11 17:19:06,174\tINFO logger.py:699 -- Removed the following hyperparameter values when logging to tensorboard: {'modelType': <ModelType.LSTM: 0>, 'dataset': <DatasetSize.Experimental: 8>}\n",
      "2022-08-11 17:19:06,195\tINFO trial.py:179 -- Creating a new dirname LSTM_Experimental_11_08_2022-17_06_18_6eae because trial dirname 'LSTM_Experimental_11_08_2022-17_06_18' already exists.\n",
      "\u001b[2m\u001b[36m(pid=3664)\u001b[0m Windows fatal exception: access violation\n",
      "\u001b[2m\u001b[36m(pid=3664)\u001b[0m \n",
      "  0%|          | 0/30 [00:00<?, ?it/s]\n"
     ]
    },
    {
     "name": "stdout",
     "output_type": "stream",
     "text": [
      " pid=4984)\u001b[0m Epoch 0 : Validation loss 13.206762313842773 ; Train loss 14.835040092468262;\n"
     ]
    },
    {
     "name": "stderr",
     "output_type": "stream",
     "text": [
      "  3%|▎         | 1/30 [01:57<56:52, 117.67s/it]\n"
     ]
    },
    {
     "name": "stdout",
     "output_type": "stream",
     "text": [
      " pid=4984)\u001b[0m Epoch 1 : Validation loss 13.70898723602295 ; Train loss 7.601720333099365;\n"
     ]
    },
    {
     "name": "stderr",
     "output_type": "stream",
     "text": [
      "  7%|▋         | 2/30 [03:56<55:10, 118.24s/it]\n"
     ]
    },
    {
     "name": "stdout",
     "output_type": "stream",
     "text": [
      " pid=4984)\u001b[0m Epoch 2 : Validation loss 13.689433097839355 ; Train loss 7.532983779907227;\n"
     ]
    },
    {
     "name": "stderr",
     "output_type": "stream",
     "text": [
      " 10%|█         | 3/30 [05:59<54:09, 120.35s/it]\n"
     ]
    },
    {
     "name": "stdout",
     "output_type": "stream",
     "text": [
      " pid=4984)\u001b[0m Epoch 3 : Validation loss 14.124476432800293 ; Train loss 8.533262252807617;\n"
     ]
    },
    {
     "name": "stderr",
     "output_type": "stream",
     "text": [
      " 13%|█▎        | 4/30 [08:00<52:17, 120.67s/it]\n"
     ]
    },
    {
     "name": "stdout",
     "output_type": "stream",
     "text": [
      " pid=4984)\u001b[0m Epoch 4 : Validation loss 14.748762130737305 ; Train loss 9.88943862915039;\n"
     ]
    },
    {
     "name": "stderr",
     "output_type": "stream",
     "text": [
      " 17%|█▋        | 5/30 [10:00<50:09, 120.37s/it]\n"
     ]
    },
    {
     "name": "stdout",
     "output_type": "stream",
     "text": [
      " pid=4984)\u001b[0m Early stopping at epoch: 5\n"
     ]
    },
    {
     "name": "stderr",
     "output_type": "stream",
     "text": [
      " 17%|█▋        | 5/30 [13:26<1:07:11, 161.27s/it]\n",
      "2022-08-11 17:32:35,095\tINFO logger.py:699 -- Removed the following hyperparameter values when logging to tensorboard: {'modelType': <ModelType.LSTM: 0>, 'dataset': <DatasetSize.Experimental: 8>}\n",
      "2022-08-11 17:32:35,112\tINFO trial.py:179 -- Creating a new dirname LSTM_Experimental_11_08_2022-17_06_18_2aa1 because trial dirname 'LSTM_Experimental_11_08_2022-17_06_18' already exists.\n"
     ]
    },
    {
     "name": "stdout",
     "output_type": "stream",
     "text": [
      " pid=4984)\u001b[0m Best trial test set loss: 13.206762313842773\n"
     ]
    },
    {
     "name": "stderr",
     "output_type": "stream",
     "text": [
      "\u001b[2m\u001b[36m(pid=4984)\u001b[0m Windows fatal exception: access violation\n",
      "\u001b[2m\u001b[36m(pid=4984)\u001b[0m \n",
      "  0%|          | 0/30 [00:00<?, ?it/s]\n"
     ]
    },
    {
     "name": "stdout",
     "output_type": "stream",
     "text": [
      " pid=3588)\u001b[0m Epoch 0 : Validation loss 12.653999328613281 ; Train loss 14.8484525680542;\n"
     ]
    },
    {
     "name": "stderr",
     "output_type": "stream",
     "text": [
      "  3%|▎         | 1/30 [01:59<57:46, 119.53s/it]\n"
     ]
    },
    {
     "name": "stdout",
     "output_type": "stream",
     "text": [
      " pid=3588)\u001b[0m Epoch 1 : Validation loss 14.491273880004883 ; Train loss 9.965481758117676;\n"
     ]
    },
    {
     "name": "stderr",
     "output_type": "stream",
     "text": [
      "  7%|▋         | 2/30 [03:59<55:50, 119.64s/it]\n"
     ]
    },
    {
     "name": "stdout",
     "output_type": "stream",
     "text": [
      " pid=3588)\u001b[0m Epoch 2 : Validation loss 14.503877639770508 ; Train loss 9.962681770324707;\n"
     ]
    },
    {
     "name": "stderr",
     "output_type": "stream",
     "text": [
      " 10%|█         | 3/30 [06:00<54:10, 120.39s/it]\n"
     ]
    },
    {
     "name": "stdout",
     "output_type": "stream",
     "text": [
      " pid=3588)\u001b[0m Epoch 3 : Validation loss 14.403279304504395 ; Train loss 9.961634635925293;\n"
     ]
    },
    {
     "name": "stderr",
     "output_type": "stream",
     "text": [
      " 13%|█▎        | 4/30 [08:00<52:08, 120.31s/it]\n"
     ]
    },
    {
     "name": "stdout",
     "output_type": "stream",
     "text": [
      " pid=3588)\u001b[0m Epoch 4 : Validation loss 14.431640625 ; Train loss 9.962968826293945;\n"
     ]
    },
    {
     "name": "stderr",
     "output_type": "stream",
     "text": [
      " 17%|█▋        | 5/30 [10:01<50:09, 120.37s/it]\n"
     ]
    },
    {
     "name": "stdout",
     "output_type": "stream",
     "text": [
      " pid=3588)\u001b[0m Early stopping at epoch: 5\n"
     ]
    },
    {
     "name": "stderr",
     "output_type": "stream",
     "text": [
      " 17%|█▋        | 5/30 [13:30<1:07:32, 162.09s/it]\n",
      "2022-08-11 17:46:08,094\tINFO logger.py:699 -- Removed the following hyperparameter values when logging to tensorboard: {'modelType': <ModelType.LSTM: 0>, 'dataset': <DatasetSize.Experimental: 8>}\n",
      "2022-08-11 17:46:08,111\tINFO trial.py:179 -- Creating a new dirname LSTM_Experimental_11_08_2022-17_06_18_ea88 because trial dirname 'LSTM_Experimental_11_08_2022-17_06_18' already exists.\n"
     ]
    },
    {
     "name": "stdout",
     "output_type": "stream",
     "text": [
      " pid=3588)\u001b[0m Best trial test set loss: 12.653999328613281\n"
     ]
    },
    {
     "name": "stderr",
     "output_type": "stream",
     "text": [
      "\u001b[2m\u001b[36m(pid=3588)\u001b[0m Windows fatal exception: access violation\n",
      "\u001b[2m\u001b[36m(pid=3588)\u001b[0m \n",
      "  0%|          | 0/30 [00:00<?, ?it/s]\n"
     ]
    },
    {
     "name": "stdout",
     "output_type": "stream",
     "text": [
      " pid=10568)\u001b[0m Epoch 0 : Validation loss 12.671476364135742 ; Train loss 14.87543773651123;\n"
     ]
    },
    {
     "name": "stderr",
     "output_type": "stream",
     "text": [
      "  3%|▎         | 1/30 [01:50<53:28, 110.64s/it]\n"
     ]
    },
    {
     "name": "stdout",
     "output_type": "stream",
     "text": [
      " pid=10568)\u001b[0m Epoch 1 : Validation loss 13.92182731628418 ; Train loss 8.728544235229492;\n"
     ]
    },
    {
     "name": "stderr",
     "output_type": "stream",
     "text": [
      "  7%|▋         | 2/30 [03:40<51:28, 110.29s/it]\n"
     ]
    },
    {
     "name": "stdout",
     "output_type": "stream",
     "text": [
      " pid=10568)\u001b[0m Epoch 2 : Validation loss 14.389596939086914 ; Train loss 9.969655990600586;\n"
     ]
    },
    {
     "name": "stderr",
     "output_type": "stream",
     "text": [
      " 10%|█         | 3/30 [05:30<49:37, 110.26s/it]\n"
     ]
    },
    {
     "name": "stdout",
     "output_type": "stream",
     "text": [
      " pid=10568)\u001b[0m Epoch 3 : Validation loss 14.54516887664795 ; Train loss 9.975008964538574;\n"
     ]
    },
    {
     "name": "stderr",
     "output_type": "stream",
     "text": [
      " 13%|█▎        | 4/30 [07:21<47:46, 110.24s/it]\n"
     ]
    },
    {
     "name": "stdout",
     "output_type": "stream",
     "text": [
      " pid=10568)\u001b[0m Epoch 4 : Validation loss 14.545822143554688 ; Train loss 9.9743070602417;\n"
     ]
    },
    {
     "name": "stderr",
     "output_type": "stream",
     "text": [
      " 17%|█▋        | 5/30 [09:11<45:55, 110.21s/it]\n"
     ]
    },
    {
     "name": "stdout",
     "output_type": "stream",
     "text": [
      " pid=10568)\u001b[0m Early stopping at epoch: 5\n"
     ]
    },
    {
     "name": "stderr",
     "output_type": "stream",
     "text": [
      " 17%|█▋        | 5/30 [12:20<1:01:41, 148.07s/it]\n",
      "2022-08-11 17:58:31,018\tINFO logger.py:699 -- Removed the following hyperparameter values when logging to tensorboard: {'modelType': <ModelType.LSTM: 0>, 'dataset': <DatasetSize.Experimental: 8>}\n",
      "2022-08-11 17:58:31,035\tINFO trial.py:179 -- Creating a new dirname LSTM_Experimental_11_08_2022-17_06_18_d35c because trial dirname 'LSTM_Experimental_11_08_2022-17_06_18' already exists.\n"
     ]
    },
    {
     "name": "stdout",
     "output_type": "stream",
     "text": [
      " pid=10568)\u001b[0m Best trial test set loss: 12.671476364135742\n"
     ]
    },
    {
     "name": "stderr",
     "output_type": "stream",
     "text": [
      "\u001b[2m\u001b[36m(pid=10568)\u001b[0m Windows fatal exception: access violation\n",
      "\u001b[2m\u001b[36m(pid=10568)\u001b[0m \n",
      "  0%|          | 0/30 [00:00<?, ?it/s]\n"
     ]
    },
    {
     "name": "stdout",
     "output_type": "stream",
     "text": [
      " pid=312)\u001b[0m Epoch 0 : Validation loss 12.716229438781738 ; Train loss 14.892906188964844;\n"
     ]
    },
    {
     "name": "stderr",
     "output_type": "stream",
     "text": [
      "  3%|▎         | 1/30 [01:49<53:00, 109.68s/it]\n"
     ]
    },
    {
     "name": "stdout",
     "output_type": "stream",
     "text": [
      " pid=312)\u001b[0m Epoch 1 : Validation loss 14.521795272827148 ; Train loss 9.966108322143555;\n"
     ]
    },
    {
     "name": "stderr",
     "output_type": "stream",
     "text": [
      "  7%|▋         | 2/30 [03:39<51:06, 109.51s/it]\n"
     ]
    },
    {
     "name": "stdout",
     "output_type": "stream",
     "text": [
      " pid=312)\u001b[0m Epoch 2 : Validation loss 14.424627304077148 ; Train loss 9.962945938110352;\n"
     ]
    },
    {
     "name": "stderr",
     "output_type": "stream",
     "text": [
      " 10%|█         | 3/30 [05:28<49:16, 109.49s/it]\n"
     ]
    },
    {
     "name": "stdout",
     "output_type": "stream",
     "text": [
      " pid=312)\u001b[0m Epoch 3 : Validation loss 14.40494441986084 ; Train loss 9.960381507873535;\n"
     ]
    },
    {
     "name": "stderr",
     "output_type": "stream",
     "text": [
      " 13%|█▎        | 4/30 [07:17<47:23, 109.35s/it]\n"
     ]
    },
    {
     "name": "stdout",
     "output_type": "stream",
     "text": [
      " pid=312)\u001b[0m Epoch 4 : Validation loss 14.394087791442871 ; Train loss 9.959728240966797;\n"
     ]
    },
    {
     "name": "stderr",
     "output_type": "stream",
     "text": [
      " 17%|█▋        | 5/30 [09:07<45:36, 109.48s/it]\n"
     ]
    },
    {
     "name": "stdout",
     "output_type": "stream",
     "text": [
      " pid=312)\u001b[0m Early stopping at epoch: 5\n"
     ]
    },
    {
     "name": "stderr",
     "output_type": "stream",
     "text": [
      " 17%|█▋        | 5/30 [12:15<1:01:18, 147.15s/it]\n",
      "2022-08-11 18:10:49,337\tINFO logger.py:699 -- Removed the following hyperparameter values when logging to tensorboard: {'modelType': <ModelType.LSTM: 0>, 'dataset': <DatasetSize.Experimental: 8>}\n",
      "2022-08-11 18:10:49,353\tINFO trial.py:179 -- Creating a new dirname LSTM_Experimental_11_08_2022-17_06_18_1844 because trial dirname 'LSTM_Experimental_11_08_2022-17_06_18' already exists.\n"
     ]
    },
    {
     "name": "stdout",
     "output_type": "stream",
     "text": [
      " pid=312)\u001b[0m Best trial test set loss: 12.716229438781738\n"
     ]
    },
    {
     "name": "stderr",
     "output_type": "stream",
     "text": [
      "\u001b[2m\u001b[36m(pid=312)\u001b[0m Windows fatal exception: access violation\n",
      "\u001b[2m\u001b[36m(pid=312)\u001b[0m \n",
      "  0%|          | 0/30 [00:00<?, ?it/s]\n"
     ]
    },
    {
     "name": "stdout",
     "output_type": "stream",
     "text": [
      " pid=5272)\u001b[0m Epoch 0 : Validation loss 12.632996559143066 ; Train loss 14.864944458007812;\n"
     ]
    },
    {
     "name": "stderr",
     "output_type": "stream",
     "text": [
      "  3%|▎         | 1/30 [01:56<56:07, 116.13s/it]\n"
     ]
    },
    {
     "name": "stdout",
     "output_type": "stream",
     "text": [
      " pid=5272)\u001b[0m Epoch 1 : Validation loss 14.375771522521973 ; Train loss 9.861892700195312;\n"
     ]
    },
    {
     "name": "stderr",
     "output_type": "stream",
     "text": [
      "  7%|▋         | 2/30 [03:52<54:17, 116.33s/it]\n"
     ]
    },
    {
     "name": "stdout",
     "output_type": "stream",
     "text": [
      " pid=5272)\u001b[0m Epoch 2 : Validation loss 14.387001991271973 ; Train loss 9.95077133178711;\n"
     ]
    },
    {
     "name": "stderr",
     "output_type": "stream",
     "text": [
      " 10%|█         | 3/30 [05:50<52:37, 116.94s/it]\n"
     ]
    },
    {
     "name": "stdout",
     "output_type": "stream",
     "text": [
      " pid=5272)\u001b[0m Epoch 3 : Validation loss 14.327338218688965 ; Train loss 9.949965476989746;\n"
     ]
    },
    {
     "name": "stderr",
     "output_type": "stream",
     "text": [
      " 13%|█▎        | 4/30 [07:48<50:52, 117.40s/it]\n"
     ]
    },
    {
     "name": "stdout",
     "output_type": "stream",
     "text": [
      " pid=5272)\u001b[0m Epoch 4 : Validation loss 14.385193824768066 ; Train loss 9.957042694091797;\n"
     ]
    },
    {
     "name": "stderr",
     "output_type": "stream",
     "text": [
      " 17%|█▋        | 5/30 [09:46<49:00, 117.62s/it]\n"
     ]
    },
    {
     "name": "stdout",
     "output_type": "stream",
     "text": [
      " pid=5272)\u001b[0m Early stopping at epoch: 5\n"
     ]
    },
    {
     "name": "stderr",
     "output_type": "stream",
     "text": [
      " 17%|█▋        | 5/30 [13:10<1:05:51, 158.07s/it]\n",
      "2022-08-11 18:24:02,202\tINFO logger.py:699 -- Removed the following hyperparameter values when logging to tensorboard: {'modelType': <ModelType.LSTM: 0>, 'dataset': <DatasetSize.Experimental: 8>}\n",
      "2022-08-11 18:24:02,218\tINFO trial.py:179 -- Creating a new dirname LSTM_Experimental_11_08_2022-17_06_18_0288 because trial dirname 'LSTM_Experimental_11_08_2022-17_06_18' already exists.\n"
     ]
    },
    {
     "name": "stdout",
     "output_type": "stream",
     "text": [
      " pid=5272)\u001b[0m Best trial test set loss: 12.632996559143066\n"
     ]
    },
    {
     "name": "stderr",
     "output_type": "stream",
     "text": [
      "\u001b[2m\u001b[36m(pid=5272)\u001b[0m Windows fatal exception: access violation\n",
      "\u001b[2m\u001b[36m(pid=5272)\u001b[0m \n",
      "  0%|          | 0/30 [00:00<?, ?it/s]\n"
     ]
    },
    {
     "name": "stdout",
     "output_type": "stream",
     "text": [
      " pid=15640)\u001b[0m Epoch 0 : Validation loss 12.740351676940918 ; Train loss 14.857203483581543;\n"
     ]
    },
    {
     "name": "stderr",
     "output_type": "stream",
     "text": [
      "  3%|▎         | 1/30 [02:01<58:45, 121.57s/it]\n"
     ]
    },
    {
     "name": "stdout",
     "output_type": "stream",
     "text": [
      " pid=15640)\u001b[0m Epoch 1 : Validation loss 14.493597030639648 ; Train loss 9.966080665588379;\n"
     ]
    },
    {
     "name": "stderr",
     "output_type": "stream",
     "text": [
      "  7%|▋         | 2/30 [04:03<56:42, 121.53s/it]\n"
     ]
    },
    {
     "name": "stdout",
     "output_type": "stream",
     "text": [
      " pid=15640)\u001b[0m Epoch 2 : Validation loss 14.417464256286621 ; Train loss 9.959989547729492;\n"
     ]
    },
    {
     "name": "stderr",
     "output_type": "stream",
     "text": [
      " 10%|█         | 3/30 [06:04<54:42, 121.56s/it]\n"
     ]
    },
    {
     "name": "stdout",
     "output_type": "stream",
     "text": [
      " pid=15640)\u001b[0m Epoch 3 : Validation loss 14.436422348022461 ; Train loss 9.961191177368164;\n"
     ]
    },
    {
     "name": "stderr",
     "output_type": "stream",
     "text": [
      " 13%|█▎        | 4/30 [08:07<52:56, 122.19s/it]\n"
     ]
    },
    {
     "name": "stdout",
     "output_type": "stream",
     "text": [
      " pid=15640)\u001b[0m Epoch 4 : Validation loss 14.433981895446777 ; Train loss 9.962611198425293;\n"
     ]
    },
    {
     "name": "stderr",
     "output_type": "stream",
     "text": [
      " 17%|█▋        | 5/30 [10:10<51:02, 122.49s/it]\n"
     ]
    },
    {
     "name": "stdout",
     "output_type": "stream",
     "text": [
      " pid=15640)\u001b[0m Early stopping at epoch: 5\n"
     ]
    },
    {
     "name": "stderr",
     "output_type": "stream",
     "text": [
      " 17%|█▋        | 5/30 [13:40<1:08:24, 164.17s/it]\n",
      "2022-08-11 18:37:45,626\tINFO logger.py:699 -- Removed the following hyperparameter values when logging to tensorboard: {'modelType': <ModelType.LSTM: 0>, 'dataset': <DatasetSize.Experimental: 8>}\n",
      "2022-08-11 18:37:45,642\tINFO trial.py:179 -- Creating a new dirname LSTM_Experimental_11_08_2022-17_06_18_7289 because trial dirname 'LSTM_Experimental_11_08_2022-17_06_18' already exists.\n"
     ]
    },
    {
     "name": "stdout",
     "output_type": "stream",
     "text": [
      " pid=15640)\u001b[0m Best trial test set loss: 12.740351676940918\n"
     ]
    },
    {
     "name": "stderr",
     "output_type": "stream",
     "text": [
      "\u001b[2m\u001b[36m(pid=15640)\u001b[0m Windows fatal exception: access violation\n",
      "\u001b[2m\u001b[36m(pid=15640)\u001b[0m \n",
      "  0%|          | 0/30 [00:00<?, ?it/s]\n"
     ]
    },
    {
     "name": "stdout",
     "output_type": "stream",
     "text": [
      " pid=7400)\u001b[0m Epoch 0 : Validation loss 12.668983459472656 ; Train loss 14.908134460449219;\n"
     ]
    },
    {
     "name": "stderr",
     "output_type": "stream",
     "text": [
      "  3%|▎         | 1/30 [01:50<53:26, 110.57s/it]\n"
     ]
    },
    {
     "name": "stdout",
     "output_type": "stream",
     "text": [
      " pid=7400)\u001b[0m Epoch 1 : Validation loss 13.191619873046875 ; Train loss 9.254257202148438;\n"
     ]
    },
    {
     "name": "stderr",
     "output_type": "stream",
     "text": [
      "  7%|▋         | 2/30 [03:40<51:18, 109.96s/it]\n"
     ]
    },
    {
     "name": "stdout",
     "output_type": "stream",
     "text": [
      " pid=7400)\u001b[0m Epoch 2 : Validation loss 14.574685096740723 ; Train loss 9.069816589355469;\n"
     ]
    },
    {
     "name": "stderr",
     "output_type": "stream",
     "text": [
      " 10%|█         | 3/30 [05:29<49:26, 109.86s/it]\n"
     ]
    },
    {
     "name": "stdout",
     "output_type": "stream",
     "text": [
      " pid=7400)\u001b[0m Epoch 3 : Validation loss 14.698819160461426 ; Train loss 9.538752555847168;\n"
     ]
    },
    {
     "name": "stderr",
     "output_type": "stream",
     "text": [
      " 13%|█▎        | 4/30 [07:19<47:33, 109.75s/it]\n"
     ]
    },
    {
     "name": "stdout",
     "output_type": "stream",
     "text": [
      " pid=7400)\u001b[0m Epoch 4 : Validation loss 13.773152351379395 ; Train loss 9.831527709960938;\n"
     ]
    },
    {
     "name": "stderr",
     "output_type": "stream",
     "text": [
      " 17%|█▋        | 5/30 [09:09<45:44, 109.76s/it]\n"
     ]
    },
    {
     "name": "stdout",
     "output_type": "stream",
     "text": [
      " pid=7400)\u001b[0m Early stopping at epoch: 5\n"
     ]
    },
    {
     "name": "stderr",
     "output_type": "stream",
     "text": [
      " 17%|█▋        | 5/30 [12:17<1:01:27, 147.52s/it]\n",
      "2022-08-11 18:50:05,801\tINFO logger.py:699 -- Removed the following hyperparameter values when logging to tensorboard: {'modelType': <ModelType.LSTM: 0>, 'dataset': <DatasetSize.Experimental: 8>}\n",
      "2022-08-11 18:50:05,828\tINFO trial.py:179 -- Creating a new dirname LSTM_Experimental_11_08_2022-17_06_18_843c because trial dirname 'LSTM_Experimental_11_08_2022-17_06_18' already exists.\n"
     ]
    },
    {
     "name": "stdout",
     "output_type": "stream",
     "text": [
      " pid=7400)\u001b[0m Best trial test set loss: 12.668983459472656\n"
     ]
    },
    {
     "name": "stderr",
     "output_type": "stream",
     "text": [
      "\u001b[2m\u001b[36m(pid=7400)\u001b[0m Windows fatal exception: access violation\n",
      "\u001b[2m\u001b[36m(pid=7400)\u001b[0m \n",
      "  0%|          | 0/30 [00:00<?, ?it/s]\n"
     ]
    },
    {
     "name": "stdout",
     "output_type": "stream",
     "text": [
      " pid=5368)\u001b[0m Epoch 0 : Validation loss 12.788805961608887 ; Train loss 14.863149642944336;\n"
     ]
    },
    {
     "name": "stderr",
     "output_type": "stream",
     "text": [
      "  3%|▎         | 1/30 [02:01<58:30, 121.04s/it]\n"
     ]
    },
    {
     "name": "stdout",
     "output_type": "stream",
     "text": [
      " pid=5368)\u001b[0m Epoch 1 : Validation loss 14.618593215942383 ; Train loss 9.7443208694458;\n"
     ]
    },
    {
     "name": "stderr",
     "output_type": "stream",
     "text": [
      "  7%|▋         | 2/30 [04:02<56:37, 121.34s/it]\n"
     ]
    },
    {
     "name": "stdout",
     "output_type": "stream",
     "text": [
      " pid=5368)\u001b[0m Epoch 2 : Validation loss 14.59280014038086 ; Train loss 9.974803924560547;\n"
     ]
    },
    {
     "name": "stderr",
     "output_type": "stream",
     "text": [
      " 10%|█         | 3/30 [06:05<54:49, 121.83s/it]\n"
     ]
    },
    {
     "name": "stdout",
     "output_type": "stream",
     "text": [
      " pid=5368)\u001b[0m Epoch 3 : Validation loss 14.502187728881836 ; Train loss 9.98086929321289;\n"
     ]
    },
    {
     "name": "stderr",
     "output_type": "stream",
     "text": [
      " 13%|█▎        | 4/30 [08:08<52:59, 122.31s/it]\n"
     ]
    },
    {
     "name": "stdout",
     "output_type": "stream",
     "text": [
      " pid=5368)\u001b[0m Epoch 4 : Validation loss 14.58333969116211 ; Train loss 9.97887897491455;\n"
     ]
    },
    {
     "name": "stderr",
     "output_type": "stream",
     "text": [
      " 17%|█▋        | 5/30 [10:11<51:05, 122.63s/it]\n"
     ]
    },
    {
     "name": "stdout",
     "output_type": "stream",
     "text": [
      " pid=5368)\u001b[0m Early stopping at epoch: 5\n"
     ]
    },
    {
     "name": "stderr",
     "output_type": "stream",
     "text": [
      " 17%|█▋        | 5/30 [13:42<1:08:31, 164.45s/it]\n",
      "2022-08-11 19:03:50,582\tINFO logger.py:699 -- Removed the following hyperparameter values when logging to tensorboard: {'modelType': <ModelType.LSTM: 0>, 'dataset': <DatasetSize.Experimental: 8>}\n",
      "2022-08-11 19:03:50,604\tINFO trial.py:179 -- Creating a new dirname LSTM_Experimental_11_08_2022-17_06_18_f64a because trial dirname 'LSTM_Experimental_11_08_2022-17_06_18' already exists.\n"
     ]
    },
    {
     "name": "stdout",
     "output_type": "stream",
     "text": [
      " pid=5368)\u001b[0m Best trial test set loss: 12.788805961608887\n"
     ]
    },
    {
     "name": "stderr",
     "output_type": "stream",
     "text": [
      "\u001b[2m\u001b[36m(pid=5368)\u001b[0m Windows fatal exception: access violation\n",
      "\u001b[2m\u001b[36m(pid=5368)\u001b[0m \n",
      "  0%|          | 0/30 [00:00<?, ?it/s]\n"
     ]
    },
    {
     "name": "stdout",
     "output_type": "stream",
     "text": [
      " pid=8648)\u001b[0m Epoch 0 : Validation loss 12.659066200256348 ; Train loss 14.895340919494629;\n"
     ]
    },
    {
     "name": "stderr",
     "output_type": "stream",
     "text": [
      "  3%|▎         | 1/30 [01:48<52:12, 108.01s/it]\n"
     ]
    },
    {
     "name": "stdout",
     "output_type": "stream",
     "text": [
      " pid=8648)\u001b[0m Epoch 1 : Validation loss 14.521340370178223 ; Train loss 9.964425086975098;\n"
     ]
    },
    {
     "name": "stderr",
     "output_type": "stream",
     "text": [
      "  7%|▋         | 2/30 [03:35<50:23, 108.00s/it]\n"
     ]
    },
    {
     "name": "stdout",
     "output_type": "stream",
     "text": [
      " pid=8648)\u001b[0m Epoch 2 : Validation loss 14.43342113494873 ; Train loss 9.962542533874512;\n"
     ]
    },
    {
     "name": "stderr",
     "output_type": "stream",
     "text": [
      " 10%|█         | 3/30 [05:24<48:41, 108.22s/it]\n"
     ]
    },
    {
     "name": "stdout",
     "output_type": "stream",
     "text": [
      " pid=8648)\u001b[0m Epoch 3 : Validation loss 14.407251358032227 ; Train loss 9.959845542907715;\n"
     ]
    },
    {
     "name": "stderr",
     "output_type": "stream",
     "text": [
      " 13%|█▎        | 4/30 [07:12<46:55, 108.29s/it]\n"
     ]
    },
    {
     "name": "stdout",
     "output_type": "stream",
     "text": [
      " pid=8648)\u001b[0m Epoch 4 : Validation loss 14.43143367767334 ; Train loss 9.960504531860352;\n"
     ]
    },
    {
     "name": "stderr",
     "output_type": "stream",
     "text": [
      " 17%|█▋        | 5/30 [09:01<45:09, 108.39s/it]\n"
     ]
    },
    {
     "name": "stdout",
     "output_type": "stream",
     "text": [
      " pid=8648)\u001b[0m Early stopping at epoch: 5\n"
     ]
    },
    {
     "name": "stderr",
     "output_type": "stream",
     "text": [
      " 17%|█▋        | 5/30 [12:08<1:00:40, 145.64s/it]\n",
      "2022-08-11 19:16:01,310\tINFO logger.py:699 -- Removed the following hyperparameter values when logging to tensorboard: {'modelType': <ModelType.LSTM: 0>, 'dataset': <DatasetSize.Experimental: 8>}\n",
      "2022-08-11 19:16:01,357\tINFO trial.py:179 -- Creating a new dirname LSTM_Experimental_11_08_2022-17_06_18_c68d because trial dirname 'LSTM_Experimental_11_08_2022-17_06_18' already exists.\n"
     ]
    },
    {
     "name": "stdout",
     "output_type": "stream",
     "text": [
      " pid=8648)\u001b[0m Best trial test set loss: 12.659066200256348\n"
     ]
    },
    {
     "name": "stderr",
     "output_type": "stream",
     "text": [
      "\u001b[2m\u001b[36m(pid=8648)\u001b[0m Windows fatal exception: access violation\n",
      "\u001b[2m\u001b[36m(pid=8648)\u001b[0m \n",
      "  0%|          | 0/30 [00:00<?, ?it/s]\n"
     ]
    },
    {
     "name": "stdout",
     "output_type": "stream",
     "text": [
      " pid=18292)\u001b[0m Epoch 0 : Validation loss 12.75090217590332 ; Train loss 14.8793306350708;\n"
     ]
    },
    {
     "name": "stderr",
     "output_type": "stream",
     "text": [
      "  3%|▎         | 1/30 [01:48<52:35, 108.81s/it]\n"
     ]
    },
    {
     "name": "stdout",
     "output_type": "stream",
     "text": [
      " pid=18292)\u001b[0m Epoch 1 : Validation loss 14.489494323730469 ; Train loss 9.96705436706543;\n"
     ]
    },
    {
     "name": "stderr",
     "output_type": "stream",
     "text": [
      "  7%|▋         | 2/30 [03:37<50:50, 108.94s/it]\n"
     ]
    },
    {
     "name": "stdout",
     "output_type": "stream",
     "text": [
      " pid=18292)\u001b[0m Epoch 2 : Validation loss 14.522414207458496 ; Train loss 9.962545394897461;\n"
     ]
    },
    {
     "name": "stderr",
     "output_type": "stream",
     "text": [
      " 10%|█         | 3/30 [05:26<49:03, 109.01s/it]\n"
     ]
    },
    {
     "name": "stdout",
     "output_type": "stream",
     "text": [
      " pid=18292)\u001b[0m Epoch 3 : Validation loss 14.43368148803711 ; Train loss 9.962366104125977;\n"
     ]
    },
    {
     "name": "stderr",
     "output_type": "stream",
     "text": [
      " 13%|█▎        | 4/30 [07:15<47:13, 108.98s/it]\n"
     ]
    },
    {
     "name": "stdout",
     "output_type": "stream",
     "text": [
      " pid=18292)\u001b[0m Epoch 4 : Validation loss 14.407794952392578 ; Train loss 9.960481643676758;\n"
     ]
    },
    {
     "name": "stderr",
     "output_type": "stream",
     "text": [
      " 17%|█▋        | 5/30 [09:04<45:25, 109.02s/it]\n"
     ]
    },
    {
     "name": "stdout",
     "output_type": "stream",
     "text": [
      " pid=18292)\u001b[0m Early stopping at epoch: 5\n"
     ]
    },
    {
     "name": "stderr",
     "output_type": "stream",
     "text": [
      " 17%|█▋        | 5/30 [12:12<1:01:01, 146.46s/it]\n",
      "2022-08-11 19:28:16,158\tINFO logger.py:699 -- Removed the following hyperparameter values when logging to tensorboard: {'modelType': <ModelType.LSTM: 0>, 'dataset': <DatasetSize.Experimental: 8>}\n",
      "2022-08-11 19:28:16,175\tINFO trial.py:179 -- Creating a new dirname LSTM_Experimental_11_08_2022-17_06_18_1cb4 because trial dirname 'LSTM_Experimental_11_08_2022-17_06_18' already exists.\n"
     ]
    },
    {
     "name": "stdout",
     "output_type": "stream",
     "text": [
      " pid=18292)\u001b[0m Best trial test set loss: 12.75090217590332\n"
     ]
    },
    {
     "name": "stderr",
     "output_type": "stream",
     "text": [
      "\u001b[2m\u001b[36m(pid=18292)\u001b[0m Windows fatal exception: access violation\n",
      "\u001b[2m\u001b[36m(pid=18292)\u001b[0m \n",
      "  0%|          | 0/30 [00:00<?, ?it/s]\n"
     ]
    },
    {
     "name": "stdout",
     "output_type": "stream",
     "text": [
      " pid=13980)\u001b[0m Epoch 0 : Validation loss 12.699788093566895 ; Train loss 14.835740089416504;\n"
     ]
    },
    {
     "name": "stderr",
     "output_type": "stream",
     "text": [
      "  3%|▎         | 1/30 [02:01<58:43, 121.49s/it]\n"
     ]
    },
    {
     "name": "stdout",
     "output_type": "stream",
     "text": [
      " pid=13980)\u001b[0m Epoch 1 : Validation loss 13.561508178710938 ; Train loss 7.841609001159668;\n"
     ]
    },
    {
     "name": "stderr",
     "output_type": "stream",
     "text": [
      "  7%|▋         | 2/30 [04:03<56:48, 121.72s/it]\n"
     ]
    },
    {
     "name": "stdout",
     "output_type": "stream",
     "text": [
      " pid=13980)\u001b[0m Epoch 2 : Validation loss 13.196664810180664 ; Train loss 8.146377563476562;\n"
     ]
    },
    {
     "name": "stderr",
     "output_type": "stream",
     "text": [
      " 10%|█         | 3/30 [06:04<54:43, 121.63s/it]\n"
     ]
    },
    {
     "name": "stdout",
     "output_type": "stream",
     "text": [
      " pid=13980)\u001b[0m Epoch 3 : Validation loss 12.978981971740723 ; Train loss 9.333928108215332;\n"
     ]
    },
    {
     "name": "stderr",
     "output_type": "stream",
     "text": [
      " 13%|█▎        | 4/30 [08:06<52:43, 121.67s/it]\n"
     ]
    },
    {
     "name": "stdout",
     "output_type": "stream",
     "text": [
      " pid=13980)\u001b[0m Epoch 4 : Validation loss 14.676763534545898 ; Train loss 9.98597526550293;\n"
     ]
    },
    {
     "name": "stderr",
     "output_type": "stream",
     "text": [
      " 17%|█▋        | 5/30 [10:07<50:38, 121.55s/it]\n"
     ]
    },
    {
     "name": "stdout",
     "output_type": "stream",
     "text": [
      " pid=13980)\u001b[0m Early stopping at epoch: 5\n"
     ]
    },
    {
     "name": "stderr",
     "output_type": "stream",
     "text": [
      " 17%|█▋        | 5/30 [13:37<1:08:06, 163.48s/it]\n",
      "2022-08-11 19:41:56,116\tINFO logger.py:699 -- Removed the following hyperparameter values when logging to tensorboard: {'modelType': <ModelType.LSTM: 0>, 'dataset': <DatasetSize.Experimental: 8>}\n",
      "2022-08-11 19:41:56,132\tINFO trial.py:179 -- Creating a new dirname LSTM_Experimental_11_08_2022-17_06_18_df02 because trial dirname 'LSTM_Experimental_11_08_2022-17_06_18' already exists.\n"
     ]
    },
    {
     "name": "stdout",
     "output_type": "stream",
     "text": [
      " pid=13980)\u001b[0m Best trial test set loss: 12.699788093566895\n"
     ]
    },
    {
     "name": "stderr",
     "output_type": "stream",
     "text": [
      "\u001b[2m\u001b[36m(pid=13980)\u001b[0m Windows fatal exception: access violation\n",
      "\u001b[2m\u001b[36m(pid=13980)\u001b[0m \n",
      "  0%|          | 0/30 [00:00<?, ?it/s]\n"
     ]
    },
    {
     "name": "stdout",
     "output_type": "stream",
     "text": [
      " pid=16472)\u001b[0m Epoch 0 : Validation loss 12.714301109313965 ; Train loss 14.87125301361084;\n"
     ]
    },
    {
     "name": "stderr",
     "output_type": "stream",
     "text": [
      "  3%|▎         | 1/30 [02:00<58:21, 120.73s/it]\n"
     ]
    },
    {
     "name": "stdout",
     "output_type": "stream",
     "text": [
      " pid=16472)\u001b[0m Epoch 1 : Validation loss 14.01076889038086 ; Train loss 9.615127563476562;\n"
     ]
    },
    {
     "name": "stderr",
     "output_type": "stream",
     "text": [
      "  7%|▋         | 2/30 [04:02<56:38, 121.38s/it]\n"
     ]
    },
    {
     "name": "stdout",
     "output_type": "stream",
     "text": [
      " pid=16472)\u001b[0m Epoch 2 : Validation loss 14.507744789123535 ; Train loss 8.302253723144531;\n"
     ]
    },
    {
     "name": "stderr",
     "output_type": "stream",
     "text": [
      " 10%|█         | 3/30 [06:04<54:39, 121.47s/it]\n"
     ]
    },
    {
     "name": "stdout",
     "output_type": "stream",
     "text": [
      " pid=16472)\u001b[0m Epoch 3 : Validation loss 14.635805130004883 ; Train loss 9.983379364013672;\n"
     ]
    },
    {
     "name": "stderr",
     "output_type": "stream",
     "text": [
      " 13%|█▎        | 4/30 [08:06<52:44, 121.73s/it]\n"
     ]
    },
    {
     "name": "stdout",
     "output_type": "stream",
     "text": [
      " pid=16472)\u001b[0m Epoch 4 : Validation loss 14.633481979370117 ; Train loss 9.998246192932129;\n"
     ]
    },
    {
     "name": "stderr",
     "output_type": "stream",
     "text": [
      " 17%|█▋        | 5/30 [10:09<50:58, 122.33s/it]\n"
     ]
    },
    {
     "name": "stdout",
     "output_type": "stream",
     "text": [
      " pid=16472)\u001b[0m Early stopping at epoch: 5\n"
     ]
    },
    {
     "name": "stderr",
     "output_type": "stream",
     "text": [
      " 17%|█▋        | 5/30 [13:40<1:08:20, 164.02s/it]\n",
      "2022-08-11 19:55:43,327\tINFO logger.py:699 -- Removed the following hyperparameter values when logging to tensorboard: {'modelType': <ModelType.LSTM: 0>, 'dataset': <DatasetSize.Experimental: 8>}\n",
      "2022-08-11 19:55:43,357\tINFO trial.py:179 -- Creating a new dirname LSTM_Experimental_11_08_2022-17_06_18_dc48 because trial dirname 'LSTM_Experimental_11_08_2022-17_06_18' already exists.\n"
     ]
    },
    {
     "name": "stdout",
     "output_type": "stream",
     "text": [
      " pid=16472)\u001b[0m Best trial test set loss: 12.714301109313965\n"
     ]
    },
    {
     "name": "stderr",
     "output_type": "stream",
     "text": [
      "\u001b[2m\u001b[36m(pid=16472)\u001b[0m Windows fatal exception: access violation\n",
      "\u001b[2m\u001b[36m(pid=16472)\u001b[0m \n",
      "  0%|          | 0/30 [00:00<?, ?it/s]\n"
     ]
    },
    {
     "name": "stdout",
     "output_type": "stream",
     "text": [
      " pid=3492)\u001b[0m Epoch 0 : Validation loss 12.873064994812012 ; Train loss 14.859712600708008;\n"
     ]
    },
    {
     "name": "stderr",
     "output_type": "stream",
     "text": [
      "  3%|▎         | 1/30 [02:01<58:37, 121.31s/it]\n"
     ]
    },
    {
     "name": "stdout",
     "output_type": "stream",
     "text": [
      " pid=3492)\u001b[0m Epoch 1 : Validation loss 13.985148429870605 ; Train loss 9.829727172851562;\n"
     ]
    },
    {
     "name": "stderr",
     "output_type": "stream",
     "text": [
      "  7%|▋         | 2/30 [04:03<56:46, 121.65s/it]\n"
     ]
    },
    {
     "name": "stdout",
     "output_type": "stream",
     "text": [
      " pid=3492)\u001b[0m Epoch 2 : Validation loss 14.59372615814209 ; Train loss 9.951793670654297;\n"
     ]
    },
    {
     "name": "stderr",
     "output_type": "stream",
     "text": [
      " 10%|█         | 3/30 [06:05<54:52, 121.96s/it]\n"
     ]
    },
    {
     "name": "stdout",
     "output_type": "stream",
     "text": [
      " pid=3492)\u001b[0m Epoch 3 : Validation loss 14.631285667419434 ; Train loss 9.97275161743164;\n"
     ]
    },
    {
     "name": "stderr",
     "output_type": "stream",
     "text": [
      " 13%|█▎        | 4/30 [08:08<53:01, 122.35s/it]\n"
     ]
    },
    {
     "name": "stdout",
     "output_type": "stream",
     "text": [
      " pid=3492)\u001b[0m Epoch 4 : Validation loss 14.63089370727539 ; Train loss 9.9765043258667;\n"
     ]
    },
    {
     "name": "stderr",
     "output_type": "stream",
     "text": [
      " 17%|█▋        | 5/30 [10:10<50:55, 122.21s/it]\n"
     ]
    },
    {
     "name": "stdout",
     "output_type": "stream",
     "text": [
      " pid=3492)\u001b[0m Early stopping at epoch: 5\n"
     ]
    },
    {
     "name": "stderr",
     "output_type": "stream",
     "text": [
      " 17%|█▋        | 5/30 [13:48<1:09:03, 165.76s/it]\n",
      "2022-08-11 20:09:39,132\tINFO logger.py:699 -- Removed the following hyperparameter values when logging to tensorboard: {'modelType': <ModelType.LSTM: 0>, 'dataset': <DatasetSize.Experimental: 8>}\n",
      "2022-08-11 20:09:39,149\tINFO trial.py:179 -- Creating a new dirname LSTM_Experimental_11_08_2022-17_06_18_d7e8 because trial dirname 'LSTM_Experimental_11_08_2022-17_06_18' already exists.\n"
     ]
    },
    {
     "name": "stdout",
     "output_type": "stream",
     "text": [
      " pid=3492)\u001b[0m Best trial test set loss: 12.873064994812012\n"
     ]
    },
    {
     "name": "stderr",
     "output_type": "stream",
     "text": [
      "\u001b[2m\u001b[36m(pid=3492)\u001b[0m Windows fatal exception: access violation\n",
      "\u001b[2m\u001b[36m(pid=3492)\u001b[0m \n",
      "  0%|          | 0/30 [00:00<?, ?it/s]\n"
     ]
    },
    {
     "name": "stdout",
     "output_type": "stream",
     "text": [
      " pid=15780)\u001b[0m Epoch 0 : Validation loss 12.576854705810547 ; Train loss 14.829753875732422;\n"
     ]
    },
    {
     "name": "stderr",
     "output_type": "stream",
     "text": [
      "  3%|▎         | 1/30 [02:05<1:00:25, 125.02s/it]\n"
     ]
    },
    {
     "name": "stdout",
     "output_type": "stream",
     "text": [
      " pid=15780)\u001b[0m Epoch 1 : Validation loss 14.68310546875 ; Train loss 9.84494400024414;\n"
     ]
    },
    {
     "name": "stderr",
     "output_type": "stream",
     "text": [
      "  7%|▋         | 2/30 [04:07<57:41, 123.61s/it]  \n"
     ]
    },
    {
     "name": "stdout",
     "output_type": "stream",
     "text": [
      " pid=15780)\u001b[0m Epoch 2 : Validation loss 14.626602172851562 ; Train loss 9.983749389648438;\n"
     ]
    },
    {
     "name": "stderr",
     "output_type": "stream",
     "text": [
      " 10%|█         | 3/30 [06:11<55:37, 123.61s/it]\n"
     ]
    },
    {
     "name": "stdout",
     "output_type": "stream",
     "text": [
      " pid=15780)\u001b[0m Epoch 3 : Validation loss 14.59467601776123 ; Train loss 9.976739883422852;\n"
     ]
    },
    {
     "name": "stderr",
     "output_type": "stream",
     "text": [
      " 13%|█▎        | 4/30 [08:14<53:32, 123.55s/it]\n"
     ]
    },
    {
     "name": "stdout",
     "output_type": "stream",
     "text": [
      " pid=15780)\u001b[0m Epoch 4 : Validation loss 14.627500534057617 ; Train loss 9.974006652832031;\n"
     ]
    },
    {
     "name": "stderr",
     "output_type": "stream",
     "text": [
      " 17%|█▋        | 5/30 [10:16<51:16, 123.07s/it]\n"
     ]
    },
    {
     "name": "stdout",
     "output_type": "stream",
     "text": [
      " pid=15780)\u001b[0m Early stopping at epoch: 5\n"
     ]
    },
    {
     "name": "stderr",
     "output_type": "stream",
     "text": [
      " 17%|█▋        | 5/30 [13:51<1:09:16, 166.28s/it]\n",
      "2022-08-11 20:23:37,583\tINFO logger.py:699 -- Removed the following hyperparameter values when logging to tensorboard: {'modelType': <ModelType.LSTM: 0>, 'dataset': <DatasetSize.Experimental: 8>}\n"
     ]
    },
    {
     "name": "stdout",
     "output_type": "stream",
     "text": [
      " pid=15780)\u001b[0m Best trial test set loss: 12.576854705810547\n"
     ]
    },
    {
     "name": "stderr",
     "output_type": "stream",
     "text": [
      "\u001b[2m\u001b[36m(pid=15780)\u001b[0m Windows fatal exception: access violation\n",
      "\u001b[2m\u001b[36m(pid=15780)\u001b[0m \n",
      "  0%|          | 0/30 [00:00<?, ?it/s]\n"
     ]
    },
    {
     "name": "stdout",
     "output_type": "stream",
     "text": [
      " pid=17248)\u001b[0m Epoch 0 : Validation loss 12.670714378356934 ; Train loss 14.837845802307129;\n"
     ]
    },
    {
     "name": "stderr",
     "output_type": "stream",
     "text": [
      "  3%|▎         | 1/30 [01:53<54:47, 113.36s/it]\n"
     ]
    },
    {
     "name": "stdout",
     "output_type": "stream",
     "text": [
      " pid=17248)\u001b[0m Epoch 1 : Validation loss 14.51761245727539 ; Train loss 9.8604154586792;\n"
     ]
    },
    {
     "name": "stderr",
     "output_type": "stream",
     "text": [
      "  7%|▋         | 2/30 [03:42<51:44, 110.89s/it]\n"
     ]
    },
    {
     "name": "stdout",
     "output_type": "stream",
     "text": [
      " pid=17248)\u001b[0m Epoch 2 : Validation loss 13.671574592590332 ; Train loss 9.570472717285156;\n"
     ]
    },
    {
     "name": "stderr",
     "output_type": "stream",
     "text": [
      " 10%|█         | 3/30 [05:31<49:34, 110.18s/it]\n"
     ]
    },
    {
     "name": "stdout",
     "output_type": "stream",
     "text": [
      " pid=17248)\u001b[0m Epoch 3 : Validation loss 14.388040542602539 ; Train loss 9.210125923156738;\n"
     ]
    },
    {
     "name": "stderr",
     "output_type": "stream",
     "text": [
      " 13%|█▎        | 4/30 [07:21<47:39, 109.97s/it]\n"
     ]
    },
    {
     "name": "stdout",
     "output_type": "stream",
     "text": [
      " pid=17248)\u001b[0m Epoch 4 : Validation loss 14.551830291748047 ; Train loss 9.833429336547852;\n"
     ]
    },
    {
     "name": "stderr",
     "output_type": "stream",
     "text": [
      " 17%|█▋        | 5/30 [09:11<45:50, 110.03s/it]\n"
     ]
    },
    {
     "name": "stdout",
     "output_type": "stream",
     "text": [
      " pid=17248)\u001b[0m Early stopping at epoch: 5\n"
     ]
    },
    {
     "name": "stderr",
     "output_type": "stream",
     "text": [
      " 17%|█▋        | 5/30 [12:20<1:01:43, 148.15s/it]\n",
      "2022-08-11 20:36:05,629\tINFO logger.py:699 -- Removed the following hyperparameter values when logging to tensorboard: {'modelType': <ModelType.LSTM: 0>, 'dataset': <DatasetSize.Experimental: 8>}\n"
     ]
    },
    {
     "name": "stdout",
     "output_type": "stream",
     "text": [
      " pid=17248)\u001b[0m Best trial test set loss: 12.670714378356934\n"
     ]
    },
    {
     "name": "stderr",
     "output_type": "stream",
     "text": [
      "\u001b[2m\u001b[36m(pid=17248)\u001b[0m Windows fatal exception: access violation\n",
      "\u001b[2m\u001b[36m(pid=17248)\u001b[0m \n"
     ]
    },
    {
     "name": "stdout",
     "output_type": "stream",
     "text": [
      "Best trial config: {'epsilon': 0.3, 'sigma': 1, 'modelType': <ModelType.LSTM: 0>, 'dataset': <DatasetSize.Experimental: 8>}\n",
      "Best trial for LSTM model final validation loss: 13.773152351379395\n"
     ]
    },
    {
     "name": "stderr",
     "output_type": "stream",
     "text": [
      "2022-08-11 20:36:10,569\tINFO trial.py:179 -- Creating a new dirname DCRNN_Experimental_11_08_2022-20_36_05_d866 because trial dirname 'DCRNN_Experimental_11_08_2022-20_36_05' already exists.\n",
      "\u001b[2m\u001b[36m(pid=14832)\u001b[0m 2022-08-11 20:36:12,449\tERROR function_runner.py:266 -- Runner Thread raised error.\n",
      "\u001b[2m\u001b[36m(pid=14832)\u001b[0m Traceback (most recent call last):\n",
      "\u001b[2m\u001b[36m(pid=14832)\u001b[0m   File \"c:\\Users\\Sebi\\anaconda3\\envs\\Dissertation\\lib\\site-packages\\ray\\tune\\function_runner.py\", line 260, in run\n",
      "\u001b[2m\u001b[36m(pid=14832)\u001b[0m     self._entrypoint()\n",
      "\u001b[2m\u001b[36m(pid=14832)\u001b[0m   File \"c:\\Users\\Sebi\\anaconda3\\envs\\Dissertation\\lib\\site-packages\\ray\\tune\\function_runner.py\", line 328, in entrypoint\n",
      "\u001b[2m\u001b[36m(pid=14832)\u001b[0m     return self._trainable_func(self.config, self._status_reporter,\n",
      "\u001b[2m\u001b[36m(pid=14832)\u001b[0m   File \"c:\\Users\\Sebi\\anaconda3\\envs\\Dissertation\\lib\\site-packages\\ray\\util\\tracing\\tracing_helper.py\", line 449, in _resume_span\n",
      "\u001b[2m\u001b[36m(pid=14832)\u001b[0m     return method(self, *_args, **_kwargs)\n",
      "\u001b[2m\u001b[36m(pid=14832)\u001b[0m   File \"c:\\Users\\Sebi\\anaconda3\\envs\\Dissertation\\lib\\site-packages\\ray\\tune\\function_runner.py\", line 594, in _trainable_func\n",
      "\u001b[2m\u001b[36m(pid=14832)\u001b[0m     output = fn()\n",
      "\u001b[2m\u001b[36m(pid=14832)\u001b[0m   File \"c:\\Users\\Sebi\\anaconda3\\envs\\Dissertation\\lib\\site-packages\\ray\\tune\\utils\\trainable.py\", line 344, in inner\n",
      "\u001b[2m\u001b[36m(pid=14832)\u001b[0m     trainable(config, **fn_kwargs)\n",
      "\u001b[2m\u001b[36m(pid=14832)\u001b[0m   File \"C:\\Users\\Sebi\\AppData\\Local\\Temp\\ipykernel_1976\\2506088845.py\", line 6, in start_train\n",
      "\u001b[2m\u001b[36m(pid=14832)\u001b[0m   File \"C:\\Users\\Sebi\\AppData\\Local\\Temp\\ipykernel_1976\\4288630710.py\", line 22, in __init__\n",
      "\u001b[2m\u001b[36m(pid=14832)\u001b[0m AttributeError: 'str' object has no attribute 'name'\n",
      "\u001b[2m\u001b[36m(pid=14832)\u001b[0m Exception in thread Thread-2:\n",
      "\u001b[2m\u001b[36m(pid=14832)\u001b[0m Traceback (most recent call last):\n",
      "\u001b[2m\u001b[36m(pid=14832)\u001b[0m   File \"c:\\Users\\Sebi\\anaconda3\\envs\\Dissertation\\lib\\threading.py\", line 932, in _bootstrap_inner\n",
      "\u001b[2m\u001b[36m(pid=14832)\u001b[0m     self.run()\n",
      "\u001b[2m\u001b[36m(pid=14832)\u001b[0m   File \"c:\\Users\\Sebi\\anaconda3\\envs\\Dissertation\\lib\\site-packages\\ray\\tune\\function_runner.py\", line 279, in run\n",
      "\u001b[2m\u001b[36m(pid=14832)\u001b[0m     raise e\n",
      "\u001b[2m\u001b[36m(pid=14832)\u001b[0m   File \"c:\\Users\\Sebi\\anaconda3\\envs\\Dissertation\\lib\\site-packages\\ray\\tune\\function_runner.py\", line 260, in run\n",
      "\u001b[2m\u001b[36m(pid=14832)\u001b[0m     self._entrypoint()\n",
      "\u001b[2m\u001b[36m(pid=14832)\u001b[0m   File \"c:\\Users\\Sebi\\anaconda3\\envs\\Dissertation\\lib\\site-packages\\ray\\tune\\function_runner.py\", line 328, in entrypoint\n",
      "\u001b[2m\u001b[36m(pid=14832)\u001b[0m     return self._trainable_func(self.config, self._status_reporter,\n",
      "\u001b[2m\u001b[36m(pid=14832)\u001b[0m   File \"c:\\Users\\Sebi\\anaconda3\\envs\\Dissertation\\lib\\site-packages\\ray\\util\\tracing\\tracing_helper.py\", line 449, in _resume_span\n",
      "\u001b[2m\u001b[36m(pid=14832)\u001b[0m     return method(self, *_args, **_kwargs)\n",
      "\u001b[2m\u001b[36m(pid=14832)\u001b[0m   File \"c:\\Users\\Sebi\\anaconda3\\envs\\Dissertation\\lib\\site-packages\\ray\\tune\\function_runner.py\", line 594, in _trainable_func\n",
      "\u001b[2m\u001b[36m(pid=14832)\u001b[0m     output = fn()\n",
      "\u001b[2m\u001b[36m(pid=14832)\u001b[0m   File \"c:\\Users\\Sebi\\anaconda3\\envs\\Dissertation\\lib\\site-packages\\ray\\tune\\utils\\trainable.py\", line 344, in inner\n",
      "\u001b[2m\u001b[36m(pid=14832)\u001b[0m     trainable(config, **fn_kwargs)\n",
      "\u001b[2m\u001b[36m(pid=14832)\u001b[0m   File \"C:\\Users\\Sebi\\AppData\\Local\\Temp\\ipykernel_1976\\2506088845.py\", line 6, in start_train\n",
      "\u001b[2m\u001b[36m(pid=14832)\u001b[0m   File \"C:\\Users\\Sebi\\AppData\\Local\\Temp\\ipykernel_1976\\4288630710.py\", line 22, in __init__\n",
      "\u001b[2m\u001b[36m(pid=14832)\u001b[0m AttributeError: 'str' object has no attribute 'name'\n",
      "2022-08-11 20:36:12,659\tERROR trial_runner.py:846 -- Trial DCRNN_Experimental_Geodesic_13f6a_00000: Error processing event.\n",
      "Traceback (most recent call last):\n",
      "  File \"c:\\Users\\Sebi\\anaconda3\\envs\\Dissertation\\lib\\site-packages\\ray\\tune\\trial_runner.py\", line 812, in _process_trial\n",
      "    results = self.trial_executor.fetch_result(trial)\n",
      "  File \"c:\\Users\\Sebi\\anaconda3\\envs\\Dissertation\\lib\\site-packages\\ray\\tune\\ray_trial_executor.py\", line 767, in fetch_result\n",
      "    result = ray.get(trial_future[0], timeout=DEFAULT_GET_TIMEOUT)\n",
      "  File \"c:\\Users\\Sebi\\anaconda3\\envs\\Dissertation\\lib\\site-packages\\ray\\_private\\client_mode_hook.py\", line 89, in wrapper\n",
      "    return func(*args, **kwargs)\n",
      "  File \"c:\\Users\\Sebi\\anaconda3\\envs\\Dissertation\\lib\\site-packages\\ray\\worker.py\", line 1621, in get\n",
      "    raise value.as_instanceof_cause()\n",
      "ray.exceptions.RayTaskError(TuneError): \u001b[36mray::ImplicitFunc.train_buffered()\u001b[39m (pid=14832, ip=192.168.1.185, repr=<ray.tune.function_runner.ImplicitFunc object at 0x00000159F3EB2E80>)\n",
      "  File \"python\\ray\\_raylet.pyx\", line 568, in ray._raylet.execute_task\n",
      "  File \"python\\ray\\_raylet.pyx\", line 572, in ray._raylet.execute_task\n",
      "  File \"python\\ray\\_raylet.pyx\", line 522, in ray._raylet.execute_task.function_executor\n",
      "  File \"c:\\Users\\Sebi\\anaconda3\\envs\\Dissertation\\lib\\site-packages\\ray\\_private\\function_manager.py\", line 579, in actor_method_executor\n",
      "    return method(__ray_actor, *args, **kwargs)\n",
      "  File \"c:\\Users\\Sebi\\anaconda3\\envs\\Dissertation\\lib\\site-packages\\ray\\util\\tracing\\tracing_helper.py\", line 449, in _resume_span\n",
      "    return method(self, *_args, **_kwargs)\n",
      "  File \"c:\\Users\\Sebi\\anaconda3\\envs\\Dissertation\\lib\\site-packages\\ray\\tune\\trainable.py\", line 189, in train_buffered\n",
      "    result = self.train()\n",
      "  File \"c:\\Users\\Sebi\\anaconda3\\envs\\Dissertation\\lib\\site-packages\\ray\\util\\tracing\\tracing_helper.py\", line 449, in _resume_span\n",
      "    return method(self, *_args, **_kwargs)\n",
      "  File \"c:\\Users\\Sebi\\anaconda3\\envs\\Dissertation\\lib\\site-packages\\ray\\tune\\trainable.py\", line 248, in train\n",
      "    result = self.step()\n",
      "  File \"c:\\Users\\Sebi\\anaconda3\\envs\\Dissertation\\lib\\site-packages\\ray\\util\\tracing\\tracing_helper.py\", line 449, in _resume_span\n",
      "    return method(self, *_args, **_kwargs)\n",
      "  File \"c:\\Users\\Sebi\\anaconda3\\envs\\Dissertation\\lib\\site-packages\\ray\\tune\\function_runner.py\", line 379, in step\n",
      "    self._report_thread_runner_error(block=True)\n",
      "  File \"c:\\Users\\Sebi\\anaconda3\\envs\\Dissertation\\lib\\site-packages\\ray\\util\\tracing\\tracing_helper.py\", line 449, in _resume_span\n",
      "    return method(self, *_args, **_kwargs)\n",
      "  File \"c:\\Users\\Sebi\\anaconda3\\envs\\Dissertation\\lib\\site-packages\\ray\\tune\\function_runner.py\", line 526, in _report_thread_runner_error\n",
      "    raise TuneError(\n",
      "ray.tune.error.TuneError: Trial raised an exception. Traceback:\n",
      "\u001b[36mray::ImplicitFunc.train_buffered()\u001b[39m (pid=14832, ip=192.168.1.185, repr=<ray.tune.function_runner.ImplicitFunc object at 0x00000159F3EB2E80>)\n",
      "  File \"c:\\Users\\Sebi\\anaconda3\\envs\\Dissertation\\lib\\site-packages\\ray\\tune\\function_runner.py\", line 260, in run\n",
      "    self._entrypoint()\n",
      "  File \"c:\\Users\\Sebi\\anaconda3\\envs\\Dissertation\\lib\\site-packages\\ray\\tune\\function_runner.py\", line 328, in entrypoint\n",
      "    return self._trainable_func(self.config, self._status_reporter,\n",
      "  File \"c:\\Users\\Sebi\\anaconda3\\envs\\Dissertation\\lib\\site-packages\\ray\\util\\tracing\\tracing_helper.py\", line 449, in _resume_span\n",
      "    return method(self, *_args, **_kwargs)\n",
      "  File \"c:\\Users\\Sebi\\anaconda3\\envs\\Dissertation\\lib\\site-packages\\ray\\tune\\function_runner.py\", line 594, in _trainable_func\n",
      "    output = fn()\n",
      "  File \"c:\\Users\\Sebi\\anaconda3\\envs\\Dissertation\\lib\\site-packages\\ray\\tune\\utils\\trainable.py\", line 344, in inner\n",
      "    trainable(config, **fn_kwargs)\n",
      "  File \"C:\\Users\\Sebi\\AppData\\Local\\Temp\\ipykernel_1976\\2506088845.py\", line 6, in start_train\n",
      "  File \"C:\\Users\\Sebi\\AppData\\Local\\Temp\\ipykernel_1976\\4288630710.py\", line 22, in __init__\n",
      "AttributeError: 'str' object has no attribute 'name'\n",
      "2022-08-11 20:36:12,676\tINFO trial.py:179 -- Creating a new dirname DCRNN_Experimental_11_08_2022-20_36_05_f30b because trial dirname 'DCRNN_Experimental_11_08_2022-20_36_05' already exists.\n",
      "\u001b[2m\u001b[36m(pid=14832)\u001b[0m Windows fatal exception: access violation\n",
      "\u001b[2m\u001b[36m(pid=14832)\u001b[0m \n",
      "\u001b[2m\u001b[36m(pid=16556)\u001b[0m 2022-08-11 20:36:18,976\tERROR function_runner.py:266 -- Runner Thread raised error.\n",
      "\u001b[2m\u001b[36m(pid=16556)\u001b[0m Traceback (most recent call last):\n",
      "\u001b[2m\u001b[36m(pid=16556)\u001b[0m   File \"c:\\Users\\Sebi\\anaconda3\\envs\\Dissertation\\lib\\site-packages\\ray\\tune\\function_runner.py\", line 260, in run\n",
      "\u001b[2m\u001b[36m(pid=16556)\u001b[0m     self._entrypoint()\n",
      "\u001b[2m\u001b[36m(pid=16556)\u001b[0m   File \"c:\\Users\\Sebi\\anaconda3\\envs\\Dissertation\\lib\\site-packages\\ray\\tune\\function_runner.py\", line 328, in entrypoint\n",
      "\u001b[2m\u001b[36m(pid=16556)\u001b[0m     return self._trainable_func(self.config, self._status_reporter,\n",
      "\u001b[2m\u001b[36m(pid=16556)\u001b[0m   File \"c:\\Users\\Sebi\\anaconda3\\envs\\Dissertation\\lib\\site-packages\\ray\\util\\tracing\\tracing_helper.py\", line 449, in _resume_span\n",
      "\u001b[2m\u001b[36m(pid=16556)\u001b[0m     return method(self, *_args, **_kwargs)\n",
      "\u001b[2m\u001b[36m(pid=16556)\u001b[0m   File \"c:\\Users\\Sebi\\anaconda3\\envs\\Dissertation\\lib\\site-packages\\ray\\tune\\function_runner.py\", line 594, in _trainable_func\n",
      "\u001b[2m\u001b[36m(pid=16556)\u001b[0m     output = fn()\n",
      "\u001b[2m\u001b[36m(pid=16556)\u001b[0m   File \"c:\\Users\\Sebi\\anaconda3\\envs\\Dissertation\\lib\\site-packages\\ray\\tune\\utils\\trainable.py\", line 344, in inner\n",
      "\u001b[2m\u001b[36m(pid=16556)\u001b[0m     trainable(config, **fn_kwargs)\n",
      "\u001b[2m\u001b[36m(pid=16556)\u001b[0m   File \"C:\\Users\\Sebi\\AppData\\Local\\Temp\\ipykernel_1976\\2506088845.py\", line 6, in start_train\n",
      "\u001b[2m\u001b[36m(pid=16556)\u001b[0m   File \"C:\\Users\\Sebi\\AppData\\Local\\Temp\\ipykernel_1976\\4288630710.py\", line 22, in __init__\n",
      "\u001b[2m\u001b[36m(pid=16556)\u001b[0m AttributeError: 'str' object has no attribute 'name'\n",
      "\u001b[2m\u001b[36m(pid=16556)\u001b[0m Exception in thread Thread-2:\n",
      "\u001b[2m\u001b[36m(pid=16556)\u001b[0m Traceback (most recent call last):\n",
      "\u001b[2m\u001b[36m(pid=16556)\u001b[0m   File \"c:\\Users\\Sebi\\anaconda3\\envs\\Dissertation\\lib\\threading.py\", line 932, in _bootstrap_inner\n",
      "\u001b[2m\u001b[36m(pid=16556)\u001b[0m     self.run()\n",
      "\u001b[2m\u001b[36m(pid=16556)\u001b[0m   File \"c:\\Users\\Sebi\\anaconda3\\envs\\Dissertation\\lib\\site-packages\\ray\\tune\\function_runner.py\", line 279, in run\n",
      "\u001b[2m\u001b[36m(pid=16556)\u001b[0m     raise e\n",
      "\u001b[2m\u001b[36m(pid=16556)\u001b[0m   File \"c:\\Users\\Sebi\\anaconda3\\envs\\Dissertation\\lib\\site-packages\\ray\\tune\\function_runner.py\", line 260, in run\n",
      "\u001b[2m\u001b[36m(pid=16556)\u001b[0m     self._entrypoint()\n",
      "\u001b[2m\u001b[36m(pid=16556)\u001b[0m   File \"c:\\Users\\Sebi\\anaconda3\\envs\\Dissertation\\lib\\site-packages\\ray\\tune\\function_runner.py\", line 328, in entrypoint\n",
      "\u001b[2m\u001b[36m(pid=16556)\u001b[0m     return self._trainable_func(self.config, self._status_reporter,\n",
      "\u001b[2m\u001b[36m(pid=16556)\u001b[0m   File \"c:\\Users\\Sebi\\anaconda3\\envs\\Dissertation\\lib\\site-packages\\ray\\util\\tracing\\tracing_helper.py\", line 449, in _resume_span\n",
      "\u001b[2m\u001b[36m(pid=16556)\u001b[0m     return method(self, *_args, **_kwargs)\n",
      "\u001b[2m\u001b[36m(pid=16556)\u001b[0m   File \"c:\\Users\\Sebi\\anaconda3\\envs\\Dissertation\\lib\\site-packages\\ray\\tune\\function_runner.py\", line 594, in _trainable_func\n",
      "\u001b[2m\u001b[36m(pid=16556)\u001b[0m     output = fn()\n",
      "\u001b[2m\u001b[36m(pid=16556)\u001b[0m   File \"c:\\Users\\Sebi\\anaconda3\\envs\\Dissertation\\lib\\site-packages\\ray\\tune\\utils\\trainable.py\", line 344, in inner\n",
      "\u001b[2m\u001b[36m(pid=16556)\u001b[0m     trainable(config, **fn_kwargs)\n",
      "\u001b[2m\u001b[36m(pid=16556)\u001b[0m   File \"C:\\Users\\Sebi\\AppData\\Local\\Temp\\ipykernel_1976\\2506088845.py\", line 6, in start_train\n",
      "\u001b[2m\u001b[36m(pid=16556)\u001b[0m   File \"C:\\Users\\Sebi\\AppData\\Local\\Temp\\ipykernel_1976\\4288630710.py\", line 22, in __init__\n",
      "\u001b[2m\u001b[36m(pid=16556)\u001b[0m AttributeError: 'str' object has no attribute 'name'\n",
      "2022-08-11 20:36:19,184\tERROR trial_runner.py:846 -- Trial DCRNN_Experimental_Geodesic_13f6a_00001: Error processing event.\n",
      "Traceback (most recent call last):\n",
      "  File \"c:\\Users\\Sebi\\anaconda3\\envs\\Dissertation\\lib\\site-packages\\ray\\tune\\trial_runner.py\", line 812, in _process_trial\n",
      "    results = self.trial_executor.fetch_result(trial)\n",
      "  File \"c:\\Users\\Sebi\\anaconda3\\envs\\Dissertation\\lib\\site-packages\\ray\\tune\\ray_trial_executor.py\", line 767, in fetch_result\n",
      "    result = ray.get(trial_future[0], timeout=DEFAULT_GET_TIMEOUT)\n",
      "  File \"c:\\Users\\Sebi\\anaconda3\\envs\\Dissertation\\lib\\site-packages\\ray\\_private\\client_mode_hook.py\", line 89, in wrapper\n",
      "    return func(*args, **kwargs)\n",
      "  File \"c:\\Users\\Sebi\\anaconda3\\envs\\Dissertation\\lib\\site-packages\\ray\\worker.py\", line 1621, in get\n",
      "    raise value.as_instanceof_cause()\n",
      "ray.exceptions.RayTaskError(TuneError): \u001b[36mray::ImplicitFunc.train_buffered()\u001b[39m (pid=16556, ip=192.168.1.185, repr=<ray.tune.function_runner.ImplicitFunc object at 0x00000222A037FDC0>)\n",
      "  File \"python\\ray\\_raylet.pyx\", line 568, in ray._raylet.execute_task\n",
      "  File \"python\\ray\\_raylet.pyx\", line 572, in ray._raylet.execute_task\n",
      "  File \"python\\ray\\_raylet.pyx\", line 522, in ray._raylet.execute_task.function_executor\n",
      "  File \"c:\\Users\\Sebi\\anaconda3\\envs\\Dissertation\\lib\\site-packages\\ray\\_private\\function_manager.py\", line 579, in actor_method_executor\n",
      "    return method(__ray_actor, *args, **kwargs)\n",
      "  File \"c:\\Users\\Sebi\\anaconda3\\envs\\Dissertation\\lib\\site-packages\\ray\\util\\tracing\\tracing_helper.py\", line 449, in _resume_span\n",
      "    return method(self, *_args, **_kwargs)\n",
      "  File \"c:\\Users\\Sebi\\anaconda3\\envs\\Dissertation\\lib\\site-packages\\ray\\tune\\trainable.py\", line 189, in train_buffered\n",
      "    result = self.train()\n",
      "  File \"c:\\Users\\Sebi\\anaconda3\\envs\\Dissertation\\lib\\site-packages\\ray\\util\\tracing\\tracing_helper.py\", line 449, in _resume_span\n",
      "    return method(self, *_args, **_kwargs)\n",
      "  File \"c:\\Users\\Sebi\\anaconda3\\envs\\Dissertation\\lib\\site-packages\\ray\\tune\\trainable.py\", line 248, in train\n",
      "    result = self.step()\n",
      "  File \"c:\\Users\\Sebi\\anaconda3\\envs\\Dissertation\\lib\\site-packages\\ray\\util\\tracing\\tracing_helper.py\", line 449, in _resume_span\n",
      "    return method(self, *_args, **_kwargs)\n",
      "  File \"c:\\Users\\Sebi\\anaconda3\\envs\\Dissertation\\lib\\site-packages\\ray\\tune\\function_runner.py\", line 379, in step\n",
      "    self._report_thread_runner_error(block=True)\n",
      "  File \"c:\\Users\\Sebi\\anaconda3\\envs\\Dissertation\\lib\\site-packages\\ray\\util\\tracing\\tracing_helper.py\", line 449, in _resume_span\n",
      "    return method(self, *_args, **_kwargs)\n",
      "  File \"c:\\Users\\Sebi\\anaconda3\\envs\\Dissertation\\lib\\site-packages\\ray\\tune\\function_runner.py\", line 526, in _report_thread_runner_error\n",
      "    raise TuneError(\n",
      "ray.tune.error.TuneError: Trial raised an exception. Traceback:\n",
      "\u001b[36mray::ImplicitFunc.train_buffered()\u001b[39m (pid=16556, ip=192.168.1.185, repr=<ray.tune.function_runner.ImplicitFunc object at 0x00000222A037FDC0>)\n",
      "  File \"c:\\Users\\Sebi\\anaconda3\\envs\\Dissertation\\lib\\site-packages\\ray\\tune\\function_runner.py\", line 260, in run\n",
      "    self._entrypoint()\n",
      "  File \"c:\\Users\\Sebi\\anaconda3\\envs\\Dissertation\\lib\\site-packages\\ray\\tune\\function_runner.py\", line 328, in entrypoint\n",
      "    return self._trainable_func(self.config, self._status_reporter,\n",
      "  File \"c:\\Users\\Sebi\\anaconda3\\envs\\Dissertation\\lib\\site-packages\\ray\\util\\tracing\\tracing_helper.py\", line 449, in _resume_span\n",
      "    return method(self, *_args, **_kwargs)\n",
      "  File \"c:\\Users\\Sebi\\anaconda3\\envs\\Dissertation\\lib\\site-packages\\ray\\tune\\function_runner.py\", line 594, in _trainable_func\n",
      "    output = fn()\n",
      "  File \"c:\\Users\\Sebi\\anaconda3\\envs\\Dissertation\\lib\\site-packages\\ray\\tune\\utils\\trainable.py\", line 344, in inner\n",
      "    trainable(config, **fn_kwargs)\n",
      "  File \"C:\\Users\\Sebi\\AppData\\Local\\Temp\\ipykernel_1976\\2506088845.py\", line 6, in start_train\n",
      "  File \"C:\\Users\\Sebi\\AppData\\Local\\Temp\\ipykernel_1976\\4288630710.py\", line 22, in __init__\n",
      "AttributeError: 'str' object has no attribute 'name'\n",
      "2022-08-11 20:36:19,201\tINFO trial.py:179 -- Creating a new dirname DCRNN_Experimental_11_08_2022-20_36_05_cb7b because trial dirname 'DCRNN_Experimental_11_08_2022-20_36_05' already exists.\n",
      "\u001b[2m\u001b[36m(pid=16556)\u001b[0m Windows fatal exception: access violation\n",
      "\u001b[2m\u001b[36m(pid=16556)\u001b[0m \n",
      "\u001b[2m\u001b[36m(pid=17876)\u001b[0m 2022-08-11 20:36:25,510\tERROR function_runner.py:266 -- Runner Thread raised error.\n",
      "\u001b[2m\u001b[36m(pid=17876)\u001b[0m Traceback (most recent call last):\n",
      "\u001b[2m\u001b[36m(pid=17876)\u001b[0m   File \"c:\\Users\\Sebi\\anaconda3\\envs\\Dissertation\\lib\\site-packages\\ray\\tune\\function_runner.py\", line 260, in run\n",
      "\u001b[2m\u001b[36m(pid=17876)\u001b[0m     self._entrypoint()\n",
      "\u001b[2m\u001b[36m(pid=17876)\u001b[0m   File \"c:\\Users\\Sebi\\anaconda3\\envs\\Dissertation\\lib\\site-packages\\ray\\tune\\function_runner.py\", line 328, in entrypoint\n",
      "\u001b[2m\u001b[36m(pid=17876)\u001b[0m     return self._trainable_func(self.config, self._status_reporter,\n",
      "\u001b[2m\u001b[36m(pid=17876)\u001b[0m   File \"c:\\Users\\Sebi\\anaconda3\\envs\\Dissertation\\lib\\site-packages\\ray\\util\\tracing\\tracing_helper.py\", line 449, in _resume_span\n",
      "\u001b[2m\u001b[36m(pid=17876)\u001b[0m     return method(self, *_args, **_kwargs)\n",
      "\u001b[2m\u001b[36m(pid=17876)\u001b[0m   File \"c:\\Users\\Sebi\\anaconda3\\envs\\Dissertation\\lib\\site-packages\\ray\\tune\\function_runner.py\", line 594, in _trainable_func\n",
      "\u001b[2m\u001b[36m(pid=17876)\u001b[0m     output = fn()\n",
      "\u001b[2m\u001b[36m(pid=17876)\u001b[0m   File \"c:\\Users\\Sebi\\anaconda3\\envs\\Dissertation\\lib\\site-packages\\ray\\tune\\utils\\trainable.py\", line 344, in inner\n",
      "\u001b[2m\u001b[36m(pid=17876)\u001b[0m     trainable(config, **fn_kwargs)\n",
      "\u001b[2m\u001b[36m(pid=17876)\u001b[0m   File \"C:\\Users\\Sebi\\AppData\\Local\\Temp\\ipykernel_1976\\2506088845.py\", line 6, in start_train\n",
      "\u001b[2m\u001b[36m(pid=17876)\u001b[0m   File \"C:\\Users\\Sebi\\AppData\\Local\\Temp\\ipykernel_1976\\4288630710.py\", line 22, in __init__\n",
      "\u001b[2m\u001b[36m(pid=17876)\u001b[0m AttributeError: 'str' object has no attribute 'name'\n",
      "\u001b[2m\u001b[36m(pid=17876)\u001b[0m Exception in thread Thread-2:\n",
      "\u001b[2m\u001b[36m(pid=17876)\u001b[0m Traceback (most recent call last):\n",
      "\u001b[2m\u001b[36m(pid=17876)\u001b[0m   File \"c:\\Users\\Sebi\\anaconda3\\envs\\Dissertation\\lib\\threading.py\", line 932, in _bootstrap_inner\n",
      "\u001b[2m\u001b[36m(pid=17876)\u001b[0m     self.run()\n",
      "\u001b[2m\u001b[36m(pid=17876)\u001b[0m   File \"c:\\Users\\Sebi\\anaconda3\\envs\\Dissertation\\lib\\site-packages\\ray\\tune\\function_runner.py\", line 279, in run\n",
      "\u001b[2m\u001b[36m(pid=17876)\u001b[0m     raise e\n",
      "\u001b[2m\u001b[36m(pid=17876)\u001b[0m   File \"c:\\Users\\Sebi\\anaconda3\\envs\\Dissertation\\lib\\site-packages\\ray\\tune\\function_runner.py\", line 260, in run\n",
      "\u001b[2m\u001b[36m(pid=17876)\u001b[0m     self._entrypoint()\n",
      "\u001b[2m\u001b[36m(pid=17876)\u001b[0m   File \"c:\\Users\\Sebi\\anaconda3\\envs\\Dissertation\\lib\\site-packages\\ray\\tune\\function_runner.py\", line 328, in entrypoint\n",
      "\u001b[2m\u001b[36m(pid=17876)\u001b[0m     return self._trainable_func(self.config, self._status_reporter,\n",
      "\u001b[2m\u001b[36m(pid=17876)\u001b[0m   File \"c:\\Users\\Sebi\\anaconda3\\envs\\Dissertation\\lib\\site-packages\\ray\\util\\tracing\\tracing_helper.py\", line 449, in _resume_span\n",
      "\u001b[2m\u001b[36m(pid=17876)\u001b[0m     return method(self, *_args, **_kwargs)\n",
      "\u001b[2m\u001b[36m(pid=17876)\u001b[0m   File \"c:\\Users\\Sebi\\anaconda3\\envs\\Dissertation\\lib\\site-packages\\ray\\tune\\function_runner.py\", line 594, in _trainable_func\n",
      "\u001b[2m\u001b[36m(pid=17876)\u001b[0m     output = fn()\n",
      "\u001b[2m\u001b[36m(pid=17876)\u001b[0m   File \"c:\\Users\\Sebi\\anaconda3\\envs\\Dissertation\\lib\\site-packages\\ray\\tune\\utils\\trainable.py\", line 344, in inner\n",
      "\u001b[2m\u001b[36m(pid=17876)\u001b[0m     trainable(config, **fn_kwargs)\n",
      "\u001b[2m\u001b[36m(pid=17876)\u001b[0m   File \"C:\\Users\\Sebi\\AppData\\Local\\Temp\\ipykernel_1976\\2506088845.py\", line 6, in start_train\n",
      "\u001b[2m\u001b[36m(pid=17876)\u001b[0m   File \"C:\\Users\\Sebi\\AppData\\Local\\Temp\\ipykernel_1976\\4288630710.py\", line 22, in __init__\n",
      "\u001b[2m\u001b[36m(pid=17876)\u001b[0m AttributeError: 'str' object has no attribute 'name'\n",
      "2022-08-11 20:36:25,730\tERROR trial_runner.py:846 -- Trial DCRNN_Experimental_Geodesic_13f6a_00002: Error processing event.\n",
      "Traceback (most recent call last):\n",
      "  File \"c:\\Users\\Sebi\\anaconda3\\envs\\Dissertation\\lib\\site-packages\\ray\\tune\\trial_runner.py\", line 812, in _process_trial\n",
      "    results = self.trial_executor.fetch_result(trial)\n",
      "  File \"c:\\Users\\Sebi\\anaconda3\\envs\\Dissertation\\lib\\site-packages\\ray\\tune\\ray_trial_executor.py\", line 767, in fetch_result\n",
      "    result = ray.get(trial_future[0], timeout=DEFAULT_GET_TIMEOUT)\n",
      "  File \"c:\\Users\\Sebi\\anaconda3\\envs\\Dissertation\\lib\\site-packages\\ray\\_private\\client_mode_hook.py\", line 89, in wrapper\n",
      "    return func(*args, **kwargs)\n",
      "  File \"c:\\Users\\Sebi\\anaconda3\\envs\\Dissertation\\lib\\site-packages\\ray\\worker.py\", line 1621, in get\n",
      "    raise value.as_instanceof_cause()\n",
      "ray.exceptions.RayTaskError(TuneError): \u001b[36mray::ImplicitFunc.train_buffered()\u001b[39m (pid=17876, ip=192.168.1.185, repr=<ray.tune.function_runner.ImplicitFunc object at 0x00000271F3FFEDC0>)\n",
      "  File \"python\\ray\\_raylet.pyx\", line 568, in ray._raylet.execute_task\n",
      "  File \"python\\ray\\_raylet.pyx\", line 572, in ray._raylet.execute_task\n",
      "  File \"python\\ray\\_raylet.pyx\", line 522, in ray._raylet.execute_task.function_executor\n",
      "  File \"c:\\Users\\Sebi\\anaconda3\\envs\\Dissertation\\lib\\site-packages\\ray\\_private\\function_manager.py\", line 579, in actor_method_executor\n",
      "    return method(__ray_actor, *args, **kwargs)\n",
      "  File \"c:\\Users\\Sebi\\anaconda3\\envs\\Dissertation\\lib\\site-packages\\ray\\util\\tracing\\tracing_helper.py\", line 449, in _resume_span\n",
      "    return method(self, *_args, **_kwargs)\n",
      "  File \"c:\\Users\\Sebi\\anaconda3\\envs\\Dissertation\\lib\\site-packages\\ray\\tune\\trainable.py\", line 189, in train_buffered\n",
      "    result = self.train()\n",
      "  File \"c:\\Users\\Sebi\\anaconda3\\envs\\Dissertation\\lib\\site-packages\\ray\\util\\tracing\\tracing_helper.py\", line 449, in _resume_span\n",
      "    return method(self, *_args, **_kwargs)\n",
      "  File \"c:\\Users\\Sebi\\anaconda3\\envs\\Dissertation\\lib\\site-packages\\ray\\tune\\trainable.py\", line 248, in train\n",
      "    result = self.step()\n",
      "  File \"c:\\Users\\Sebi\\anaconda3\\envs\\Dissertation\\lib\\site-packages\\ray\\util\\tracing\\tracing_helper.py\", line 449, in _resume_span\n",
      "    return method(self, *_args, **_kwargs)\n",
      "  File \"c:\\Users\\Sebi\\anaconda3\\envs\\Dissertation\\lib\\site-packages\\ray\\tune\\function_runner.py\", line 379, in step\n",
      "    self._report_thread_runner_error(block=True)\n",
      "  File \"c:\\Users\\Sebi\\anaconda3\\envs\\Dissertation\\lib\\site-packages\\ray\\util\\tracing\\tracing_helper.py\", line 449, in _resume_span\n",
      "    return method(self, *_args, **_kwargs)\n",
      "  File \"c:\\Users\\Sebi\\anaconda3\\envs\\Dissertation\\lib\\site-packages\\ray\\tune\\function_runner.py\", line 526, in _report_thread_runner_error\n",
      "    raise TuneError(\n",
      "ray.tune.error.TuneError: Trial raised an exception. Traceback:\n",
      "\u001b[36mray::ImplicitFunc.train_buffered()\u001b[39m (pid=17876, ip=192.168.1.185, repr=<ray.tune.function_runner.ImplicitFunc object at 0x00000271F3FFEDC0>)\n",
      "  File \"c:\\Users\\Sebi\\anaconda3\\envs\\Dissertation\\lib\\site-packages\\ray\\tune\\function_runner.py\", line 260, in run\n",
      "    self._entrypoint()\n",
      "  File \"c:\\Users\\Sebi\\anaconda3\\envs\\Dissertation\\lib\\site-packages\\ray\\tune\\function_runner.py\", line 328, in entrypoint\n",
      "    return self._trainable_func(self.config, self._status_reporter,\n",
      "  File \"c:\\Users\\Sebi\\anaconda3\\envs\\Dissertation\\lib\\site-packages\\ray\\util\\tracing\\tracing_helper.py\", line 449, in _resume_span\n",
      "    return method(self, *_args, **_kwargs)\n",
      "  File \"c:\\Users\\Sebi\\anaconda3\\envs\\Dissertation\\lib\\site-packages\\ray\\tune\\function_runner.py\", line 594, in _trainable_func\n",
      "    output = fn()\n",
      "  File \"c:\\Users\\Sebi\\anaconda3\\envs\\Dissertation\\lib\\site-packages\\ray\\tune\\utils\\trainable.py\", line 344, in inner\n",
      "    trainable(config, **fn_kwargs)\n",
      "  File \"C:\\Users\\Sebi\\AppData\\Local\\Temp\\ipykernel_1976\\2506088845.py\", line 6, in start_train\n",
      "  File \"C:\\Users\\Sebi\\AppData\\Local\\Temp\\ipykernel_1976\\4288630710.py\", line 22, in __init__\n",
      "AttributeError: 'str' object has no attribute 'name'\n",
      "2022-08-11 20:36:25,747\tINFO trial.py:179 -- Creating a new dirname DCRNN_Experimental_11_08_2022-20_36_05_0e87 because trial dirname 'DCRNN_Experimental_11_08_2022-20_36_05' already exists.\n",
      "\u001b[2m\u001b[36m(pid=17876)\u001b[0m Windows fatal exception: access violation\n",
      "\u001b[2m\u001b[36m(pid=17876)\u001b[0m \n",
      "\u001b[2m\u001b[36m(pid=16012)\u001b[0m 2022-08-11 20:36:31,983\tERROR function_runner.py:266 -- Runner Thread raised error.\n",
      "\u001b[2m\u001b[36m(pid=16012)\u001b[0m Traceback (most recent call last):\n",
      "\u001b[2m\u001b[36m(pid=16012)\u001b[0m   File \"c:\\Users\\Sebi\\anaconda3\\envs\\Dissertation\\lib\\site-packages\\ray\\tune\\function_runner.py\", line 260, in run\n",
      "\u001b[2m\u001b[36m(pid=16012)\u001b[0m     self._entrypoint()\n",
      "\u001b[2m\u001b[36m(pid=16012)\u001b[0m   File \"c:\\Users\\Sebi\\anaconda3\\envs\\Dissertation\\lib\\site-packages\\ray\\tune\\function_runner.py\", line 328, in entrypoint\n",
      "\u001b[2m\u001b[36m(pid=16012)\u001b[0m     return self._trainable_func(self.config, self._status_reporter,\n",
      "\u001b[2m\u001b[36m(pid=16012)\u001b[0m   File \"c:\\Users\\Sebi\\anaconda3\\envs\\Dissertation\\lib\\site-packages\\ray\\util\\tracing\\tracing_helper.py\", line 449, in _resume_span\n",
      "\u001b[2m\u001b[36m(pid=16012)\u001b[0m     return method(self, *_args, **_kwargs)\n",
      "\u001b[2m\u001b[36m(pid=16012)\u001b[0m   File \"c:\\Users\\Sebi\\anaconda3\\envs\\Dissertation\\lib\\site-packages\\ray\\tune\\function_runner.py\", line 594, in _trainable_func\n",
      "\u001b[2m\u001b[36m(pid=16012)\u001b[0m     output = fn()\n",
      "\u001b[2m\u001b[36m(pid=16012)\u001b[0m   File \"c:\\Users\\Sebi\\anaconda3\\envs\\Dissertation\\lib\\site-packages\\ray\\tune\\utils\\trainable.py\", line 344, in inner\n",
      "\u001b[2m\u001b[36m(pid=16012)\u001b[0m     trainable(config, **fn_kwargs)\n",
      "\u001b[2m\u001b[36m(pid=16012)\u001b[0m   File \"C:\\Users\\Sebi\\AppData\\Local\\Temp\\ipykernel_1976\\2506088845.py\", line 6, in start_train\n",
      "\u001b[2m\u001b[36m(pid=16012)\u001b[0m   File \"C:\\Users\\Sebi\\AppData\\Local\\Temp\\ipykernel_1976\\4288630710.py\", line 22, in __init__\n",
      "\u001b[2m\u001b[36m(pid=16012)\u001b[0m AttributeError: 'str' object has no attribute 'name'\n",
      "\u001b[2m\u001b[36m(pid=16012)\u001b[0m Exception in thread Thread-2:\n",
      "\u001b[2m\u001b[36m(pid=16012)\u001b[0m Traceback (most recent call last):\n",
      "\u001b[2m\u001b[36m(pid=16012)\u001b[0m   File \"c:\\Users\\Sebi\\anaconda3\\envs\\Dissertation\\lib\\threading.py\", line 932, in _bootstrap_inner\n",
      "\u001b[2m\u001b[36m(pid=16012)\u001b[0m     self.run()\n",
      "\u001b[2m\u001b[36m(pid=16012)\u001b[0m   File \"c:\\Users\\Sebi\\anaconda3\\envs\\Dissertation\\lib\\site-packages\\ray\\tune\\function_runner.py\", line 279, in run\n",
      "\u001b[2m\u001b[36m(pid=16012)\u001b[0m     raise e\n",
      "\u001b[2m\u001b[36m(pid=16012)\u001b[0m   File \"c:\\Users\\Sebi\\anaconda3\\envs\\Dissertation\\lib\\site-packages\\ray\\tune\\function_runner.py\", line 260, in run\n",
      "\u001b[2m\u001b[36m(pid=16012)\u001b[0m     self._entrypoint()\n",
      "\u001b[2m\u001b[36m(pid=16012)\u001b[0m   File \"c:\\Users\\Sebi\\anaconda3\\envs\\Dissertation\\lib\\site-packages\\ray\\tune\\function_runner.py\", line 328, in entrypoint\n",
      "\u001b[2m\u001b[36m(pid=16012)\u001b[0m     return self._trainable_func(self.config, self._status_reporter,\n",
      "\u001b[2m\u001b[36m(pid=16012)\u001b[0m   File \"c:\\Users\\Sebi\\anaconda3\\envs\\Dissertation\\lib\\site-packages\\ray\\util\\tracing\\tracing_helper.py\", line 449, in _resume_span\n",
      "\u001b[2m\u001b[36m(pid=16012)\u001b[0m     return method(self, *_args, **_kwargs)\n",
      "\u001b[2m\u001b[36m(pid=16012)\u001b[0m   File \"c:\\Users\\Sebi\\anaconda3\\envs\\Dissertation\\lib\\site-packages\\ray\\tune\\function_runner.py\", line 594, in _trainable_func\n",
      "\u001b[2m\u001b[36m(pid=16012)\u001b[0m     output = fn()\n",
      "\u001b[2m\u001b[36m(pid=16012)\u001b[0m   File \"c:\\Users\\Sebi\\anaconda3\\envs\\Dissertation\\lib\\site-packages\\ray\\tune\\utils\\trainable.py\", line 344, in inner\n",
      "\u001b[2m\u001b[36m(pid=16012)\u001b[0m     trainable(config, **fn_kwargs)\n",
      "\u001b[2m\u001b[36m(pid=16012)\u001b[0m   File \"C:\\Users\\Sebi\\AppData\\Local\\Temp\\ipykernel_1976\\2506088845.py\", line 6, in start_train\n",
      "\u001b[2m\u001b[36m(pid=16012)\u001b[0m   File \"C:\\Users\\Sebi\\AppData\\Local\\Temp\\ipykernel_1976\\4288630710.py\", line 22, in __init__\n",
      "\u001b[2m\u001b[36m(pid=16012)\u001b[0m AttributeError: 'str' object has no attribute 'name'\n",
      "2022-08-11 20:36:32,190\tERROR trial_runner.py:846 -- Trial DCRNN_Experimental_Geodesic_13f6a_00003: Error processing event.\n",
      "Traceback (most recent call last):\n",
      "  File \"c:\\Users\\Sebi\\anaconda3\\envs\\Dissertation\\lib\\site-packages\\ray\\tune\\trial_runner.py\", line 812, in _process_trial\n",
      "    results = self.trial_executor.fetch_result(trial)\n",
      "  File \"c:\\Users\\Sebi\\anaconda3\\envs\\Dissertation\\lib\\site-packages\\ray\\tune\\ray_trial_executor.py\", line 767, in fetch_result\n",
      "    result = ray.get(trial_future[0], timeout=DEFAULT_GET_TIMEOUT)\n",
      "  File \"c:\\Users\\Sebi\\anaconda3\\envs\\Dissertation\\lib\\site-packages\\ray\\_private\\client_mode_hook.py\", line 89, in wrapper\n",
      "    return func(*args, **kwargs)\n",
      "  File \"c:\\Users\\Sebi\\anaconda3\\envs\\Dissertation\\lib\\site-packages\\ray\\worker.py\", line 1621, in get\n",
      "    raise value.as_instanceof_cause()\n",
      "ray.exceptions.RayTaskError(TuneError): \u001b[36mray::ImplicitFunc.train_buffered()\u001b[39m (pid=16012, ip=192.168.1.185, repr=<ray.tune.function_runner.ImplicitFunc object at 0x00000263FFA2FDC0>)\n",
      "  File \"python\\ray\\_raylet.pyx\", line 568, in ray._raylet.execute_task\n",
      "  File \"python\\ray\\_raylet.pyx\", line 572, in ray._raylet.execute_task\n",
      "  File \"python\\ray\\_raylet.pyx\", line 522, in ray._raylet.execute_task.function_executor\n",
      "  File \"c:\\Users\\Sebi\\anaconda3\\envs\\Dissertation\\lib\\site-packages\\ray\\_private\\function_manager.py\", line 579, in actor_method_executor\n",
      "    return method(__ray_actor, *args, **kwargs)\n",
      "  File \"c:\\Users\\Sebi\\anaconda3\\envs\\Dissertation\\lib\\site-packages\\ray\\util\\tracing\\tracing_helper.py\", line 449, in _resume_span\n",
      "    return method(self, *_args, **_kwargs)\n",
      "  File \"c:\\Users\\Sebi\\anaconda3\\envs\\Dissertation\\lib\\site-packages\\ray\\tune\\trainable.py\", line 189, in train_buffered\n",
      "    result = self.train()\n",
      "  File \"c:\\Users\\Sebi\\anaconda3\\envs\\Dissertation\\lib\\site-packages\\ray\\util\\tracing\\tracing_helper.py\", line 449, in _resume_span\n",
      "    return method(self, *_args, **_kwargs)\n",
      "  File \"c:\\Users\\Sebi\\anaconda3\\envs\\Dissertation\\lib\\site-packages\\ray\\tune\\trainable.py\", line 248, in train\n",
      "    result = self.step()\n",
      "  File \"c:\\Users\\Sebi\\anaconda3\\envs\\Dissertation\\lib\\site-packages\\ray\\util\\tracing\\tracing_helper.py\", line 449, in _resume_span\n",
      "    return method(self, *_args, **_kwargs)\n",
      "  File \"c:\\Users\\Sebi\\anaconda3\\envs\\Dissertation\\lib\\site-packages\\ray\\tune\\function_runner.py\", line 379, in step\n",
      "    self._report_thread_runner_error(block=True)\n",
      "  File \"c:\\Users\\Sebi\\anaconda3\\envs\\Dissertation\\lib\\site-packages\\ray\\util\\tracing\\tracing_helper.py\", line 449, in _resume_span\n",
      "    return method(self, *_args, **_kwargs)\n",
      "  File \"c:\\Users\\Sebi\\anaconda3\\envs\\Dissertation\\lib\\site-packages\\ray\\tune\\function_runner.py\", line 526, in _report_thread_runner_error\n",
      "    raise TuneError(\n",
      "ray.tune.error.TuneError: Trial raised an exception. Traceback:\n",
      "\u001b[36mray::ImplicitFunc.train_buffered()\u001b[39m (pid=16012, ip=192.168.1.185, repr=<ray.tune.function_runner.ImplicitFunc object at 0x00000263FFA2FDC0>)\n",
      "  File \"c:\\Users\\Sebi\\anaconda3\\envs\\Dissertation\\lib\\site-packages\\ray\\tune\\function_runner.py\", line 260, in run\n",
      "    self._entrypoint()\n",
      "  File \"c:\\Users\\Sebi\\anaconda3\\envs\\Dissertation\\lib\\site-packages\\ray\\tune\\function_runner.py\", line 328, in entrypoint\n",
      "    return self._trainable_func(self.config, self._status_reporter,\n",
      "  File \"c:\\Users\\Sebi\\anaconda3\\envs\\Dissertation\\lib\\site-packages\\ray\\util\\tracing\\tracing_helper.py\", line 449, in _resume_span\n",
      "    return method(self, *_args, **_kwargs)\n",
      "  File \"c:\\Users\\Sebi\\anaconda3\\envs\\Dissertation\\lib\\site-packages\\ray\\tune\\function_runner.py\", line 594, in _trainable_func\n",
      "    output = fn()\n",
      "  File \"c:\\Users\\Sebi\\anaconda3\\envs\\Dissertation\\lib\\site-packages\\ray\\tune\\utils\\trainable.py\", line 344, in inner\n",
      "    trainable(config, **fn_kwargs)\n",
      "  File \"C:\\Users\\Sebi\\AppData\\Local\\Temp\\ipykernel_1976\\2506088845.py\", line 6, in start_train\n",
      "  File \"C:\\Users\\Sebi\\AppData\\Local\\Temp\\ipykernel_1976\\4288630710.py\", line 22, in __init__\n",
      "AttributeError: 'str' object has no attribute 'name'\n",
      "2022-08-11 20:36:32,209\tINFO trial.py:179 -- Creating a new dirname DCRNN_Experimental_11_08_2022-20_36_05_d768 because trial dirname 'DCRNN_Experimental_11_08_2022-20_36_05' already exists.\n",
      "\u001b[2m\u001b[36m(pid=16012)\u001b[0m Windows fatal exception: access violation\n",
      "\u001b[2m\u001b[36m(pid=16012)\u001b[0m \n",
      "\u001b[2m\u001b[36m(pid=5464)\u001b[0m 2022-08-11 20:36:38,439\tERROR function_runner.py:266 -- Runner Thread raised error.\n",
      "\u001b[2m\u001b[36m(pid=5464)\u001b[0m Traceback (most recent call last):\n",
      "\u001b[2m\u001b[36m(pid=5464)\u001b[0m   File \"c:\\Users\\Sebi\\anaconda3\\envs\\Dissertation\\lib\\site-packages\\ray\\tune\\function_runner.py\", line 260, in run\n",
      "\u001b[2m\u001b[36m(pid=5464)\u001b[0m     self._entrypoint()\n",
      "\u001b[2m\u001b[36m(pid=5464)\u001b[0m   File \"c:\\Users\\Sebi\\anaconda3\\envs\\Dissertation\\lib\\site-packages\\ray\\tune\\function_runner.py\", line 328, in entrypoint\n",
      "\u001b[2m\u001b[36m(pid=5464)\u001b[0m     return self._trainable_func(self.config, self._status_reporter,\n",
      "\u001b[2m\u001b[36m(pid=5464)\u001b[0m   File \"c:\\Users\\Sebi\\anaconda3\\envs\\Dissertation\\lib\\site-packages\\ray\\util\\tracing\\tracing_helper.py\", line 449, in _resume_span\n",
      "\u001b[2m\u001b[36m(pid=5464)\u001b[0m     return method(self, *_args, **_kwargs)\n",
      "\u001b[2m\u001b[36m(pid=5464)\u001b[0m   File \"c:\\Users\\Sebi\\anaconda3\\envs\\Dissertation\\lib\\site-packages\\ray\\tune\\function_runner.py\", line 594, in _trainable_func\n",
      "\u001b[2m\u001b[36m(pid=5464)\u001b[0m     output = fn()\n",
      "\u001b[2m\u001b[36m(pid=5464)\u001b[0m   File \"c:\\Users\\Sebi\\anaconda3\\envs\\Dissertation\\lib\\site-packages\\ray\\tune\\utils\\trainable.py\", line 344, in inner\n",
      "\u001b[2m\u001b[36m(pid=5464)\u001b[0m     trainable(config, **fn_kwargs)\n",
      "\u001b[2m\u001b[36m(pid=5464)\u001b[0m   File \"C:\\Users\\Sebi\\AppData\\Local\\Temp\\ipykernel_1976\\2506088845.py\", line 6, in start_train\n",
      "\u001b[2m\u001b[36m(pid=5464)\u001b[0m   File \"C:\\Users\\Sebi\\AppData\\Local\\Temp\\ipykernel_1976\\4288630710.py\", line 22, in __init__\n",
      "\u001b[2m\u001b[36m(pid=5464)\u001b[0m AttributeError: 'str' object has no attribute 'name'\n",
      "\u001b[2m\u001b[36m(pid=5464)\u001b[0m Exception in thread Thread-2:\n",
      "\u001b[2m\u001b[36m(pid=5464)\u001b[0m Traceback (most recent call last):\n",
      "\u001b[2m\u001b[36m(pid=5464)\u001b[0m   File \"c:\\Users\\Sebi\\anaconda3\\envs\\Dissertation\\lib\\threading.py\", line 932, in _bootstrap_inner\n",
      "\u001b[2m\u001b[36m(pid=5464)\u001b[0m     self.run()\n",
      "\u001b[2m\u001b[36m(pid=5464)\u001b[0m   File \"c:\\Users\\Sebi\\anaconda3\\envs\\Dissertation\\lib\\site-packages\\ray\\tune\\function_runner.py\", line 279, in run\n",
      "\u001b[2m\u001b[36m(pid=5464)\u001b[0m     raise e\n",
      "\u001b[2m\u001b[36m(pid=5464)\u001b[0m   File \"c:\\Users\\Sebi\\anaconda3\\envs\\Dissertation\\lib\\site-packages\\ray\\tune\\function_runner.py\", line 260, in run\n",
      "\u001b[2m\u001b[36m(pid=5464)\u001b[0m     self._entrypoint()\n",
      "\u001b[2m\u001b[36m(pid=5464)\u001b[0m   File \"c:\\Users\\Sebi\\anaconda3\\envs\\Dissertation\\lib\\site-packages\\ray\\tune\\function_runner.py\", line 328, in entrypoint\n",
      "\u001b[2m\u001b[36m(pid=5464)\u001b[0m     return self._trainable_func(self.config, self._status_reporter,\n",
      "\u001b[2m\u001b[36m(pid=5464)\u001b[0m   File \"c:\\Users\\Sebi\\anaconda3\\envs\\Dissertation\\lib\\site-packages\\ray\\util\\tracing\\tracing_helper.py\", line 449, in _resume_span\n",
      "\u001b[2m\u001b[36m(pid=5464)\u001b[0m     return method(self, *_args, **_kwargs)\n",
      "\u001b[2m\u001b[36m(pid=5464)\u001b[0m   File \"c:\\Users\\Sebi\\anaconda3\\envs\\Dissertation\\lib\\site-packages\\ray\\tune\\function_runner.py\", line 594, in _trainable_func\n",
      "\u001b[2m\u001b[36m(pid=5464)\u001b[0m     output = fn()\n",
      "\u001b[2m\u001b[36m(pid=5464)\u001b[0m   File \"c:\\Users\\Sebi\\anaconda3\\envs\\Dissertation\\lib\\site-packages\\ray\\tune\\utils\\trainable.py\", line 344, in inner\n",
      "\u001b[2m\u001b[36m(pid=5464)\u001b[0m     trainable(config, **fn_kwargs)\n",
      "\u001b[2m\u001b[36m(pid=5464)\u001b[0m   File \"C:\\Users\\Sebi\\AppData\\Local\\Temp\\ipykernel_1976\\2506088845.py\", line 6, in start_train\n",
      "\u001b[2m\u001b[36m(pid=5464)\u001b[0m   File \"C:\\Users\\Sebi\\AppData\\Local\\Temp\\ipykernel_1976\\4288630710.py\", line 22, in __init__\n",
      "\u001b[2m\u001b[36m(pid=5464)\u001b[0m AttributeError: 'str' object has no attribute 'name'\n",
      "2022-08-11 20:36:38,643\tERROR trial_runner.py:846 -- Trial DCRNN_Experimental_Geodesic_13f6a_00004: Error processing event.\n",
      "Traceback (most recent call last):\n",
      "  File \"c:\\Users\\Sebi\\anaconda3\\envs\\Dissertation\\lib\\site-packages\\ray\\tune\\trial_runner.py\", line 812, in _process_trial\n",
      "    results = self.trial_executor.fetch_result(trial)\n",
      "  File \"c:\\Users\\Sebi\\anaconda3\\envs\\Dissertation\\lib\\site-packages\\ray\\tune\\ray_trial_executor.py\", line 767, in fetch_result\n",
      "    result = ray.get(trial_future[0], timeout=DEFAULT_GET_TIMEOUT)\n",
      "  File \"c:\\Users\\Sebi\\anaconda3\\envs\\Dissertation\\lib\\site-packages\\ray\\_private\\client_mode_hook.py\", line 89, in wrapper\n",
      "    return func(*args, **kwargs)\n",
      "  File \"c:\\Users\\Sebi\\anaconda3\\envs\\Dissertation\\lib\\site-packages\\ray\\worker.py\", line 1621, in get\n",
      "    raise value.as_instanceof_cause()\n",
      "ray.exceptions.RayTaskError(TuneError): \u001b[36mray::ImplicitFunc.train_buffered()\u001b[39m (pid=5464, ip=192.168.1.185, repr=<ray.tune.function_runner.ImplicitFunc object at 0x0000026091B2FDC0>)\n",
      "  File \"python\\ray\\_raylet.pyx\", line 568, in ray._raylet.execute_task\n",
      "  File \"python\\ray\\_raylet.pyx\", line 572, in ray._raylet.execute_task\n",
      "  File \"python\\ray\\_raylet.pyx\", line 522, in ray._raylet.execute_task.function_executor\n",
      "  File \"c:\\Users\\Sebi\\anaconda3\\envs\\Dissertation\\lib\\site-packages\\ray\\_private\\function_manager.py\", line 579, in actor_method_executor\n",
      "    return method(__ray_actor, *args, **kwargs)\n",
      "  File \"c:\\Users\\Sebi\\anaconda3\\envs\\Dissertation\\lib\\site-packages\\ray\\util\\tracing\\tracing_helper.py\", line 449, in _resume_span\n",
      "    return method(self, *_args, **_kwargs)\n",
      "  File \"c:\\Users\\Sebi\\anaconda3\\envs\\Dissertation\\lib\\site-packages\\ray\\tune\\trainable.py\", line 189, in train_buffered\n",
      "    result = self.train()\n",
      "  File \"c:\\Users\\Sebi\\anaconda3\\envs\\Dissertation\\lib\\site-packages\\ray\\util\\tracing\\tracing_helper.py\", line 449, in _resume_span\n",
      "    return method(self, *_args, **_kwargs)\n",
      "  File \"c:\\Users\\Sebi\\anaconda3\\envs\\Dissertation\\lib\\site-packages\\ray\\tune\\trainable.py\", line 248, in train\n",
      "    result = self.step()\n",
      "  File \"c:\\Users\\Sebi\\anaconda3\\envs\\Dissertation\\lib\\site-packages\\ray\\util\\tracing\\tracing_helper.py\", line 449, in _resume_span\n",
      "    return method(self, *_args, **_kwargs)\n",
      "  File \"c:\\Users\\Sebi\\anaconda3\\envs\\Dissertation\\lib\\site-packages\\ray\\tune\\function_runner.py\", line 379, in step\n",
      "    self._report_thread_runner_error(block=True)\n",
      "  File \"c:\\Users\\Sebi\\anaconda3\\envs\\Dissertation\\lib\\site-packages\\ray\\util\\tracing\\tracing_helper.py\", line 449, in _resume_span\n",
      "    return method(self, *_args, **_kwargs)\n",
      "  File \"c:\\Users\\Sebi\\anaconda3\\envs\\Dissertation\\lib\\site-packages\\ray\\tune\\function_runner.py\", line 526, in _report_thread_runner_error\n",
      "    raise TuneError(\n",
      "ray.tune.error.TuneError: Trial raised an exception. Traceback:\n",
      "\u001b[36mray::ImplicitFunc.train_buffered()\u001b[39m (pid=5464, ip=192.168.1.185, repr=<ray.tune.function_runner.ImplicitFunc object at 0x0000026091B2FDC0>)\n",
      "  File \"c:\\Users\\Sebi\\anaconda3\\envs\\Dissertation\\lib\\site-packages\\ray\\tune\\function_runner.py\", line 260, in run\n",
      "    self._entrypoint()\n",
      "  File \"c:\\Users\\Sebi\\anaconda3\\envs\\Dissertation\\lib\\site-packages\\ray\\tune\\function_runner.py\", line 328, in entrypoint\n",
      "    return self._trainable_func(self.config, self._status_reporter,\n",
      "  File \"c:\\Users\\Sebi\\anaconda3\\envs\\Dissertation\\lib\\site-packages\\ray\\util\\tracing\\tracing_helper.py\", line 449, in _resume_span\n",
      "    return method(self, *_args, **_kwargs)\n",
      "  File \"c:\\Users\\Sebi\\anaconda3\\envs\\Dissertation\\lib\\site-packages\\ray\\tune\\function_runner.py\", line 594, in _trainable_func\n",
      "    output = fn()\n",
      "  File \"c:\\Users\\Sebi\\anaconda3\\envs\\Dissertation\\lib\\site-packages\\ray\\tune\\utils\\trainable.py\", line 344, in inner\n",
      "    trainable(config, **fn_kwargs)\n",
      "  File \"C:\\Users\\Sebi\\AppData\\Local\\Temp\\ipykernel_1976\\2506088845.py\", line 6, in start_train\n",
      "  File \"C:\\Users\\Sebi\\AppData\\Local\\Temp\\ipykernel_1976\\4288630710.py\", line 22, in __init__\n",
      "AttributeError: 'str' object has no attribute 'name'\n",
      "2022-08-11 20:36:38,659\tINFO trial.py:179 -- Creating a new dirname DCRNN_Experimental_11_08_2022-20_36_05_c570 because trial dirname 'DCRNN_Experimental_11_08_2022-20_36_05' already exists.\n",
      "\u001b[2m\u001b[36m(pid=5464)\u001b[0m Windows fatal exception: access violation\n",
      "\u001b[2m\u001b[36m(pid=5464)\u001b[0m \n",
      "\u001b[2m\u001b[36m(pid=17660)\u001b[0m 2022-08-11 20:36:44,915\tERROR function_runner.py:266 -- Runner Thread raised error.\n",
      "\u001b[2m\u001b[36m(pid=17660)\u001b[0m Traceback (most recent call last):\n",
      "\u001b[2m\u001b[36m(pid=17660)\u001b[0m   File \"c:\\Users\\Sebi\\anaconda3\\envs\\Dissertation\\lib\\site-packages\\ray\\tune\\function_runner.py\", line 260, in run\n",
      "\u001b[2m\u001b[36m(pid=17660)\u001b[0m     self._entrypoint()\n",
      "\u001b[2m\u001b[36m(pid=17660)\u001b[0m   File \"c:\\Users\\Sebi\\anaconda3\\envs\\Dissertation\\lib\\site-packages\\ray\\tune\\function_runner.py\", line 328, in entrypoint\n",
      "\u001b[2m\u001b[36m(pid=17660)\u001b[0m     return self._trainable_func(self.config, self._status_reporter,\n",
      "\u001b[2m\u001b[36m(pid=17660)\u001b[0m   File \"c:\\Users\\Sebi\\anaconda3\\envs\\Dissertation\\lib\\site-packages\\ray\\util\\tracing\\tracing_helper.py\", line 449, in _resume_span\n",
      "\u001b[2m\u001b[36m(pid=17660)\u001b[0m     return method(self, *_args, **_kwargs)\n",
      "\u001b[2m\u001b[36m(pid=17660)\u001b[0m   File \"c:\\Users\\Sebi\\anaconda3\\envs\\Dissertation\\lib\\site-packages\\ray\\tune\\function_runner.py\", line 594, in _trainable_func\n",
      "\u001b[2m\u001b[36m(pid=17660)\u001b[0m     output = fn()\n",
      "\u001b[2m\u001b[36m(pid=17660)\u001b[0m   File \"c:\\Users\\Sebi\\anaconda3\\envs\\Dissertation\\lib\\site-packages\\ray\\tune\\utils\\trainable.py\", line 344, in inner\n",
      "\u001b[2m\u001b[36m(pid=17660)\u001b[0m     trainable(config, **fn_kwargs)\n",
      "\u001b[2m\u001b[36m(pid=17660)\u001b[0m   File \"C:\\Users\\Sebi\\AppData\\Local\\Temp\\ipykernel_1976\\2506088845.py\", line 6, in start_train\n",
      "\u001b[2m\u001b[36m(pid=17660)\u001b[0m   File \"C:\\Users\\Sebi\\AppData\\Local\\Temp\\ipykernel_1976\\4288630710.py\", line 22, in __init__\n",
      "\u001b[2m\u001b[36m(pid=17660)\u001b[0m AttributeError: 'str' object has no attribute 'name'\n",
      "\u001b[2m\u001b[36m(pid=17660)\u001b[0m Exception in thread Thread-2:\n",
      "\u001b[2m\u001b[36m(pid=17660)\u001b[0m Traceback (most recent call last):\n",
      "\u001b[2m\u001b[36m(pid=17660)\u001b[0m   File \"c:\\Users\\Sebi\\anaconda3\\envs\\Dissertation\\lib\\threading.py\", line 932, in _bootstrap_inner\n",
      "\u001b[2m\u001b[36m(pid=17660)\u001b[0m     self.run()\n",
      "\u001b[2m\u001b[36m(pid=17660)\u001b[0m   File \"c:\\Users\\Sebi\\anaconda3\\envs\\Dissertation\\lib\\site-packages\\ray\\tune\\function_runner.py\", line 279, in run\n",
      "\u001b[2m\u001b[36m(pid=17660)\u001b[0m     raise e\n",
      "\u001b[2m\u001b[36m(pid=17660)\u001b[0m   File \"c:\\Users\\Sebi\\anaconda3\\envs\\Dissertation\\lib\\site-packages\\ray\\tune\\function_runner.py\", line 260, in run\n",
      "\u001b[2m\u001b[36m(pid=17660)\u001b[0m     self._entrypoint()\n",
      "\u001b[2m\u001b[36m(pid=17660)\u001b[0m   File \"c:\\Users\\Sebi\\anaconda3\\envs\\Dissertation\\lib\\site-packages\\ray\\tune\\function_runner.py\", line 328, in entrypoint\n",
      "\u001b[2m\u001b[36m(pid=17660)\u001b[0m     return self._trainable_func(self.config, self._status_reporter,\n",
      "\u001b[2m\u001b[36m(pid=17660)\u001b[0m   File \"c:\\Users\\Sebi\\anaconda3\\envs\\Dissertation\\lib\\site-packages\\ray\\util\\tracing\\tracing_helper.py\", line 449, in _resume_span\n",
      "\u001b[2m\u001b[36m(pid=17660)\u001b[0m     return method(self, *_args, **_kwargs)\n",
      "\u001b[2m\u001b[36m(pid=17660)\u001b[0m   File \"c:\\Users\\Sebi\\anaconda3\\envs\\Dissertation\\lib\\site-packages\\ray\\tune\\function_runner.py\", line 594, in _trainable_func\n",
      "\u001b[2m\u001b[36m(pid=17660)\u001b[0m     output = fn()\n",
      "\u001b[2m\u001b[36m(pid=17660)\u001b[0m   File \"c:\\Users\\Sebi\\anaconda3\\envs\\Dissertation\\lib\\site-packages\\ray\\tune\\utils\\trainable.py\", line 344, in inner\n",
      "\u001b[2m\u001b[36m(pid=17660)\u001b[0m     trainable(config, **fn_kwargs)\n",
      "\u001b[2m\u001b[36m(pid=17660)\u001b[0m   File \"C:\\Users\\Sebi\\AppData\\Local\\Temp\\ipykernel_1976\\2506088845.py\", line 6, in start_train\n",
      "\u001b[2m\u001b[36m(pid=17660)\u001b[0m   File \"C:\\Users\\Sebi\\AppData\\Local\\Temp\\ipykernel_1976\\4288630710.py\", line 22, in __init__\n",
      "\u001b[2m\u001b[36m(pid=17660)\u001b[0m AttributeError: 'str' object has no attribute 'name'\n",
      "2022-08-11 20:36:45,131\tERROR trial_runner.py:846 -- Trial DCRNN_Experimental_Geodesic_13f6a_00005: Error processing event.\n",
      "Traceback (most recent call last):\n",
      "  File \"c:\\Users\\Sebi\\anaconda3\\envs\\Dissertation\\lib\\site-packages\\ray\\tune\\trial_runner.py\", line 812, in _process_trial\n",
      "    results = self.trial_executor.fetch_result(trial)\n",
      "  File \"c:\\Users\\Sebi\\anaconda3\\envs\\Dissertation\\lib\\site-packages\\ray\\tune\\ray_trial_executor.py\", line 767, in fetch_result\n",
      "    result = ray.get(trial_future[0], timeout=DEFAULT_GET_TIMEOUT)\n",
      "  File \"c:\\Users\\Sebi\\anaconda3\\envs\\Dissertation\\lib\\site-packages\\ray\\_private\\client_mode_hook.py\", line 89, in wrapper\n",
      "    return func(*args, **kwargs)\n",
      "  File \"c:\\Users\\Sebi\\anaconda3\\envs\\Dissertation\\lib\\site-packages\\ray\\worker.py\", line 1621, in get\n",
      "    raise value.as_instanceof_cause()\n",
      "ray.exceptions.RayTaskError(TuneError): \u001b[36mray::ImplicitFunc.train_buffered()\u001b[39m (pid=17660, ip=192.168.1.185, repr=<ray.tune.function_runner.ImplicitFunc object at 0x00000207C80FEDC0>)\n",
      "  File \"python\\ray\\_raylet.pyx\", line 568, in ray._raylet.execute_task\n",
      "  File \"python\\ray\\_raylet.pyx\", line 572, in ray._raylet.execute_task\n",
      "  File \"python\\ray\\_raylet.pyx\", line 522, in ray._raylet.execute_task.function_executor\n",
      "  File \"c:\\Users\\Sebi\\anaconda3\\envs\\Dissertation\\lib\\site-packages\\ray\\_private\\function_manager.py\", line 579, in actor_method_executor\n",
      "    return method(__ray_actor, *args, **kwargs)\n",
      "  File \"c:\\Users\\Sebi\\anaconda3\\envs\\Dissertation\\lib\\site-packages\\ray\\util\\tracing\\tracing_helper.py\", line 449, in _resume_span\n",
      "    return method(self, *_args, **_kwargs)\n",
      "  File \"c:\\Users\\Sebi\\anaconda3\\envs\\Dissertation\\lib\\site-packages\\ray\\tune\\trainable.py\", line 189, in train_buffered\n",
      "    result = self.train()\n",
      "  File \"c:\\Users\\Sebi\\anaconda3\\envs\\Dissertation\\lib\\site-packages\\ray\\util\\tracing\\tracing_helper.py\", line 449, in _resume_span\n",
      "    return method(self, *_args, **_kwargs)\n",
      "  File \"c:\\Users\\Sebi\\anaconda3\\envs\\Dissertation\\lib\\site-packages\\ray\\tune\\trainable.py\", line 248, in train\n",
      "    result = self.step()\n",
      "  File \"c:\\Users\\Sebi\\anaconda3\\envs\\Dissertation\\lib\\site-packages\\ray\\util\\tracing\\tracing_helper.py\", line 449, in _resume_span\n",
      "    return method(self, *_args, **_kwargs)\n",
      "  File \"c:\\Users\\Sebi\\anaconda3\\envs\\Dissertation\\lib\\site-packages\\ray\\tune\\function_runner.py\", line 379, in step\n",
      "    self._report_thread_runner_error(block=True)\n",
      "  File \"c:\\Users\\Sebi\\anaconda3\\envs\\Dissertation\\lib\\site-packages\\ray\\util\\tracing\\tracing_helper.py\", line 449, in _resume_span\n",
      "    return method(self, *_args, **_kwargs)\n",
      "  File \"c:\\Users\\Sebi\\anaconda3\\envs\\Dissertation\\lib\\site-packages\\ray\\tune\\function_runner.py\", line 526, in _report_thread_runner_error\n",
      "    raise TuneError(\n",
      "ray.tune.error.TuneError: Trial raised an exception. Traceback:\n",
      "\u001b[36mray::ImplicitFunc.train_buffered()\u001b[39m (pid=17660, ip=192.168.1.185, repr=<ray.tune.function_runner.ImplicitFunc object at 0x00000207C80FEDC0>)\n",
      "  File \"c:\\Users\\Sebi\\anaconda3\\envs\\Dissertation\\lib\\site-packages\\ray\\tune\\function_runner.py\", line 260, in run\n",
      "    self._entrypoint()\n",
      "  File \"c:\\Users\\Sebi\\anaconda3\\envs\\Dissertation\\lib\\site-packages\\ray\\tune\\function_runner.py\", line 328, in entrypoint\n",
      "    return self._trainable_func(self.config, self._status_reporter,\n",
      "  File \"c:\\Users\\Sebi\\anaconda3\\envs\\Dissertation\\lib\\site-packages\\ray\\util\\tracing\\tracing_helper.py\", line 449, in _resume_span\n",
      "    return method(self, *_args, **_kwargs)\n",
      "  File \"c:\\Users\\Sebi\\anaconda3\\envs\\Dissertation\\lib\\site-packages\\ray\\tune\\function_runner.py\", line 594, in _trainable_func\n",
      "    output = fn()\n",
      "  File \"c:\\Users\\Sebi\\anaconda3\\envs\\Dissertation\\lib\\site-packages\\ray\\tune\\utils\\trainable.py\", line 344, in inner\n",
      "    trainable(config, **fn_kwargs)\n",
      "  File \"C:\\Users\\Sebi\\AppData\\Local\\Temp\\ipykernel_1976\\2506088845.py\", line 6, in start_train\n",
      "  File \"C:\\Users\\Sebi\\AppData\\Local\\Temp\\ipykernel_1976\\4288630710.py\", line 22, in __init__\n",
      "AttributeError: 'str' object has no attribute 'name'\n",
      "2022-08-11 20:36:45,157\tINFO trial.py:179 -- Creating a new dirname DCRNN_Experimental_11_08_2022-20_36_05_11ea because trial dirname 'DCRNN_Experimental_11_08_2022-20_36_05' already exists.\n",
      "\u001b[2m\u001b[36m(pid=17660)\u001b[0m Windows fatal exception: access violation\n",
      "\u001b[2m\u001b[36m(pid=17660)\u001b[0m \n",
      "\u001b[2m\u001b[36m(pid=17888)\u001b[0m 2022-08-11 20:36:51,433\tERROR function_runner.py:266 -- Runner Thread raised error.\n",
      "\u001b[2m\u001b[36m(pid=17888)\u001b[0m Traceback (most recent call last):\n",
      "\u001b[2m\u001b[36m(pid=17888)\u001b[0m   File \"c:\\Users\\Sebi\\anaconda3\\envs\\Dissertation\\lib\\site-packages\\ray\\tune\\function_runner.py\", line 260, in run\n",
      "\u001b[2m\u001b[36m(pid=17888)\u001b[0m     self._entrypoint()\n",
      "\u001b[2m\u001b[36m(pid=17888)\u001b[0m   File \"c:\\Users\\Sebi\\anaconda3\\envs\\Dissertation\\lib\\site-packages\\ray\\tune\\function_runner.py\", line 328, in entrypoint\n",
      "\u001b[2m\u001b[36m(pid=17888)\u001b[0m     return self._trainable_func(self.config, self._status_reporter,\n",
      "\u001b[2m\u001b[36m(pid=17888)\u001b[0m   File \"c:\\Users\\Sebi\\anaconda3\\envs\\Dissertation\\lib\\site-packages\\ray\\util\\tracing\\tracing_helper.py\", line 449, in _resume_span\n",
      "\u001b[2m\u001b[36m(pid=17888)\u001b[0m     return method(self, *_args, **_kwargs)\n",
      "\u001b[2m\u001b[36m(pid=17888)\u001b[0m   File \"c:\\Users\\Sebi\\anaconda3\\envs\\Dissertation\\lib\\site-packages\\ray\\tune\\function_runner.py\", line 594, in _trainable_func\n",
      "\u001b[2m\u001b[36m(pid=17888)\u001b[0m     output = fn()\n",
      "\u001b[2m\u001b[36m(pid=17888)\u001b[0m   File \"c:\\Users\\Sebi\\anaconda3\\envs\\Dissertation\\lib\\site-packages\\ray\\tune\\utils\\trainable.py\", line 344, in inner\n",
      "\u001b[2m\u001b[36m(pid=17888)\u001b[0m     trainable(config, **fn_kwargs)\n",
      "\u001b[2m\u001b[36m(pid=17888)\u001b[0m   File \"C:\\Users\\Sebi\\AppData\\Local\\Temp\\ipykernel_1976\\2506088845.py\", line 6, in start_train\n",
      "\u001b[2m\u001b[36m(pid=17888)\u001b[0m   File \"C:\\Users\\Sebi\\AppData\\Local\\Temp\\ipykernel_1976\\4288630710.py\", line 22, in __init__\n",
      "\u001b[2m\u001b[36m(pid=17888)\u001b[0m AttributeError: 'str' object has no attribute 'name'\n",
      "\u001b[2m\u001b[36m(pid=17888)\u001b[0m Exception in thread Thread-2:\n",
      "\u001b[2m\u001b[36m(pid=17888)\u001b[0m Traceback (most recent call last):\n",
      "\u001b[2m\u001b[36m(pid=17888)\u001b[0m   File \"c:\\Users\\Sebi\\anaconda3\\envs\\Dissertation\\lib\\threading.py\", line 932, in _bootstrap_inner\n",
      "\u001b[2m\u001b[36m(pid=17888)\u001b[0m     self.run()\n",
      "\u001b[2m\u001b[36m(pid=17888)\u001b[0m   File \"c:\\Users\\Sebi\\anaconda3\\envs\\Dissertation\\lib\\site-packages\\ray\\tune\\function_runner.py\", line 279, in run\n",
      "\u001b[2m\u001b[36m(pid=17888)\u001b[0m     raise e\n",
      "\u001b[2m\u001b[36m(pid=17888)\u001b[0m   File \"c:\\Users\\Sebi\\anaconda3\\envs\\Dissertation\\lib\\site-packages\\ray\\tune\\function_runner.py\", line 260, in run\n",
      "\u001b[2m\u001b[36m(pid=17888)\u001b[0m     self._entrypoint()\n",
      "\u001b[2m\u001b[36m(pid=17888)\u001b[0m   File \"c:\\Users\\Sebi\\anaconda3\\envs\\Dissertation\\lib\\site-packages\\ray\\tune\\function_runner.py\", line 328, in entrypoint\n",
      "\u001b[2m\u001b[36m(pid=17888)\u001b[0m     return self._trainable_func(self.config, self._status_reporter,\n",
      "\u001b[2m\u001b[36m(pid=17888)\u001b[0m   File \"c:\\Users\\Sebi\\anaconda3\\envs\\Dissertation\\lib\\site-packages\\ray\\util\\tracing\\tracing_helper.py\", line 449, in _resume_span\n",
      "\u001b[2m\u001b[36m(pid=17888)\u001b[0m     return method(self, *_args, **_kwargs)\n",
      "\u001b[2m\u001b[36m(pid=17888)\u001b[0m   File \"c:\\Users\\Sebi\\anaconda3\\envs\\Dissertation\\lib\\site-packages\\ray\\tune\\function_runner.py\", line 594, in _trainable_func\n",
      "\u001b[2m\u001b[36m(pid=17888)\u001b[0m     output = fn()\n",
      "\u001b[2m\u001b[36m(pid=17888)\u001b[0m   File \"c:\\Users\\Sebi\\anaconda3\\envs\\Dissertation\\lib\\site-packages\\ray\\tune\\utils\\trainable.py\", line 344, in inner\n",
      "\u001b[2m\u001b[36m(pid=17888)\u001b[0m     trainable(config, **fn_kwargs)\n",
      "\u001b[2m\u001b[36m(pid=17888)\u001b[0m   File \"C:\\Users\\Sebi\\AppData\\Local\\Temp\\ipykernel_1976\\2506088845.py\", line 6, in start_train\n",
      "\u001b[2m\u001b[36m(pid=17888)\u001b[0m   File \"C:\\Users\\Sebi\\AppData\\Local\\Temp\\ipykernel_1976\\4288630710.py\", line 22, in __init__\n",
      "\u001b[2m\u001b[36m(pid=17888)\u001b[0m AttributeError: 'str' object has no attribute 'name'\n",
      "2022-08-11 20:36:51,642\tERROR trial_runner.py:846 -- Trial DCRNN_Experimental_Geodesic_13f6a_00006: Error processing event.\n",
      "Traceback (most recent call last):\n",
      "  File \"c:\\Users\\Sebi\\anaconda3\\envs\\Dissertation\\lib\\site-packages\\ray\\tune\\trial_runner.py\", line 812, in _process_trial\n",
      "    results = self.trial_executor.fetch_result(trial)\n",
      "  File \"c:\\Users\\Sebi\\anaconda3\\envs\\Dissertation\\lib\\site-packages\\ray\\tune\\ray_trial_executor.py\", line 767, in fetch_result\n",
      "    result = ray.get(trial_future[0], timeout=DEFAULT_GET_TIMEOUT)\n",
      "  File \"c:\\Users\\Sebi\\anaconda3\\envs\\Dissertation\\lib\\site-packages\\ray\\_private\\client_mode_hook.py\", line 89, in wrapper\n",
      "    return func(*args, **kwargs)\n",
      "  File \"c:\\Users\\Sebi\\anaconda3\\envs\\Dissertation\\lib\\site-packages\\ray\\worker.py\", line 1621, in get\n",
      "    raise value.as_instanceof_cause()\n",
      "ray.exceptions.RayTaskError(TuneError): \u001b[36mray::ImplicitFunc.train_buffered()\u001b[39m (pid=17888, ip=192.168.1.185, repr=<ray.tune.function_runner.ImplicitFunc object at 0x000002517EF1DDC0>)\n",
      "  File \"python\\ray\\_raylet.pyx\", line 568, in ray._raylet.execute_task\n",
      "  File \"python\\ray\\_raylet.pyx\", line 572, in ray._raylet.execute_task\n",
      "  File \"python\\ray\\_raylet.pyx\", line 522, in ray._raylet.execute_task.function_executor\n",
      "  File \"c:\\Users\\Sebi\\anaconda3\\envs\\Dissertation\\lib\\site-packages\\ray\\_private\\function_manager.py\", line 579, in actor_method_executor\n",
      "    return method(__ray_actor, *args, **kwargs)\n",
      "  File \"c:\\Users\\Sebi\\anaconda3\\envs\\Dissertation\\lib\\site-packages\\ray\\util\\tracing\\tracing_helper.py\", line 449, in _resume_span\n",
      "    return method(self, *_args, **_kwargs)\n",
      "  File \"c:\\Users\\Sebi\\anaconda3\\envs\\Dissertation\\lib\\site-packages\\ray\\tune\\trainable.py\", line 189, in train_buffered\n",
      "    result = self.train()\n",
      "  File \"c:\\Users\\Sebi\\anaconda3\\envs\\Dissertation\\lib\\site-packages\\ray\\util\\tracing\\tracing_helper.py\", line 449, in _resume_span\n",
      "    return method(self, *_args, **_kwargs)\n",
      "  File \"c:\\Users\\Sebi\\anaconda3\\envs\\Dissertation\\lib\\site-packages\\ray\\tune\\trainable.py\", line 248, in train\n",
      "    result = self.step()\n",
      "  File \"c:\\Users\\Sebi\\anaconda3\\envs\\Dissertation\\lib\\site-packages\\ray\\util\\tracing\\tracing_helper.py\", line 449, in _resume_span\n",
      "    return method(self, *_args, **_kwargs)\n",
      "  File \"c:\\Users\\Sebi\\anaconda3\\envs\\Dissertation\\lib\\site-packages\\ray\\tune\\function_runner.py\", line 379, in step\n",
      "    self._report_thread_runner_error(block=True)\n",
      "  File \"c:\\Users\\Sebi\\anaconda3\\envs\\Dissertation\\lib\\site-packages\\ray\\util\\tracing\\tracing_helper.py\", line 449, in _resume_span\n",
      "    return method(self, *_args, **_kwargs)\n",
      "  File \"c:\\Users\\Sebi\\anaconda3\\envs\\Dissertation\\lib\\site-packages\\ray\\tune\\function_runner.py\", line 526, in _report_thread_runner_error\n",
      "    raise TuneError(\n",
      "ray.tune.error.TuneError: Trial raised an exception. Traceback:\n",
      "\u001b[36mray::ImplicitFunc.train_buffered()\u001b[39m (pid=17888, ip=192.168.1.185, repr=<ray.tune.function_runner.ImplicitFunc object at 0x000002517EF1DDC0>)\n",
      "  File \"c:\\Users\\Sebi\\anaconda3\\envs\\Dissertation\\lib\\site-packages\\ray\\tune\\function_runner.py\", line 260, in run\n",
      "    self._entrypoint()\n",
      "  File \"c:\\Users\\Sebi\\anaconda3\\envs\\Dissertation\\lib\\site-packages\\ray\\tune\\function_runner.py\", line 328, in entrypoint\n",
      "    return self._trainable_func(self.config, self._status_reporter,\n",
      "  File \"c:\\Users\\Sebi\\anaconda3\\envs\\Dissertation\\lib\\site-packages\\ray\\util\\tracing\\tracing_helper.py\", line 449, in _resume_span\n",
      "    return method(self, *_args, **_kwargs)\n",
      "  File \"c:\\Users\\Sebi\\anaconda3\\envs\\Dissertation\\lib\\site-packages\\ray\\tune\\function_runner.py\", line 594, in _trainable_func\n",
      "    output = fn()\n",
      "  File \"c:\\Users\\Sebi\\anaconda3\\envs\\Dissertation\\lib\\site-packages\\ray\\tune\\utils\\trainable.py\", line 344, in inner\n",
      "    trainable(config, **fn_kwargs)\n",
      "  File \"C:\\Users\\Sebi\\AppData\\Local\\Temp\\ipykernel_1976\\2506088845.py\", line 6, in start_train\n",
      "  File \"C:\\Users\\Sebi\\AppData\\Local\\Temp\\ipykernel_1976\\4288630710.py\", line 22, in __init__\n",
      "AttributeError: 'str' object has no attribute 'name'\n",
      "2022-08-11 20:36:51,659\tINFO trial.py:179 -- Creating a new dirname DCRNN_Experimental_11_08_2022-20_36_05_6c99 because trial dirname 'DCRNN_Experimental_11_08_2022-20_36_05' already exists.\n",
      "\u001b[2m\u001b[36m(pid=17888)\u001b[0m Windows fatal exception: access violation\n",
      "\u001b[2m\u001b[36m(pid=17888)\u001b[0m \n",
      "2022-08-11 20:36:51,857\tWARNING worker.py:1227 -- The actor or task with ID ffffffffffffffff9c7d991cf8e6380827aafed601000000 cannot be scheduled right now. You can ignore this message if this Ray cluster is expected to auto-scale or if you specified a runtime_env for this actor or task, which may take time to install.  Otherwise, this is likely due to all cluster resources being claimed by actors. To resolve the issue, consider creating fewer actors or increasing the resources available to this Ray cluster.\n",
      "Required resources for this actor or task: {CPU_group_0_baf022ef8e886a3d8a61af90c72eea59: 8.000000}, {CPU_group_baf022ef8e886a3d8a61af90c72eea59: 8.000000}, {GPU_group_baf022ef8e886a3d8a61af90c72eea59: 1.000000}, {GPU_group_0_baf022ef8e886a3d8a61af90c72eea59: 1.000000}\n",
      "Available resources on this node: {4.000000/12.000000 CPU, 164339400.000000 GiB/164339400.000000 GiB memory, 0.000000/1.000000 GPU, 82169700.000000 GiB/82169700.000000 GiB object_store_memory, 0.000000/1.000000 GPU_group_baf022ef8e886a3d8a61af90c72eea59, 0.000000/1.000000 GPU_group_0_baf022ef8e886a3d8a61af90c72eea59, 1000.000000/1000.000000 bundle_group_baf022ef8e886a3d8a61af90c72eea59, 1000.000000/1000.000000 bundle_group_0_baf022ef8e886a3d8a61af90c72eea59, 1.000000/1.000000 node:192.168.1.185, 0.000000/8.000000 CPU_group_0_baf022ef8e886a3d8a61af90c72eea59, 0.000000/8.000000 CPU_group_baf022ef8e886a3d8a61af90c72eea59}\n",
      "In total there are 0 pending tasks and 1 pending actors on this node.\n",
      "\u001b[2m\u001b[36m(pid=5512)\u001b[0m 2022-08-11 20:36:57,938\tERROR function_runner.py:266 -- Runner Thread raised error.\n",
      "\u001b[2m\u001b[36m(pid=5512)\u001b[0m Traceback (most recent call last):\n",
      "\u001b[2m\u001b[36m(pid=5512)\u001b[0m   File \"c:\\Users\\Sebi\\anaconda3\\envs\\Dissertation\\lib\\site-packages\\ray\\tune\\function_runner.py\", line 260, in run\n",
      "\u001b[2m\u001b[36m(pid=5512)\u001b[0m     self._entrypoint()\n",
      "\u001b[2m\u001b[36m(pid=5512)\u001b[0m   File \"c:\\Users\\Sebi\\anaconda3\\envs\\Dissertation\\lib\\site-packages\\ray\\tune\\function_runner.py\", line 328, in entrypoint\n",
      "\u001b[2m\u001b[36m(pid=5512)\u001b[0m     return self._trainable_func(self.config, self._status_reporter,\n",
      "\u001b[2m\u001b[36m(pid=5512)\u001b[0m   File \"c:\\Users\\Sebi\\anaconda3\\envs\\Dissertation\\lib\\site-packages\\ray\\util\\tracing\\tracing_helper.py\", line 449, in _resume_span\n",
      "\u001b[2m\u001b[36m(pid=5512)\u001b[0m     return method(self, *_args, **_kwargs)\n",
      "\u001b[2m\u001b[36m(pid=5512)\u001b[0m   File \"c:\\Users\\Sebi\\anaconda3\\envs\\Dissertation\\lib\\site-packages\\ray\\tune\\function_runner.py\", line 594, in _trainable_func\n",
      "\u001b[2m\u001b[36m(pid=5512)\u001b[0m     output = fn()\n",
      "\u001b[2m\u001b[36m(pid=5512)\u001b[0m   File \"c:\\Users\\Sebi\\anaconda3\\envs\\Dissertation\\lib\\site-packages\\ray\\tune\\utils\\trainable.py\", line 344, in inner\n",
      "\u001b[2m\u001b[36m(pid=5512)\u001b[0m     trainable(config, **fn_kwargs)\n",
      "\u001b[2m\u001b[36m(pid=5512)\u001b[0m   File \"C:\\Users\\Sebi\\AppData\\Local\\Temp\\ipykernel_1976\\2506088845.py\", line 6, in start_train\n",
      "\u001b[2m\u001b[36m(pid=5512)\u001b[0m   File \"C:\\Users\\Sebi\\AppData\\Local\\Temp\\ipykernel_1976\\4288630710.py\", line 22, in __init__\n",
      "\u001b[2m\u001b[36m(pid=5512)\u001b[0m AttributeError: 'str' object has no attribute 'name'\n",
      "\u001b[2m\u001b[36m(pid=5512)\u001b[0m Exception in thread Thread-2:\n",
      "\u001b[2m\u001b[36m(pid=5512)\u001b[0m Traceback (most recent call last):\n",
      "\u001b[2m\u001b[36m(pid=5512)\u001b[0m   File \"c:\\Users\\Sebi\\anaconda3\\envs\\Dissertation\\lib\\threading.py\", line 932, in _bootstrap_inner\n",
      "\u001b[2m\u001b[36m(pid=5512)\u001b[0m     self.run()\n",
      "\u001b[2m\u001b[36m(pid=5512)\u001b[0m   File \"c:\\Users\\Sebi\\anaconda3\\envs\\Dissertation\\lib\\site-packages\\ray\\tune\\function_runner.py\", line 279, in run\n",
      "\u001b[2m\u001b[36m(pid=5512)\u001b[0m     raise e\n",
      "\u001b[2m\u001b[36m(pid=5512)\u001b[0m   File \"c:\\Users\\Sebi\\anaconda3\\envs\\Dissertation\\lib\\site-packages\\ray\\tune\\function_runner.py\", line 260, in run\n",
      "\u001b[2m\u001b[36m(pid=5512)\u001b[0m     self._entrypoint()\n",
      "\u001b[2m\u001b[36m(pid=5512)\u001b[0m   File \"c:\\Users\\Sebi\\anaconda3\\envs\\Dissertation\\lib\\site-packages\\ray\\tune\\function_runner.py\", line 328, in entrypoint\n",
      "\u001b[2m\u001b[36m(pid=5512)\u001b[0m     return self._trainable_func(self.config, self._status_reporter,\n",
      "\u001b[2m\u001b[36m(pid=5512)\u001b[0m   File \"c:\\Users\\Sebi\\anaconda3\\envs\\Dissertation\\lib\\site-packages\\ray\\util\\tracing\\tracing_helper.py\", line 449, in _resume_span\n",
      "\u001b[2m\u001b[36m(pid=5512)\u001b[0m     return method(self, *_args, **_kwargs)\n",
      "\u001b[2m\u001b[36m(pid=5512)\u001b[0m   File \"c:\\Users\\Sebi\\anaconda3\\envs\\Dissertation\\lib\\site-packages\\ray\\tune\\function_runner.py\", line 594, in _trainable_func\n",
      "\u001b[2m\u001b[36m(pid=5512)\u001b[0m     output = fn()\n",
      "\u001b[2m\u001b[36m(pid=5512)\u001b[0m   File \"c:\\Users\\Sebi\\anaconda3\\envs\\Dissertation\\lib\\site-packages\\ray\\tune\\utils\\trainable.py\", line 344, in inner\n",
      "\u001b[2m\u001b[36m(pid=5512)\u001b[0m     trainable(config, **fn_kwargs)\n",
      "\u001b[2m\u001b[36m(pid=5512)\u001b[0m   File \"C:\\Users\\Sebi\\AppData\\Local\\Temp\\ipykernel_1976\\2506088845.py\", line 6, in start_train\n",
      "\u001b[2m\u001b[36m(pid=5512)\u001b[0m   File \"C:\\Users\\Sebi\\AppData\\Local\\Temp\\ipykernel_1976\\4288630710.py\", line 22, in __init__\n",
      "\u001b[2m\u001b[36m(pid=5512)\u001b[0m AttributeError: 'str' object has no attribute 'name'\n",
      "2022-08-11 20:36:58,142\tERROR trial_runner.py:846 -- Trial DCRNN_Experimental_Geodesic_13f6a_00007: Error processing event.\n",
      "Traceback (most recent call last):\n",
      "  File \"c:\\Users\\Sebi\\anaconda3\\envs\\Dissertation\\lib\\site-packages\\ray\\tune\\trial_runner.py\", line 812, in _process_trial\n",
      "    results = self.trial_executor.fetch_result(trial)\n",
      "  File \"c:\\Users\\Sebi\\anaconda3\\envs\\Dissertation\\lib\\site-packages\\ray\\tune\\ray_trial_executor.py\", line 767, in fetch_result\n",
      "    result = ray.get(trial_future[0], timeout=DEFAULT_GET_TIMEOUT)\n",
      "  File \"c:\\Users\\Sebi\\anaconda3\\envs\\Dissertation\\lib\\site-packages\\ray\\_private\\client_mode_hook.py\", line 89, in wrapper\n",
      "    return func(*args, **kwargs)\n",
      "  File \"c:\\Users\\Sebi\\anaconda3\\envs\\Dissertation\\lib\\site-packages\\ray\\worker.py\", line 1621, in get\n",
      "    raise value.as_instanceof_cause()\n",
      "ray.exceptions.RayTaskError(TuneError): \u001b[36mray::ImplicitFunc.train_buffered()\u001b[39m (pid=5512, ip=192.168.1.185, repr=<ray.tune.function_runner.ImplicitFunc object at 0x00000255F615CDC0>)\n",
      "  File \"python\\ray\\_raylet.pyx\", line 568, in ray._raylet.execute_task\n",
      "  File \"python\\ray\\_raylet.pyx\", line 572, in ray._raylet.execute_task\n",
      "  File \"python\\ray\\_raylet.pyx\", line 522, in ray._raylet.execute_task.function_executor\n",
      "  File \"c:\\Users\\Sebi\\anaconda3\\envs\\Dissertation\\lib\\site-packages\\ray\\_private\\function_manager.py\", line 579, in actor_method_executor\n",
      "    return method(__ray_actor, *args, **kwargs)\n",
      "  File \"c:\\Users\\Sebi\\anaconda3\\envs\\Dissertation\\lib\\site-packages\\ray\\util\\tracing\\tracing_helper.py\", line 449, in _resume_span\n",
      "    return method(self, *_args, **_kwargs)\n",
      "  File \"c:\\Users\\Sebi\\anaconda3\\envs\\Dissertation\\lib\\site-packages\\ray\\tune\\trainable.py\", line 189, in train_buffered\n",
      "    result = self.train()\n",
      "  File \"c:\\Users\\Sebi\\anaconda3\\envs\\Dissertation\\lib\\site-packages\\ray\\util\\tracing\\tracing_helper.py\", line 449, in _resume_span\n",
      "    return method(self, *_args, **_kwargs)\n",
      "  File \"c:\\Users\\Sebi\\anaconda3\\envs\\Dissertation\\lib\\site-packages\\ray\\tune\\trainable.py\", line 248, in train\n",
      "    result = self.step()\n",
      "  File \"c:\\Users\\Sebi\\anaconda3\\envs\\Dissertation\\lib\\site-packages\\ray\\util\\tracing\\tracing_helper.py\", line 449, in _resume_span\n",
      "    return method(self, *_args, **_kwargs)\n",
      "  File \"c:\\Users\\Sebi\\anaconda3\\envs\\Dissertation\\lib\\site-packages\\ray\\tune\\function_runner.py\", line 379, in step\n",
      "    self._report_thread_runner_error(block=True)\n",
      "  File \"c:\\Users\\Sebi\\anaconda3\\envs\\Dissertation\\lib\\site-packages\\ray\\util\\tracing\\tracing_helper.py\", line 449, in _resume_span\n",
      "    return method(self, *_args, **_kwargs)\n",
      "  File \"c:\\Users\\Sebi\\anaconda3\\envs\\Dissertation\\lib\\site-packages\\ray\\tune\\function_runner.py\", line 526, in _report_thread_runner_error\n",
      "    raise TuneError(\n",
      "ray.tune.error.TuneError: Trial raised an exception. Traceback:\n",
      "\u001b[36mray::ImplicitFunc.train_buffered()\u001b[39m (pid=5512, ip=192.168.1.185, repr=<ray.tune.function_runner.ImplicitFunc object at 0x00000255F615CDC0>)\n",
      "  File \"c:\\Users\\Sebi\\anaconda3\\envs\\Dissertation\\lib\\site-packages\\ray\\tune\\function_runner.py\", line 260, in run\n",
      "    self._entrypoint()\n",
      "  File \"c:\\Users\\Sebi\\anaconda3\\envs\\Dissertation\\lib\\site-packages\\ray\\tune\\function_runner.py\", line 328, in entrypoint\n",
      "    return self._trainable_func(self.config, self._status_reporter,\n",
      "  File \"c:\\Users\\Sebi\\anaconda3\\envs\\Dissertation\\lib\\site-packages\\ray\\util\\tracing\\tracing_helper.py\", line 449, in _resume_span\n",
      "    return method(self, *_args, **_kwargs)\n",
      "  File \"c:\\Users\\Sebi\\anaconda3\\envs\\Dissertation\\lib\\site-packages\\ray\\tune\\function_runner.py\", line 594, in _trainable_func\n",
      "    output = fn()\n",
      "  File \"c:\\Users\\Sebi\\anaconda3\\envs\\Dissertation\\lib\\site-packages\\ray\\tune\\utils\\trainable.py\", line 344, in inner\n",
      "    trainable(config, **fn_kwargs)\n",
      "  File \"C:\\Users\\Sebi\\AppData\\Local\\Temp\\ipykernel_1976\\2506088845.py\", line 6, in start_train\n",
      "  File \"C:\\Users\\Sebi\\AppData\\Local\\Temp\\ipykernel_1976\\4288630710.py\", line 22, in __init__\n",
      "AttributeError: 'str' object has no attribute 'name'\n",
      "2022-08-11 20:36:58,157\tINFO trial.py:179 -- Creating a new dirname DCRNN_Experimental_11_08_2022-20_36_05_5b5b because trial dirname 'DCRNN_Experimental_11_08_2022-20_36_05' already exists.\n",
      "\u001b[2m\u001b[36m(pid=5512)\u001b[0m Windows fatal exception: access violation\n",
      "\u001b[2m\u001b[36m(pid=5512)\u001b[0m \n",
      "\u001b[2m\u001b[36m(pid=7988)\u001b[0m 2022-08-11 20:37:04,396\tERROR function_runner.py:266 -- Runner Thread raised error.\n",
      "\u001b[2m\u001b[36m(pid=7988)\u001b[0m Traceback (most recent call last):\n",
      "\u001b[2m\u001b[36m(pid=7988)\u001b[0m   File \"c:\\Users\\Sebi\\anaconda3\\envs\\Dissertation\\lib\\site-packages\\ray\\tune\\function_runner.py\", line 260, in run\n",
      "\u001b[2m\u001b[36m(pid=7988)\u001b[0m     self._entrypoint()\n",
      "\u001b[2m\u001b[36m(pid=7988)\u001b[0m   File \"c:\\Users\\Sebi\\anaconda3\\envs\\Dissertation\\lib\\site-packages\\ray\\tune\\function_runner.py\", line 328, in entrypoint\n",
      "\u001b[2m\u001b[36m(pid=7988)\u001b[0m     return self._trainable_func(self.config, self._status_reporter,\n",
      "\u001b[2m\u001b[36m(pid=7988)\u001b[0m   File \"c:\\Users\\Sebi\\anaconda3\\envs\\Dissertation\\lib\\site-packages\\ray\\util\\tracing\\tracing_helper.py\", line 449, in _resume_span\n",
      "\u001b[2m\u001b[36m(pid=7988)\u001b[0m     return method(self, *_args, **_kwargs)\n",
      "\u001b[2m\u001b[36m(pid=7988)\u001b[0m   File \"c:\\Users\\Sebi\\anaconda3\\envs\\Dissertation\\lib\\site-packages\\ray\\tune\\function_runner.py\", line 594, in _trainable_func\n",
      "\u001b[2m\u001b[36m(pid=7988)\u001b[0m     output = fn()\n",
      "\u001b[2m\u001b[36m(pid=7988)\u001b[0m   File \"c:\\Users\\Sebi\\anaconda3\\envs\\Dissertation\\lib\\site-packages\\ray\\tune\\utils\\trainable.py\", line 344, in inner\n",
      "\u001b[2m\u001b[36m(pid=7988)\u001b[0m     trainable(config, **fn_kwargs)\n",
      "\u001b[2m\u001b[36m(pid=7988)\u001b[0m   File \"C:\\Users\\Sebi\\AppData\\Local\\Temp\\ipykernel_1976\\2506088845.py\", line 6, in start_train\n",
      "\u001b[2m\u001b[36m(pid=7988)\u001b[0m   File \"C:\\Users\\Sebi\\AppData\\Local\\Temp\\ipykernel_1976\\4288630710.py\", line 22, in __init__\n",
      "\u001b[2m\u001b[36m(pid=7988)\u001b[0m AttributeError: 'str' object has no attribute 'name'\n",
      "\u001b[2m\u001b[36m(pid=7988)\u001b[0m Exception in thread Thread-2:\n",
      "\u001b[2m\u001b[36m(pid=7988)\u001b[0m Traceback (most recent call last):\n",
      "\u001b[2m\u001b[36m(pid=7988)\u001b[0m   File \"c:\\Users\\Sebi\\anaconda3\\envs\\Dissertation\\lib\\threading.py\", line 932, in _bootstrap_inner\n",
      "\u001b[2m\u001b[36m(pid=7988)\u001b[0m     self.run()\n",
      "\u001b[2m\u001b[36m(pid=7988)\u001b[0m   File \"c:\\Users\\Sebi\\anaconda3\\envs\\Dissertation\\lib\\site-packages\\ray\\tune\\function_runner.py\", line 279, in run\n",
      "\u001b[2m\u001b[36m(pid=7988)\u001b[0m     raise e\n",
      "\u001b[2m\u001b[36m(pid=7988)\u001b[0m   File \"c:\\Users\\Sebi\\anaconda3\\envs\\Dissertation\\lib\\site-packages\\ray\\tune\\function_runner.py\", line 260, in run\n",
      "\u001b[2m\u001b[36m(pid=7988)\u001b[0m     self._entrypoint()\n",
      "\u001b[2m\u001b[36m(pid=7988)\u001b[0m   File \"c:\\Users\\Sebi\\anaconda3\\envs\\Dissertation\\lib\\site-packages\\ray\\tune\\function_runner.py\", line 328, in entrypoint\n",
      "\u001b[2m\u001b[36m(pid=7988)\u001b[0m     return self._trainable_func(self.config, self._status_reporter,\n",
      "\u001b[2m\u001b[36m(pid=7988)\u001b[0m   File \"c:\\Users\\Sebi\\anaconda3\\envs\\Dissertation\\lib\\site-packages\\ray\\util\\tracing\\tracing_helper.py\", line 449, in _resume_span\n",
      "\u001b[2m\u001b[36m(pid=7988)\u001b[0m     return method(self, *_args, **_kwargs)\n",
      "\u001b[2m\u001b[36m(pid=7988)\u001b[0m   File \"c:\\Users\\Sebi\\anaconda3\\envs\\Dissertation\\lib\\site-packages\\ray\\tune\\function_runner.py\", line 594, in _trainable_func\n",
      "\u001b[2m\u001b[36m(pid=7988)\u001b[0m     output = fn()\n",
      "\u001b[2m\u001b[36m(pid=7988)\u001b[0m   File \"c:\\Users\\Sebi\\anaconda3\\envs\\Dissertation\\lib\\site-packages\\ray\\tune\\utils\\trainable.py\", line 344, in inner\n",
      "\u001b[2m\u001b[36m(pid=7988)\u001b[0m     trainable(config, **fn_kwargs)\n",
      "\u001b[2m\u001b[36m(pid=7988)\u001b[0m   File \"C:\\Users\\Sebi\\AppData\\Local\\Temp\\ipykernel_1976\\2506088845.py\", line 6, in start_train\n",
      "\u001b[2m\u001b[36m(pid=7988)\u001b[0m   File \"C:\\Users\\Sebi\\AppData\\Local\\Temp\\ipykernel_1976\\4288630710.py\", line 22, in __init__\n",
      "\u001b[2m\u001b[36m(pid=7988)\u001b[0m AttributeError: 'str' object has no attribute 'name'\n",
      "2022-08-11 20:37:04,617\tERROR trial_runner.py:846 -- Trial DCRNN_Experimental_Geodesic_13f6a_00008: Error processing event.\n",
      "Traceback (most recent call last):\n",
      "  File \"c:\\Users\\Sebi\\anaconda3\\envs\\Dissertation\\lib\\site-packages\\ray\\tune\\trial_runner.py\", line 812, in _process_trial\n",
      "    results = self.trial_executor.fetch_result(trial)\n",
      "  File \"c:\\Users\\Sebi\\anaconda3\\envs\\Dissertation\\lib\\site-packages\\ray\\tune\\ray_trial_executor.py\", line 767, in fetch_result\n",
      "    result = ray.get(trial_future[0], timeout=DEFAULT_GET_TIMEOUT)\n",
      "  File \"c:\\Users\\Sebi\\anaconda3\\envs\\Dissertation\\lib\\site-packages\\ray\\_private\\client_mode_hook.py\", line 89, in wrapper\n",
      "    return func(*args, **kwargs)\n",
      "  File \"c:\\Users\\Sebi\\anaconda3\\envs\\Dissertation\\lib\\site-packages\\ray\\worker.py\", line 1621, in get\n",
      "    raise value.as_instanceof_cause()\n",
      "ray.exceptions.RayTaskError(TuneError): \u001b[36mray::ImplicitFunc.train_buffered()\u001b[39m (pid=7988, ip=192.168.1.185, repr=<ray.tune.function_runner.ImplicitFunc object at 0x0000017F4E89CDC0>)\n",
      "  File \"python\\ray\\_raylet.pyx\", line 568, in ray._raylet.execute_task\n",
      "  File \"python\\ray\\_raylet.pyx\", line 572, in ray._raylet.execute_task\n",
      "  File \"python\\ray\\_raylet.pyx\", line 522, in ray._raylet.execute_task.function_executor\n",
      "  File \"c:\\Users\\Sebi\\anaconda3\\envs\\Dissertation\\lib\\site-packages\\ray\\_private\\function_manager.py\", line 579, in actor_method_executor\n",
      "    return method(__ray_actor, *args, **kwargs)\n",
      "  File \"c:\\Users\\Sebi\\anaconda3\\envs\\Dissertation\\lib\\site-packages\\ray\\util\\tracing\\tracing_helper.py\", line 449, in _resume_span\n",
      "    return method(self, *_args, **_kwargs)\n",
      "  File \"c:\\Users\\Sebi\\anaconda3\\envs\\Dissertation\\lib\\site-packages\\ray\\tune\\trainable.py\", line 189, in train_buffered\n",
      "    result = self.train()\n",
      "  File \"c:\\Users\\Sebi\\anaconda3\\envs\\Dissertation\\lib\\site-packages\\ray\\util\\tracing\\tracing_helper.py\", line 449, in _resume_span\n",
      "    return method(self, *_args, **_kwargs)\n",
      "  File \"c:\\Users\\Sebi\\anaconda3\\envs\\Dissertation\\lib\\site-packages\\ray\\tune\\trainable.py\", line 248, in train\n",
      "    result = self.step()\n",
      "  File \"c:\\Users\\Sebi\\anaconda3\\envs\\Dissertation\\lib\\site-packages\\ray\\util\\tracing\\tracing_helper.py\", line 449, in _resume_span\n",
      "    return method(self, *_args, **_kwargs)\n",
      "  File \"c:\\Users\\Sebi\\anaconda3\\envs\\Dissertation\\lib\\site-packages\\ray\\tune\\function_runner.py\", line 379, in step\n",
      "    self._report_thread_runner_error(block=True)\n",
      "  File \"c:\\Users\\Sebi\\anaconda3\\envs\\Dissertation\\lib\\site-packages\\ray\\util\\tracing\\tracing_helper.py\", line 449, in _resume_span\n",
      "    return method(self, *_args, **_kwargs)\n",
      "  File \"c:\\Users\\Sebi\\anaconda3\\envs\\Dissertation\\lib\\site-packages\\ray\\tune\\function_runner.py\", line 526, in _report_thread_runner_error\n",
      "    raise TuneError(\n",
      "ray.tune.error.TuneError: Trial raised an exception. Traceback:\n",
      "\u001b[36mray::ImplicitFunc.train_buffered()\u001b[39m (pid=7988, ip=192.168.1.185, repr=<ray.tune.function_runner.ImplicitFunc object at 0x0000017F4E89CDC0>)\n",
      "  File \"c:\\Users\\Sebi\\anaconda3\\envs\\Dissertation\\lib\\site-packages\\ray\\tune\\function_runner.py\", line 260, in run\n",
      "    self._entrypoint()\n",
      "  File \"c:\\Users\\Sebi\\anaconda3\\envs\\Dissertation\\lib\\site-packages\\ray\\tune\\function_runner.py\", line 328, in entrypoint\n",
      "    return self._trainable_func(self.config, self._status_reporter,\n",
      "  File \"c:\\Users\\Sebi\\anaconda3\\envs\\Dissertation\\lib\\site-packages\\ray\\util\\tracing\\tracing_helper.py\", line 449, in _resume_span\n",
      "    return method(self, *_args, **_kwargs)\n",
      "  File \"c:\\Users\\Sebi\\anaconda3\\envs\\Dissertation\\lib\\site-packages\\ray\\tune\\function_runner.py\", line 594, in _trainable_func\n",
      "    output = fn()\n",
      "  File \"c:\\Users\\Sebi\\anaconda3\\envs\\Dissertation\\lib\\site-packages\\ray\\tune\\utils\\trainable.py\", line 344, in inner\n",
      "    trainable(config, **fn_kwargs)\n",
      "  File \"C:\\Users\\Sebi\\AppData\\Local\\Temp\\ipykernel_1976\\2506088845.py\", line 6, in start_train\n",
      "  File \"C:\\Users\\Sebi\\AppData\\Local\\Temp\\ipykernel_1976\\4288630710.py\", line 22, in __init__\n",
      "AttributeError: 'str' object has no attribute 'name'\n",
      "2022-08-11 20:37:04,638\tINFO trial.py:179 -- Creating a new dirname DCRNN_Experimental_11_08_2022-20_36_05_6c4e because trial dirname 'DCRNN_Experimental_11_08_2022-20_36_05' already exists.\n",
      "\u001b[2m\u001b[36m(pid=7988)\u001b[0m Windows fatal exception: access violation\n",
      "\u001b[2m\u001b[36m(pid=7988)\u001b[0m \n",
      "\u001b[2m\u001b[36m(pid=13376)\u001b[0m 2022-08-11 20:37:10,936\tERROR function_runner.py:266 -- Runner Thread raised error.\n",
      "\u001b[2m\u001b[36m(pid=13376)\u001b[0m Traceback (most recent call last):\n",
      "\u001b[2m\u001b[36m(pid=13376)\u001b[0m   File \"c:\\Users\\Sebi\\anaconda3\\envs\\Dissertation\\lib\\site-packages\\ray\\tune\\function_runner.py\", line 260, in run\n",
      "\u001b[2m\u001b[36m(pid=13376)\u001b[0m     self._entrypoint()\n",
      "\u001b[2m\u001b[36m(pid=13376)\u001b[0m   File \"c:\\Users\\Sebi\\anaconda3\\envs\\Dissertation\\lib\\site-packages\\ray\\tune\\function_runner.py\", line 328, in entrypoint\n",
      "\u001b[2m\u001b[36m(pid=13376)\u001b[0m     return self._trainable_func(self.config, self._status_reporter,\n",
      "\u001b[2m\u001b[36m(pid=13376)\u001b[0m   File \"c:\\Users\\Sebi\\anaconda3\\envs\\Dissertation\\lib\\site-packages\\ray\\util\\tracing\\tracing_helper.py\", line 449, in _resume_span\n",
      "\u001b[2m\u001b[36m(pid=13376)\u001b[0m     return method(self, *_args, **_kwargs)\n",
      "\u001b[2m\u001b[36m(pid=13376)\u001b[0m   File \"c:\\Users\\Sebi\\anaconda3\\envs\\Dissertation\\lib\\site-packages\\ray\\tune\\function_runner.py\", line 594, in _trainable_func\n",
      "\u001b[2m\u001b[36m(pid=13376)\u001b[0m     output = fn()\n",
      "\u001b[2m\u001b[36m(pid=13376)\u001b[0m   File \"c:\\Users\\Sebi\\anaconda3\\envs\\Dissertation\\lib\\site-packages\\ray\\tune\\utils\\trainable.py\", line 344, in inner\n",
      "\u001b[2m\u001b[36m(pid=13376)\u001b[0m     trainable(config, **fn_kwargs)\n",
      "\u001b[2m\u001b[36m(pid=13376)\u001b[0m   File \"C:\\Users\\Sebi\\AppData\\Local\\Temp\\ipykernel_1976\\2506088845.py\", line 6, in start_train\n",
      "\u001b[2m\u001b[36m(pid=13376)\u001b[0m   File \"C:\\Users\\Sebi\\AppData\\Local\\Temp\\ipykernel_1976\\4288630710.py\", line 22, in __init__\n",
      "\u001b[2m\u001b[36m(pid=13376)\u001b[0m AttributeError: 'str' object has no attribute 'name'\n",
      "\u001b[2m\u001b[36m(pid=13376)\u001b[0m Exception in thread Thread-2:\n",
      "\u001b[2m\u001b[36m(pid=13376)\u001b[0m Traceback (most recent call last):\n",
      "\u001b[2m\u001b[36m(pid=13376)\u001b[0m   File \"c:\\Users\\Sebi\\anaconda3\\envs\\Dissertation\\lib\\threading.py\", line 932, in _bootstrap_inner\n",
      "\u001b[2m\u001b[36m(pid=13376)\u001b[0m     self.run()\n",
      "\u001b[2m\u001b[36m(pid=13376)\u001b[0m   File \"c:\\Users\\Sebi\\anaconda3\\envs\\Dissertation\\lib\\site-packages\\ray\\tune\\function_runner.py\", line 279, in run\n",
      "\u001b[2m\u001b[36m(pid=13376)\u001b[0m     raise e\n",
      "\u001b[2m\u001b[36m(pid=13376)\u001b[0m   File \"c:\\Users\\Sebi\\anaconda3\\envs\\Dissertation\\lib\\site-packages\\ray\\tune\\function_runner.py\", line 260, in run\n",
      "\u001b[2m\u001b[36m(pid=13376)\u001b[0m     self._entrypoint()\n",
      "\u001b[2m\u001b[36m(pid=13376)\u001b[0m   File \"c:\\Users\\Sebi\\anaconda3\\envs\\Dissertation\\lib\\site-packages\\ray\\tune\\function_runner.py\", line 328, in entrypoint\n",
      "\u001b[2m\u001b[36m(pid=13376)\u001b[0m     return self._trainable_func(self.config, self._status_reporter,\n",
      "\u001b[2m\u001b[36m(pid=13376)\u001b[0m   File \"c:\\Users\\Sebi\\anaconda3\\envs\\Dissertation\\lib\\site-packages\\ray\\util\\tracing\\tracing_helper.py\", line 449, in _resume_span\n",
      "\u001b[2m\u001b[36m(pid=13376)\u001b[0m     return method(self, *_args, **_kwargs)\n",
      "\u001b[2m\u001b[36m(pid=13376)\u001b[0m   File \"c:\\Users\\Sebi\\anaconda3\\envs\\Dissertation\\lib\\site-packages\\ray\\tune\\function_runner.py\", line 594, in _trainable_func\n",
      "\u001b[2m\u001b[36m(pid=13376)\u001b[0m     output = fn()\n",
      "\u001b[2m\u001b[36m(pid=13376)\u001b[0m   File \"c:\\Users\\Sebi\\anaconda3\\envs\\Dissertation\\lib\\site-packages\\ray\\tune\\utils\\trainable.py\", line 344, in inner\n",
      "\u001b[2m\u001b[36m(pid=13376)\u001b[0m     trainable(config, **fn_kwargs)\n",
      "\u001b[2m\u001b[36m(pid=13376)\u001b[0m   File \"C:\\Users\\Sebi\\AppData\\Local\\Temp\\ipykernel_1976\\2506088845.py\", line 6, in start_train\n",
      "\u001b[2m\u001b[36m(pid=13376)\u001b[0m   File \"C:\\Users\\Sebi\\AppData\\Local\\Temp\\ipykernel_1976\\4288630710.py\", line 22, in __init__\n",
      "\u001b[2m\u001b[36m(pid=13376)\u001b[0m AttributeError: 'str' object has no attribute 'name'\n",
      "2022-08-11 20:37:11,155\tERROR trial_runner.py:846 -- Trial DCRNN_Experimental_Geodesic_13f6a_00009: Error processing event.\n",
      "Traceback (most recent call last):\n",
      "  File \"c:\\Users\\Sebi\\anaconda3\\envs\\Dissertation\\lib\\site-packages\\ray\\tune\\trial_runner.py\", line 812, in _process_trial\n",
      "    results = self.trial_executor.fetch_result(trial)\n",
      "  File \"c:\\Users\\Sebi\\anaconda3\\envs\\Dissertation\\lib\\site-packages\\ray\\tune\\ray_trial_executor.py\", line 767, in fetch_result\n",
      "    result = ray.get(trial_future[0], timeout=DEFAULT_GET_TIMEOUT)\n",
      "  File \"c:\\Users\\Sebi\\anaconda3\\envs\\Dissertation\\lib\\site-packages\\ray\\_private\\client_mode_hook.py\", line 89, in wrapper\n",
      "    return func(*args, **kwargs)\n",
      "  File \"c:\\Users\\Sebi\\anaconda3\\envs\\Dissertation\\lib\\site-packages\\ray\\worker.py\", line 1621, in get\n",
      "    raise value.as_instanceof_cause()\n",
      "ray.exceptions.RayTaskError(TuneError): \u001b[36mray::ImplicitFunc.train_buffered()\u001b[39m (pid=13376, ip=192.168.1.185, repr=<ray.tune.function_runner.ImplicitFunc object at 0x000001E9FF3DDDC0>)\n",
      "  File \"python\\ray\\_raylet.pyx\", line 568, in ray._raylet.execute_task\n",
      "  File \"python\\ray\\_raylet.pyx\", line 572, in ray._raylet.execute_task\n",
      "  File \"python\\ray\\_raylet.pyx\", line 522, in ray._raylet.execute_task.function_executor\n",
      "  File \"c:\\Users\\Sebi\\anaconda3\\envs\\Dissertation\\lib\\site-packages\\ray\\_private\\function_manager.py\", line 579, in actor_method_executor\n",
      "    return method(__ray_actor, *args, **kwargs)\n",
      "  File \"c:\\Users\\Sebi\\anaconda3\\envs\\Dissertation\\lib\\site-packages\\ray\\util\\tracing\\tracing_helper.py\", line 449, in _resume_span\n",
      "    return method(self, *_args, **_kwargs)\n",
      "  File \"c:\\Users\\Sebi\\anaconda3\\envs\\Dissertation\\lib\\site-packages\\ray\\tune\\trainable.py\", line 189, in train_buffered\n",
      "    result = self.train()\n",
      "  File \"c:\\Users\\Sebi\\anaconda3\\envs\\Dissertation\\lib\\site-packages\\ray\\util\\tracing\\tracing_helper.py\", line 449, in _resume_span\n",
      "    return method(self, *_args, **_kwargs)\n",
      "  File \"c:\\Users\\Sebi\\anaconda3\\envs\\Dissertation\\lib\\site-packages\\ray\\tune\\trainable.py\", line 248, in train\n",
      "    result = self.step()\n",
      "  File \"c:\\Users\\Sebi\\anaconda3\\envs\\Dissertation\\lib\\site-packages\\ray\\util\\tracing\\tracing_helper.py\", line 449, in _resume_span\n",
      "    return method(self, *_args, **_kwargs)\n",
      "  File \"c:\\Users\\Sebi\\anaconda3\\envs\\Dissertation\\lib\\site-packages\\ray\\tune\\function_runner.py\", line 379, in step\n",
      "    self._report_thread_runner_error(block=True)\n",
      "  File \"c:\\Users\\Sebi\\anaconda3\\envs\\Dissertation\\lib\\site-packages\\ray\\util\\tracing\\tracing_helper.py\", line 449, in _resume_span\n",
      "    return method(self, *_args, **_kwargs)\n",
      "  File \"c:\\Users\\Sebi\\anaconda3\\envs\\Dissertation\\lib\\site-packages\\ray\\tune\\function_runner.py\", line 526, in _report_thread_runner_error\n",
      "    raise TuneError(\n",
      "ray.tune.error.TuneError: Trial raised an exception. Traceback:\n",
      "\u001b[36mray::ImplicitFunc.train_buffered()\u001b[39m (pid=13376, ip=192.168.1.185, repr=<ray.tune.function_runner.ImplicitFunc object at 0x000001E9FF3DDDC0>)\n",
      "  File \"c:\\Users\\Sebi\\anaconda3\\envs\\Dissertation\\lib\\site-packages\\ray\\tune\\function_runner.py\", line 260, in run\n",
      "    self._entrypoint()\n",
      "  File \"c:\\Users\\Sebi\\anaconda3\\envs\\Dissertation\\lib\\site-packages\\ray\\tune\\function_runner.py\", line 328, in entrypoint\n",
      "    return self._trainable_func(self.config, self._status_reporter,\n",
      "  File \"c:\\Users\\Sebi\\anaconda3\\envs\\Dissertation\\lib\\site-packages\\ray\\util\\tracing\\tracing_helper.py\", line 449, in _resume_span\n",
      "    return method(self, *_args, **_kwargs)\n",
      "  File \"c:\\Users\\Sebi\\anaconda3\\envs\\Dissertation\\lib\\site-packages\\ray\\tune\\function_runner.py\", line 594, in _trainable_func\n",
      "    output = fn()\n",
      "  File \"c:\\Users\\Sebi\\anaconda3\\envs\\Dissertation\\lib\\site-packages\\ray\\tune\\utils\\trainable.py\", line 344, in inner\n",
      "    trainable(config, **fn_kwargs)\n",
      "  File \"C:\\Users\\Sebi\\AppData\\Local\\Temp\\ipykernel_1976\\2506088845.py\", line 6, in start_train\n",
      "  File \"C:\\Users\\Sebi\\AppData\\Local\\Temp\\ipykernel_1976\\4288630710.py\", line 22, in __init__\n",
      "AttributeError: 'str' object has no attribute 'name'\n",
      "2022-08-11 20:37:11,171\tINFO trial.py:179 -- Creating a new dirname DCRNN_Experimental_11_08_2022-20_36_05_7693 because trial dirname 'DCRNN_Experimental_11_08_2022-20_36_05' already exists.\n",
      "\u001b[2m\u001b[36m(pid=13376)\u001b[0m Windows fatal exception: access violation\n",
      "\u001b[2m\u001b[36m(pid=13376)\u001b[0m \n",
      "\u001b[2m\u001b[36m(pid=14936)\u001b[0m 2022-08-11 20:37:17,451\tERROR function_runner.py:266 -- Runner Thread raised error.\n",
      "\u001b[2m\u001b[36m(pid=14936)\u001b[0m Traceback (most recent call last):\n",
      "\u001b[2m\u001b[36m(pid=14936)\u001b[0m   File \"c:\\Users\\Sebi\\anaconda3\\envs\\Dissertation\\lib\\site-packages\\ray\\tune\\function_runner.py\", line 260, in run\n",
      "\u001b[2m\u001b[36m(pid=14936)\u001b[0m     self._entrypoint()\n",
      "\u001b[2m\u001b[36m(pid=14936)\u001b[0m   File \"c:\\Users\\Sebi\\anaconda3\\envs\\Dissertation\\lib\\site-packages\\ray\\tune\\function_runner.py\", line 328, in entrypoint\n",
      "\u001b[2m\u001b[36m(pid=14936)\u001b[0m     return self._trainable_func(self.config, self._status_reporter,\n",
      "\u001b[2m\u001b[36m(pid=14936)\u001b[0m   File \"c:\\Users\\Sebi\\anaconda3\\envs\\Dissertation\\lib\\site-packages\\ray\\util\\tracing\\tracing_helper.py\", line 449, in _resume_span\n",
      "\u001b[2m\u001b[36m(pid=14936)\u001b[0m     return method(self, *_args, **_kwargs)\n",
      "\u001b[2m\u001b[36m(pid=14936)\u001b[0m   File \"c:\\Users\\Sebi\\anaconda3\\envs\\Dissertation\\lib\\site-packages\\ray\\tune\\function_runner.py\", line 594, in _trainable_func\n",
      "\u001b[2m\u001b[36m(pid=14936)\u001b[0m     output = fn()\n",
      "\u001b[2m\u001b[36m(pid=14936)\u001b[0m   File \"c:\\Users\\Sebi\\anaconda3\\envs\\Dissertation\\lib\\site-packages\\ray\\tune\\utils\\trainable.py\", line 344, in inner\n",
      "\u001b[2m\u001b[36m(pid=14936)\u001b[0m     trainable(config, **fn_kwargs)\n",
      "\u001b[2m\u001b[36m(pid=14936)\u001b[0m   File \"C:\\Users\\Sebi\\AppData\\Local\\Temp\\ipykernel_1976\\2506088845.py\", line 6, in start_train\n",
      "\u001b[2m\u001b[36m(pid=14936)\u001b[0m   File \"C:\\Users\\Sebi\\AppData\\Local\\Temp\\ipykernel_1976\\4288630710.py\", line 22, in __init__\n",
      "\u001b[2m\u001b[36m(pid=14936)\u001b[0m AttributeError: 'str' object has no attribute 'name'\n",
      "\u001b[2m\u001b[36m(pid=14936)\u001b[0m Exception in thread Thread-2:\n",
      "\u001b[2m\u001b[36m(pid=14936)\u001b[0m Traceback (most recent call last):\n",
      "\u001b[2m\u001b[36m(pid=14936)\u001b[0m   File \"c:\\Users\\Sebi\\anaconda3\\envs\\Dissertation\\lib\\threading.py\", line 932, in _bootstrap_inner\n",
      "\u001b[2m\u001b[36m(pid=14936)\u001b[0m     self.run()\n",
      "\u001b[2m\u001b[36m(pid=14936)\u001b[0m   File \"c:\\Users\\Sebi\\anaconda3\\envs\\Dissertation\\lib\\site-packages\\ray\\tune\\function_runner.py\", line 279, in run\n",
      "\u001b[2m\u001b[36m(pid=14936)\u001b[0m     raise e\n",
      "\u001b[2m\u001b[36m(pid=14936)\u001b[0m   File \"c:\\Users\\Sebi\\anaconda3\\envs\\Dissertation\\lib\\site-packages\\ray\\tune\\function_runner.py\", line 260, in run\n",
      "\u001b[2m\u001b[36m(pid=14936)\u001b[0m     self._entrypoint()\n",
      "\u001b[2m\u001b[36m(pid=14936)\u001b[0m   File \"c:\\Users\\Sebi\\anaconda3\\envs\\Dissertation\\lib\\site-packages\\ray\\tune\\function_runner.py\", line 328, in entrypoint\n",
      "\u001b[2m\u001b[36m(pid=14936)\u001b[0m     return self._trainable_func(self.config, self._status_reporter,\n",
      "\u001b[2m\u001b[36m(pid=14936)\u001b[0m   File \"c:\\Users\\Sebi\\anaconda3\\envs\\Dissertation\\lib\\site-packages\\ray\\util\\tracing\\tracing_helper.py\", line 449, in _resume_span\n",
      "\u001b[2m\u001b[36m(pid=14936)\u001b[0m     return method(self, *_args, **_kwargs)\n",
      "\u001b[2m\u001b[36m(pid=14936)\u001b[0m   File \"c:\\Users\\Sebi\\anaconda3\\envs\\Dissertation\\lib\\site-packages\\ray\\tune\\function_runner.py\", line 594, in _trainable_func\n",
      "\u001b[2m\u001b[36m(pid=14936)\u001b[0m     output = fn()\n",
      "\u001b[2m\u001b[36m(pid=14936)\u001b[0m   File \"c:\\Users\\Sebi\\anaconda3\\envs\\Dissertation\\lib\\site-packages\\ray\\tune\\utils\\trainable.py\", line 344, in inner\n",
      "\u001b[2m\u001b[36m(pid=14936)\u001b[0m     trainable(config, **fn_kwargs)\n",
      "\u001b[2m\u001b[36m(pid=14936)\u001b[0m   File \"C:\\Users\\Sebi\\AppData\\Local\\Temp\\ipykernel_1976\\2506088845.py\", line 6, in start_train\n",
      "\u001b[2m\u001b[36m(pid=14936)\u001b[0m   File \"C:\\Users\\Sebi\\AppData\\Local\\Temp\\ipykernel_1976\\4288630710.py\", line 22, in __init__\n",
      "\u001b[2m\u001b[36m(pid=14936)\u001b[0m AttributeError: 'str' object has no attribute 'name'\n",
      "2022-08-11 20:37:17,659\tERROR trial_runner.py:846 -- Trial DCRNN_Experimental_Geodesic_13f6a_00010: Error processing event.\n",
      "Traceback (most recent call last):\n",
      "  File \"c:\\Users\\Sebi\\anaconda3\\envs\\Dissertation\\lib\\site-packages\\ray\\tune\\trial_runner.py\", line 812, in _process_trial\n",
      "    results = self.trial_executor.fetch_result(trial)\n",
      "  File \"c:\\Users\\Sebi\\anaconda3\\envs\\Dissertation\\lib\\site-packages\\ray\\tune\\ray_trial_executor.py\", line 767, in fetch_result\n",
      "    result = ray.get(trial_future[0], timeout=DEFAULT_GET_TIMEOUT)\n",
      "  File \"c:\\Users\\Sebi\\anaconda3\\envs\\Dissertation\\lib\\site-packages\\ray\\_private\\client_mode_hook.py\", line 89, in wrapper\n",
      "    return func(*args, **kwargs)\n",
      "  File \"c:\\Users\\Sebi\\anaconda3\\envs\\Dissertation\\lib\\site-packages\\ray\\worker.py\", line 1621, in get\n",
      "    raise value.as_instanceof_cause()\n",
      "ray.exceptions.RayTaskError(TuneError): \u001b[36mray::ImplicitFunc.train_buffered()\u001b[39m (pid=14936, ip=192.168.1.185, repr=<ray.tune.function_runner.ImplicitFunc object at 0x00000181C124EDC0>)\n",
      "  File \"python\\ray\\_raylet.pyx\", line 568, in ray._raylet.execute_task\n",
      "  File \"python\\ray\\_raylet.pyx\", line 572, in ray._raylet.execute_task\n",
      "  File \"python\\ray\\_raylet.pyx\", line 522, in ray._raylet.execute_task.function_executor\n",
      "  File \"c:\\Users\\Sebi\\anaconda3\\envs\\Dissertation\\lib\\site-packages\\ray\\_private\\function_manager.py\", line 579, in actor_method_executor\n",
      "    return method(__ray_actor, *args, **kwargs)\n",
      "  File \"c:\\Users\\Sebi\\anaconda3\\envs\\Dissertation\\lib\\site-packages\\ray\\util\\tracing\\tracing_helper.py\", line 449, in _resume_span\n",
      "    return method(self, *_args, **_kwargs)\n",
      "  File \"c:\\Users\\Sebi\\anaconda3\\envs\\Dissertation\\lib\\site-packages\\ray\\tune\\trainable.py\", line 189, in train_buffered\n",
      "    result = self.train()\n",
      "  File \"c:\\Users\\Sebi\\anaconda3\\envs\\Dissertation\\lib\\site-packages\\ray\\util\\tracing\\tracing_helper.py\", line 449, in _resume_span\n",
      "    return method(self, *_args, **_kwargs)\n",
      "  File \"c:\\Users\\Sebi\\anaconda3\\envs\\Dissertation\\lib\\site-packages\\ray\\tune\\trainable.py\", line 248, in train\n",
      "    result = self.step()\n",
      "  File \"c:\\Users\\Sebi\\anaconda3\\envs\\Dissertation\\lib\\site-packages\\ray\\util\\tracing\\tracing_helper.py\", line 449, in _resume_span\n",
      "    return method(self, *_args, **_kwargs)\n",
      "  File \"c:\\Users\\Sebi\\anaconda3\\envs\\Dissertation\\lib\\site-packages\\ray\\tune\\function_runner.py\", line 379, in step\n",
      "    self._report_thread_runner_error(block=True)\n",
      "  File \"c:\\Users\\Sebi\\anaconda3\\envs\\Dissertation\\lib\\site-packages\\ray\\util\\tracing\\tracing_helper.py\", line 449, in _resume_span\n",
      "    return method(self, *_args, **_kwargs)\n",
      "  File \"c:\\Users\\Sebi\\anaconda3\\envs\\Dissertation\\lib\\site-packages\\ray\\tune\\function_runner.py\", line 526, in _report_thread_runner_error\n",
      "    raise TuneError(\n",
      "ray.tune.error.TuneError: Trial raised an exception. Traceback:\n",
      "\u001b[36mray::ImplicitFunc.train_buffered()\u001b[39m (pid=14936, ip=192.168.1.185, repr=<ray.tune.function_runner.ImplicitFunc object at 0x00000181C124EDC0>)\n",
      "  File \"c:\\Users\\Sebi\\anaconda3\\envs\\Dissertation\\lib\\site-packages\\ray\\tune\\function_runner.py\", line 260, in run\n",
      "    self._entrypoint()\n",
      "  File \"c:\\Users\\Sebi\\anaconda3\\envs\\Dissertation\\lib\\site-packages\\ray\\tune\\function_runner.py\", line 328, in entrypoint\n",
      "    return self._trainable_func(self.config, self._status_reporter,\n",
      "  File \"c:\\Users\\Sebi\\anaconda3\\envs\\Dissertation\\lib\\site-packages\\ray\\util\\tracing\\tracing_helper.py\", line 449, in _resume_span\n",
      "    return method(self, *_args, **_kwargs)\n",
      "  File \"c:\\Users\\Sebi\\anaconda3\\envs\\Dissertation\\lib\\site-packages\\ray\\tune\\function_runner.py\", line 594, in _trainable_func\n",
      "    output = fn()\n",
      "  File \"c:\\Users\\Sebi\\anaconda3\\envs\\Dissertation\\lib\\site-packages\\ray\\tune\\utils\\trainable.py\", line 344, in inner\n",
      "    trainable(config, **fn_kwargs)\n",
      "  File \"C:\\Users\\Sebi\\AppData\\Local\\Temp\\ipykernel_1976\\2506088845.py\", line 6, in start_train\n",
      "  File \"C:\\Users\\Sebi\\AppData\\Local\\Temp\\ipykernel_1976\\4288630710.py\", line 22, in __init__\n",
      "AttributeError: 'str' object has no attribute 'name'\n",
      "2022-08-11 20:37:17,674\tINFO trial.py:179 -- Creating a new dirname DCRNN_Experimental_11_08_2022-20_36_05_760c because trial dirname 'DCRNN_Experimental_11_08_2022-20_36_05' already exists.\n",
      "\u001b[2m\u001b[36m(pid=14936)\u001b[0m Windows fatal exception: access violation\n",
      "\u001b[2m\u001b[36m(pid=14936)\u001b[0m \n",
      "\u001b[2m\u001b[36m(pid=4956)\u001b[0m 2022-08-11 20:37:23,950\tERROR function_runner.py:266 -- Runner Thread raised error.\n",
      "\u001b[2m\u001b[36m(pid=4956)\u001b[0m Traceback (most recent call last):\n",
      "\u001b[2m\u001b[36m(pid=4956)\u001b[0m   File \"c:\\Users\\Sebi\\anaconda3\\envs\\Dissertation\\lib\\site-packages\\ray\\tune\\function_runner.py\", line 260, in run\n",
      "\u001b[2m\u001b[36m(pid=4956)\u001b[0m     self._entrypoint()\n",
      "\u001b[2m\u001b[36m(pid=4956)\u001b[0m   File \"c:\\Users\\Sebi\\anaconda3\\envs\\Dissertation\\lib\\site-packages\\ray\\tune\\function_runner.py\", line 328, in entrypoint\n",
      "\u001b[2m\u001b[36m(pid=4956)\u001b[0m     return self._trainable_func(self.config, self._status_reporter,\n",
      "\u001b[2m\u001b[36m(pid=4956)\u001b[0m   File \"c:\\Users\\Sebi\\anaconda3\\envs\\Dissertation\\lib\\site-packages\\ray\\util\\tracing\\tracing_helper.py\", line 449, in _resume_span\n",
      "\u001b[2m\u001b[36m(pid=4956)\u001b[0m     return method(self, *_args, **_kwargs)\n",
      "\u001b[2m\u001b[36m(pid=4956)\u001b[0m   File \"c:\\Users\\Sebi\\anaconda3\\envs\\Dissertation\\lib\\site-packages\\ray\\tune\\function_runner.py\", line 594, in _trainable_func\n",
      "\u001b[2m\u001b[36m(pid=4956)\u001b[0m     output = fn()\n",
      "\u001b[2m\u001b[36m(pid=4956)\u001b[0m   File \"c:\\Users\\Sebi\\anaconda3\\envs\\Dissertation\\lib\\site-packages\\ray\\tune\\utils\\trainable.py\", line 344, in inner\n",
      "\u001b[2m\u001b[36m(pid=4956)\u001b[0m     trainable(config, **fn_kwargs)\n",
      "\u001b[2m\u001b[36m(pid=4956)\u001b[0m   File \"C:\\Users\\Sebi\\AppData\\Local\\Temp\\ipykernel_1976\\2506088845.py\", line 6, in start_train\n",
      "\u001b[2m\u001b[36m(pid=4956)\u001b[0m   File \"C:\\Users\\Sebi\\AppData\\Local\\Temp\\ipykernel_1976\\4288630710.py\", line 22, in __init__\n",
      "\u001b[2m\u001b[36m(pid=4956)\u001b[0m AttributeError: 'str' object has no attribute 'name'\n",
      "\u001b[2m\u001b[36m(pid=4956)\u001b[0m Exception in thread Thread-2:\n",
      "\u001b[2m\u001b[36m(pid=4956)\u001b[0m Traceback (most recent call last):\n",
      "\u001b[2m\u001b[36m(pid=4956)\u001b[0m   File \"c:\\Users\\Sebi\\anaconda3\\envs\\Dissertation\\lib\\threading.py\", line 932, in _bootstrap_inner\n",
      "\u001b[2m\u001b[36m(pid=4956)\u001b[0m     self.run()\n",
      "\u001b[2m\u001b[36m(pid=4956)\u001b[0m   File \"c:\\Users\\Sebi\\anaconda3\\envs\\Dissertation\\lib\\site-packages\\ray\\tune\\function_runner.py\", line 279, in run\n",
      "\u001b[2m\u001b[36m(pid=4956)\u001b[0m     raise e\n",
      "\u001b[2m\u001b[36m(pid=4956)\u001b[0m   File \"c:\\Users\\Sebi\\anaconda3\\envs\\Dissertation\\lib\\site-packages\\ray\\tune\\function_runner.py\", line 260, in run\n",
      "\u001b[2m\u001b[36m(pid=4956)\u001b[0m     self._entrypoint()\n",
      "\u001b[2m\u001b[36m(pid=4956)\u001b[0m   File \"c:\\Users\\Sebi\\anaconda3\\envs\\Dissertation\\lib\\site-packages\\ray\\tune\\function_runner.py\", line 328, in entrypoint\n",
      "\u001b[2m\u001b[36m(pid=4956)\u001b[0m     return self._trainable_func(self.config, self._status_reporter,\n",
      "\u001b[2m\u001b[36m(pid=4956)\u001b[0m   File \"c:\\Users\\Sebi\\anaconda3\\envs\\Dissertation\\lib\\site-packages\\ray\\util\\tracing\\tracing_helper.py\", line 449, in _resume_span\n",
      "\u001b[2m\u001b[36m(pid=4956)\u001b[0m     return method(self, *_args, **_kwargs)\n",
      "\u001b[2m\u001b[36m(pid=4956)\u001b[0m   File \"c:\\Users\\Sebi\\anaconda3\\envs\\Dissertation\\lib\\site-packages\\ray\\tune\\function_runner.py\", line 594, in _trainable_func\n",
      "\u001b[2m\u001b[36m(pid=4956)\u001b[0m     output = fn()\n",
      "\u001b[2m\u001b[36m(pid=4956)\u001b[0m   File \"c:\\Users\\Sebi\\anaconda3\\envs\\Dissertation\\lib\\site-packages\\ray\\tune\\utils\\trainable.py\", line 344, in inner\n",
      "\u001b[2m\u001b[36m(pid=4956)\u001b[0m     trainable(config, **fn_kwargs)\n",
      "\u001b[2m\u001b[36m(pid=4956)\u001b[0m   File \"C:\\Users\\Sebi\\AppData\\Local\\Temp\\ipykernel_1976\\2506088845.py\", line 6, in start_train\n",
      "\u001b[2m\u001b[36m(pid=4956)\u001b[0m   File \"C:\\Users\\Sebi\\AppData\\Local\\Temp\\ipykernel_1976\\4288630710.py\", line 22, in __init__\n",
      "\u001b[2m\u001b[36m(pid=4956)\u001b[0m AttributeError: 'str' object has no attribute 'name'\n",
      "2022-08-11 20:37:24,155\tERROR trial_runner.py:846 -- Trial DCRNN_Experimental_Geodesic_13f6a_00011: Error processing event.\n",
      "Traceback (most recent call last):\n",
      "  File \"c:\\Users\\Sebi\\anaconda3\\envs\\Dissertation\\lib\\site-packages\\ray\\tune\\trial_runner.py\", line 812, in _process_trial\n",
      "    results = self.trial_executor.fetch_result(trial)\n",
      "  File \"c:\\Users\\Sebi\\anaconda3\\envs\\Dissertation\\lib\\site-packages\\ray\\tune\\ray_trial_executor.py\", line 767, in fetch_result\n",
      "    result = ray.get(trial_future[0], timeout=DEFAULT_GET_TIMEOUT)\n",
      "  File \"c:\\Users\\Sebi\\anaconda3\\envs\\Dissertation\\lib\\site-packages\\ray\\_private\\client_mode_hook.py\", line 89, in wrapper\n",
      "    return func(*args, **kwargs)\n",
      "  File \"c:\\Users\\Sebi\\anaconda3\\envs\\Dissertation\\lib\\site-packages\\ray\\worker.py\", line 1621, in get\n",
      "    raise value.as_instanceof_cause()\n",
      "ray.exceptions.RayTaskError(TuneError): \u001b[36mray::ImplicitFunc.train_buffered()\u001b[39m (pid=4956, ip=192.168.1.185, repr=<ray.tune.function_runner.ImplicitFunc object at 0x0000017B2E9AFD00>)\n",
      "  File \"python\\ray\\_raylet.pyx\", line 568, in ray._raylet.execute_task\n",
      "  File \"python\\ray\\_raylet.pyx\", line 572, in ray._raylet.execute_task\n",
      "  File \"python\\ray\\_raylet.pyx\", line 522, in ray._raylet.execute_task.function_executor\n",
      "  File \"c:\\Users\\Sebi\\anaconda3\\envs\\Dissertation\\lib\\site-packages\\ray\\_private\\function_manager.py\", line 579, in actor_method_executor\n",
      "    return method(__ray_actor, *args, **kwargs)\n",
      "  File \"c:\\Users\\Sebi\\anaconda3\\envs\\Dissertation\\lib\\site-packages\\ray\\util\\tracing\\tracing_helper.py\", line 449, in _resume_span\n",
      "    return method(self, *_args, **_kwargs)\n",
      "  File \"c:\\Users\\Sebi\\anaconda3\\envs\\Dissertation\\lib\\site-packages\\ray\\tune\\trainable.py\", line 189, in train_buffered\n",
      "    result = self.train()\n",
      "  File \"c:\\Users\\Sebi\\anaconda3\\envs\\Dissertation\\lib\\site-packages\\ray\\util\\tracing\\tracing_helper.py\", line 449, in _resume_span\n",
      "    return method(self, *_args, **_kwargs)\n",
      "  File \"c:\\Users\\Sebi\\anaconda3\\envs\\Dissertation\\lib\\site-packages\\ray\\tune\\trainable.py\", line 248, in train\n",
      "    result = self.step()\n",
      "  File \"c:\\Users\\Sebi\\anaconda3\\envs\\Dissertation\\lib\\site-packages\\ray\\util\\tracing\\tracing_helper.py\", line 449, in _resume_span\n",
      "    return method(self, *_args, **_kwargs)\n",
      "  File \"c:\\Users\\Sebi\\anaconda3\\envs\\Dissertation\\lib\\site-packages\\ray\\tune\\function_runner.py\", line 379, in step\n",
      "    self._report_thread_runner_error(block=True)\n",
      "  File \"c:\\Users\\Sebi\\anaconda3\\envs\\Dissertation\\lib\\site-packages\\ray\\util\\tracing\\tracing_helper.py\", line 449, in _resume_span\n",
      "    return method(self, *_args, **_kwargs)\n",
      "  File \"c:\\Users\\Sebi\\anaconda3\\envs\\Dissertation\\lib\\site-packages\\ray\\tune\\function_runner.py\", line 526, in _report_thread_runner_error\n",
      "    raise TuneError(\n",
      "ray.tune.error.TuneError: Trial raised an exception. Traceback:\n",
      "\u001b[36mray::ImplicitFunc.train_buffered()\u001b[39m (pid=4956, ip=192.168.1.185, repr=<ray.tune.function_runner.ImplicitFunc object at 0x0000017B2E9AFD00>)\n",
      "  File \"c:\\Users\\Sebi\\anaconda3\\envs\\Dissertation\\lib\\site-packages\\ray\\tune\\function_runner.py\", line 260, in run\n",
      "    self._entrypoint()\n",
      "  File \"c:\\Users\\Sebi\\anaconda3\\envs\\Dissertation\\lib\\site-packages\\ray\\tune\\function_runner.py\", line 328, in entrypoint\n",
      "    return self._trainable_func(self.config, self._status_reporter,\n",
      "  File \"c:\\Users\\Sebi\\anaconda3\\envs\\Dissertation\\lib\\site-packages\\ray\\util\\tracing\\tracing_helper.py\", line 449, in _resume_span\n",
      "    return method(self, *_args, **_kwargs)\n",
      "  File \"c:\\Users\\Sebi\\anaconda3\\envs\\Dissertation\\lib\\site-packages\\ray\\tune\\function_runner.py\", line 594, in _trainable_func\n",
      "    output = fn()\n",
      "  File \"c:\\Users\\Sebi\\anaconda3\\envs\\Dissertation\\lib\\site-packages\\ray\\tune\\utils\\trainable.py\", line 344, in inner\n",
      "    trainable(config, **fn_kwargs)\n",
      "  File \"C:\\Users\\Sebi\\AppData\\Local\\Temp\\ipykernel_1976\\2506088845.py\", line 6, in start_train\n",
      "  File \"C:\\Users\\Sebi\\AppData\\Local\\Temp\\ipykernel_1976\\4288630710.py\", line 22, in __init__\n",
      "AttributeError: 'str' object has no attribute 'name'\n",
      "2022-08-11 20:37:24,171\tINFO trial.py:179 -- Creating a new dirname DCRNN_Experimental_11_08_2022-20_36_05_33cb because trial dirname 'DCRNN_Experimental_11_08_2022-20_36_05' already exists.\n",
      "\u001b[2m\u001b[36m(pid=4956)\u001b[0m Windows fatal exception: access violation\n",
      "\u001b[2m\u001b[36m(pid=4956)\u001b[0m \n",
      "\u001b[2m\u001b[36m(pid=5076)\u001b[0m 2022-08-11 20:37:30,390\tERROR function_runner.py:266 -- Runner Thread raised error.\n",
      "\u001b[2m\u001b[36m(pid=5076)\u001b[0m Traceback (most recent call last):\n",
      "\u001b[2m\u001b[36m(pid=5076)\u001b[0m   File \"c:\\Users\\Sebi\\anaconda3\\envs\\Dissertation\\lib\\site-packages\\ray\\tune\\function_runner.py\", line 260, in run\n",
      "\u001b[2m\u001b[36m(pid=5076)\u001b[0m     self._entrypoint()\n",
      "\u001b[2m\u001b[36m(pid=5076)\u001b[0m   File \"c:\\Users\\Sebi\\anaconda3\\envs\\Dissertation\\lib\\site-packages\\ray\\tune\\function_runner.py\", line 328, in entrypoint\n",
      "\u001b[2m\u001b[36m(pid=5076)\u001b[0m     return self._trainable_func(self.config, self._status_reporter,\n",
      "\u001b[2m\u001b[36m(pid=5076)\u001b[0m   File \"c:\\Users\\Sebi\\anaconda3\\envs\\Dissertation\\lib\\site-packages\\ray\\util\\tracing\\tracing_helper.py\", line 449, in _resume_span\n",
      "\u001b[2m\u001b[36m(pid=5076)\u001b[0m     return method(self, *_args, **_kwargs)\n",
      "\u001b[2m\u001b[36m(pid=5076)\u001b[0m   File \"c:\\Users\\Sebi\\anaconda3\\envs\\Dissertation\\lib\\site-packages\\ray\\tune\\function_runner.py\", line 594, in _trainable_func\n",
      "\u001b[2m\u001b[36m(pid=5076)\u001b[0m     output = fn()\n",
      "\u001b[2m\u001b[36m(pid=5076)\u001b[0m   File \"c:\\Users\\Sebi\\anaconda3\\envs\\Dissertation\\lib\\site-packages\\ray\\tune\\utils\\trainable.py\", line 344, in inner\n",
      "\u001b[2m\u001b[36m(pid=5076)\u001b[0m     trainable(config, **fn_kwargs)\n",
      "\u001b[2m\u001b[36m(pid=5076)\u001b[0m   File \"C:\\Users\\Sebi\\AppData\\Local\\Temp\\ipykernel_1976\\2506088845.py\", line 6, in start_train\n",
      "\u001b[2m\u001b[36m(pid=5076)\u001b[0m   File \"C:\\Users\\Sebi\\AppData\\Local\\Temp\\ipykernel_1976\\4288630710.py\", line 22, in __init__\n",
      "\u001b[2m\u001b[36m(pid=5076)\u001b[0m AttributeError: 'str' object has no attribute 'name'\n",
      "\u001b[2m\u001b[36m(pid=5076)\u001b[0m Exception in thread Thread-2:\n",
      "\u001b[2m\u001b[36m(pid=5076)\u001b[0m Traceback (most recent call last):\n",
      "\u001b[2m\u001b[36m(pid=5076)\u001b[0m   File \"c:\\Users\\Sebi\\anaconda3\\envs\\Dissertation\\lib\\threading.py\", line 932, in _bootstrap_inner\n",
      "\u001b[2m\u001b[36m(pid=5076)\u001b[0m     self.run()\n",
      "\u001b[2m\u001b[36m(pid=5076)\u001b[0m   File \"c:\\Users\\Sebi\\anaconda3\\envs\\Dissertation\\lib\\site-packages\\ray\\tune\\function_runner.py\", line 279, in run\n",
      "\u001b[2m\u001b[36m(pid=5076)\u001b[0m     raise e\n",
      "\u001b[2m\u001b[36m(pid=5076)\u001b[0m   File \"c:\\Users\\Sebi\\anaconda3\\envs\\Dissertation\\lib\\site-packages\\ray\\tune\\function_runner.py\", line 260, in run\n",
      "\u001b[2m\u001b[36m(pid=5076)\u001b[0m     self._entrypoint()\n",
      "\u001b[2m\u001b[36m(pid=5076)\u001b[0m   File \"c:\\Users\\Sebi\\anaconda3\\envs\\Dissertation\\lib\\site-packages\\ray\\tune\\function_runner.py\", line 328, in entrypoint\n",
      "\u001b[2m\u001b[36m(pid=5076)\u001b[0m     return self._trainable_func(self.config, self._status_reporter,\n",
      "\u001b[2m\u001b[36m(pid=5076)\u001b[0m   File \"c:\\Users\\Sebi\\anaconda3\\envs\\Dissertation\\lib\\site-packages\\ray\\util\\tracing\\tracing_helper.py\", line 449, in _resume_span\n",
      "\u001b[2m\u001b[36m(pid=5076)\u001b[0m     return method(self, *_args, **_kwargs)\n",
      "\u001b[2m\u001b[36m(pid=5076)\u001b[0m   File \"c:\\Users\\Sebi\\anaconda3\\envs\\Dissertation\\lib\\site-packages\\ray\\tune\\function_runner.py\", line 594, in _trainable_func\n",
      "\u001b[2m\u001b[36m(pid=5076)\u001b[0m     output = fn()\n",
      "\u001b[2m\u001b[36m(pid=5076)\u001b[0m   File \"c:\\Users\\Sebi\\anaconda3\\envs\\Dissertation\\lib\\site-packages\\ray\\tune\\utils\\trainable.py\", line 344, in inner\n",
      "\u001b[2m\u001b[36m(pid=5076)\u001b[0m     trainable(config, **fn_kwargs)\n",
      "\u001b[2m\u001b[36m(pid=5076)\u001b[0m   File \"C:\\Users\\Sebi\\AppData\\Local\\Temp\\ipykernel_1976\\2506088845.py\", line 6, in start_train\n",
      "\u001b[2m\u001b[36m(pid=5076)\u001b[0m   File \"C:\\Users\\Sebi\\AppData\\Local\\Temp\\ipykernel_1976\\4288630710.py\", line 22, in __init__\n",
      "\u001b[2m\u001b[36m(pid=5076)\u001b[0m AttributeError: 'str' object has no attribute 'name'\n",
      "2022-08-11 20:37:30,600\tERROR trial_runner.py:846 -- Trial DCRNN_Experimental_Geodesic_13f6a_00012: Error processing event.\n",
      "Traceback (most recent call last):\n",
      "  File \"c:\\Users\\Sebi\\anaconda3\\envs\\Dissertation\\lib\\site-packages\\ray\\tune\\trial_runner.py\", line 812, in _process_trial\n",
      "    results = self.trial_executor.fetch_result(trial)\n",
      "  File \"c:\\Users\\Sebi\\anaconda3\\envs\\Dissertation\\lib\\site-packages\\ray\\tune\\ray_trial_executor.py\", line 767, in fetch_result\n",
      "    result = ray.get(trial_future[0], timeout=DEFAULT_GET_TIMEOUT)\n",
      "  File \"c:\\Users\\Sebi\\anaconda3\\envs\\Dissertation\\lib\\site-packages\\ray\\_private\\client_mode_hook.py\", line 89, in wrapper\n",
      "    return func(*args, **kwargs)\n",
      "  File \"c:\\Users\\Sebi\\anaconda3\\envs\\Dissertation\\lib\\site-packages\\ray\\worker.py\", line 1621, in get\n",
      "    raise value.as_instanceof_cause()\n",
      "ray.exceptions.RayTaskError(TuneError): \u001b[36mray::ImplicitFunc.train_buffered()\u001b[39m (pid=5076, ip=192.168.1.185, repr=<ray.tune.function_runner.ImplicitFunc object at 0x000002BBDB09DDC0>)\n",
      "  File \"python\\ray\\_raylet.pyx\", line 568, in ray._raylet.execute_task\n",
      "  File \"python\\ray\\_raylet.pyx\", line 572, in ray._raylet.execute_task\n",
      "  File \"python\\ray\\_raylet.pyx\", line 522, in ray._raylet.execute_task.function_executor\n",
      "  File \"c:\\Users\\Sebi\\anaconda3\\envs\\Dissertation\\lib\\site-packages\\ray\\_private\\function_manager.py\", line 579, in actor_method_executor\n",
      "    return method(__ray_actor, *args, **kwargs)\n",
      "  File \"c:\\Users\\Sebi\\anaconda3\\envs\\Dissertation\\lib\\site-packages\\ray\\util\\tracing\\tracing_helper.py\", line 449, in _resume_span\n",
      "    return method(self, *_args, **_kwargs)\n",
      "  File \"c:\\Users\\Sebi\\anaconda3\\envs\\Dissertation\\lib\\site-packages\\ray\\tune\\trainable.py\", line 189, in train_buffered\n",
      "    result = self.train()\n",
      "  File \"c:\\Users\\Sebi\\anaconda3\\envs\\Dissertation\\lib\\site-packages\\ray\\util\\tracing\\tracing_helper.py\", line 449, in _resume_span\n",
      "    return method(self, *_args, **_kwargs)\n",
      "  File \"c:\\Users\\Sebi\\anaconda3\\envs\\Dissertation\\lib\\site-packages\\ray\\tune\\trainable.py\", line 248, in train\n",
      "    result = self.step()\n",
      "  File \"c:\\Users\\Sebi\\anaconda3\\envs\\Dissertation\\lib\\site-packages\\ray\\util\\tracing\\tracing_helper.py\", line 449, in _resume_span\n",
      "    return method(self, *_args, **_kwargs)\n",
      "  File \"c:\\Users\\Sebi\\anaconda3\\envs\\Dissertation\\lib\\site-packages\\ray\\tune\\function_runner.py\", line 379, in step\n",
      "    self._report_thread_runner_error(block=True)\n",
      "  File \"c:\\Users\\Sebi\\anaconda3\\envs\\Dissertation\\lib\\site-packages\\ray\\util\\tracing\\tracing_helper.py\", line 449, in _resume_span\n",
      "    return method(self, *_args, **_kwargs)\n",
      "  File \"c:\\Users\\Sebi\\anaconda3\\envs\\Dissertation\\lib\\site-packages\\ray\\tune\\function_runner.py\", line 526, in _report_thread_runner_error\n",
      "    raise TuneError(\n",
      "ray.tune.error.TuneError: Trial raised an exception. Traceback:\n",
      "\u001b[36mray::ImplicitFunc.train_buffered()\u001b[39m (pid=5076, ip=192.168.1.185, repr=<ray.tune.function_runner.ImplicitFunc object at 0x000002BBDB09DDC0>)\n",
      "  File \"c:\\Users\\Sebi\\anaconda3\\envs\\Dissertation\\lib\\site-packages\\ray\\tune\\function_runner.py\", line 260, in run\n",
      "    self._entrypoint()\n",
      "  File \"c:\\Users\\Sebi\\anaconda3\\envs\\Dissertation\\lib\\site-packages\\ray\\tune\\function_runner.py\", line 328, in entrypoint\n",
      "    return self._trainable_func(self.config, self._status_reporter,\n",
      "  File \"c:\\Users\\Sebi\\anaconda3\\envs\\Dissertation\\lib\\site-packages\\ray\\util\\tracing\\tracing_helper.py\", line 449, in _resume_span\n",
      "    return method(self, *_args, **_kwargs)\n",
      "  File \"c:\\Users\\Sebi\\anaconda3\\envs\\Dissertation\\lib\\site-packages\\ray\\tune\\function_runner.py\", line 594, in _trainable_func\n",
      "    output = fn()\n",
      "  File \"c:\\Users\\Sebi\\anaconda3\\envs\\Dissertation\\lib\\site-packages\\ray\\tune\\utils\\trainable.py\", line 344, in inner\n",
      "    trainable(config, **fn_kwargs)\n",
      "  File \"C:\\Users\\Sebi\\AppData\\Local\\Temp\\ipykernel_1976\\2506088845.py\", line 6, in start_train\n",
      "  File \"C:\\Users\\Sebi\\AppData\\Local\\Temp\\ipykernel_1976\\4288630710.py\", line 22, in __init__\n",
      "AttributeError: 'str' object has no attribute 'name'\n",
      "2022-08-11 20:37:30,633\tINFO trial.py:179 -- Creating a new dirname DCRNN_Experimental_11_08_2022-20_36_05_c063 because trial dirname 'DCRNN_Experimental_11_08_2022-20_36_05' already exists.\n",
      "\u001b[2m\u001b[36m(pid=5076)\u001b[0m Windows fatal exception: access violation\n",
      "\u001b[2m\u001b[36m(pid=5076)\u001b[0m \n",
      "\u001b[2m\u001b[36m(pid=10516)\u001b[0m 2022-08-11 20:37:36,891\tERROR function_runner.py:266 -- Runner Thread raised error.\n",
      "\u001b[2m\u001b[36m(pid=10516)\u001b[0m Traceback (most recent call last):\n",
      "\u001b[2m\u001b[36m(pid=10516)\u001b[0m   File \"c:\\Users\\Sebi\\anaconda3\\envs\\Dissertation\\lib\\site-packages\\ray\\tune\\function_runner.py\", line 260, in run\n",
      "\u001b[2m\u001b[36m(pid=10516)\u001b[0m     self._entrypoint()\n",
      "\u001b[2m\u001b[36m(pid=10516)\u001b[0m   File \"c:\\Users\\Sebi\\anaconda3\\envs\\Dissertation\\lib\\site-packages\\ray\\tune\\function_runner.py\", line 328, in entrypoint\n",
      "\u001b[2m\u001b[36m(pid=10516)\u001b[0m     return self._trainable_func(self.config, self._status_reporter,\n",
      "\u001b[2m\u001b[36m(pid=10516)\u001b[0m   File \"c:\\Users\\Sebi\\anaconda3\\envs\\Dissertation\\lib\\site-packages\\ray\\util\\tracing\\tracing_helper.py\", line 449, in _resume_span\n",
      "\u001b[2m\u001b[36m(pid=10516)\u001b[0m     return method(self, *_args, **_kwargs)\n",
      "\u001b[2m\u001b[36m(pid=10516)\u001b[0m   File \"c:\\Users\\Sebi\\anaconda3\\envs\\Dissertation\\lib\\site-packages\\ray\\tune\\function_runner.py\", line 594, in _trainable_func\n",
      "\u001b[2m\u001b[36m(pid=10516)\u001b[0m     output = fn()\n",
      "\u001b[2m\u001b[36m(pid=10516)\u001b[0m   File \"c:\\Users\\Sebi\\anaconda3\\envs\\Dissertation\\lib\\site-packages\\ray\\tune\\utils\\trainable.py\", line 344, in inner\n",
      "\u001b[2m\u001b[36m(pid=10516)\u001b[0m     trainable(config, **fn_kwargs)\n",
      "\u001b[2m\u001b[36m(pid=10516)\u001b[0m   File \"C:\\Users\\Sebi\\AppData\\Local\\Temp\\ipykernel_1976\\2506088845.py\", line 6, in start_train\n",
      "\u001b[2m\u001b[36m(pid=10516)\u001b[0m   File \"C:\\Users\\Sebi\\AppData\\Local\\Temp\\ipykernel_1976\\4288630710.py\", line 22, in __init__\n",
      "\u001b[2m\u001b[36m(pid=10516)\u001b[0m AttributeError: 'str' object has no attribute 'name'\n",
      "\u001b[2m\u001b[36m(pid=10516)\u001b[0m Exception in thread Thread-2:\n",
      "\u001b[2m\u001b[36m(pid=10516)\u001b[0m Traceback (most recent call last):\n",
      "\u001b[2m\u001b[36m(pid=10516)\u001b[0m   File \"c:\\Users\\Sebi\\anaconda3\\envs\\Dissertation\\lib\\threading.py\", line 932, in _bootstrap_inner\n",
      "\u001b[2m\u001b[36m(pid=10516)\u001b[0m     self.run()\n",
      "\u001b[2m\u001b[36m(pid=10516)\u001b[0m   File \"c:\\Users\\Sebi\\anaconda3\\envs\\Dissertation\\lib\\site-packages\\ray\\tune\\function_runner.py\", line 279, in run\n",
      "\u001b[2m\u001b[36m(pid=10516)\u001b[0m     raise e\n",
      "\u001b[2m\u001b[36m(pid=10516)\u001b[0m   File \"c:\\Users\\Sebi\\anaconda3\\envs\\Dissertation\\lib\\site-packages\\ray\\tune\\function_runner.py\", line 260, in run\n",
      "\u001b[2m\u001b[36m(pid=10516)\u001b[0m     self._entrypoint()\n",
      "\u001b[2m\u001b[36m(pid=10516)\u001b[0m   File \"c:\\Users\\Sebi\\anaconda3\\envs\\Dissertation\\lib\\site-packages\\ray\\tune\\function_runner.py\", line 328, in entrypoint\n",
      "\u001b[2m\u001b[36m(pid=10516)\u001b[0m     return self._trainable_func(self.config, self._status_reporter,\n",
      "\u001b[2m\u001b[36m(pid=10516)\u001b[0m   File \"c:\\Users\\Sebi\\anaconda3\\envs\\Dissertation\\lib\\site-packages\\ray\\util\\tracing\\tracing_helper.py\", line 449, in _resume_span\n",
      "\u001b[2m\u001b[36m(pid=10516)\u001b[0m     return method(self, *_args, **_kwargs)\n",
      "\u001b[2m\u001b[36m(pid=10516)\u001b[0m   File \"c:\\Users\\Sebi\\anaconda3\\envs\\Dissertation\\lib\\site-packages\\ray\\tune\\function_runner.py\", line 594, in _trainable_func\n",
      "\u001b[2m\u001b[36m(pid=10516)\u001b[0m     output = fn()\n",
      "\u001b[2m\u001b[36m(pid=10516)\u001b[0m   File \"c:\\Users\\Sebi\\anaconda3\\envs\\Dissertation\\lib\\site-packages\\ray\\tune\\utils\\trainable.py\", line 344, in inner\n",
      "\u001b[2m\u001b[36m(pid=10516)\u001b[0m     trainable(config, **fn_kwargs)\n",
      "\u001b[2m\u001b[36m(pid=10516)\u001b[0m   File \"C:\\Users\\Sebi\\AppData\\Local\\Temp\\ipykernel_1976\\2506088845.py\", line 6, in start_train\n",
      "\u001b[2m\u001b[36m(pid=10516)\u001b[0m   File \"C:\\Users\\Sebi\\AppData\\Local\\Temp\\ipykernel_1976\\4288630710.py\", line 22, in __init__\n",
      "\u001b[2m\u001b[36m(pid=10516)\u001b[0m AttributeError: 'str' object has no attribute 'name'\n",
      "2022-08-11 20:37:37,114\tERROR trial_runner.py:846 -- Trial DCRNN_Experimental_Geodesic_13f6a_00013: Error processing event.\n",
      "Traceback (most recent call last):\n",
      "  File \"c:\\Users\\Sebi\\anaconda3\\envs\\Dissertation\\lib\\site-packages\\ray\\tune\\trial_runner.py\", line 812, in _process_trial\n",
      "    results = self.trial_executor.fetch_result(trial)\n",
      "  File \"c:\\Users\\Sebi\\anaconda3\\envs\\Dissertation\\lib\\site-packages\\ray\\tune\\ray_trial_executor.py\", line 767, in fetch_result\n",
      "    result = ray.get(trial_future[0], timeout=DEFAULT_GET_TIMEOUT)\n",
      "  File \"c:\\Users\\Sebi\\anaconda3\\envs\\Dissertation\\lib\\site-packages\\ray\\_private\\client_mode_hook.py\", line 89, in wrapper\n",
      "    return func(*args, **kwargs)\n",
      "  File \"c:\\Users\\Sebi\\anaconda3\\envs\\Dissertation\\lib\\site-packages\\ray\\worker.py\", line 1621, in get\n",
      "    raise value.as_instanceof_cause()\n",
      "ray.exceptions.RayTaskError(TuneError): \u001b[36mray::ImplicitFunc.train_buffered()\u001b[39m (pid=10516, ip=192.168.1.185, repr=<ray.tune.function_runner.ImplicitFunc object at 0x00000236CC38DDC0>)\n",
      "  File \"python\\ray\\_raylet.pyx\", line 568, in ray._raylet.execute_task\n",
      "  File \"python\\ray\\_raylet.pyx\", line 572, in ray._raylet.execute_task\n",
      "  File \"python\\ray\\_raylet.pyx\", line 522, in ray._raylet.execute_task.function_executor\n",
      "  File \"c:\\Users\\Sebi\\anaconda3\\envs\\Dissertation\\lib\\site-packages\\ray\\_private\\function_manager.py\", line 579, in actor_method_executor\n",
      "    return method(__ray_actor, *args, **kwargs)\n",
      "  File \"c:\\Users\\Sebi\\anaconda3\\envs\\Dissertation\\lib\\site-packages\\ray\\util\\tracing\\tracing_helper.py\", line 449, in _resume_span\n",
      "    return method(self, *_args, **_kwargs)\n",
      "  File \"c:\\Users\\Sebi\\anaconda3\\envs\\Dissertation\\lib\\site-packages\\ray\\tune\\trainable.py\", line 189, in train_buffered\n",
      "    result = self.train()\n",
      "  File \"c:\\Users\\Sebi\\anaconda3\\envs\\Dissertation\\lib\\site-packages\\ray\\util\\tracing\\tracing_helper.py\", line 449, in _resume_span\n",
      "    return method(self, *_args, **_kwargs)\n",
      "  File \"c:\\Users\\Sebi\\anaconda3\\envs\\Dissertation\\lib\\site-packages\\ray\\tune\\trainable.py\", line 248, in train\n",
      "    result = self.step()\n",
      "  File \"c:\\Users\\Sebi\\anaconda3\\envs\\Dissertation\\lib\\site-packages\\ray\\util\\tracing\\tracing_helper.py\", line 449, in _resume_span\n",
      "    return method(self, *_args, **_kwargs)\n",
      "  File \"c:\\Users\\Sebi\\anaconda3\\envs\\Dissertation\\lib\\site-packages\\ray\\tune\\function_runner.py\", line 379, in step\n",
      "    self._report_thread_runner_error(block=True)\n",
      "  File \"c:\\Users\\Sebi\\anaconda3\\envs\\Dissertation\\lib\\site-packages\\ray\\util\\tracing\\tracing_helper.py\", line 449, in _resume_span\n",
      "    return method(self, *_args, **_kwargs)\n",
      "  File \"c:\\Users\\Sebi\\anaconda3\\envs\\Dissertation\\lib\\site-packages\\ray\\tune\\function_runner.py\", line 526, in _report_thread_runner_error\n",
      "    raise TuneError(\n",
      "ray.tune.error.TuneError: Trial raised an exception. Traceback:\n",
      "\u001b[36mray::ImplicitFunc.train_buffered()\u001b[39m (pid=10516, ip=192.168.1.185, repr=<ray.tune.function_runner.ImplicitFunc object at 0x00000236CC38DDC0>)\n",
      "  File \"c:\\Users\\Sebi\\anaconda3\\envs\\Dissertation\\lib\\site-packages\\ray\\tune\\function_runner.py\", line 260, in run\n",
      "    self._entrypoint()\n",
      "  File \"c:\\Users\\Sebi\\anaconda3\\envs\\Dissertation\\lib\\site-packages\\ray\\tune\\function_runner.py\", line 328, in entrypoint\n",
      "    return self._trainable_func(self.config, self._status_reporter,\n",
      "  File \"c:\\Users\\Sebi\\anaconda3\\envs\\Dissertation\\lib\\site-packages\\ray\\util\\tracing\\tracing_helper.py\", line 449, in _resume_span\n",
      "    return method(self, *_args, **_kwargs)\n",
      "  File \"c:\\Users\\Sebi\\anaconda3\\envs\\Dissertation\\lib\\site-packages\\ray\\tune\\function_runner.py\", line 594, in _trainable_func\n",
      "    output = fn()\n",
      "  File \"c:\\Users\\Sebi\\anaconda3\\envs\\Dissertation\\lib\\site-packages\\ray\\tune\\utils\\trainable.py\", line 344, in inner\n",
      "    trainable(config, **fn_kwargs)\n",
      "  File \"C:\\Users\\Sebi\\AppData\\Local\\Temp\\ipykernel_1976\\2506088845.py\", line 6, in start_train\n",
      "  File \"C:\\Users\\Sebi\\AppData\\Local\\Temp\\ipykernel_1976\\4288630710.py\", line 22, in __init__\n",
      "AttributeError: 'str' object has no attribute 'name'\n",
      "2022-08-11 20:37:37,137\tINFO trial.py:179 -- Creating a new dirname DCRNN_Experimental_11_08_2022-20_36_05_f0fd because trial dirname 'DCRNN_Experimental_11_08_2022-20_36_05' already exists.\n",
      "\u001b[2m\u001b[36m(pid=10516)\u001b[0m Windows fatal exception: access violation\n",
      "\u001b[2m\u001b[36m(pid=10516)\u001b[0m \n",
      "\u001b[2m\u001b[36m(pid=792)\u001b[0m 2022-08-11 20:37:43,419\tERROR function_runner.py:266 -- Runner Thread raised error.\n",
      "\u001b[2m\u001b[36m(pid=792)\u001b[0m Traceback (most recent call last):\n",
      "\u001b[2m\u001b[36m(pid=792)\u001b[0m   File \"c:\\Users\\Sebi\\anaconda3\\envs\\Dissertation\\lib\\site-packages\\ray\\tune\\function_runner.py\", line 260, in run\n",
      "\u001b[2m\u001b[36m(pid=792)\u001b[0m     self._entrypoint()\n",
      "\u001b[2m\u001b[36m(pid=792)\u001b[0m   File \"c:\\Users\\Sebi\\anaconda3\\envs\\Dissertation\\lib\\site-packages\\ray\\tune\\function_runner.py\", line 328, in entrypoint\n",
      "\u001b[2m\u001b[36m(pid=792)\u001b[0m     return self._trainable_func(self.config, self._status_reporter,\n",
      "\u001b[2m\u001b[36m(pid=792)\u001b[0m   File \"c:\\Users\\Sebi\\anaconda3\\envs\\Dissertation\\lib\\site-packages\\ray\\util\\tracing\\tracing_helper.py\", line 449, in _resume_span\n",
      "\u001b[2m\u001b[36m(pid=792)\u001b[0m     return method(self, *_args, **_kwargs)\n",
      "\u001b[2m\u001b[36m(pid=792)\u001b[0m   File \"c:\\Users\\Sebi\\anaconda3\\envs\\Dissertation\\lib\\site-packages\\ray\\tune\\function_runner.py\", line 594, in _trainable_func\n",
      "\u001b[2m\u001b[36m(pid=792)\u001b[0m     output = fn()\n",
      "\u001b[2m\u001b[36m(pid=792)\u001b[0m   File \"c:\\Users\\Sebi\\anaconda3\\envs\\Dissertation\\lib\\site-packages\\ray\\tune\\utils\\trainable.py\", line 344, in inner\n",
      "\u001b[2m\u001b[36m(pid=792)\u001b[0m     trainable(config, **fn_kwargs)\n",
      "\u001b[2m\u001b[36m(pid=792)\u001b[0m   File \"C:\\Users\\Sebi\\AppData\\Local\\Temp\\ipykernel_1976\\2506088845.py\", line 6, in start_train\n",
      "\u001b[2m\u001b[36m(pid=792)\u001b[0m   File \"C:\\Users\\Sebi\\AppData\\Local\\Temp\\ipykernel_1976\\4288630710.py\", line 22, in __init__\n",
      "\u001b[2m\u001b[36m(pid=792)\u001b[0m AttributeError: 'str' object has no attribute 'name'\n",
      "\u001b[2m\u001b[36m(pid=792)\u001b[0m Exception in thread Thread-2:\n",
      "\u001b[2m\u001b[36m(pid=792)\u001b[0m Traceback (most recent call last):\n",
      "\u001b[2m\u001b[36m(pid=792)\u001b[0m   File \"c:\\Users\\Sebi\\anaconda3\\envs\\Dissertation\\lib\\threading.py\", line 932, in _bootstrap_inner\n",
      "\u001b[2m\u001b[36m(pid=792)\u001b[0m     self.run()\n",
      "\u001b[2m\u001b[36m(pid=792)\u001b[0m   File \"c:\\Users\\Sebi\\anaconda3\\envs\\Dissertation\\lib\\site-packages\\ray\\tune\\function_runner.py\", line 279, in run\n",
      "\u001b[2m\u001b[36m(pid=792)\u001b[0m     raise e\n",
      "\u001b[2m\u001b[36m(pid=792)\u001b[0m   File \"c:\\Users\\Sebi\\anaconda3\\envs\\Dissertation\\lib\\site-packages\\ray\\tune\\function_runner.py\", line 260, in run\n",
      "\u001b[2m\u001b[36m(pid=792)\u001b[0m     self._entrypoint()\n",
      "\u001b[2m\u001b[36m(pid=792)\u001b[0m   File \"c:\\Users\\Sebi\\anaconda3\\envs\\Dissertation\\lib\\site-packages\\ray\\tune\\function_runner.py\", line 328, in entrypoint\n",
      "\u001b[2m\u001b[36m(pid=792)\u001b[0m     return self._trainable_func(self.config, self._status_reporter,\n",
      "\u001b[2m\u001b[36m(pid=792)\u001b[0m   File \"c:\\Users\\Sebi\\anaconda3\\envs\\Dissertation\\lib\\site-packages\\ray\\util\\tracing\\tracing_helper.py\", line 449, in _resume_span\n",
      "\u001b[2m\u001b[36m(pid=792)\u001b[0m     return method(self, *_args, **_kwargs)\n",
      "\u001b[2m\u001b[36m(pid=792)\u001b[0m   File \"c:\\Users\\Sebi\\anaconda3\\envs\\Dissertation\\lib\\site-packages\\ray\\tune\\function_runner.py\", line 594, in _trainable_func\n",
      "\u001b[2m\u001b[36m(pid=792)\u001b[0m     output = fn()\n",
      "\u001b[2m\u001b[36m(pid=792)\u001b[0m   File \"c:\\Users\\Sebi\\anaconda3\\envs\\Dissertation\\lib\\site-packages\\ray\\tune\\utils\\trainable.py\", line 344, in inner\n",
      "\u001b[2m\u001b[36m(pid=792)\u001b[0m     trainable(config, **fn_kwargs)\n",
      "\u001b[2m\u001b[36m(pid=792)\u001b[0m   File \"C:\\Users\\Sebi\\AppData\\Local\\Temp\\ipykernel_1976\\2506088845.py\", line 6, in start_train\n",
      "\u001b[2m\u001b[36m(pid=792)\u001b[0m   File \"C:\\Users\\Sebi\\AppData\\Local\\Temp\\ipykernel_1976\\4288630710.py\", line 22, in __init__\n",
      "\u001b[2m\u001b[36m(pid=792)\u001b[0m AttributeError: 'str' object has no attribute 'name'\n",
      "2022-08-11 20:37:43,635\tERROR trial_runner.py:846 -- Trial DCRNN_Experimental_Geodesic_13f6a_00014: Error processing event.\n",
      "Traceback (most recent call last):\n",
      "  File \"c:\\Users\\Sebi\\anaconda3\\envs\\Dissertation\\lib\\site-packages\\ray\\tune\\trial_runner.py\", line 812, in _process_trial\n",
      "    results = self.trial_executor.fetch_result(trial)\n",
      "  File \"c:\\Users\\Sebi\\anaconda3\\envs\\Dissertation\\lib\\site-packages\\ray\\tune\\ray_trial_executor.py\", line 767, in fetch_result\n",
      "    result = ray.get(trial_future[0], timeout=DEFAULT_GET_TIMEOUT)\n",
      "  File \"c:\\Users\\Sebi\\anaconda3\\envs\\Dissertation\\lib\\site-packages\\ray\\_private\\client_mode_hook.py\", line 89, in wrapper\n",
      "    return func(*args, **kwargs)\n",
      "  File \"c:\\Users\\Sebi\\anaconda3\\envs\\Dissertation\\lib\\site-packages\\ray\\worker.py\", line 1621, in get\n",
      "    raise value.as_instanceof_cause()\n",
      "ray.exceptions.RayTaskError(TuneError): \u001b[36mray::ImplicitFunc.train_buffered()\u001b[39m (pid=792, ip=192.168.1.185, repr=<ray.tune.function_runner.ImplicitFunc object at 0x0000024F28B1EDC0>)\n",
      "  File \"python\\ray\\_raylet.pyx\", line 568, in ray._raylet.execute_task\n",
      "  File \"python\\ray\\_raylet.pyx\", line 572, in ray._raylet.execute_task\n",
      "  File \"python\\ray\\_raylet.pyx\", line 522, in ray._raylet.execute_task.function_executor\n",
      "  File \"c:\\Users\\Sebi\\anaconda3\\envs\\Dissertation\\lib\\site-packages\\ray\\_private\\function_manager.py\", line 579, in actor_method_executor\n",
      "    return method(__ray_actor, *args, **kwargs)\n",
      "  File \"c:\\Users\\Sebi\\anaconda3\\envs\\Dissertation\\lib\\site-packages\\ray\\util\\tracing\\tracing_helper.py\", line 449, in _resume_span\n",
      "    return method(self, *_args, **_kwargs)\n",
      "  File \"c:\\Users\\Sebi\\anaconda3\\envs\\Dissertation\\lib\\site-packages\\ray\\tune\\trainable.py\", line 189, in train_buffered\n",
      "    result = self.train()\n",
      "  File \"c:\\Users\\Sebi\\anaconda3\\envs\\Dissertation\\lib\\site-packages\\ray\\util\\tracing\\tracing_helper.py\", line 449, in _resume_span\n",
      "    return method(self, *_args, **_kwargs)\n",
      "  File \"c:\\Users\\Sebi\\anaconda3\\envs\\Dissertation\\lib\\site-packages\\ray\\tune\\trainable.py\", line 248, in train\n",
      "    result = self.step()\n",
      "  File \"c:\\Users\\Sebi\\anaconda3\\envs\\Dissertation\\lib\\site-packages\\ray\\util\\tracing\\tracing_helper.py\", line 449, in _resume_span\n",
      "    return method(self, *_args, **_kwargs)\n",
      "  File \"c:\\Users\\Sebi\\anaconda3\\envs\\Dissertation\\lib\\site-packages\\ray\\tune\\function_runner.py\", line 379, in step\n",
      "    self._report_thread_runner_error(block=True)\n",
      "  File \"c:\\Users\\Sebi\\anaconda3\\envs\\Dissertation\\lib\\site-packages\\ray\\util\\tracing\\tracing_helper.py\", line 449, in _resume_span\n",
      "    return method(self, *_args, **_kwargs)\n",
      "  File \"c:\\Users\\Sebi\\anaconda3\\envs\\Dissertation\\lib\\site-packages\\ray\\tune\\function_runner.py\", line 526, in _report_thread_runner_error\n",
      "    raise TuneError(\n",
      "ray.tune.error.TuneError: Trial raised an exception. Traceback:\n",
      "\u001b[36mray::ImplicitFunc.train_buffered()\u001b[39m (pid=792, ip=192.168.1.185, repr=<ray.tune.function_runner.ImplicitFunc object at 0x0000024F28B1EDC0>)\n",
      "  File \"c:\\Users\\Sebi\\anaconda3\\envs\\Dissertation\\lib\\site-packages\\ray\\tune\\function_runner.py\", line 260, in run\n",
      "    self._entrypoint()\n",
      "  File \"c:\\Users\\Sebi\\anaconda3\\envs\\Dissertation\\lib\\site-packages\\ray\\tune\\function_runner.py\", line 328, in entrypoint\n",
      "    return self._trainable_func(self.config, self._status_reporter,\n",
      "  File \"c:\\Users\\Sebi\\anaconda3\\envs\\Dissertation\\lib\\site-packages\\ray\\util\\tracing\\tracing_helper.py\", line 449, in _resume_span\n",
      "    return method(self, *_args, **_kwargs)\n",
      "  File \"c:\\Users\\Sebi\\anaconda3\\envs\\Dissertation\\lib\\site-packages\\ray\\tune\\function_runner.py\", line 594, in _trainable_func\n",
      "    output = fn()\n",
      "  File \"c:\\Users\\Sebi\\anaconda3\\envs\\Dissertation\\lib\\site-packages\\ray\\tune\\utils\\trainable.py\", line 344, in inner\n",
      "    trainable(config, **fn_kwargs)\n",
      "  File \"C:\\Users\\Sebi\\AppData\\Local\\Temp\\ipykernel_1976\\2506088845.py\", line 6, in start_train\n",
      "  File \"C:\\Users\\Sebi\\AppData\\Local\\Temp\\ipykernel_1976\\4288630710.py\", line 22, in __init__\n",
      "AttributeError: 'str' object has no attribute 'name'\n",
      "\u001b[2m\u001b[36m(pid=792)\u001b[0m Windows fatal exception: access violation\n",
      "\u001b[2m\u001b[36m(pid=792)\u001b[0m \n",
      "\u001b[2m\u001b[36m(pid=14388)\u001b[0m 2022-08-11 20:37:49,902\tERROR function_runner.py:266 -- Runner Thread raised error.\n",
      "\u001b[2m\u001b[36m(pid=14388)\u001b[0m Traceback (most recent call last):\n",
      "\u001b[2m\u001b[36m(pid=14388)\u001b[0m   File \"c:\\Users\\Sebi\\anaconda3\\envs\\Dissertation\\lib\\site-packages\\ray\\tune\\function_runner.py\", line 260, in run\n",
      "\u001b[2m\u001b[36m(pid=14388)\u001b[0m     self._entrypoint()\n",
      "\u001b[2m\u001b[36m(pid=14388)\u001b[0m   File \"c:\\Users\\Sebi\\anaconda3\\envs\\Dissertation\\lib\\site-packages\\ray\\tune\\function_runner.py\", line 328, in entrypoint\n",
      "\u001b[2m\u001b[36m(pid=14388)\u001b[0m     return self._trainable_func(self.config, self._status_reporter,\n",
      "\u001b[2m\u001b[36m(pid=14388)\u001b[0m   File \"c:\\Users\\Sebi\\anaconda3\\envs\\Dissertation\\lib\\site-packages\\ray\\util\\tracing\\tracing_helper.py\", line 449, in _resume_span\n",
      "\u001b[2m\u001b[36m(pid=14388)\u001b[0m     return method(self, *_args, **_kwargs)\n",
      "\u001b[2m\u001b[36m(pid=14388)\u001b[0m   File \"c:\\Users\\Sebi\\anaconda3\\envs\\Dissertation\\lib\\site-packages\\ray\\tune\\function_runner.py\", line 594, in _trainable_func\n",
      "\u001b[2m\u001b[36m(pid=14388)\u001b[0m     output = fn()\n",
      "\u001b[2m\u001b[36m(pid=14388)\u001b[0m   File \"c:\\Users\\Sebi\\anaconda3\\envs\\Dissertation\\lib\\site-packages\\ray\\tune\\utils\\trainable.py\", line 344, in inner\n",
      "\u001b[2m\u001b[36m(pid=14388)\u001b[0m     trainable(config, **fn_kwargs)\n",
      "\u001b[2m\u001b[36m(pid=14388)\u001b[0m   File \"C:\\Users\\Sebi\\AppData\\Local\\Temp\\ipykernel_1976\\2506088845.py\", line 6, in start_train\n",
      "\u001b[2m\u001b[36m(pid=14388)\u001b[0m   File \"C:\\Users\\Sebi\\AppData\\Local\\Temp\\ipykernel_1976\\4288630710.py\", line 22, in __init__\n",
      "\u001b[2m\u001b[36m(pid=14388)\u001b[0m AttributeError: 'str' object has no attribute 'name'\n",
      "\u001b[2m\u001b[36m(pid=14388)\u001b[0m Exception in thread Thread-2:\n",
      "\u001b[2m\u001b[36m(pid=14388)\u001b[0m Traceback (most recent call last):\n",
      "\u001b[2m\u001b[36m(pid=14388)\u001b[0m   File \"c:\\Users\\Sebi\\anaconda3\\envs\\Dissertation\\lib\\threading.py\", line 932, in _bootstrap_inner\n",
      "\u001b[2m\u001b[36m(pid=14388)\u001b[0m     self.run()\n",
      "\u001b[2m\u001b[36m(pid=14388)\u001b[0m   File \"c:\\Users\\Sebi\\anaconda3\\envs\\Dissertation\\lib\\site-packages\\ray\\tune\\function_runner.py\", line 279, in run\n",
      "\u001b[2m\u001b[36m(pid=14388)\u001b[0m     raise e\n",
      "\u001b[2m\u001b[36m(pid=14388)\u001b[0m   File \"c:\\Users\\Sebi\\anaconda3\\envs\\Dissertation\\lib\\site-packages\\ray\\tune\\function_runner.py\", line 260, in run\n",
      "\u001b[2m\u001b[36m(pid=14388)\u001b[0m     self._entrypoint()\n",
      "\u001b[2m\u001b[36m(pid=14388)\u001b[0m   File \"c:\\Users\\Sebi\\anaconda3\\envs\\Dissertation\\lib\\site-packages\\ray\\tune\\function_runner.py\", line 328, in entrypoint\n",
      "\u001b[2m\u001b[36m(pid=14388)\u001b[0m     return self._trainable_func(self.config, self._status_reporter,\n",
      "\u001b[2m\u001b[36m(pid=14388)\u001b[0m   File \"c:\\Users\\Sebi\\anaconda3\\envs\\Dissertation\\lib\\site-packages\\ray\\util\\tracing\\tracing_helper.py\", line 449, in _resume_span\n",
      "\u001b[2m\u001b[36m(pid=14388)\u001b[0m     return method(self, *_args, **_kwargs)\n",
      "\u001b[2m\u001b[36m(pid=14388)\u001b[0m   File \"c:\\Users\\Sebi\\anaconda3\\envs\\Dissertation\\lib\\site-packages\\ray\\tune\\function_runner.py\", line 594, in _trainable_func\n",
      "\u001b[2m\u001b[36m(pid=14388)\u001b[0m     output = fn()\n",
      "\u001b[2m\u001b[36m(pid=14388)\u001b[0m   File \"c:\\Users\\Sebi\\anaconda3\\envs\\Dissertation\\lib\\site-packages\\ray\\tune\\utils\\trainable.py\", line 344, in inner\n",
      "\u001b[2m\u001b[36m(pid=14388)\u001b[0m     trainable(config, **fn_kwargs)\n",
      "\u001b[2m\u001b[36m(pid=14388)\u001b[0m   File \"C:\\Users\\Sebi\\AppData\\Local\\Temp\\ipykernel_1976\\2506088845.py\", line 6, in start_train\n",
      "\u001b[2m\u001b[36m(pid=14388)\u001b[0m   File \"C:\\Users\\Sebi\\AppData\\Local\\Temp\\ipykernel_1976\\4288630710.py\", line 22, in __init__\n",
      "\u001b[2m\u001b[36m(pid=14388)\u001b[0m AttributeError: 'str' object has no attribute 'name'\n",
      "2022-08-11 20:37:50,125\tERROR trial_runner.py:846 -- Trial DCRNN_Experimental_Geodesic_13f6a_00015: Error processing event.\n",
      "Traceback (most recent call last):\n",
      "  File \"c:\\Users\\Sebi\\anaconda3\\envs\\Dissertation\\lib\\site-packages\\ray\\tune\\trial_runner.py\", line 812, in _process_trial\n",
      "    results = self.trial_executor.fetch_result(trial)\n",
      "  File \"c:\\Users\\Sebi\\anaconda3\\envs\\Dissertation\\lib\\site-packages\\ray\\tune\\ray_trial_executor.py\", line 767, in fetch_result\n",
      "    result = ray.get(trial_future[0], timeout=DEFAULT_GET_TIMEOUT)\n",
      "  File \"c:\\Users\\Sebi\\anaconda3\\envs\\Dissertation\\lib\\site-packages\\ray\\_private\\client_mode_hook.py\", line 89, in wrapper\n",
      "    return func(*args, **kwargs)\n",
      "  File \"c:\\Users\\Sebi\\anaconda3\\envs\\Dissertation\\lib\\site-packages\\ray\\worker.py\", line 1621, in get\n",
      "    raise value.as_instanceof_cause()\n",
      "ray.exceptions.RayTaskError(TuneError): \u001b[36mray::ImplicitFunc.train_buffered()\u001b[39m (pid=14388, ip=192.168.1.185, repr=<ray.tune.function_runner.ImplicitFunc object at 0x00000262F18EEDC0>)\n",
      "  File \"python\\ray\\_raylet.pyx\", line 568, in ray._raylet.execute_task\n",
      "  File \"python\\ray\\_raylet.pyx\", line 572, in ray._raylet.execute_task\n",
      "  File \"python\\ray\\_raylet.pyx\", line 522, in ray._raylet.execute_task.function_executor\n",
      "  File \"c:\\Users\\Sebi\\anaconda3\\envs\\Dissertation\\lib\\site-packages\\ray\\_private\\function_manager.py\", line 579, in actor_method_executor\n",
      "    return method(__ray_actor, *args, **kwargs)\n",
      "  File \"c:\\Users\\Sebi\\anaconda3\\envs\\Dissertation\\lib\\site-packages\\ray\\util\\tracing\\tracing_helper.py\", line 449, in _resume_span\n",
      "    return method(self, *_args, **_kwargs)\n",
      "  File \"c:\\Users\\Sebi\\anaconda3\\envs\\Dissertation\\lib\\site-packages\\ray\\tune\\trainable.py\", line 189, in train_buffered\n",
      "    result = self.train()\n",
      "  File \"c:\\Users\\Sebi\\anaconda3\\envs\\Dissertation\\lib\\site-packages\\ray\\util\\tracing\\tracing_helper.py\", line 449, in _resume_span\n",
      "    return method(self, *_args, **_kwargs)\n",
      "  File \"c:\\Users\\Sebi\\anaconda3\\envs\\Dissertation\\lib\\site-packages\\ray\\tune\\trainable.py\", line 248, in train\n",
      "    result = self.step()\n",
      "  File \"c:\\Users\\Sebi\\anaconda3\\envs\\Dissertation\\lib\\site-packages\\ray\\util\\tracing\\tracing_helper.py\", line 449, in _resume_span\n",
      "    return method(self, *_args, **_kwargs)\n",
      "  File \"c:\\Users\\Sebi\\anaconda3\\envs\\Dissertation\\lib\\site-packages\\ray\\tune\\function_runner.py\", line 379, in step\n",
      "    self._report_thread_runner_error(block=True)\n",
      "  File \"c:\\Users\\Sebi\\anaconda3\\envs\\Dissertation\\lib\\site-packages\\ray\\util\\tracing\\tracing_helper.py\", line 449, in _resume_span\n",
      "    return method(self, *_args, **_kwargs)\n",
      "  File \"c:\\Users\\Sebi\\anaconda3\\envs\\Dissertation\\lib\\site-packages\\ray\\tune\\function_runner.py\", line 526, in _report_thread_runner_error\n",
      "    raise TuneError(\n",
      "ray.tune.error.TuneError: Trial raised an exception. Traceback:\n",
      "\u001b[36mray::ImplicitFunc.train_buffered()\u001b[39m (pid=14388, ip=192.168.1.185, repr=<ray.tune.function_runner.ImplicitFunc object at 0x00000262F18EEDC0>)\n",
      "  File \"c:\\Users\\Sebi\\anaconda3\\envs\\Dissertation\\lib\\site-packages\\ray\\tune\\function_runner.py\", line 260, in run\n",
      "    self._entrypoint()\n",
      "  File \"c:\\Users\\Sebi\\anaconda3\\envs\\Dissertation\\lib\\site-packages\\ray\\tune\\function_runner.py\", line 328, in entrypoint\n",
      "    return self._trainable_func(self.config, self._status_reporter,\n",
      "  File \"c:\\Users\\Sebi\\anaconda3\\envs\\Dissertation\\lib\\site-packages\\ray\\util\\tracing\\tracing_helper.py\", line 449, in _resume_span\n",
      "    return method(self, *_args, **_kwargs)\n",
      "  File \"c:\\Users\\Sebi\\anaconda3\\envs\\Dissertation\\lib\\site-packages\\ray\\tune\\function_runner.py\", line 594, in _trainable_func\n",
      "    output = fn()\n",
      "  File \"c:\\Users\\Sebi\\anaconda3\\envs\\Dissertation\\lib\\site-packages\\ray\\tune\\utils\\trainable.py\", line 344, in inner\n",
      "    trainable(config, **fn_kwargs)\n",
      "  File \"C:\\Users\\Sebi\\AppData\\Local\\Temp\\ipykernel_1976\\2506088845.py\", line 6, in start_train\n",
      "  File \"C:\\Users\\Sebi\\AppData\\Local\\Temp\\ipykernel_1976\\4288630710.py\", line 22, in __init__\n",
      "AttributeError: 'str' object has no attribute 'name'\n",
      "\u001b[2m\u001b[36m(pid=14388)\u001b[0m Windows fatal exception: access violation\n",
      "\u001b[2m\u001b[36m(pid=14388)\u001b[0m \n"
     ]
    },
    {
     "ename": "TuneError",
     "evalue": "('Trials did not complete', [DCRNN_Experimental_Geodesic_13f6a_00000, DCRNN_Experimental_Geodesic_13f6a_00001, DCRNN_Experimental_Geodesic_13f6a_00002, DCRNN_Experimental_Geodesic_13f6a_00003, DCRNN_Experimental_Geodesic_13f6a_00004, DCRNN_Experimental_Geodesic_13f6a_00005, DCRNN_Experimental_Geodesic_13f6a_00006, DCRNN_Experimental_Geodesic_13f6a_00007, DCRNN_Experimental_Geodesic_13f6a_00008, DCRNN_Experimental_Geodesic_13f6a_00009, DCRNN_Experimental_Geodesic_13f6a_00010, DCRNN_Experimental_Geodesic_13f6a_00011, DCRNN_Experimental_Geodesic_13f6a_00012, DCRNN_Experimental_Geodesic_13f6a_00013, DCRNN_Experimental_Geodesic_13f6a_00014, DCRNN_Experimental_Geodesic_13f6a_00015])",
     "output_type": "error",
     "traceback": [
      "\u001b[1;31m---------------------------------------------------------------------------\u001b[0m",
      "\u001b[1;31mTuneError\u001b[0m                                 Traceback (most recent call last)",
      "\u001b[1;32mc:\\Facultate\\Dissertation-GNN\\Dissertation-GNN-VEHITS\\VEHITS-2022-GNN.ipynb Cell 73\u001b[0m in \u001b[0;36m<cell line: 1>\u001b[1;34m()\u001b[0m\n\u001b[1;32m----> <a href='vscode-notebook-cell:/c%3A/Facultate/Dissertation-GNN/Dissertation-GNN-VEHITS/VEHITS-2022-GNN.ipynb#Y132sZmlsZQ%3D%3D?line=0'>1</a>\u001b[0m start_learn(results_ray_path,path_processed_data,results_path)\n",
      "\u001b[1;32mc:\\Facultate\\Dissertation-GNN\\Dissertation-GNN-VEHITS\\VEHITS-2022-GNN.ipynb Cell 73\u001b[0m in \u001b[0;36mstart_learn\u001b[1;34m(results_ray_path, path_processed_data, results_path)\u001b[0m\n\u001b[0;32m      <a href='vscode-notebook-cell:/c%3A/Facultate/Dissertation-GNN/Dissertation-GNN-VEHITS/VEHITS-2022-GNN.ipynb#Y132sZmlsZQ%3D%3D?line=7'>8</a>\u001b[0m \u001b[39mfor\u001b[39;00m dataset \u001b[39min\u001b[39;00m DatasetSize:\n\u001b[0;32m      <a href='vscode-notebook-cell:/c%3A/Facultate/Dissertation-GNN/Dissertation-GNN-VEHITS/VEHITS-2022-GNN.ipynb#Y132sZmlsZQ%3D%3D?line=8'>9</a>\u001b[0m     \u001b[39mfor\u001b[39;00m model \u001b[39min\u001b[39;00m ModelType:\n\u001b[1;32m---> <a href='vscode-notebook-cell:/c%3A/Facultate/Dissertation-GNN/Dissertation-GNN-VEHITS/VEHITS-2022-GNN.ipynb#Y132sZmlsZQ%3D%3D?line=9'>10</a>\u001b[0m         hyperParameterTuning(dataset, model, distanceType, experiment_name,\n\u001b[0;32m     <a href='vscode-notebook-cell:/c%3A/Facultate/Dissertation-GNN/Dissertation-GNN-VEHITS/VEHITS-2022-GNN.ipynb#Y132sZmlsZQ%3D%3D?line=10'>11</a>\u001b[0m             results_ray_path,EPSILON_ARRAY,SIGMA_ARRAY,path_processed_data,results_path)\n",
      "\u001b[1;32mc:\\Facultate\\Dissertation-GNN\\Dissertation-GNN-VEHITS\\VEHITS-2022-GNN.ipynb Cell 73\u001b[0m in \u001b[0;36mhyperParameterTuning\u001b[1;34m(dataset, model, distanceType, experiment_name, results_ray_path, epsilon_array, sigma_array, proccessed_data_path, results_path)\u001b[0m\n\u001b[0;32m     <a href='vscode-notebook-cell:/c%3A/Facultate/Dissertation-GNN/Dissertation-GNN-VEHITS/VEHITS-2022-GNN.ipynb#Y132sZmlsZQ%3D%3D?line=34'>35</a>\u001b[0m num_samples \u001b[39m=\u001b[39m \u001b[39m16\u001b[39m\n\u001b[0;32m     <a href='vscode-notebook-cell:/c%3A/Facultate/Dissertation-GNN/Dissertation-GNN-VEHITS/VEHITS-2022-GNN.ipynb#Y132sZmlsZQ%3D%3D?line=35'>36</a>\u001b[0m start_train\u001b[39m.\u001b[39m\u001b[39m__name__\u001b[39m \u001b[39m=\u001b[39m \u001b[39mf\u001b[39m\u001b[39m\"\u001b[39m\u001b[39m{\u001b[39;00mmodel\u001b[39m.\u001b[39mname\u001b[39m}\u001b[39;00m\u001b[39m_\u001b[39m\u001b[39m{\u001b[39;00mdataset\u001b[39m.\u001b[39mname\u001b[39m}\u001b[39;00m\u001b[39m_\u001b[39m\u001b[39m{\u001b[39;00mdistanceType\u001b[39m.\u001b[39mname\u001b[39m}\u001b[39;00m\u001b[39m\"\u001b[39m\n\u001b[1;32m---> <a href='vscode-notebook-cell:/c%3A/Facultate/Dissertation-GNN/Dissertation-GNN-VEHITS/VEHITS-2022-GNN.ipynb#Y132sZmlsZQ%3D%3D?line=37'>38</a>\u001b[0m result \u001b[39m=\u001b[39m tune\u001b[39m.\u001b[39;49mrun(tune\u001b[39m.\u001b[39;49mwith_parameters(start_train, param\u001b[39m=\u001b[39;49mparam),\n\u001b[0;32m     <a href='vscode-notebook-cell:/c%3A/Facultate/Dissertation-GNN/Dissertation-GNN-VEHITS/VEHITS-2022-GNN.ipynb#Y132sZmlsZQ%3D%3D?line=38'>39</a>\u001b[0m                     local_dir\u001b[39m=\u001b[39;49mdirectory_experiment_ray,\n\u001b[0;32m     <a href='vscode-notebook-cell:/c%3A/Facultate/Dissertation-GNN/Dissertation-GNN-VEHITS/VEHITS-2022-GNN.ipynb#Y132sZmlsZQ%3D%3D?line=39'>40</a>\u001b[0m                     trial_dirname_creator\u001b[39m=\u001b[39;49mtrail_dirname_creator,\n\u001b[0;32m     <a href='vscode-notebook-cell:/c%3A/Facultate/Dissertation-GNN/Dissertation-GNN-VEHITS/VEHITS-2022-GNN.ipynb#Y132sZmlsZQ%3D%3D?line=40'>41</a>\u001b[0m                     resources_per_trial\u001b[39m=\u001b[39;49m{\n\u001b[0;32m     <a href='vscode-notebook-cell:/c%3A/Facultate/Dissertation-GNN/Dissertation-GNN-VEHITS/VEHITS-2022-GNN.ipynb#Y132sZmlsZQ%3D%3D?line=41'>42</a>\u001b[0m                         \u001b[39m\"\u001b[39;49m\u001b[39mcpu\u001b[39;49m\u001b[39m\"\u001b[39;49m: \u001b[39m8\u001b[39;49m,\n\u001b[0;32m     <a href='vscode-notebook-cell:/c%3A/Facultate/Dissertation-GNN/Dissertation-GNN-VEHITS/VEHITS-2022-GNN.ipynb#Y132sZmlsZQ%3D%3D?line=42'>43</a>\u001b[0m                         \u001b[39m\"\u001b[39;49m\u001b[39mgpu\u001b[39;49m\u001b[39m\"\u001b[39;49m: \u001b[39m1\u001b[39;49m\n\u001b[0;32m     <a href='vscode-notebook-cell:/c%3A/Facultate/Dissertation-GNN/Dissertation-GNN-VEHITS/VEHITS-2022-GNN.ipynb#Y132sZmlsZQ%3D%3D?line=43'>44</a>\u001b[0m                     },\n\u001b[0;32m     <a href='vscode-notebook-cell:/c%3A/Facultate/Dissertation-GNN/Dissertation-GNN-VEHITS/VEHITS-2022-GNN.ipynb#Y132sZmlsZQ%3D%3D?line=44'>45</a>\u001b[0m                     config\u001b[39m=\u001b[39;49mconfig,\n\u001b[0;32m     <a href='vscode-notebook-cell:/c%3A/Facultate/Dissertation-GNN/Dissertation-GNN-VEHITS/VEHITS-2022-GNN.ipynb#Y132sZmlsZQ%3D%3D?line=45'>46</a>\u001b[0m                     metric\u001b[39m=\u001b[39;49m\u001b[39m\"\u001b[39;49m\u001b[39mloss\u001b[39;49m\u001b[39m\"\u001b[39;49m,\n\u001b[0;32m     <a href='vscode-notebook-cell:/c%3A/Facultate/Dissertation-GNN/Dissertation-GNN-VEHITS/VEHITS-2022-GNN.ipynb#Y132sZmlsZQ%3D%3D?line=46'>47</a>\u001b[0m                     mode\u001b[39m=\u001b[39;49m\u001b[39m\"\u001b[39;49m\u001b[39mmin\u001b[39;49m\u001b[39m\"\u001b[39;49m,\n\u001b[0;32m     <a href='vscode-notebook-cell:/c%3A/Facultate/Dissertation-GNN/Dissertation-GNN-VEHITS/VEHITS-2022-GNN.ipynb#Y132sZmlsZQ%3D%3D?line=47'>48</a>\u001b[0m                     num_samples\u001b[39m=\u001b[39;49mnum_samples,\n\u001b[0;32m     <a href='vscode-notebook-cell:/c%3A/Facultate/Dissertation-GNN/Dissertation-GNN-VEHITS/VEHITS-2022-GNN.ipynb#Y132sZmlsZQ%3D%3D?line=48'>49</a>\u001b[0m                     scheduler\u001b[39m=\u001b[39;49mscheduler,\n\u001b[0;32m     <a href='vscode-notebook-cell:/c%3A/Facultate/Dissertation-GNN/Dissertation-GNN-VEHITS/VEHITS-2022-GNN.ipynb#Y132sZmlsZQ%3D%3D?line=49'>50</a>\u001b[0m                     verbose\u001b[39m=\u001b[39;49m\u001b[39m0\u001b[39;49m)\n\u001b[0;32m     <a href='vscode-notebook-cell:/c%3A/Facultate/Dissertation-GNN/Dissertation-GNN-VEHITS/VEHITS-2022-GNN.ipynb#Y132sZmlsZQ%3D%3D?line=51'>52</a>\u001b[0m best_trial \u001b[39m=\u001b[39m result\u001b[39m.\u001b[39mget_best_trial(\u001b[39m\"\u001b[39m\u001b[39mloss\u001b[39m\u001b[39m\"\u001b[39m, \u001b[39m\"\u001b[39m\u001b[39mmin\u001b[39m\u001b[39m\"\u001b[39m, \u001b[39m\"\u001b[39m\u001b[39mlast\u001b[39m\u001b[39m\"\u001b[39m)\n\u001b[0;32m     <a href='vscode-notebook-cell:/c%3A/Facultate/Dissertation-GNN/Dissertation-GNN-VEHITS/VEHITS-2022-GNN.ipynb#Y132sZmlsZQ%3D%3D?line=53'>54</a>\u001b[0m \u001b[39mprint\u001b[39m(\u001b[39m\"\u001b[39m\u001b[39mBest trial config: \u001b[39m\u001b[39m{}\u001b[39;00m\u001b[39m\"\u001b[39m\u001b[39m.\u001b[39mformat(best_trial\u001b[39m.\u001b[39mconfig))\n",
      "File \u001b[1;32mc:\\Users\\Sebi\\anaconda3\\envs\\Dissertation\\lib\\site-packages\\ray\\tune\\tune.py:611\u001b[0m, in \u001b[0;36mrun\u001b[1;34m(run_or_experiment, name, metric, mode, stop, time_budget_s, config, resources_per_trial, num_samples, local_dir, search_alg, scheduler, keep_checkpoints_num, checkpoint_score_attr, checkpoint_freq, checkpoint_at_end, verbose, progress_reporter, log_to_file, trial_name_creator, trial_dirname_creator, sync_config, export_formats, max_failures, fail_fast, restore, server_port, resume, queue_trials, reuse_actors, trial_executor, raise_on_failed_trial, callbacks, max_concurrent_trials, loggers, ray_auto_init, run_errored_only, global_checkpoint_period, with_server, upload_dir, sync_to_cloud, sync_to_driver, sync_on_checkpoint, _remote)\u001b[0m\n\u001b[0;32m    609\u001b[0m \u001b[39mif\u001b[39;00m incomplete_trials:\n\u001b[0;32m    610\u001b[0m     \u001b[39mif\u001b[39;00m raise_on_failed_trial \u001b[39mand\u001b[39;00m \u001b[39mnot\u001b[39;00m state[signal\u001b[39m.\u001b[39mSIGINT]:\n\u001b[1;32m--> 611\u001b[0m         \u001b[39mraise\u001b[39;00m TuneError(\u001b[39m\"\u001b[39m\u001b[39mTrials did not complete\u001b[39m\u001b[39m\"\u001b[39m, incomplete_trials)\n\u001b[0;32m    612\u001b[0m     \u001b[39melse\u001b[39;00m:\n\u001b[0;32m    613\u001b[0m         logger\u001b[39m.\u001b[39merror(\u001b[39m\"\u001b[39m\u001b[39mTrials did not complete: \u001b[39m\u001b[39m%s\u001b[39;00m\u001b[39m\"\u001b[39m, incomplete_trials)\n",
      "\u001b[1;31mTuneError\u001b[0m: ('Trials did not complete', [DCRNN_Experimental_Geodesic_13f6a_00000, DCRNN_Experimental_Geodesic_13f6a_00001, DCRNN_Experimental_Geodesic_13f6a_00002, DCRNN_Experimental_Geodesic_13f6a_00003, DCRNN_Experimental_Geodesic_13f6a_00004, DCRNN_Experimental_Geodesic_13f6a_00005, DCRNN_Experimental_Geodesic_13f6a_00006, DCRNN_Experimental_Geodesic_13f6a_00007, DCRNN_Experimental_Geodesic_13f6a_00008, DCRNN_Experimental_Geodesic_13f6a_00009, DCRNN_Experimental_Geodesic_13f6a_00010, DCRNN_Experimental_Geodesic_13f6a_00011, DCRNN_Experimental_Geodesic_13f6a_00012, DCRNN_Experimental_Geodesic_13f6a_00013, DCRNN_Experimental_Geodesic_13f6a_00014, DCRNN_Experimental_Geodesic_13f6a_00015])"
     ]
    }
   ],
   "source": [
    "start_learn(results_ray_path,path_processed_data,results_path)"
   ]
  }
 ],
 "metadata": {
  "kernelspec": {
   "display_name": "Python 3.8.12 ('Dissertation')",
   "language": "python",
   "name": "python3"
  },
  "language_info": {
   "codemirror_mode": {
    "name": "ipython",
    "version": 3
   },
   "file_extension": ".py",
   "mimetype": "text/x-python",
   "name": "python",
   "nbconvert_exporter": "python",
   "pygments_lexer": "ipython3",
   "version": "3.8.12"
  },
  "orig_nbformat": 4,
  "vscode": {
   "interpreter": {
    "hash": "a09a4475c5cc35c3ce3cf73b536683fe1faa908839cea1597f8f0293b34712b3"
   }
  }
 },
 "nbformat": 4,
 "nbformat_minor": 2
}
